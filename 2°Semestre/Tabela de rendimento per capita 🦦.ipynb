{
 "cells": [
  {
   "cell_type": "code",
   "execution_count": 10,
   "metadata": {},
   "outputs": [],
   "source": [
    "from selenium import webdriver \n",
    "from time import sleep\n",
    "def obter_driver():\n",
    "    return webdriver.Chrome()\n",
    "\n",
    "def abrir_pagina(driver):\n",
    "    driver.get(\"https://www.ibge.gov.br/estatisticas/sociais/rendimento-despesa-e-consumo/9171-pesquisa-nacional-por-amostra-de-domicilios-continua-mensal.html?=&t=downloads\")"
   ]
  },
  {
   "cell_type": "code",
   "execution_count": 14,
   "metadata": {},
   "outputs": [],
   "source": [
    "driver = obter_driver()\n",
    "abrir_pagina(driver)"
   ]
  },
  {
   "cell_type": "code",
   "execution_count": 15,
   "metadata": {},
   "outputs": [],
   "source": [
    "dropdown1 = driver.find_element_by_xpath(\"\"\"//*[@id=\"Trabalho_e_Rendimento/Pesquisa_Nacional_por_Amostra_de_Domicilios_continua/Anual_anchor\"]\"\"\")\n",
    "dropdown1.click()"
   ]
  },
  {
   "cell_type": "code",
   "execution_count": 16,
   "metadata": {},
   "outputs": [],
   "source": [
    "dropdown2 = driver.find_element_by_xpath(\"\"\"//*[@id=\"Trabalho_e_Rendimento/Pesquisa_Nacional_por_Amostra_de_Domicilios_continua/Anual/Rendimento_de_Todas_as_Fontes_2019_anchor\"]\"\"\")\n",
    "dropdown2.click()"
   ]
  },
  {
   "cell_type": "code",
   "execution_count": 17,
   "metadata": {},
   "outputs": [],
   "source": [
    "dropdown3 = driver.find_element_by_xpath(\"\"\"//*[@id=\"j1_81_anchor\"]\"\"\")\n",
    "dropdown3.click()\n",
    "sleep(30)\n",
    "driver.quit()"
   ]
  },
  {
   "cell_type": "code",
   "execution_count": null,
   "metadata": {},
   "outputs": [],
   "source": []
  },
  {
   "cell_type": "code",
   "execution_count": 2,
   "metadata": {},
   "outputs": [
    {
     "data": {
      "text/html": [
       "<div>\n",
       "<style scoped>\n",
       "    .dataframe tbody tr th:only-of-type {\n",
       "        vertical-align: middle;\n",
       "    }\n",
       "\n",
       "    .dataframe tbody tr th {\n",
       "        vertical-align: top;\n",
       "    }\n",
       "\n",
       "    .dataframe thead th {\n",
       "        text-align: right;\n",
       "    }\n",
       "</style>\n",
       "<table border=\"1\" class=\"dataframe\">\n",
       "  <thead>\n",
       "    <tr style=\"text-align: right;\">\n",
       "      <th></th>\n",
       "      <th>Abertura geográfica</th>\n",
       "      <th>ind</th>\n",
       "      <th>classe</th>\n",
       "      <th>sub.classe</th>\n",
       "      <th>Unid</th>\n",
       "      <th>2019</th>\n",
       "    </tr>\n",
       "  </thead>\n",
       "  <tbody>\n",
       "    <tr>\n",
       "      <th>0</th>\n",
       "      <td>Norte</td>\n",
       "      <td>Rendimento médio mensal real domiciliar per ca...</td>\n",
       "      <td>Classes simples de percentual das pessoas em o...</td>\n",
       "      <td>Total</td>\n",
       "      <td>(R$)</td>\n",
       "      <td>872</td>\n",
       "    </tr>\n",
       "    <tr>\n",
       "      <th>1</th>\n",
       "      <td>Nordeste</td>\n",
       "      <td>Rendimento médio mensal real domiciliar per ca...</td>\n",
       "      <td>Classes simples de percentual das pessoas em o...</td>\n",
       "      <td>Total</td>\n",
       "      <td>(R$)</td>\n",
       "      <td>884</td>\n",
       "    </tr>\n",
       "    <tr>\n",
       "      <th>2</th>\n",
       "      <td>Sudeste</td>\n",
       "      <td>Rendimento médio mensal real domiciliar per ca...</td>\n",
       "      <td>Classes simples de percentual das pessoas em o...</td>\n",
       "      <td>Total</td>\n",
       "      <td>(R$)</td>\n",
       "      <td>1720</td>\n",
       "    </tr>\n",
       "    <tr>\n",
       "      <th>3</th>\n",
       "      <td>Sul</td>\n",
       "      <td>Rendimento médio mensal real domiciliar per ca...</td>\n",
       "      <td>Classes simples de percentual das pessoas em o...</td>\n",
       "      <td>Total</td>\n",
       "      <td>(R$)</td>\n",
       "      <td>1701</td>\n",
       "    </tr>\n",
       "    <tr>\n",
       "      <th>4</th>\n",
       "      <td>Centro-Oeste</td>\n",
       "      <td>Rendimento médio mensal real domiciliar per ca...</td>\n",
       "      <td>Classes simples de percentual das pessoas em o...</td>\n",
       "      <td>Total</td>\n",
       "      <td>(R$)</td>\n",
       "      <td>1580</td>\n",
       "    </tr>\n",
       "  </tbody>\n",
       "</table>\n",
       "</div>"
      ],
      "text/plain": [
       "  Abertura geográfica                                                ind  \\\n",
       "0               Norte  Rendimento médio mensal real domiciliar per ca...   \n",
       "1            Nordeste  Rendimento médio mensal real domiciliar per ca...   \n",
       "2             Sudeste  Rendimento médio mensal real domiciliar per ca...   \n",
       "3                 Sul  Rendimento médio mensal real domiciliar per ca...   \n",
       "4        Centro-Oeste  Rendimento médio mensal real domiciliar per ca...   \n",
       "\n",
       "                                              classe sub.classe  Unid  2019  \n",
       "0  Classes simples de percentual das pessoas em o...      Total  (R$)   872  \n",
       "1  Classes simples de percentual das pessoas em o...      Total  (R$)   884  \n",
       "2  Classes simples de percentual das pessoas em o...      Total  (R$)  1720  \n",
       "3  Classes simples de percentual das pessoas em o...      Total  (R$)  1701  \n",
       "4  Classes simples de percentual das pessoas em o...      Total  (R$)  1580  "
      ]
     },
     "execution_count": 2,
     "metadata": {},
     "output_type": "execute_result"
    }
   ],
   "source": [
    "import pandas as pd\n",
    "rend_pc = pd.read_csv('Rendimento_PC-2019.csv', sep = \";\")\n",
    "rend_2019pc= rend_pc[['Abertura geográfica', 'ind', 'classe', 'sub.classe', 'Unid', '2019']]\n",
    "rend_2019pc"
   ]
  },
  {
   "cell_type": "code",
   "execution_count": 3,
   "metadata": {},
   "outputs": [
    {
     "data": {
      "text/html": [
       "<div>\n",
       "<style scoped>\n",
       "    .dataframe tbody tr th:only-of-type {\n",
       "        vertical-align: middle;\n",
       "    }\n",
       "\n",
       "    .dataframe tbody tr th {\n",
       "        vertical-align: top;\n",
       "    }\n",
       "\n",
       "    .dataframe thead th {\n",
       "        text-align: right;\n",
       "    }\n",
       "</style>\n",
       "<table border=\"1\" class=\"dataframe\">\n",
       "  <thead>\n",
       "    <tr style=\"text-align: right;\">\n",
       "      <th></th>\n",
       "      <th>Abertura geográfica</th>\n",
       "      <th>ind</th>\n",
       "      <th>classe</th>\n",
       "      <th>sub.classe</th>\n",
       "      <th>Unid</th>\n",
       "      <th>ANO2019</th>\n",
       "    </tr>\n",
       "  </thead>\n",
       "  <tbody>\n",
       "    <tr>\n",
       "      <th>0</th>\n",
       "      <td>Norte</td>\n",
       "      <td>Rendimento médio mensal real domiciliar per ca...</td>\n",
       "      <td>Classes simples de percentual das pessoas em o...</td>\n",
       "      <td>Total</td>\n",
       "      <td>(R$)</td>\n",
       "      <td>872</td>\n",
       "    </tr>\n",
       "    <tr>\n",
       "      <th>1</th>\n",
       "      <td>Nordeste</td>\n",
       "      <td>Rendimento médio mensal real domiciliar per ca...</td>\n",
       "      <td>Classes simples de percentual das pessoas em o...</td>\n",
       "      <td>Total</td>\n",
       "      <td>(R$)</td>\n",
       "      <td>884</td>\n",
       "    </tr>\n",
       "    <tr>\n",
       "      <th>2</th>\n",
       "      <td>Sudeste</td>\n",
       "      <td>Rendimento médio mensal real domiciliar per ca...</td>\n",
       "      <td>Classes simples de percentual das pessoas em o...</td>\n",
       "      <td>Total</td>\n",
       "      <td>(R$)</td>\n",
       "      <td>1720</td>\n",
       "    </tr>\n",
       "    <tr>\n",
       "      <th>3</th>\n",
       "      <td>Sul</td>\n",
       "      <td>Rendimento médio mensal real domiciliar per ca...</td>\n",
       "      <td>Classes simples de percentual das pessoas em o...</td>\n",
       "      <td>Total</td>\n",
       "      <td>(R$)</td>\n",
       "      <td>1701</td>\n",
       "    </tr>\n",
       "    <tr>\n",
       "      <th>4</th>\n",
       "      <td>Centro-Oeste</td>\n",
       "      <td>Rendimento médio mensal real domiciliar per ca...</td>\n",
       "      <td>Classes simples de percentual das pessoas em o...</td>\n",
       "      <td>Total</td>\n",
       "      <td>(R$)</td>\n",
       "      <td>1580</td>\n",
       "    </tr>\n",
       "  </tbody>\n",
       "</table>\n",
       "</div>"
      ],
      "text/plain": [
       "  Abertura geográfica                                                ind  \\\n",
       "0               Norte  Rendimento médio mensal real domiciliar per ca...   \n",
       "1            Nordeste  Rendimento médio mensal real domiciliar per ca...   \n",
       "2             Sudeste  Rendimento médio mensal real domiciliar per ca...   \n",
       "3                 Sul  Rendimento médio mensal real domiciliar per ca...   \n",
       "4        Centro-Oeste  Rendimento médio mensal real domiciliar per ca...   \n",
       "\n",
       "                                              classe sub.classe  Unid  ANO2019  \n",
       "0  Classes simples de percentual das pessoas em o...      Total  (R$)      872  \n",
       "1  Classes simples de percentual das pessoas em o...      Total  (R$)      884  \n",
       "2  Classes simples de percentual das pessoas em o...      Total  (R$)     1720  \n",
       "3  Classes simples de percentual das pessoas em o...      Total  (R$)     1701  \n",
       "4  Classes simples de percentual das pessoas em o...      Total  (R$)     1580  "
      ]
     },
     "execution_count": 3,
     "metadata": {},
     "output_type": "execute_result"
    }
   ],
   "source": [
    "rend_2019pc = rend_2019pc.rename(columns={'2019': 'ANO2019'})\n",
    "rend_2019pc"
   ]
  },
  {
   "cell_type": "code",
   "execution_count": 4,
   "metadata": {},
   "outputs": [
    {
     "data": {
      "text/html": [
       "<div>\n",
       "<style scoped>\n",
       "    .dataframe tbody tr th:only-of-type {\n",
       "        vertical-align: middle;\n",
       "    }\n",
       "\n",
       "    .dataframe tbody tr th {\n",
       "        vertical-align: top;\n",
       "    }\n",
       "\n",
       "    .dataframe thead th {\n",
       "        text-align: right;\n",
       "    }\n",
       "</style>\n",
       "<table border=\"1\" class=\"dataframe\">\n",
       "  <thead>\n",
       "    <tr style=\"text-align: right;\">\n",
       "      <th></th>\n",
       "      <th>Abertura geográfica</th>\n",
       "      <th>ind</th>\n",
       "      <th>classe</th>\n",
       "      <th>sub.classe</th>\n",
       "      <th>Unid</th>\n",
       "      <th>ANO2019</th>\n",
       "    </tr>\n",
       "  </thead>\n",
       "  <tbody>\n",
       "    <tr>\n",
       "      <th>0</th>\n",
       "      <td>Norte</td>\n",
       "      <td>Rendimento médio mensal real domiciliar per ca...</td>\n",
       "      <td>Classes simples de percentual das pessoas em o...</td>\n",
       "      <td>Total</td>\n",
       "      <td>(R$)</td>\n",
       "      <td>872.0</td>\n",
       "    </tr>\n",
       "    <tr>\n",
       "      <th>1</th>\n",
       "      <td>Nordeste</td>\n",
       "      <td>Rendimento médio mensal real domiciliar per ca...</td>\n",
       "      <td>Classes simples de percentual das pessoas em o...</td>\n",
       "      <td>Total</td>\n",
       "      <td>(R$)</td>\n",
       "      <td>884.0</td>\n",
       "    </tr>\n",
       "    <tr>\n",
       "      <th>2</th>\n",
       "      <td>Sudeste</td>\n",
       "      <td>Rendimento médio mensal real domiciliar per ca...</td>\n",
       "      <td>Classes simples de percentual das pessoas em o...</td>\n",
       "      <td>Total</td>\n",
       "      <td>(R$)</td>\n",
       "      <td>1720.0</td>\n",
       "    </tr>\n",
       "    <tr>\n",
       "      <th>3</th>\n",
       "      <td>Sul</td>\n",
       "      <td>Rendimento médio mensal real domiciliar per ca...</td>\n",
       "      <td>Classes simples de percentual das pessoas em o...</td>\n",
       "      <td>Total</td>\n",
       "      <td>(R$)</td>\n",
       "      <td>1701.0</td>\n",
       "    </tr>\n",
       "    <tr>\n",
       "      <th>4</th>\n",
       "      <td>Centro-Oeste</td>\n",
       "      <td>Rendimento médio mensal real domiciliar per ca...</td>\n",
       "      <td>Classes simples de percentual das pessoas em o...</td>\n",
       "      <td>Total</td>\n",
       "      <td>(R$)</td>\n",
       "      <td>1580.0</td>\n",
       "    </tr>\n",
       "  </tbody>\n",
       "</table>\n",
       "</div>"
      ],
      "text/plain": [
       "  Abertura geográfica                                                ind  \\\n",
       "0               Norte  Rendimento médio mensal real domiciliar per ca...   \n",
       "1            Nordeste  Rendimento médio mensal real domiciliar per ca...   \n",
       "2             Sudeste  Rendimento médio mensal real domiciliar per ca...   \n",
       "3                 Sul  Rendimento médio mensal real domiciliar per ca...   \n",
       "4        Centro-Oeste  Rendimento médio mensal real domiciliar per ca...   \n",
       "\n",
       "                                              classe sub.classe  Unid  ANO2019  \n",
       "0  Classes simples de percentual das pessoas em o...      Total  (R$)    872.0  \n",
       "1  Classes simples de percentual das pessoas em o...      Total  (R$)    884.0  \n",
       "2  Classes simples de percentual das pessoas em o...      Total  (R$)   1720.0  \n",
       "3  Classes simples de percentual das pessoas em o...      Total  (R$)   1701.0  \n",
       "4  Classes simples de percentual das pessoas em o...      Total  (R$)   1580.0  "
      ]
     },
     "execution_count": 4,
     "metadata": {},
     "output_type": "execute_result"
    }
   ],
   "source": [
    "rend_2019pc['ANO2019'] = rend_2019pc.ANO2019.astype(float)\n",
    "rend_2019pc"
   ]
  },
  {
   "cell_type": "code",
   "execution_count": 5,
   "metadata": {},
   "outputs": [
    {
     "data": {
      "text/plain": [
       "6757.0"
      ]
     },
     "execution_count": 5,
     "metadata": {},
     "output_type": "execute_result"
    }
   ],
   "source": [
    "#Total de rendimentos per capita\n",
    "\n",
    "total_rendpc = rend_2019pc['ANO2019'].sum()\n",
    "total_rendpc"
   ]
  },
  {
   "cell_type": "code",
   "execution_count": 6,
   "metadata": {},
   "outputs": [
    {
     "data": {
      "text/plain": [
       "872.0"
      ]
     },
     "execution_count": 6,
     "metadata": {},
     "output_type": "execute_result"
    }
   ],
   "source": [
    "#Rendimento per capita da região Norte do Brasil\n",
    "\n",
    "norte_rendpc = rend_2019pc.iloc[0]['ANO2019']\n",
    "norte_rendpc"
   ]
  },
  {
   "cell_type": "code",
   "execution_count": 8,
   "metadata": {},
   "outputs": [
    {
     "data": {
      "text/plain": [
       "12.91"
      ]
     },
     "execution_count": 8,
     "metadata": {},
     "output_type": "execute_result"
    }
   ],
   "source": [
    "#O quanto a região Norte representa do total de rendimentos per capita\n",
    "\n",
    "porcentagem_n = round(((norte_rendpc*100)/total_rendpc), 2)\n",
    "porcentagem_n"
   ]
  },
  {
   "cell_type": "code",
   "execution_count": 9,
   "metadata": {},
   "outputs": [
    {
     "data": {
      "text/plain": [
       "884.0"
      ]
     },
     "execution_count": 9,
     "metadata": {},
     "output_type": "execute_result"
    }
   ],
   "source": [
    "#Rendimento per capita da região Nordeste do Brasil\n",
    "\n",
    "nordeste_rendpc = rend_2019pc.iloc[1]['ANO2019']\n",
    "nordeste_rendpc"
   ]
  },
  {
   "cell_type": "code",
   "execution_count": 10,
   "metadata": {},
   "outputs": [
    {
     "data": {
      "text/plain": [
       "13.08"
      ]
     },
     "execution_count": 10,
     "metadata": {},
     "output_type": "execute_result"
    }
   ],
   "source": [
    "#O quanto a região Nordeste representa do total de rendimentos per capita\n",
    "\n",
    "porcentagem_ne = round(((nordeste_rendpc*100)/total_rendpc), 2)\n",
    "porcentagem_ne"
   ]
  },
  {
   "cell_type": "code",
   "execution_count": 11,
   "metadata": {},
   "outputs": [
    {
     "data": {
      "text/plain": [
       "1720.0"
      ]
     },
     "execution_count": 11,
     "metadata": {},
     "output_type": "execute_result"
    }
   ],
   "source": [
    "#Rendimento per capita da região Sudeste do Brasil\n",
    "\n",
    "sudeste_rendpc = rend_2019pc.iloc[2]['ANO2019']\n",
    "sudeste_rendpc"
   ]
  },
  {
   "cell_type": "code",
   "execution_count": 15,
   "metadata": {},
   "outputs": [
    {
     "data": {
      "text/plain": [
       "25.46"
      ]
     },
     "execution_count": 15,
     "metadata": {},
     "output_type": "execute_result"
    }
   ],
   "source": [
    "#O quanto a região Sudeste representa do total de rendimentos per capita\n",
    "\n",
    "porcentagem_se = round(((sudeste_rendpc*100)/total_rendpc), 2)\n",
    "porcentagem_se"
   ]
  },
  {
   "cell_type": "code",
   "execution_count": 16,
   "metadata": {},
   "outputs": [
    {
     "data": {
      "text/plain": [
       "1701.0"
      ]
     },
     "execution_count": 16,
     "metadata": {},
     "output_type": "execute_result"
    }
   ],
   "source": [
    "#Rendimento per capita da região Sul do Brasil\n",
    "\n",
    "sul_rendpc = rend_2019pc.iloc[3]['ANO2019']\n",
    "sul_rendpc"
   ]
  },
  {
   "cell_type": "code",
   "execution_count": 17,
   "metadata": {},
   "outputs": [
    {
     "data": {
      "text/plain": [
       "25.17"
      ]
     },
     "execution_count": 17,
     "metadata": {},
     "output_type": "execute_result"
    }
   ],
   "source": [
    "#O quanto a região Sul representa do total de rendimentos per capita\n",
    "\n",
    "porcentagem_s = round(((sul_rendpc*100)/total_rendpc), 2)\n",
    "porcentagem_s"
   ]
  },
  {
   "cell_type": "code",
   "execution_count": 13,
   "metadata": {},
   "outputs": [
    {
     "data": {
      "text/plain": [
       "3421.0"
      ]
     },
     "execution_count": 13,
     "metadata": {},
     "output_type": "execute_result"
    }
   ],
   "source": [
    "#Total de Rendimento per capita das regiões Sul e Sudeste do Brasil\n",
    "\n",
    "sul_sudeste_rendpc = rend_2019pc.iloc[3]['ANO2019'] + rend_2019pc.iloc[2]['ANO2019']\n",
    "sul_sudeste_rendpc"
   ]
  },
  {
   "cell_type": "code",
   "execution_count": 18,
   "metadata": {},
   "outputs": [
    {
     "data": {
      "text/plain": [
       "50.63"
      ]
     },
     "execution_count": 18,
     "metadata": {},
     "output_type": "execute_result"
    }
   ],
   "source": [
    "#O quanto as regiões Sul e Sudeste representam do total de rendimentos per capita\n",
    "\n",
    "porcentagem_s_se = round(((sul_sudeste_rendpc*100)/total_rendpc), 2)\n",
    "porcentagem_s_se"
   ]
  },
  {
   "cell_type": "code",
   "execution_count": 19,
   "metadata": {},
   "outputs": [
    {
     "data": {
      "text/plain": [
       "1580.0"
      ]
     },
     "execution_count": 19,
     "metadata": {},
     "output_type": "execute_result"
    }
   ],
   "source": [
    "#Rendimento per capita da região Centro-Oeste do Brasil\n",
    "\n",
    "centro_oeste_rendpc = rend_2019pc.iloc[4]['ANO2019']\n",
    "centro_oeste_rendpc"
   ]
  },
  {
   "cell_type": "code",
   "execution_count": 20,
   "metadata": {},
   "outputs": [
    {
     "data": {
      "text/plain": [
       "23.38"
      ]
     },
     "execution_count": 20,
     "metadata": {},
     "output_type": "execute_result"
    }
   ],
   "source": [
    "#O quanto a região Centro-Oeste representa do total de rendimentos per capita\n",
    "\n",
    "porcentagem_co = round(((centro_oeste_rendpc*100)/total_rendpc), 2)\n",
    "porcentagem_co"
   ]
  },
  {
   "cell_type": "code",
   "execution_count": 21,
   "metadata": {},
   "outputs": [
    {
     "data": {
      "text/html": [
       "<div>\n",
       "<style scoped>\n",
       "    .dataframe tbody tr th:only-of-type {\n",
       "        vertical-align: middle;\n",
       "    }\n",
       "\n",
       "    .dataframe tbody tr th {\n",
       "        vertical-align: top;\n",
       "    }\n",
       "\n",
       "    .dataframe thead th {\n",
       "        text-align: right;\n",
       "    }\n",
       "</style>\n",
       "<table border=\"1\" class=\"dataframe\">\n",
       "  <thead>\n",
       "    <tr style=\"text-align: right;\">\n",
       "      <th></th>\n",
       "      <th>Abertura geográfica</th>\n",
       "      <th>ind</th>\n",
       "      <th>classe</th>\n",
       "      <th>sub.classe</th>\n",
       "      <th>Unid</th>\n",
       "      <th>ANO2019</th>\n",
       "      <th>Representação do total (%)</th>\n",
       "    </tr>\n",
       "  </thead>\n",
       "  <tbody>\n",
       "    <tr>\n",
       "      <th>0</th>\n",
       "      <td>Norte</td>\n",
       "      <td>Rendimento médio mensal real domiciliar per ca...</td>\n",
       "      <td>Classes simples de percentual das pessoas em o...</td>\n",
       "      <td>Total</td>\n",
       "      <td>(R$)</td>\n",
       "      <td>872.0</td>\n",
       "      <td>12.91</td>\n",
       "    </tr>\n",
       "    <tr>\n",
       "      <th>1</th>\n",
       "      <td>Nordeste</td>\n",
       "      <td>Rendimento médio mensal real domiciliar per ca...</td>\n",
       "      <td>Classes simples de percentual das pessoas em o...</td>\n",
       "      <td>Total</td>\n",
       "      <td>(R$)</td>\n",
       "      <td>884.0</td>\n",
       "      <td>13.08</td>\n",
       "    </tr>\n",
       "    <tr>\n",
       "      <th>2</th>\n",
       "      <td>Sudeste</td>\n",
       "      <td>Rendimento médio mensal real domiciliar per ca...</td>\n",
       "      <td>Classes simples de percentual das pessoas em o...</td>\n",
       "      <td>Total</td>\n",
       "      <td>(R$)</td>\n",
       "      <td>1720.0</td>\n",
       "      <td>25.46</td>\n",
       "    </tr>\n",
       "    <tr>\n",
       "      <th>3</th>\n",
       "      <td>Sul</td>\n",
       "      <td>Rendimento médio mensal real domiciliar per ca...</td>\n",
       "      <td>Classes simples de percentual das pessoas em o...</td>\n",
       "      <td>Total</td>\n",
       "      <td>(R$)</td>\n",
       "      <td>1701.0</td>\n",
       "      <td>25.17</td>\n",
       "    </tr>\n",
       "    <tr>\n",
       "      <th>4</th>\n",
       "      <td>Centro-Oeste</td>\n",
       "      <td>Rendimento médio mensal real domiciliar per ca...</td>\n",
       "      <td>Classes simples de percentual das pessoas em o...</td>\n",
       "      <td>Total</td>\n",
       "      <td>(R$)</td>\n",
       "      <td>1580.0</td>\n",
       "      <td>23.38</td>\n",
       "    </tr>\n",
       "  </tbody>\n",
       "</table>\n",
       "</div>"
      ],
      "text/plain": [
       "  Abertura geográfica                                                ind  \\\n",
       "0               Norte  Rendimento médio mensal real domiciliar per ca...   \n",
       "1            Nordeste  Rendimento médio mensal real domiciliar per ca...   \n",
       "2             Sudeste  Rendimento médio mensal real domiciliar per ca...   \n",
       "3                 Sul  Rendimento médio mensal real domiciliar per ca...   \n",
       "4        Centro-Oeste  Rendimento médio mensal real domiciliar per ca...   \n",
       "\n",
       "                                              classe sub.classe  Unid  \\\n",
       "0  Classes simples de percentual das pessoas em o...      Total  (R$)   \n",
       "1  Classes simples de percentual das pessoas em o...      Total  (R$)   \n",
       "2  Classes simples de percentual das pessoas em o...      Total  (R$)   \n",
       "3  Classes simples de percentual das pessoas em o...      Total  (R$)   \n",
       "4  Classes simples de percentual das pessoas em o...      Total  (R$)   \n",
       "\n",
       "   ANO2019  Representação do total (%)  \n",
       "0    872.0                       12.91  \n",
       "1    884.0                       13.08  \n",
       "2   1720.0                       25.46  \n",
       "3   1701.0                       25.17  \n",
       "4   1580.0                       23.38  "
      ]
     },
     "execution_count": 21,
     "metadata": {},
     "output_type": "execute_result"
    }
   ],
   "source": [
    "#Adicinando uma nova coluna com porcentagem de representação do total de cada região\n",
    "\n",
    "representatividade = [porcentagem_n, porcentagem_ne, porcentagem_se, porcentagem_s, porcentagem_co]\n",
    "rend_2019pc['Representação do total (%)'] = representatividade\n",
    "rend_2019pc"
   ]
  },
  {
   "cell_type": "code",
   "execution_count": null,
   "metadata": {},
   "outputs": [],
   "source": []
  }
 ],
 "metadata": {
  "kernelspec": {
   "display_name": "Python 3",
   "language": "python",
   "name": "python3"
  },
  "language_info": {
   "codemirror_mode": {
    "name": "ipython",
    "version": 3
   },
   "file_extension": ".py",
   "mimetype": "text/x-python",
   "name": "python",
   "nbconvert_exporter": "python",
   "pygments_lexer": "ipython3",
   "version": "3.8.5"
  }
 },
 "nbformat": 4,
 "nbformat_minor": 4
}
