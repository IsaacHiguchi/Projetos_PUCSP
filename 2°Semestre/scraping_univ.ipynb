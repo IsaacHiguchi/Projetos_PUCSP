{
 "cells": [
  {
   "cell_type": "code",
   "execution_count": 72,
   "metadata": {},
   "outputs": [],
   "source": [
    "import pandas as pd\n",
    "from selenium import webdriver\n",
    "from selenium.webdriver import Chrome\n",
    "from time import sleep"
   ]
  },
  {
   "cell_type": "code",
   "execution_count": 73,
   "metadata": {},
   "outputs": [],
   "source": [
    "'''etapa 1 - abrir página'''\n",
    "def abrir_pagina(driver, url_):\n",
    "    url = definir_url(url_)\n",
    "    driver.get(url)\n",
    "\n",
    "def obter_driver():\n",
    "    return webdriver.Chrome(r\"C:\\Users\\marin\\Desktop\\chrome_driver\\chromedriver\")\n",
    "\n",
    "\n",
    "def definir_url(url):\n",
    "    return url\n",
    "\n"
   ]
  },
  {
   "cell_type": "code",
   "execution_count": 74,
   "metadata": {},
   "outputs": [],
   "source": [
    "'''etapa 2 - extrair conteúdo'''\n",
    "def extrair_conteudo():\n",
    "    aceitar_cookies()\n",
    "    abrir_calendario()\n",
    "\n",
    "    \n",
    "def aceitar_cookies():\n",
    "    botao = driver.find_element_by_class_name(f'''btn-cookies''')\n",
    "    botao.click()\n",
    "\n",
    "\n",
    "def abrir_calendario():\n",
    "    calendario = driver.find_element_by_xpath(f'''/html/body/div[4]/div/div[2]''')\n",
    "    calendario.click()\n",
    "\n",
    "def extrair_titulos():\n",
    "    titulos_element = driver.find_elements_by_tag_name(f'''th''')\n",
    "    return titulos_element\n",
    "\n",
    "def extrair_linhas():\n",
    "    linhas_element = driver.find_elements_by_tag_name(f'''td''')\n",
    "    return linhas_element\n"
   ]
  },
  {
   "cell_type": "code",
   "execution_count": 75,
   "metadata": {},
   "outputs": [],
   "source": [
    "'''etapa 3 - organizar conteúdo'''\n",
    "def listar_linhas():\n",
    "    linhas = []\n",
    "    linhas_element = extrair_linhas()\n",
    "    for linha in linhas_element:\n",
    "        linhas.append(linha.text)\n",
    "    return linhas\n",
    "\n",
    "def listar_titulos():\n",
    "    titulos = []\n",
    "    titulos_element = extrair_titulos()\n",
    "    for titulo in titulos_element:\n",
    "        if titulo.text != '':\n",
    "            titulos.append(titulo.text)\n",
    "    return titulos\n"
   ]
  },
  {
   "cell_type": "code",
   "execution_count": 76,
   "metadata": {},
   "outputs": [],
   "source": [
    "'''etapa 4 - passar datas para o nosso padrão'''\n",
    "def atribuir_datas(linhas, titulos, vestibular):\n",
    "    for i in range(0,len(linhas), len(titulos)):\n",
    "        if linhas[i] != '' and linhas[i] != 'Inscrição':\n",
    "            vestibular[linhas[i]] = linhas[(i+indice_do_perido(titulos, vestibular['Período']))]\n",
    "        elif linhas[i] == 'Inscrição':\n",
    "            datas = (linhas[(i+indice_do_perido(titulos, vestibular['Período']))]).split('a')\n",
    "            vestibular['Início das Incrições'] = datas[0]\n",
    "            vestibular['Término das Incrições'] = datas[1]\n",
    "\n",
    "def definir_período(vestibular, periodo):\n",
    "    vestibular['Período'] = periodo\n",
    "\n",
    "def indice_do_perido(titulos, periodo):\n",
    "    return int(titulos.index(periodo))"
   ]
  },
  {
   "cell_type": "code",
   "execution_count": 77,
   "metadata": {},
   "outputs": [],
   "source": [
    "'''classe principal - junta as 4 etapas anteriores'''\n",
    "def extrair_informações(vestibular):\n",
    "    abrir_pagina(driver,'https://acafe.org.br/site/')\n",
    "    sleep(5)\n",
    "    extrair_conteudo()\n",
    "    definir_período(vestibular, 'Verão 2022')\n",
    "    atribuir_datas(listar_linhas(), listar_titulos(), vestibular)\n",
    "    return vestibular"
   ]
  },
  {
   "cell_type": "code",
   "execution_count": 78,
   "metadata": {},
   "outputs": [
    {
     "name": "stdout",
     "output_type": "stream",
     "text": [
      "Período Verão 2022\n",
      "Início das Incrições 08/09/2021 \n",
      "Término das Incrições  04/10/2021\n",
      "Pagamento Até 05/10/2021\n",
      "Confirmação do local de prova A partir de 04/11/2021\n",
      "Aplicação da prova 14/11/2021\n",
      "Resultado 01/12/2021\n",
      "Livros (Obras literárias) Acesse o site\n"
     ]
    }
   ],
   "source": [
    "driver = obter_driver()\n",
    "vestibular = {}\n",
    "vestibular = extrair_informações(vestibular)\n",
    "for i in vestibular:\n",
    "    print(i, vestibular[i])"
   ]
  },
  {
   "cell_type": "code",
   "execution_count": 80,
   "metadata": {},
   "outputs": [
    {
     "data": {
      "text/plain": [
       "'Próxima etapa - adicionar datas a nossa tabela'"
      ]
     },
     "execution_count": 80,
     "metadata": {},
     "output_type": "execute_result"
    }
   ],
   "source": [
    "'''Próxima etapa - adicionar datas a nossa tabela'''"
   ]
  }
 ],
 "metadata": {
  "interpreter": {
   "hash": "12b3628791313994e768018f389eed00be69fad8b2fe3edc75740f26a6d49a01"
  },
  "kernelspec": {
   "display_name": "Python 3",
   "language": "python",
   "name": "python3"
  },
  "language_info": {
   "codemirror_mode": {
    "name": "ipython",
    "version": 3
   },
   "file_extension": ".py",
   "mimetype": "text/x-python",
   "name": "python",
   "nbconvert_exporter": "python",
   "pygments_lexer": "ipython3",
   "version": "3.8.5"
  }
 },
 "nbformat": 4,
 "nbformat_minor": 2
}
