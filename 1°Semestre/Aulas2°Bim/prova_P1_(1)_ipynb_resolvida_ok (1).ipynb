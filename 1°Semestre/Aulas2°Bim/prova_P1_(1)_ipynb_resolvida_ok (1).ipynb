{
  "nbformat": 4,
  "nbformat_minor": 0,
  "metadata": {
    "kernelspec": {
      "display_name": "Python 3",
      "language": "python",
      "name": "python3"
    },
    "language_info": {
      "codemirror_mode": {
        "name": "ipython",
        "version": 3
      },
      "file_extension": ".py",
      "mimetype": "text/x-python",
      "name": "python",
      "nbconvert_exporter": "python",
      "pygments_lexer": "ipython3",
      "version": "3.8.5"
    },
    "colab": {
      "name": "prova-P1 (1).ipynb resolvida.ok",
      "provenance": []
    }
  },
  "cells": [
    {
      "cell_type": "markdown",
      "metadata": {
        "id": "9kEVwDu7AzE7"
      },
      "source": [
        "# Prova P1 | 2021"
      ]
    },
    {
      "cell_type": "markdown",
      "metadata": {
        "id": "mqTgoQhUAzFG"
      },
      "source": [
        "### PUC-SP | Ciência de Dados e Inteligência Artificial | Algoritmos e Programação"
      ]
    },
    {
      "cell_type": "markdown",
      "metadata": {
        "id": "n8WcTxuFAzFH"
      },
      "source": [
        "Em toda a prova, utilize suas próprias palavras. Prova individual, com consulta."
      ]
    },
    {
      "cell_type": "markdown",
      "metadata": {
        "id": "xFEWM5IMAzFI"
      },
      "source": [
        "-------\n",
        "\n",
        "RA: ra00303798@pucsp.edu.br\n",
        "\n",
        "\n",
        "Nome:Emanuel de Oliveira Costa \n",
        "\n",
        "-----"
      ]
    },
    {
      "cell_type": "markdown",
      "metadata": {
        "id": "hvj3yUefAzFI"
      },
      "source": [
        "**01)** Explique qual a relação entre variáveis e tipos de dados primitivos. Quais são os tipos de dados primitivos em Python? Explique cada um deles."
      ]
    },
    {
      "cell_type": "code",
      "metadata": {
        "id": "7f5OMnMVAzFJ"
      },
      "source": [
        "A partir dos tipos de dados primitivos podemos criar outros tipos de dados utilizando uma combinação de variáveis.  \n",
        "São estruturas de dados, classes, vetores, matrizes, etc.No Python há alguns tipos de dados primitivos como:\n",
        "int - para números inteiros\n",
        "str - para conjunto de caracteres\n",
        "bool - armazena Verdadeiro ou Falso\n",
        "list - para agrupar um conjunto de elementos\n",
        "tupla - semelhante ao tipo list, porém, imutável\n",
        "dic - para agrupar elementos que serão recuperados por uma chave"
      ],
      "execution_count": null,
      "outputs": []
    },
    {
      "cell_type": "markdown",
      "metadata": {
        "id": "9D6mN5DTAzFK"
      },
      "source": [
        "*Sua resposta*"
      ]
    },
    {
      "cell_type": "markdown",
      "metadata": {
        "id": "cwlkR64_AzFL"
      },
      "source": [
        "**02)** A série de Fettuccine pode ser descrita como similar à de Fibonacci. A relação de recorrência para seus elementos é dada a seguir.\n",
        "\n",
        "$Fet_{n} = Fet_{n-3} * Fet_{n-2} * Fet_{n-1}$, para $n \\geq 3$\n",
        "\n",
        "$Fet_{0} = 1$\n",
        "\n",
        "$Fet_{1} = 1$ \n",
        "\n",
        "$Fet_{2} = 2$\n",
        "\n",
        "Escreva um programa para calcular $Fet_{n}$."
      ]
    },
    {
      "cell_type": "code",
      "metadata": {
        "id": "eMbhokGZAzFL",
        "outputId": "156f6720-80c1-4a41-f1c8-a8f5b7c5605d"
      },
      "source": [
        "n = int(input(\"Manda um número inteiro positivo n : \"))\n",
        "t0=1\n",
        "t1=1\n",
        "t2=2\n",
        "print (t0)\n",
        "print (t1) \n",
        "for a in range(n-2): \n",
        "        t3=t0*t1*t2 \n",
        "        t0=t1\n",
        "        t1=t2\n",
        "        t2=t3\n",
        "        t3=t3\n",
        "        print(t3)\n",
        "        \n",
        "        \n"
      ],
      "execution_count": null,
      "outputs": [
        {
          "output_type": "stream",
          "text": [
            "Manda um número inteiro positivo n : 10\n",
            "1\n",
            "1\n",
            "2\n",
            "4\n",
            "16\n",
            "128\n",
            "8192\n",
            "16777216\n",
            "17592186044416\n",
            "2417851639229258349412352\n"
          ],
          "name": "stdout"
        }
      ]
    },
    {
      "cell_type": "markdown",
      "metadata": {
        "id": "Cgp9sLolAzFN"
      },
      "source": [
        "**03)** Escreva um programa que some todos os divisores de um número $n$ (excluindo ele mesmo), que deve ser informado pelo usuário."
      ]
    },
    {
      "cell_type": "code",
      "metadata": {
        "id": "hxxnhsmRAzFN",
        "outputId": "aa7b8472-b1d2-47ae-c013-f3eee258523d"
      },
      "source": [
        "num = int(input(\"qual o numero? \"))\n",
        "soma=0\n",
        "for i in range(1,num):\n",
        "        if num%i==0:\n",
        "            soma+=i\n",
        "print(soma) "
      ],
      "execution_count": null,
      "outputs": [
        {
          "output_type": "stream",
          "text": [
            "qual o numero? 10\n",
            "8\n"
          ],
          "name": "stdout"
        }
      ]
    },
    {
      "cell_type": "markdown",
      "metadata": {
        "id": "DCBVrWeuAzFO"
      },
      "source": [
        "**04)** Em muitas situações é útil criar um dataset com dados aleatórios para fins de validação de prova de conceito. Durante o curso, criamos dois datasets assim. Na lista preparatória para esta prova, o código implementado na função `obter_dados_pesq_campo(n_livros)` cria uma lista `livros`, que por sua vez contém listas com alguns atributos relacionados à produção de livros. Naquela questão, cada livro é descrito pela lista: `[n_identificação_livro, n_vendas_prováveis, custo_fixo, n_páginas]`. Diz-se que cada uma destas listas é uma instância deste dataset. Python implementa o conceito de matrizes com listas contendo outras listas. Um outro caso refere-se à lista de pesos de jogadores de futebol (semana 06). Neste caso, uma lista unidimensional é suficiente, mas cada peso de jogador foi gerado aleatoriamente. \n",
        "\n",
        "Nesta questão, você deverá gerar um dataset com dados aleatórios. Faz parte da sua tarefa criar um contexto de uso, assim como feito com o dataset do custo de produção de livros ou dos pesos dos jogadores. Qualquer contexto é válido e exemplos incluem o hospitalar, financeiro, políticas públicas, educacional etc. Embora os dados seja aleatórios, os intervalos devem ser realistas, tanto quanto possível. Por exemplo, idades devem ser compatíveis com idades dos seres humanos bem como pesos e alturas. Salários como R$ 0,56 por mês não fazem sentido, e seu dataset deve evitar ao máximo estas ocorrências.\n",
        "\n",
        "Você pode utilizar as bibliotecas como `random` e a `numpy.random.normal(média, desvio_padrão, 1)`, mas você só pode gerar um único valor por vez, muito embora estas bibliotecas ofereçam alternativas para se criar distribuições com um único comando. Assim como acontece no dataset do custo de produção de livros, cada instância do seu dataset deve conter ao menos 4 atributos (valores).\n",
        "\n",
        "`[id da instância, valor 1, valor 2, valor 3, ..., valor n]`\n",
        "\n",
        "Ao final, espera-se o dataset que você criou. Leia a próxima questão antes de começar a trabalhar nesta."
      ]
    },
    {
      "cell_type": "markdown",
      "metadata": {
        "id": "iARwE66uAzFP"
      },
      "source": [
        "**Contexto**\n",
        "\n",
        "Explique o contexto aqui.\n",
        "\n",
        "**Descrição do dataset**\n",
        "\n",
        "- `id`: identificação da <instância-x>\n",
        "\n",
        "- `valor 1`: atributo $1$ da <instância-x>\n",
        "\n",
        "- `valor 2`: atributo $2$ da <instância-x>\n",
        "\n",
        "- ...\n",
        "\n",
        "- `valor n`: atributo $n$ da <instância-x>"
      ]
    },
    {
      "cell_type": "code",
      "metadata": {
        "id": "Nj96vTyhAzFP"
      },
      "source": [
        "import random\n",
        "def Os_dez_NFTs_mais_caros_do_mundo():\n",
        "    \"\"\"\n",
        "Isto é uma função. Ela gera dados sobre os dez NFTs mais caros do mundo.\n",
        "\n",
        "[[id_NFTs, horas_de_trabalho,número_de_criadores,ano_de_venda,preço],[id_NFTs, horas_de_trabalho,número_de_criadores,ano_de_venda,preço]...]\n",
        "\n",
        "  Returns:list\n",
        "    \"\"\"\n",
        "    NFTs = []\n",
        "    for id in range(1,11):\n",
        "        horas_de_trabalho = random.randrange(20,400)\n",
        "        número_de_criadores = random.randrange(1,10)\n",
        "        preço = round(random.uniform(69.3, 399.2),2)\n",
        "        ano_de_venda = random.randrange(2017,2022)\n",
        "        NFTs.append([id, horas_de_trabalho,número_de_criadores,ano_de_venda,preço])\n",
        "    return NFTs\n",
        "            \n",
        "NFTs = Os_dez_NFTs_mais_caros_do_mundo()"
      ],
      "execution_count": 38,
      "outputs": []
    },
    {
      "cell_type": "code",
      "metadata": {
        "colab": {
          "base_uri": "https://localhost:8080/"
        },
        "id": "ig03Yk_2BAn9",
        "outputId": "90408968-cb47-48e9-9dcb-f0e3ebcf6a19"
      },
      "source": [
        "NFTs"
      ],
      "execution_count": 39,
      "outputs": [
        {
          "output_type": "execute_result",
          "data": {
            "text/plain": [
              "[[1, 384, 1, 2021, 114.44],\n",
              " [2, 326, 2, 2018, 90.06],\n",
              " [3, 392, 9, 2018, 193.56],\n",
              " [4, 25, 5, 2017, 178.84],\n",
              " [5, 108, 8, 2021, 327.97],\n",
              " [6, 269, 1, 2020, 178.85],\n",
              " [7, 229, 1, 2021, 77.77],\n",
              " [8, 166, 5, 2019, 294.78],\n",
              " [9, 137, 9, 2020, 273.29],\n",
              " [10, 388, 3, 2017, 381.34]]"
            ]
          },
          "metadata": {
            "tags": []
          },
          "execution_count": 39
        }
      ]
    },
    {
      "cell_type": "code",
      "metadata": {
        "id": "Q4x8aebwAzFR"
      },
      "source": [
        "# Seu código aqui"
      ],
      "execution_count": null,
      "outputs": []
    },
    {
      "cell_type": "markdown",
      "metadata": {
        "id": "TDh-DoxaAzFR"
      },
      "source": [
        "**05)** Utilizando o laço `while` e o método `pop()`, que está disponível para as listas, remova todas as identificações das instâncias do dataset que você criou. Por exemplo, um dataset possível de custos de produção de livros de tamanho 5 poderia ser:\n",
        "\n",
        "```\n",
        "[[1, 98296, 458.41, 266],\n",
        " [2, 89354, 9264.77, 297],\n",
        " [3, 44216, 6418.27, 752],\n",
        " [4, 63999, 6195.78, 727],\n",
        " [5, 78403, 3152.79, 347]]\n",
        "```\n",
        "em que os valores de 1 a 5 da primeira coluna representam as identificações das instâncias (livros, neste caso). Ao final da remoção, o dataset deveria ficar como a seguir:\n",
        "\n",
        "```\n",
        "[[98296, 458.41, 266],\n",
        " [89354, 9264.77, 297],\n",
        " [44216, 6418.27, 752],\n",
        " [63999, 6195.78, 727],\n",
        " [78403, 3152.79, 347]]\n",
        "```"
      ]
    },
    {
      "cell_type": "code",
      "metadata": {
        "id": "H-Ai9OKhAzFS"
      },
      "source": [
        "# Seu código aqui\n",
        "\n",
        "count = 0\n",
        "while count < len(NFTs):\n",
        "  NFTs[count].pop(0)\n",
        "  count += 1\n",
        "\n",
        "\n",
        "\n",
        "  "
      ],
      "execution_count": 40,
      "outputs": []
    },
    {
      "cell_type": "code",
      "metadata": {
        "colab": {
          "base_uri": "https://localhost:8080/"
        },
        "id": "azmuTfd2OuTH",
        "outputId": "11c43013-728a-4950-bc95-436ed9f0b284"
      },
      "source": [
        "NFTs"
      ],
      "execution_count": 41,
      "outputs": [
        {
          "output_type": "execute_result",
          "data": {
            "text/plain": [
              "[[384, 1, 2021, 114.44],\n",
              " [326, 2, 2018, 90.06],\n",
              " [392, 9, 2018, 193.56],\n",
              " [25, 5, 2017, 178.84],\n",
              " [108, 8, 2021, 327.97],\n",
              " [269, 1, 2020, 178.85],\n",
              " [229, 1, 2021, 77.77],\n",
              " [166, 5, 2019, 294.78],\n",
              " [137, 9, 2020, 273.29],\n",
              " [388, 3, 2017, 381.34]]"
            ]
          },
          "metadata": {
            "tags": []
          },
          "execution_count": 41
        }
      ]
    }
  ]
}