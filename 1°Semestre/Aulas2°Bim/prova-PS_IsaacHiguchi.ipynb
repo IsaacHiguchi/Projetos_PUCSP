{
 "cells": [
  {
   "cell_type": "markdown",
   "metadata": {},
   "source": [
    "# Prova PS | 2021"
   ]
  },
  {
   "cell_type": "markdown",
   "metadata": {},
   "source": [
    "### PUC-SP | Ciência de Dados e Inteligência Artificial | Algoritmos e Programação"
   ]
  },
  {
   "cell_type": "markdown",
   "metadata": {},
   "source": [
    "Em toda a prova, utilize suas próprias palavras. Utilize somente o conhecimento apresentado durante o curso. Prova individual, com consulta."
   ]
  },
  {
   "cell_type": "markdown",
   "metadata": {},
   "source": [
    "-------\n",
    "\n",
    "RA: RA00306191\n",
    "\n",
    "\n",
    "Nome: Isaac Higuchi\n",
    "\n",
    "-----"
   ]
  },
  {
   "cell_type": "markdown",
   "metadata": {},
   "source": [
    "**1)** [1,5] Escreva um código que peça ao usuário por uma temperatura em Fahrenheit e então calcule e imprima a temperatura correspondente em Celsius. Use uma função para fazer a conversão."
   ]
  },
  {
   "cell_type": "code",
   "execution_count": 5,
   "metadata": {},
   "outputs": [
    {
     "name": "stdout",
     "output_type": "stream",
     "text": [
      "Digite a temperatura em °F: 78.8\n",
      "Temperatura: 26.0 °C\n"
     ]
    }
   ],
   "source": [
    "def fahrenheit2celsius(fah):\n",
    "    return (fah - 32) * 5/9\n",
    "\n",
    "def main():\n",
    "    temp_f= float( input(\"Digite a temperatura em °F: \") )\n",
    "    celsius= fahrenheit2celsius(temp_f)\n",
    "    print(\"Temperatura:\", celsius, \"°C\" )\n",
    "    \n",
    "main()"
   ]
  },
  {
   "cell_type": "markdown",
   "metadata": {},
   "source": [
    "**2**) [1,5] Escreva um programa que, dado um número $n$, calcule a soma dos $n$ pares utilizando o laço `for`. Não considere o $0$ como par."
   ]
  },
  {
   "cell_type": "code",
   "execution_count": 6,
   "metadata": {},
   "outputs": [
    {
     "name": "stdout",
     "output_type": "stream",
     "text": [
      "numero:5\n",
      "A soma dos 5 primeiros números pares é 30\n"
     ]
    }
   ],
   "source": [
    "n =int(input('numero:'))\n",
    "n = 2 + (n-1) * 2\n",
    "soma = 0\n",
    "for i in range (2, n+2, 2):\n",
    "    soma += i\n",
    "print('A soma dos {} primeiros números pares é {}'.format(int(n/2),soma))"
   ]
  },
  {
   "cell_type": "markdown",
   "metadata": {},
   "source": [
    "----"
   ]
  },
  {
   "cell_type": "markdown",
   "metadata": {},
   "source": [
    "Considere o dataset a seguir, que foi extraído das mensagens no Twitter para o McDonald's. Algumas mensagens representam mais de um tweet de um usuário."
   ]
  },
  {
   "cell_type": "markdown",
   "metadata": {},
   "source": [
    "**Descrição do dataset**\n",
    "\n",
    "- *tweet*: O tweet de um usuário para o McDonald's"
   ]
  },
  {
   "cell_type": "markdown",
   "metadata": {},
   "source": [
    "**Dataset**"
   ]
  },
  {
   "cell_type": "code",
   "execution_count": 8,
   "metadata": {
    "scrolled": true
   },
   "outputs": [
    {
     "data": {
      "text/plain": [
       "['Não sou um grande amante de \\nmcds, mas já estive em outros melhores. Este é de longe o pior    que eu já estive! É imundo por dentro e se você passar de carro eles bagunçam completamente o seu    pedido todas as vezes! O pessoal é terrivelmente hostil e    ninguém parece se importar.',\n",
       " 'Atendimento   ao cliente terrível. Cheguei às 21h30 e fiquei em frente ao caixa e ninguém se incomodou em dizer nada ou me ajudar por 5 minutos. Não havia mais ninguém esperando pela comida lá dentro, tampouco do lado de fora, \\nna janela. Saí e fui para a vizinha   Chickfila   e fui saudado antes de entrar. Este McDonalds também está sujo, o chão estava coberto de comida caída. Obviamente, cheio de trabalhadores mal-humorados e infelizes.',\n",
       " \"Primeiro, eles 'perderam' meu pedido, na verdade, deram a outra pessoa que demorou 20 minutos para descobrir por que eu ainda estava esperando meu pedido. Depois que me perguntaram o que eu precisava, respondi 'meu pedido'. Eles pediram meu e o asst mgr olhou para o tíquete e depois o preencheu de maneira incompleta. Tive de pedir a ela para verificar   se o preenchia corretamente. Ela agiu como se não se importasse com isso,   então perguntei de novo. para ela, de fato, perdeu algo no tíquete. Então, depois   de 22 minutos, finalmente peguei meu prato de biscoitos para o café da manhã. Quando saí, uma mulher se aproximou e se identificou como a gerente, ela estava vestida como se tivesse acabado de acordar com uma camiseta velha e calça de moletom.   Ela disse que tinha ouvido o que aconteceu e disse que cuidaria disso. Bem,, por que   ela não interveio quando viu que eu estava ficando irritado com a incompetência?\",\n",
       " 'Vejo que não sou o único   a dar 1 estrela. Só porque não existe uma estrela -25 !!! É tudo que preciso dizer!',\n",
       " \"Bem, é o McDonald's, então   você sabe o que é a comida. Esta revisão reflete apenas no serviço de má qualidade. Estive neste local inúmeras vezes ao longo dos anos. Eles sempre falham no serviço final das coisas. Os tomadores de pedidos tendem a ser rudes, sem sorrisos e muitos 'suspiros' e 'estalos' quando você fala com eles. Então, por que voltar,   você pergunta? Esta loja se beneficia por ser o único lugar para comer nesta área. A próxima parada fica a pelo menos 12 minutos, do outro lado da cidade. Também acredito fortemente na 2ª chance e sei que nem todo negócio pode satisfazer a todos 100%%% do tempo. Eu dei a eles muitas chances de ganhar uma crítica positiva. Eu não poderia recomendar este local menos. Se você pode esperar, dê um passe. Existem melhores lojas do McDonalds em Griffin GA.\",\n",
       " \"Essa deve ser uma das piores e mais lentas franquias do McDonald's que existe. Não consigo descobrir por que meu Egg   McMuffin está sempre comendo um muffin inglês rançoso e não torrado. Comprei um shake de chocolate hoje e joguei fora.\",\n",
       " 'Eu não sou louco por esse MacD. Isso ocorre principalmente porque eles são muito lentos. Meu Deus, o que exatamente é o atraso? É gente de comida RÁPIDA. Além disso, esta manhã, acho que o trabalhador pensou que seu microfone estava desligado, mas não estava. Agora sei que ele está tentando conseguir o máximo de horas possível porque precisa de dinheiro    RUIM. Espalhe a palavra. De qualquer forma, esse local fica em uma pequena estrada de acesso e você tem que voltar pelo caminho de onde veio porque não há saída dela na outra ponta. Teria ajudado se houvesse um. Então, no final, acho que vou evitar este local e encontrar outro. Isso deve ser fácil, pois \\nnão há falta de Mickey D nesta peça.']"
      ]
     },
     "execution_count": 8,
     "metadata": {},
     "output_type": "execute_result"
    }
   ],
   "source": [
    "dataset = [\"Não sou um grande amante de \\nmcds, mas já estive em outros melhores. Este é de longe o pior    que eu já estive! É imundo por dentro e se você passar de carro eles bagunçam completamente o seu    pedido todas as vezes! O pessoal é terrivelmente hostil e    ninguém parece se importar.\", \"Atendimento   ao cliente terrível. Cheguei às 21h30 e fiquei em frente ao caixa e ninguém se incomodou em dizer nada ou me ajudar por 5 minutos. Não havia mais ninguém esperando pela comida lá dentro, tampouco do lado de fora, \\nna janela. Saí e fui para a vizinha   Chickfila   e fui saudado antes de entrar. Este McDonalds também está sujo, o chão estava coberto de comida caída. Obviamente, cheio de trabalhadores mal-humorados e infelizes.\", \"Primeiro, eles 'perderam' meu pedido, na verdade, deram a outra pessoa que demorou 20 minutos para descobrir por que eu ainda estava esperando meu pedido. Depois que me perguntaram o que eu precisava, respondi 'meu pedido'. Eles pediram meu e o asst mgr olhou para o tíquete e depois o preencheu de maneira incompleta. Tive de pedir a ela para verificar   se o preenchia corretamente. Ela agiu como se não se importasse com isso,   então perguntei de novo. para ela, de fato, perdeu algo no tíquete. Então, depois   de 22 minutos, finalmente peguei meu prato de biscoitos para o café da manhã. Quando saí, uma mulher se aproximou e se identificou como a gerente, ela estava vestida como se tivesse acabado de acordar com uma camiseta velha e calça de moletom.   Ela disse que tinha ouvido o que aconteceu e disse que cuidaria disso. Bem,, por que   ela não interveio quando viu que eu estava ficando irritado com a incompetência?\", \"Vejo que não sou o único   a dar 1 estrela. Só porque não existe uma estrela -25 !!! É tudo que preciso dizer!\", \"Bem, é o McDonald's, então   você sabe o que é a comida. Esta revisão reflete apenas no serviço de má qualidade. Estive neste local inúmeras vezes ao longo dos anos. Eles sempre falham no serviço final das coisas. Os tomadores de pedidos tendem a ser rudes, sem sorrisos e muitos 'suspiros' e 'estalos' quando você fala com eles. Então, por que voltar,   você pergunta? Esta loja se beneficia por ser o único lugar para comer nesta área. A próxima parada fica a pelo menos 12 minutos, do outro lado da cidade. Também acredito fortemente na 2ª chance e sei que nem todo negócio pode satisfazer a todos 100%%% do tempo. Eu dei a eles muitas chances de ganhar uma crítica positiva. Eu não poderia recomendar este local menos. Se você pode esperar, dê um passe. Existem melhores lojas do McDonalds em Griffin GA.\", \"Essa deve ser uma das piores e mais lentas franquias do McDonald's que existe. Não consigo descobrir por que meu Egg   McMuffin está sempre comendo um muffin inglês rançoso e não torrado. Comprei um shake de chocolate hoje e joguei fora.\", \"Eu não sou louco por esse MacD. Isso ocorre principalmente porque eles são muito lentos. Meu Deus, o que exatamente é o atraso? É gente de comida RÁPIDA. Além disso, esta manhã, acho que o trabalhador pensou que seu microfone estava desligado, mas não estava. Agora sei que ele está tentando conseguir o máximo de horas possível porque precisa de dinheiro    RUIM. Espalhe a palavra. De qualquer forma, esse local fica em uma pequena estrada de acesso e você tem que voltar pelo caminho de onde veio porque não há saída dela na outra ponta. Teria ajudado se houvesse um. Então, no final, acho que vou evitar este local e encontrar outro. Isso deve ser fácil, pois \\nnão há falta de Mickey D nesta peça.\"]\n",
    "dataset"
   ]
  },
  {
   "cell_type": "markdown",
   "metadata": {},
   "source": [
    "-----"
   ]
  },
  {
   "cell_type": "markdown",
   "metadata": {},
   "source": [
    "**3)** [3,0] Nesta questão, você deverá tratar este dataset utilizando expressões regulares no Python. (Não utilize frameworks para resolver a questão).\n",
    "\n",
    "IMPORTANTE: Você deve considerar que este dataset é apenas uma amostra de um dataset maior. Por isso, as técnicas de remoção que utilizar aqui, devem se aplicar caso houvesse outras instâncias."
   ]
  },
  {
   "cell_type": "markdown",
   "metadata": {},
   "source": [
    "- Padronizar todas as referências ao McDonald's. Ao final todas as referências devem estar como McDonald's\n",
    "\n",
    "- Remover quebras de linhas: \\n\n",
    "\n",
    "- Substituir repetições de sinais de pontuação por uma única ocorrência. Ex: de `,,,` para `,`; de `!!` para `!`; de `??????` para `?`.\n",
    "\n",
    "- Substitua todos os espaços duplos, triplos... por um único espaço."
   ]
  },
  {
   "cell_type": "markdown",
   "metadata": {},
   "source": [
    "Ao final, seu código salvar os tratamentos na lista `tweets`."
   ]
  },
  {
   "cell_type": "code",
   "execution_count": 9,
   "metadata": {},
   "outputs": [
    {
     "data": {
      "text/plain": [
       "[\"Não sou um grande amante de McDonald's, mas já estive em outros melhores. Este é de longe o pior que eu já estive! É imundo por dentro e se você passar de carro eles bagunçam completamente o seu pedido todas as vezes! O pessoal é terrivelmente hostil e ninguém parece se importar.\",\n",
       " \"Atendimento ao cliente terrível. Cheguei às 21h30 e fiquei em frente ao caixa e ninguém se incomodou em dizer nada ou me ajudar por 5 minutos. Não havia mais ninguém esperando pela comida lá dentro, tampouco do lado de fora, na janela. Saí e fui para a vizinha Chickfila e fui saudado antes de entrar. Este McDonald's também está sujo, o chão estava coberto de comida caída. Obviamente, cheio de trabalhadores mal-humorados e infelizes.\",\n",
       " \"Primeiro, eles 'perderam' meu pedido, na verdade, deram a outra pessoa que demorou 20 minutos para descobrir por que eu ainda estava esperando meu pedido. Depois que me perguntaram o que eu precisava, respondi 'meu pedido'. Eles pediram meu e o asst mgr olhou para o tíquete e depois o preencheu de maneira incompleta. Tive de pedir a ela para verificar se o preenchia corretamente. Ela agiu como se não se importasse com isso, então perguntei de novo. para ela, de fato, perdeu algo no tíquete. Então, depois de 22 minutos, finalmente peguei meu prato de biscoitos para o café da manhã. Quando saí, uma mulher se aproximou e se identificou como a gerente, ela estava vestida como se tivesse acabado de acordar com uma camiseta velha e calça de moletom. Ela disse que tinha ouvido o que aconteceu e disse que cuidaria disso. Bem,, por que ela não interveio quando viu que eu estava ficando irritado com a incompetência?\",\n",
       " 'Vejo que não sou o único a dar 1 estrela. Só porque não existe uma estrela -25! É tudo que preciso dizer!',\n",
       " \"Bem, é o McDonald's, então você sabe o que é a comida. Esta revisão reflete apenas no serviço de má qualidade. Estive neste local inúmeras vezes ao longo dos anos. Eles sempre falham no serviço final das coisas. Os tomadores de pedidos tendem a ser rudes, sem sorrisos e muitos 'suspiros' e 'estalos' quando você fala com eles. Então, por que voltar, você pergunta? Esta loja se beneficia por ser o único lugar para comer nesta área. A próxima parada fica a pelo menos 12 minutos, do outro lado da cidade. Também acredito fortemente na 2ª chance e sei que nem todo negócio pode satisfazer a todos 100% do tempo. Eu dei a eles muitas chances de ganhar uma crítica positiva. Eu não poderia recomendar este local menos. Se você pode esperar, dê um passe. Existem melhores lojas do McDonald's em Griffin GA.\",\n",
       " \"Essa deve ser uma das piores e mais lentas franquias do McDonald's que existe. Não consigo descobrir por que meu Egg McMuffin está sempre comendo um muffin inglês rançoso e não torrado. Comprei um shake de chocolate hoje e joguei fora.\",\n",
       " \"Eu não sou louco por esse McDonald's. Isso ocorre principalmente porque eles são muito lentos. Meu Deus, o que exatamente é o atraso? É gente de comida RÁPIDA. Além disso, esta manhã, acho que o trabalhador pensou que seu microfone estava desligado, mas não estava. Agora sei que ele está tentando conseguir o máximo de horas possível porque precisa de dinheiro RUIM. Espalhe a palavra. De qualquer forma, esse local fica em uma pequena estrada de acesso e você tem que voltar pelo caminho de onde veio porque não há saída dela na outra ponta. Teria ajudado se houvesse um. Então, no final, acho que vou evitar este local e encontrar outro. Isso deve ser fácil, pois não há falta de McDonald's nesta peça.\"]"
      ]
     },
     "execution_count": 9,
     "metadata": {},
     "output_type": "execute_result"
    }
   ],
   "source": [
    "import re\n",
    "\n",
    "tweets = []\n",
    "\n",
    "def tratar(tweet):\n",
    "    tweet = dataset[i]\n",
    "    tweet = re.sub('(mcds|McDonalds|MacD|Mickey D)+', \"McDonald's\", tweet)\n",
    "    tweet = re.sub('\\s+', \" \",tweet)\n",
    "    tweet = re.sub(\" ?!+\", \"!\", tweet)\n",
    "    tweet = re.sub(\"%+\", \"%\", tweet)\n",
    "    return tweet\n",
    "\n",
    "for i in range(7):\n",
    "    comentarios = tratar(dataset[i])\n",
    "    tweets.append(comentarios)\n",
    "tweets"
   ]
  },
  {
   "cell_type": "markdown",
   "metadata": {},
   "source": [
    "**3)** [4,0] Implemente **sem usar bibliotecas externas**."
   ]
  },
  {
   "cell_type": "markdown",
   "metadata": {},
   "source": [
    "$$\n",
    "S_{n} = \\sum_{i=1}^{n}{\\frac{1}{p_{n}}} = \\frac{1}{2} + \\frac{1}{3} + \\frac{1}{5} + \\frac{1}{7} + ... + \\frac{1}{n} \n",
    "$$"
   ]
  },
  {
   "cell_type": "markdown",
   "metadata": {},
   "source": [
    "Implemente as duas funções a seguir. Ao final, teste a função $S_{n}$."
   ]
  },
  {
   "cell_type": "code",
   "execution_count": 18,
   "metadata": {},
   "outputs": [
    {
     "data": {
      "text/plain": [
       "1.176190476190476"
      ]
     },
     "execution_count": 18,
     "metadata": {},
     "output_type": "execute_result"
    }
   ],
   "source": [
    "def eh_primo(n):\n",
    "    divisores = 0\n",
    "    for c in range(1, n + 1):\n",
    "        if n % c == 0:\n",
    "            divisores += 1\n",
    "    if divisores == 2:\n",
    "        return True\n",
    "    else:\n",
    "        return False\n",
    "def S(n):\n",
    "    soma = 0\n",
    "    k = 0\n",
    "    p = 2\n",
    "    while k < n:\n",
    "        if eh_primo(p) == True:\n",
    "            soma += 1/p\n",
    "            k += 1\n",
    "            p += 1\n",
    "        else:\n",
    "            p += 1\n",
    "    return soma\n",
    "S(4)"
   ]
  }
 ],
 "metadata": {
  "kernelspec": {
   "display_name": "Python 3",
   "language": "python",
   "name": "python3"
  },
  "language_info": {
   "codemirror_mode": {
    "name": "ipython",
    "version": 3
   },
   "file_extension": ".py",
   "mimetype": "text/x-python",
   "name": "python",
   "nbconvert_exporter": "python",
   "pygments_lexer": "ipython3",
   "version": "3.8.5"
  }
 },
 "nbformat": 4,
 "nbformat_minor": 4
}
