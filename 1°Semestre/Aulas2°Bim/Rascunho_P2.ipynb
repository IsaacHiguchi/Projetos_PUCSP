{
 "cells": [
  {
   "cell_type": "code",
   "execution_count": 1,
   "metadata": {},
   "outputs": [],
   "source": [
    "def maior2(a, b):\n",
    "    if a > b:\n",
    "        return a\n",
    "    elif b > a:\n",
    "        return b\n",
    "    elif a == b:\n",
    "        return a or b"
   ]
  },
  {
   "cell_type": "code",
   "execution_count": 188,
   "metadata": {},
   "outputs": [
    {
     "data": {
      "text/plain": [
       "52"
      ]
     },
     "execution_count": 188,
     "metadata": {},
     "output_type": "execute_result"
    }
   ],
   "source": [
    "maior2(52,13)"
   ]
  },
  {
   "cell_type": "code",
   "execution_count": 50,
   "metadata": {},
   "outputs": [],
   "source": [
    "def maior3(a, b, c):\n",
    "    d = maior2(a, b)\n",
    "    return maior2(d, c)"
   ]
  },
  {
   "cell_type": "code",
   "execution_count": 49,
   "metadata": {},
   "outputs": [
    {
     "data": {
      "text/plain": [
       "555"
      ]
     },
     "execution_count": 49,
     "metadata": {},
     "output_type": "execute_result"
    }
   ],
   "source": [
    "maior3(14,555,125)"
   ]
  },
  {
   "cell_type": "code",
   "execution_count": 36,
   "metadata": {},
   "outputs": [],
   "source": [
    "def maior(*nums):\n",
    "    maior = 0\n",
    "    for a in nums:\n",
    "        if maior == 0:\n",
    "            maior = a\n",
    "        elif maior < a:\n",
    "            maior = a\n",
    "        a += 1\n",
    "    return maior"
   ]
  },
  {
   "cell_type": "code",
   "execution_count": 29,
   "metadata": {},
   "outputs": [],
   "source": [
    "lista = [1,20,300,4,333,16,7]"
   ]
  },
  {
   "cell_type": "code",
   "execution_count": 32,
   "metadata": {},
   "outputs": [
    {
     "data": {
      "text/plain": [
       "722"
      ]
     },
     "execution_count": 32,
     "metadata": {},
     "output_type": "execute_result"
    }
   ],
   "source": [
    "lista = [1,20,300,4,333,16,722]\n",
    "def maior(nums):\n",
    "    maiorzin = maior2(lista[0], lista[1])\n",
    "    for i in range(len(lista)):\n",
    "        maiorzin = maior2(maiorzin, lista[i])\n",
    "    return maiorzin\n",
    "maior(lista)"
   ]
  },
  {
   "cell_type": "code",
   "execution_count": 80,
   "metadata": {},
   "outputs": [
    {
     "data": {
      "text/plain": [
       "1003"
      ]
     },
     "execution_count": 80,
     "metadata": {},
     "output_type": "execute_result"
    }
   ],
   "source": [
    "maior(3,12,343233,5522,66,77,8,9,1003)"
   ]
  },
  {
   "cell_type": "code",
   "execution_count": 75,
   "metadata": {},
   "outputs": [
    {
     "data": {
      "text/plain": [
       "['@VirginAmerica Estou tendo problemas para adicionar este voo que minha esposa reservou na minha conta Elevate. Ajuda????? http://t.co/pX8hQOKS3R',\n",
       " '@VirginAmerica eu preciso mudar meu vôo que está programado em 09 horas e tempo de espera de 0120 minutos no telefone. \\n\\n\\n Estou ligando para estagiário. Ajuda!!!',\n",
       " '@united Preciso registrar um cão-guia para uma passagem de primeira classe da SFO & gt; Dulles. A fila de espera do telefone é de uma hora ou mais. \\n\\n\\n Por favor, avise http://t.co/pX9hRORS2S',\n",
       " '@gol Como faço para reagendar meus voos cancelados online? O botão de alteração está esmaecido!',\n",
       " '@VirginAmerica Liguei, mas há uma espera de 035 minutos !! Posso reservar o mesmo ingresso através de um vendedor,,, consertar seu site',\n",
       " '@VirginAmerica você é horrível. Voo cancelado de PSP para JFK e sem notificação ou possibilidade de remarcar #disappointed... #esperavamais',\n",
       " '@VirginAmerica por que voos de voos cancelados hoje? Nenhuma precipitação para ter medo!',\n",
       " '@united A seção Problemas de reserva de voo do seu site parece estar corrompida no Chrome. Poderiam dar uma olhada nisso.',\n",
       " '@VirginAmerica sério. não haverá voos diretos de SFO-FLL em maio ???',\n",
       " '@united no vôo VX399 partindo do JFK para LA - o avião VA mais sujo em que já estive. Triste para uma grande companhia aérea.']"
      ]
     },
     "execution_count": 75,
     "metadata": {},
     "output_type": "execute_result"
    }
   ],
   "source": [
    "dataset = [\"@VirginAmerica Estou tendo problemas para adicionar este voo que minha esposa reservou na minha conta Elevate. Ajuda????? http://t.co/pX8hQOKS3R\", \"@VirginAmerica eu preciso mudar meu vôo que está programado em 09 horas e tempo de espera de 0120 minutos no telefone. \\n\\n\\n Estou ligando para estagiário. Ajuda!!!\", \"@united Preciso registrar um cão-guia para uma passagem de primeira classe da SFO & gt; Dulles. A fila de espera do telefone é de uma hora ou mais. \\n\\n\\n Por favor, avise http://t.co/pX9hRORS2S\", \"@gol Como faço para reagendar meus voos cancelados online? O botão de alteração está esmaecido!\", \"@VirginAmerica Liguei, mas há uma espera de 035 minutos !! Posso reservar o mesmo ingresso através de um vendedor,,, consertar seu site\", \"@VirginAmerica você é horrível. Voo cancelado de PSP para JFK e sem notificação ou possibilidade de remarcar #disappointed... #esperavamais\", \"@VirginAmerica por que voos de voos cancelados hoje? Nenhuma precipitação para ter medo!\", \"@united A seção Problemas de reserva de voo do seu site parece estar corrompida no Chrome. Poderiam dar uma olhada nisso.\", \"@VirginAmerica sério. não haverá voos diretos de SFO-FLL em maio ???\", \"@united no vôo VX399 partindo do JFK para LA - o avião VA mais sujo em que já estive. Triste para uma grande companhia aérea.\"]\n",
    "dataset"
   ]
  },
  {
   "cell_type": "code",
   "execution_count": 150,
   "metadata": {},
   "outputs": [
    {
     "data": {
      "text/plain": [
       "'@VirginAmerica você é horrível. Voo cancelado de PSP para JFK e sem notificação ou possibilidade de remarcar #disappointed... #esperavamais'"
      ]
     },
     "execution_count": 150,
     "metadata": {},
     "output_type": "execute_result"
    }
   ],
   "source": [
    "import re\n",
    "lin = dataset[5]\n",
    "lin"
   ]
  },
  {
   "cell_type": "code",
   "execution_count": 151,
   "metadata": {},
   "outputs": [
    {
     "data": {
      "text/plain": [
       "'@VirginAmerica você é horrível. Voo cancelado de PSP para JFK e sem notificação ou possibilidade de remarcar #disappointed... #esperavamais'"
      ]
     },
     "execution_count": 151,
     "metadata": {},
     "output_type": "execute_result"
    }
   ],
   "source": [
    "lin = re.sub(' http://t.co/pX\\dh.O.S..', '', lin)\n",
    "lin"
   ]
  },
  {
   "cell_type": "code",
   "execution_count": 152,
   "metadata": {},
   "outputs": [
    {
     "data": {
      "text/plain": [
       "'você é horrível. Voo cancelado de PSP para JFK e sem notificação ou possibilidade de remarcar #disappointed... #esperavamais'"
      ]
     },
     "execution_count": 152,
     "metadata": {},
     "output_type": "execute_result"
    }
   ],
   "source": [
    "lin = re.sub('@VirginAmerica |@united |@gol ', '', lin)\n",
    "lin"
   ]
  },
  {
   "cell_type": "code",
   "execution_count": 153,
   "metadata": {},
   "outputs": [
    {
     "data": {
      "text/plain": [
       "'você é horrível. Voo cancelado de PSP para JFK e sem notificação ou possibilidade de remarcar #disappointed... #esperavamais'"
      ]
     },
     "execution_count": 153,
     "metadata": {},
     "output_type": "execute_result"
    }
   ],
   "source": [
    "lin = re.sub(' \\n\\n\\n', '', lin)\n",
    "lin"
   ]
  },
  {
   "cell_type": "code",
   "execution_count": 154,
   "metadata": {},
   "outputs": [
    {
     "data": {
      "text/plain": [
       "'você é horrível. Voo cancelado de PSP para JFK e sem notificação ou possibilidade de remarcar #disappointed... #esperavamais'"
      ]
     },
     "execution_count": 154,
     "metadata": {},
     "output_type": "execute_result"
    }
   ],
   "source": [
    "linha = re.sub(' \\?\\?\\?', '?', lin)\n",
    "linha"
   ]
  },
  {
   "cell_type": "code",
   "execution_count": 155,
   "metadata": {},
   "outputs": [
    {
     "data": {
      "text/plain": [
       "'você é horrível. Voo cancelado de PSP para JFK e sem notificação ou possibilidade de remarcar #disappointed... #esperavamais'"
      ]
     },
     "execution_count": 155,
     "metadata": {},
     "output_type": "execute_result"
    }
   ],
   "source": [
    "lin = re.sub(' ?!!!?', '!', lin)\n",
    "lin"
   ]
  },
  {
   "cell_type": "code",
   "execution_count": 156,
   "metadata": {},
   "outputs": [
    {
     "data": {
      "text/plain": [
       "'você é horrível. Voo cancelado de PSP para JFK e sem notificação ou possibilidade de remarcar #disappointed... #esperavamais'"
      ]
     },
     "execution_count": 156,
     "metadata": {},
     "output_type": "execute_result"
    }
   ],
   "source": [
    "lin = lin.replace('09', '9')\n",
    "lin"
   ]
  },
  {
   "cell_type": "code",
   "execution_count": 157,
   "metadata": {},
   "outputs": [
    {
     "data": {
      "text/plain": [
       "'você é horrível. Voo cancelado de PSP para JFK e sem notificação ou possibilidade de remarcar #disappointed... #esperavamais'"
      ]
     },
     "execution_count": 157,
     "metadata": {},
     "output_type": "execute_result"
    }
   ],
   "source": [
    "lin = lin.replace('0120', '120')\n",
    "lin"
   ]
  },
  {
   "cell_type": "code",
   "execution_count": 158,
   "metadata": {},
   "outputs": [
    {
     "data": {
      "text/plain": [
       "'você é horrível. Voo cancelado de PSP para JFK e sem notificação ou possibilidade de remarcar #disappointed... #esperavamais'"
      ]
     },
     "execution_count": 158,
     "metadata": {},
     "output_type": "execute_result"
    }
   ],
   "source": [
    "linha = lin.replace('035', '35')\n",
    "linha"
   ]
  },
  {
   "cell_type": "code",
   "execution_count": 159,
   "metadata": {},
   "outputs": [
    {
     "data": {
      "text/plain": [
       "'você é horrível. Voo cancelado de PSP para JFK e sem notificação ou possibilidade de remarcar #disappointed... #esperavamais'"
      ]
     },
     "execution_count": 159,
     "metadata": {},
     "output_type": "execute_result"
    }
   ],
   "source": [
    "lin = lin.replace(',,,', ',')\n",
    "lin"
   ]
  },
  {
   "cell_type": "code",
   "execution_count": 160,
   "metadata": {},
   "outputs": [
    {
     "data": {
      "text/plain": [
       "'você é horrível. Voo cancelado de PSP para JFK e sem notificação ou possibilidade de remarcar'"
      ]
     },
     "execution_count": 160,
     "metadata": {},
     "output_type": "execute_result"
    }
   ],
   "source": [
    "lin = re.sub('\\s#\\D+', '', lin)\n",
    "lin"
   ]
  }
 ],
 "metadata": {
  "kernelspec": {
   "display_name": "Python 3",
   "language": "python",
   "name": "python3"
  },
  "language_info": {
   "codemirror_mode": {
    "name": "ipython",
    "version": 3
   },
   "file_extension": ".py",
   "mimetype": "text/x-python",
   "name": "python",
   "nbconvert_exporter": "python",
   "pygments_lexer": "ipython3",
   "version": "3.8.5"
  }
 },
 "nbformat": 4,
 "nbformat_minor": 4
}
