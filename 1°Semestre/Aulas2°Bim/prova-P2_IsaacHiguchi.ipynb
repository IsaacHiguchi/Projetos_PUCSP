{
 "cells": [
  {
   "cell_type": "markdown",
   "metadata": {},
   "source": [
    "# Prova P2 | 2021"
   ]
  },
  {
   "cell_type": "markdown",
   "metadata": {},
   "source": [
    "### PUC-SP | Ciência de Dados e Inteligência Artificial | Algoritmos e Programação"
   ]
  },
  {
   "cell_type": "markdown",
   "metadata": {},
   "source": [
    "Em toda a prova, utilize suas próprias palavras. Utilize somente o conhecimento apresentado durante o curso. Prova individual, com consulta."
   ]
  },
  {
   "cell_type": "markdown",
   "metadata": {},
   "source": [
    "-------\n",
    "\n",
    "RA: 00306191\n",
    "\n",
    "\n",
    "Nome: Isaac Higuchi\n",
    "\n",
    "-----"
   ]
  },
  {
   "cell_type": "markdown",
   "metadata": {},
   "source": [
    "**1)** [2,0] Explique **com suas palavras**."
   ]
  },
  {
   "cell_type": "markdown",
   "metadata": {},
   "source": [
    "a) A diferença entre declaração e chamada de função."
   ]
  },
  {
   "cell_type": "markdown",
   "metadata": {},
   "source": [
    "A diferença é que a declaração define uma função e a chamada aplica a função."
   ]
  },
  {
   "cell_type": "markdown",
   "metadata": {},
   "source": [
    "Na declaração da função são definidos os parâmetros para os argumentos e o que será feito com esses argumentos quando a função for chamada."
   ]
  },
  {
   "cell_type": "code",
   "execution_count": 6,
   "metadata": {},
   "outputs": [],
   "source": [
    "#definindo a função(parâmetros nome e idade)\n",
    "#  ⤵                 ⬇\n",
    "def olá(meu_nome, idade):\n",
    "   print('Olá',meu_nome,'\\nSua idade é:',idade)"
   ]
  },
  {
   "cell_type": "markdown",
   "metadata": {},
   "source": [
    "Na chamada da função são passados argumentos que serão manipulados de acordo com o que foi definido na declaração."
   ]
  },
  {
   "cell_type": "code",
   "execution_count": 7,
   "metadata": {},
   "outputs": [
    {
     "name": "stdout",
     "output_type": "stream",
     "text": [
      "Olá Isaac \n",
      "Sua idade é: 18\n"
     ]
    }
   ],
   "source": [
    "# chamando a função(argumentos)\n",
    "olá('Isaac',18)"
   ]
  },
  {
   "cell_type": "markdown",
   "metadata": {},
   "source": [
    "b) Parâmetros e argumentos."
   ]
  },
  {
   "cell_type": "markdown",
   "metadata": {},
   "source": [
    "Parâmetros são atribuídos na declaração da função e definem quais argumentos serão aceitos pela função. \n",
    "Argumentos são valores passados para a função na chamada de função."
   ]
  },
  {
   "cell_type": "markdown",
   "metadata": {},
   "source": [
    "c) Retorno de função e tipo de retorno de função."
   ]
  },
  {
   "cell_type": "markdown",
   "metadata": {},
   "source": [
    "O retorno de função é uma instrução com keyword $return$ dada na declaração da função onde se define a informação que será retornada. O valor retornado pode ser de qualquer tipo, incluindo int, float etc. E uma vez definida, a função só é de um tipo específico.\n"
   ]
  },
  {
   "cell_type": "markdown",
   "metadata": {},
   "source": [
    "-----"
   ]
  },
  {
   "cell_type": "markdown",
   "metadata": {},
   "source": [
    "**2)** [4,0] Implemente **sem usar bibliotecas externas**."
   ]
  },
  {
   "cell_type": "markdown",
   "metadata": {},
   "source": [
    "a) Uma função que **retorne** o maior valor entre dois parâmetros."
   ]
  },
  {
   "cell_type": "code",
   "execution_count": 2,
   "metadata": {},
   "outputs": [],
   "source": [
    "def maior2(a, b):\n",
    "    if a > b:\n",
    "        return a\n",
    "    else:\n",
    "        return b"
   ]
  },
  {
   "cell_type": "markdown",
   "metadata": {},
   "source": [
    "b) Utilizando **apenas** a função `maior2()` criada no item (a), implemente a função de forma que **retorne** o maior entre três parâmetros."
   ]
  },
  {
   "cell_type": "code",
   "execution_count": 3,
   "metadata": {},
   "outputs": [],
   "source": [
    "def maior3(a, b, c):\n",
    "    d = maior2(a, b)\n",
    "    return maior2(d, c)"
   ]
  },
  {
   "cell_type": "markdown",
   "metadata": {},
   "source": [
    "c) Utilizando **apenas** a função `maior2()` criada no item (a), implemente a função de forma que **retorne** o maior na lista.\n",
    "\n",
    "> *Dica: use estruturas de repetição*"
   ]
  },
  {
   "cell_type": "code",
   "execution_count": 4,
   "metadata": {},
   "outputs": [
    {
     "data": {
      "text/plain": [
       "722"
      ]
     },
     "execution_count": 4,
     "metadata": {},
     "output_type": "execute_result"
    }
   ],
   "source": [
    "lista = [1,20,300,4,333,16,722]\n",
    "def maior(nums):\n",
    "    maiorzin = maior2(lista[0], lista[1])\n",
    "    for i in range(len(lista)):\n",
    "        maiorzin = maior2(maiorzin, lista[i])\n",
    "    return maiorzin\n",
    "maior(lista)"
   ]
  },
  {
   "cell_type": "markdown",
   "metadata": {},
   "source": [
    "----"
   ]
  },
  {
   "cell_type": "markdown",
   "metadata": {},
   "source": [
    "Considere o dataset a seguir, que foi extraído das mensagens no Twitter para companhias aéreas."
   ]
  },
  {
   "cell_type": "markdown",
   "metadata": {},
   "source": [
    "**Descrição do dataset**\n",
    "\n",
    "- *tweet*: O tweet de um usuário para uma companhia aérea"
   ]
  },
  {
   "cell_type": "markdown",
   "metadata": {},
   "source": [
    "**Dataset**"
   ]
  },
  {
   "cell_type": "code",
   "execution_count": 7,
   "metadata": {},
   "outputs": [
    {
     "data": {
      "text/plain": [
       "['@VirginAmerica Estou tendo problemas para adicionar este voo que minha esposa reservou na minha conta Elevate. Ajuda????? http://t.co/pX8hQOKS3R',\n",
       " '@VirginAmerica eu preciso mudar meu vôo que está programado em 09 horas e tempo de espera de 0120 minutos no telefone. \\n\\n\\n Estou ligando para estagiário. Ajuda!!!',\n",
       " '@united Preciso registrar um cão-guia para uma passagem de primeira classe da SFO & gt; Dulles. A fila de espera do telefone é de uma hora ou mais. \\n\\n\\n Por favor, avise http://t.co/pX9hRORS2S',\n",
       " '@gol Como faço para reagendar meus voos cancelados online? O botão de alteração está esmaecido!',\n",
       " '@VirginAmerica Liguei, mas há uma espera de 035 minutos !! Posso reservar o mesmo ingresso através de um vendedor,,, consertar seu site',\n",
       " '@VirginAmerica você é horrível. Voo cancelado de PSP para JFK e sem notificação ou possibilidade de remarcar #disappointed... #esperavamais',\n",
       " '@VirginAmerica por que voos de voos cancelados hoje? Nenhuma precipitação para ter medo!',\n",
       " '@united A seção Problemas de reserva de voo do seu site parece estar corrompida no Chrome. Poderiam dar uma olhada nisso.',\n",
       " '@VirginAmerica sério. não haverá voos diretos de SFO-FLL em maio ???',\n",
       " '@united no vôo VX399 partindo do JFK para LA - o avião VA mais sujo em que já estive. Triste para uma grande companhia aérea.']"
      ]
     },
     "execution_count": 7,
     "metadata": {},
     "output_type": "execute_result"
    }
   ],
   "source": [
    "dataset = [\"@VirginAmerica Estou tendo problemas para adicionar este voo que minha esposa reservou na minha conta Elevate. Ajuda????? http://t.co/pX8hQOKS3R\", \"@VirginAmerica eu preciso mudar meu vôo que está programado em 09 horas e tempo de espera de 0120 minutos no telefone. \\n\\n\\n Estou ligando para estagiário. Ajuda!!!\", \"@united Preciso registrar um cão-guia para uma passagem de primeira classe da SFO & gt; Dulles. A fila de espera do telefone é de uma hora ou mais. \\n\\n\\n Por favor, avise http://t.co/pX9hRORS2S\", \"@gol Como faço para reagendar meus voos cancelados online? O botão de alteração está esmaecido!\", \"@VirginAmerica Liguei, mas há uma espera de 035 minutos !! Posso reservar o mesmo ingresso através de um vendedor,,, consertar seu site\", \"@VirginAmerica você é horrível. Voo cancelado de PSP para JFK e sem notificação ou possibilidade de remarcar #disappointed... #esperavamais\", \"@VirginAmerica por que voos de voos cancelados hoje? Nenhuma precipitação para ter medo!\", \"@united A seção Problemas de reserva de voo do seu site parece estar corrompida no Chrome. Poderiam dar uma olhada nisso.\", \"@VirginAmerica sério. não haverá voos diretos de SFO-FLL em maio ???\", \"@united no vôo VX399 partindo do JFK para LA - o avião VA mais sujo em que já estive. Triste para uma grande companhia aérea.\"]\n",
    "dataset"
   ]
  },
  {
   "cell_type": "markdown",
   "metadata": {},
   "source": [
    "-----"
   ]
  },
  {
   "cell_type": "markdown",
   "metadata": {},
   "source": [
    "**3)** [4,0] Nesta questão, você deverá tratar este dataset utilizando expressões regulares no Python. (Não utilize frameworks para resolver a questão)"
   ]
  },
  {
   "cell_type": "markdown",
   "metadata": {},
   "source": [
    "- Remover os links no formato: `http://t.co/AAAAAAAAAA`, em que `A` representa um caractere alfa-numérico\n",
    "\n",
    "- Remover menções a usuários no Twitter: Ex: (`@VirginAmerica`, `@united` etc)\n",
    "\n",
    "- Remover todas as hashtags Ex: (`#disappointed`)\n",
    "\n",
    "- Substituir repetições de sinais de pontuação por uma única ocorrência. Ex: de `,,,` para `,`; de `!!` para `!`; de `??????` para `?`.\n",
    "\n",
    "- Substitua todos os espaços duplos, triplos... por um único espaço."
   ]
  },
  {
   "cell_type": "markdown",
   "metadata": {},
   "source": [
    "Ao final, seu código salvar os tratamentos na lista `tweets`."
   ]
  },
  {
   "cell_type": "code",
   "execution_count": 9,
   "metadata": {},
   "outputs": [
    {
     "data": {
      "text/plain": [
       "['Estou tendo problemas para adicionar este voo que minha esposa reservou na minha conta Elevate. Ajuda?',\n",
       " 'eu preciso mudar meu vôo que está programado em 9 horas e tempo de espera de 120 minutos no telefone. Estou ligando para estagiário. Ajuda!',\n",
       " 'Preciso registrar um cão-guia para uma passagem de primeira classe da SFO & gt; Dulles. A fila de espera do telefone é de uma hora ou mais. Por favor, avise',\n",
       " 'Como faço para reagendar meus voos cancelados online? O botão de alteração está esmaecido!',\n",
       " 'Liguei, mas há uma espera de 35 minutos! Posso reservar o mesmo ingresso através de um vendedor, consertar seu site',\n",
       " 'você é horrível. Voo cancelado de PSP para JFK e sem notificação ou possibilidade de remarcar',\n",
       " 'por que voos de voos cancelados hoje? Nenhuma precipitação para ter medo!',\n",
       " 'A seção Problemas de reserva de voo do seu site parece estar corrompida no Chrome. Poderiam dar uma olhada nisso.',\n",
       " 'sério. não haverá voos diretos de SFO-FLL em maio?']"
      ]
     },
     "execution_count": 9,
     "metadata": {},
     "output_type": "execute_result"
    }
   ],
   "source": [
    "import re\n",
    "\n",
    "tweets = []\n",
    "\n",
    "def tratar(tweet):\n",
    "    tweet = dataset[i]\n",
    "    tweet = re.sub(' http://t.co/pX\\dh.O.S..', '', tweet)\n",
    "    tweet = re.sub('@VirginAmerica |@united |@gol ', '', tweet)\n",
    "    tweet = re.sub(' \\n\\n\\n', '', tweet)\n",
    "    tweet = re.sub(' ?\\?\\?\\?\\??\\??', '?', tweet)\n",
    "    tweet = re.sub(' ?!!!?', '!', tweet)\n",
    "    tweet = tweet.replace('09', '9')\n",
    "    tweet = tweet.replace('0120', '120')\n",
    "    tweet = tweet.replace('035', '35')\n",
    "    tweet = tweet.replace(',,,', ',')\n",
    "    tweet = re.sub('\\s#\\D+', '', tweet)\n",
    "    return tweet\n",
    "\n",
    "for i in range(9):\n",
    "    linhas = tratar(dataset[i])\n",
    "    tweets.append(linhas)\n",
    "\n",
    "tweets"
   ]
  }
 ],
 "metadata": {
  "kernelspec": {
   "display_name": "Python 3",
   "language": "python",
   "name": "python3"
  },
  "language_info": {
   "codemirror_mode": {
    "name": "ipython",
    "version": 3
   },
   "file_extension": ".py",
   "mimetype": "text/x-python",
   "name": "python",
   "nbconvert_exporter": "python",
   "pygments_lexer": "ipython3",
   "version": "3.8.5"
  }
 },
 "nbformat": 4,
 "nbformat_minor": 4
}
