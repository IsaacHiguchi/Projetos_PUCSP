{
 "cells": [
  {
   "cell_type": "markdown",
   "metadata": {},
   "source": [
    "# Prova P1 | 2021"
   ]
  },
  {
   "cell_type": "markdown",
   "metadata": {},
   "source": [
    "### PUC-SP | Ciência de Dados e Inteligência Artificial | Algoritmos e Programação"
   ]
  },
  {
   "cell_type": "markdown",
   "metadata": {},
   "source": [
    "Em toda a prova, utilize suas próprias palavras. Prova individual, com consulta."
   ]
  },
  {
   "cell_type": "markdown",
   "metadata": {},
   "source": [
    "-------\n",
    "\n",
    "RA:00306191\n",
    "\n",
    "\n",
    "Nome: Isaac Higuchi\n",
    "\n",
    "-----"
   ]
  },
  {
   "cell_type": "markdown",
   "metadata": {},
   "source": [
    "**01)** Explique qual a relação entre variáveis e tipos de dados primitivos. Quais são os tipos de dados primitivos em Python? Explique cada um deles."
   ]
  },
  {
   "cell_type": "markdown",
   "metadata": {},
   "source": [
    "*Sua resposta*:  \n",
    "Por padrão o Python defini os tipos primitivos automaticamente. Tipos primitivos de dados são usados para guardar valores de variados tipos, como: palavras (caracteres/strings), números inteiros (int), números quebrados (decimais/float) e o tipo lógico (verdadeiro e falso). Já as variáveis são espaços reservados na memória de um computador que armazenam tipos de dados (como os mencionados anteriormente), mas a diferença é justamente que você é o responsável por definir as variáveis e seus tipos.\n",
    "##### Tipos \n",
    "`int = Inteiro: 7, -4, 0, 98755;`\n",
    "\n",
    "`float = Decimais: 4.8, 0.076, -15.7588, 8.0;`\n",
    "\n",
    "`bool = Lógico: TRUE, FALSE;`\n",
    "\n",
    "`str = Caractere/Palavras: ‘Olá, mundo!’.`"
   ]
  },
  {
   "cell_type": "markdown",
   "metadata": {},
   "source": [
    "**02)** A série de Fettuccine pode ser descrita como similar à de Fibonacci. A relação de recorrência para seus elementos é dada a seguir.\n",
    "\n",
    "$Fet_{n} = Fet_{n-3} * Fet_{n-2} * Fet_{n-1}$, para $n \\geq 3$\n",
    "\n",
    "$Fet_{0} = 1$\n",
    "\n",
    "$Fet_{1} = 1$ \n",
    "\n",
    "$Fet_{2} = 2$\n",
    "\n",
    "Escreva um programa para calcular $Fet_{n}$."
   ]
  },
  {
   "cell_type": "code",
   "execution_count": 6,
   "metadata": {},
   "outputs": [
    {
     "name": "stdout",
     "output_type": "stream",
     "text": [
      "Digite o número de elementos: 10\n",
      "1\n",
      "1\n",
      "2\n",
      "2\n",
      "4\n",
      "16\n",
      "128\n",
      "8192\n",
      "16777216\n",
      "17592186044416\n"
     ]
    }
   ],
   "source": [
    "# Seu código aqui\n",
    "n=int(input('Digite o número de elementos: '))\n",
    "t0=1\n",
    "t1=1\n",
    "t2=2\n",
    "for i in range(0, n):\n",
    "    t3=(t0*t1*t2)\n",
    "    print(t0)\n",
    "    t0=t1\n",
    "    t1=t2\n",
    "    t2=t3"
   ]
  },
  {
   "cell_type": "markdown",
   "metadata": {},
   "source": [
    "**03)** Escreva um programa que some todos os divisores de um número $n$ (excluindo ele mesmo), que deve ser informado pelo usuário."
   ]
  },
  {
   "cell_type": "code",
   "execution_count": 23,
   "metadata": {},
   "outputs": [
    {
     "name": "stdout",
     "output_type": "stream",
     "text": [
      "Digite um número: 10\n",
      "1\n",
      "2\n",
      "5\n",
      "O número 10 foi divisível 3 vezes. A soma dos divisores é 8."
     ]
    }
   ],
   "source": [
    "# Seu código aqui\n",
    "num=int(input('Digite um número: '))\n",
    "div=0\n",
    "soma=0\n",
    "for i in range(1,num):\n",
    "    if num%i==0:\n",
    "        print(i)\n",
    "        div+=1\n",
    "        soma+=i\n",
    "print(f'O número {num} foi divisível {div} vezes. A soma dos divisores é {soma}.', end='')"
   ]
  },
  {
   "cell_type": "markdown",
   "metadata": {},
   "source": [
    "**04)** Em muitas situações é útil criar um dataset com dados aleatórios para fins de validação de prova de conceito. Durante o curso, criamos dois datasets assim. Na lista preparatória para esta prova, o código implementado na função `obter_dados_pesq_campo(n_livros)` cria uma lista `livros`, que por sua vez contém listas com alguns atributos relacionados à produção de livros. Naquela questão, cada livro é descrito pela lista: `[n_identificação_livro, n_vendas_prováveis, custo_fixo, n_páginas]`. Diz-se que cada uma destas listas é uma instância deste dataset. Python implementa o conceito de matrizes com listas contendo outras listas. Um outro caso refere-se à lista de pesos de jogadores de futebol (semana 06). Neste caso, uma lista unidimensional é suficiente, mas cada peso de jogador foi gerado aleatoriamente. \n",
    "\n",
    "Nesta questão, você deverá gerar um dataset com dados aleatórios. Faz parte da sua tarefa criar um contexto de uso, assim como feito com o dataset do custo de produção de livros ou dos pesos dos jogadores. Qualquer contexto é válido e exemplos incluem o hospitalar, financeiro, políticas públicas, educacional etc. Embora os dados seja aleatórios, os intervalos devem ser realistas, tanto quanto possível. Por exemplo, idades devem ser compatíveis com idades dos seres humanos bem como pesos e alturas. Salários como R$ 0,56 por mês não fazem sentido, e seu dataset deve evitar ao máximo estas ocorrências.\n",
    "\n",
    "Você pode utilizar as bibliotecas como `random` e a `numpy.random.normal(média, desvio_padrão, 1)`, mas você só pode gerar um único valor por vez, muito embora estas bibliotecas ofereçam alternativas para se criar distribuições com um único comando. Assim como acontece no dataset do custo de produção de livros, cada instância do seu dataset deve conter ao menos 4 atributos (valores).\n",
    "\n",
    "`[id da instância, valor 1, valor 2, valor 3, ..., valor n]`\n",
    "\n",
    "Ao final, espera-se o dataset que você criou. Leia a próxima questão antes de começar a trabalhar nesta."
   ]
  },
  {
   "cell_type": "markdown",
   "metadata": {},
   "source": [
    "**Contexto**\n",
    "\n",
    "Dataset para a negociação de jogadores, contendo informações como: idade, qualidade/desempenho do jogador na última temporada e o preço médio do jogador no mercado. O jogador é identificado pelo id que seria o número da camisa já que é um item único para cada jogador de um time.\n",
    "\n",
    "**Descrição do dataset**\n",
    "\n",
    "- `id`: identificação da <número da camisa do jogador>\n",
    "\n",
    "- `idade_jogador`: atributo $1$ da <#idade do jogador>\n",
    "\n",
    "- `preço_jogador`: atributo $2$ da <preço médio do jogador no mercado>\n",
    "\n",
    "- `qualidade_do_tapa`: atributo $n$ da <qualidade/desempenho do jogador>"
   ]
  },
  {
   "cell_type": "code",
   "execution_count": 3,
   "metadata": {},
   "outputs": [
    {
     "data": {
      "text/plain": [
       "[[1, 24, 73000.0, 3],\n",
       " [2, 19, 298000.0, 4],\n",
       " [3, 19, 852000.0, 5],\n",
       " [4, 30, 801000.0, 9],\n",
       " [5, 20, 733000.0, 8]]"
      ]
     },
     "execution_count": 3,
     "metadata": {},
     "output_type": "execute_result"
    }
   ],
   "source": [
    "# Seu código aqui\n",
    "from random import random, randint\n",
    "import numpy\n",
    "\n",
    "n_jogadores=5\n",
    "jogadores=[]\n",
    "for id in range(1,n_jogadores+1):\n",
    "    idade_jogador = randint(18,31) # idade do jogador\n",
    "    preço_jogador = round(random(),3) * 10e5 # preço do jogador no mercado\n",
    "    if preço_jogador<500000.0:\n",
    "        qualidade_do_tapa = randint(1, 5) # qualidade/desempenho do jogador na última temporada\n",
    "    elif preço_jogador>=500000.0:\n",
    "        qualidade_do_tapa = randint(5, 10)# qualidade/desempenho do jogador\n",
    "    jogadores.append([id, idade_jogador, preço_jogador, qualidade_do_tapa])\n",
    "list(jogadores)"
   ]
  },
  {
   "cell_type": "markdown",
   "metadata": {},
   "source": [
    "**05)** Utilizando o laço `while` e o método `pop()`, que está disponível para as listas, remova todas as identificações das instâncias do dataset que você criou. Por exemplo, um dataset possível de custos de produção de livros de tamanho 5 poderia ser:\n",
    "\n",
    "```\n",
    "[[1, 98296, 458.41, 266],\n",
    " [2, 89354, 9264.77, 297],\n",
    " [3, 44216, 6418.27, 752],\n",
    " [4, 63999, 6195.78, 727],\n",
    " [5, 78403, 3152.79, 347]]\n",
    "```\n",
    "em que os valores de 1 a 5 da primeira coluna representam as identificações das instâncias (livros, neste caso). Ao final da remoção, o dataset deveria ficar como a seguir:\n",
    "\n",
    "```\n",
    "[[98296, 458.41, 266],\n",
    " [89354, 9264.77, 297],\n",
    " [44216, 6418.27, 752],\n",
    " [63999, 6195.78, 727],\n",
    " [78403, 3152.79, 347]]\n",
    "```"
   ]
  },
  {
   "cell_type": "code",
   "execution_count": 4,
   "metadata": {},
   "outputs": [
    {
     "name": "stdout",
     "output_type": "stream",
     "text": [
      "[[24, 73000.0, 3], [19, 298000.0, 4], [19, 852000.0, 5], [30, 801000.0, 9], [20, 733000.0, 8]]\n"
     ]
    }
   ],
   "source": [
    "# Seu código aqui\n",
    "i=0\n",
    "tam=len(jogadores)\n",
    "while i<tam:\n",
    "    jogadores[i].pop(0)\n",
    "    i+=1\n",
    "print(jogadores)"
   ]
  },
  {
   "cell_type": "code",
   "execution_count": 5,
   "metadata": {},
   "outputs": [
    {
     "data": {
      "text/plain": [
       "[[24, 73000.0, 3],\n",
       " [19, 298000.0, 4],\n",
       " [19, 852000.0, 5],\n",
       " [30, 801000.0, 9],\n",
       " [20, 733000.0, 8]]"
      ]
     },
     "execution_count": 5,
     "metadata": {},
     "output_type": "execute_result"
    }
   ],
   "source": [
    "list(jogadores)"
   ]
  }
 ],
 "metadata": {
  "kernelspec": {
   "display_name": "Python 3",
   "language": "python",
   "name": "python3"
  },
  "language_info": {
   "codemirror_mode": {
    "name": "ipython",
    "version": 3
   },
   "file_extension": ".py",
   "mimetype": "text/x-python",
   "name": "python",
   "nbconvert_exporter": "python",
   "pygments_lexer": "ipython3",
   "version": "3.8.5"
  }
 },
 "nbformat": 4,
 "nbformat_minor": 4
}
