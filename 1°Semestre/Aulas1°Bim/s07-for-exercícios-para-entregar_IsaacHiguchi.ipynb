{
 "cells": [
  {
   "cell_type": "markdown",
   "metadata": {},
   "source": [
    "## Isaac Higuchi"
   ]
  },
  {
   "cell_type": "markdown",
   "metadata": {},
   "source": [
    "# Exercícios\n",
    "### Semana 07"
   ]
  },
  {
   "cell_type": "markdown",
   "metadata": {},
   "source": [
    "# Estruturas de Repetição - FOR"
   ]
  },
  {
   "cell_type": "markdown",
   "metadata": {},
   "source": [
    "**[1]** Crie um programa para contar a quantidade de números pares entre $2$ e $99$.\n",
    "\n",
    "Dica: utilize o operador $\\%$, conhecido como módulo."
   ]
  },
  {
   "cell_type": "code",
   "execution_count": 3,
   "metadata": {
    "scrolled": true
   },
   "outputs": [
    {
     "data": {
      "text/plain": [
       "49"
      ]
     },
     "execution_count": 3,
     "metadata": {},
     "output_type": "execute_result"
    }
   ],
   "source": [
    "a=list(range(2,100,2))\n",
    "len(a)"
   ]
  },
  {
   "cell_type": "markdown",
   "metadata": {},
   "source": [
    "**[2]** Crie um programa para somar todos os pares entre $2$ e $99$. "
   ]
  },
  {
   "cell_type": "code",
   "execution_count": 8,
   "metadata": {},
   "outputs": [
    {
     "name": "stdout",
     "output_type": "stream",
     "text": [
      "2450\n"
     ]
    }
   ],
   "source": [
    "soma=0\n",
    "for i in range(2,100,2):\n",
    "    soma+=i\n",
    "print(soma)"
   ]
  },
  {
   "cell_type": "markdown",
   "metadata": {},
   "source": [
    "**[3]** Crie um programa para somar $n$ números gerados aleatoriamente entre $1$ e $10$, onde $n$ é informado pelo usuário."
   ]
  },
  {
   "cell_type": "code",
   "execution_count": 16,
   "metadata": {},
   "outputs": [
    {
     "name": "stdout",
     "output_type": "stream",
     "text": [
      "Quantidade de números a serem somados: 1\n",
      "2\n"
     ]
    }
   ],
   "source": [
    "import random\n",
    "n=int(input('Quantidade de números a serem somados: '))\n",
    "soma=0\n",
    "a=random.randrange(1,11)\n",
    "for a in range(n):\n",
    "    a=random.randrange(1,11)\n",
    "    soma+=a\n",
    "print(soma)"
   ]
  },
  {
   "cell_type": "markdown",
   "metadata": {},
   "source": [
    "**[4]** Crie um programa para imprimir uma agenda diária com horários de $15$ em $15$ minutos, conforme a listagem a seguir.\n",
    "\n",
    "```\n",
    "00:00\n",
    "00:15\n",
    "00:30\n",
    "00:45\n",
    "01:00\n",
    "01:15\n",
    "...\n",
    "23:30\n",
    "23:45\n",
    "00:00\n",
    "```"
   ]
  },
  {
   "cell_type": "code",
   "execution_count": 31,
   "metadata": {},
   "outputs": [
    {
     "name": "stdout",
     "output_type": "stream",
     "text": [
      "00:00\n",
      "000:15\n",
      "0000:30\n",
      "00000:45\n",
      "01:00\n",
      "001:15\n",
      "0001:30\n",
      "00001:45\n",
      "02:00\n",
      "002:15\n",
      "0002:30\n",
      "00002:45\n",
      "03:00\n",
      "003:15\n",
      "0003:30\n",
      "00003:45\n",
      "04:00\n",
      "004:15\n",
      "0004:30\n",
      "00004:45\n",
      "05:00\n",
      "005:15\n",
      "0005:30\n",
      "00005:45\n",
      "06:00\n",
      "006:15\n",
      "0006:30\n",
      "00006:45\n",
      "07:00\n",
      "007:15\n",
      "0007:30\n",
      "00007:45\n",
      "08:00\n",
      "008:15\n",
      "0008:30\n",
      "00008:45\n",
      "09:00\n",
      "009:15\n",
      "0009:30\n",
      "00009:45\n",
      "10:00\n",
      "10:15\n",
      "10:30\n",
      "10:45\n",
      "11:00\n",
      "11:15\n",
      "11:30\n",
      "11:45\n",
      "12:00\n",
      "12:15\n",
      "12:30\n",
      "12:45\n",
      "13:00\n",
      "13:15\n",
      "13:30\n",
      "13:45\n",
      "14:00\n",
      "14:15\n",
      "14:30\n",
      "14:45\n",
      "15:00\n",
      "15:15\n",
      "15:30\n",
      "15:45\n",
      "16:00\n",
      "16:15\n",
      "16:30\n",
      "16:45\n",
      "17:00\n",
      "17:15\n",
      "17:30\n",
      "17:45\n",
      "18:00\n",
      "18:15\n",
      "18:30\n",
      "18:45\n",
      "19:00\n",
      "19:15\n",
      "19:30\n",
      "19:45\n",
      "20:00\n",
      "20:15\n",
      "20:30\n",
      "20:45\n",
      "21:00\n",
      "21:15\n",
      "21:30\n",
      "21:45\n",
      "22:00\n",
      "22:15\n",
      "22:30\n",
      "22:45\n",
      "23:00\n",
      "23:15\n",
      "23:30\n",
      "23:45\n"
     ]
    }
   ],
   "source": [
    "for h in range(24):\n",
    "    for m in range(0,60,15):\n",
    "        if m==0:\n",
    "                m='00'\n",
    "        if h==0:\n",
    "            h='00'\n",
    "        if h==1:\n",
    "                h='01'\n",
    "        if h==2:\n",
    "                h='02'\n",
    "        if h==3:\n",
    "                h='03'\n",
    "        if h==4:\n",
    "                h='04'\n",
    "        if h==5:\n",
    "                h='05'\n",
    "        if h==6:\n",
    "                h='06'\n",
    "        if h==7:\n",
    "                h='07'\n",
    "        if h==8:\n",
    "                h='08'\n",
    "        if h==9:\n",
    "                h='09'\n",
    "        print('{}:{}'.format(h,m))"
   ]
  },
  {
   "cell_type": "markdown",
   "metadata": {},
   "source": [
    "**[5]** Criar um programa para imprimir a tabela de jogos para $5$ times, onde cada time joga com todos os outros duas vezes, a primeira vez em casa e a segunda, na casa do adversário.\n",
    "\n",
    "```python\n",
    "times = ['FLA', 'FLU', 'COR', 'PAL', 'VAS']\n",
    "```"
   ]
  },
  {
   "cell_type": "code",
   "execution_count": 48,
   "metadata": {
    "scrolled": true
   },
   "outputs": [
    {
     "data": {
      "text/html": [
       "<div>\n",
       "<style scoped>\n",
       "    .dataframe tbody tr th:only-of-type {\n",
       "        vertical-align: middle;\n",
       "    }\n",
       "\n",
       "    .dataframe tbody tr th {\n",
       "        vertical-align: top;\n",
       "    }\n",
       "\n",
       "    .dataframe thead th {\n",
       "        text-align: right;\n",
       "    }\n",
       "</style>\n",
       "<table border=\"1\" class=\"dataframe\">\n",
       "  <thead>\n",
       "    <tr style=\"text-align: right;\">\n",
       "      <th></th>\n",
       "    </tr>\n",
       "    <tr>\n",
       "      <th>Jogos de ida</th>\n",
       "    </tr>\n",
       "  </thead>\n",
       "  <tbody>\n",
       "    <tr>\n",
       "      <th>FLU x VAS ida VAS x FLU volta</th>\n",
       "    </tr>\n",
       "    <tr>\n",
       "      <th>FLA x PAL ida PAL x FLA volta</th>\n",
       "    </tr>\n",
       "    <tr>\n",
       "      <th>COR x VAS ida VAS x COR volta</th>\n",
       "    </tr>\n",
       "    <tr>\n",
       "      <th>FLU x PAL ida PAL x FLU volta</th>\n",
       "    </tr>\n",
       "    <tr>\n",
       "      <th>FLA x VAS ida VAS x FLA volta</th>\n",
       "    </tr>\n",
       "    <tr>\n",
       "      <th>FLU x COR ida COR x FLU volta</th>\n",
       "    </tr>\n",
       "    <tr>\n",
       "      <th>COR x PAL ida PAL x COR volta</th>\n",
       "    </tr>\n",
       "    <tr>\n",
       "      <th>FLA x COR ida COR x FLA volta</th>\n",
       "    </tr>\n",
       "    <tr>\n",
       "      <th>PAL x VAS ida VAS x PAL volta</th>\n",
       "    </tr>\n",
       "    <tr>\n",
       "      <th>FLA x FLU ida FLU x FLA volta</th>\n",
       "    </tr>\n",
       "  </tbody>\n",
       "</table>\n",
       "</div>"
      ],
      "text/plain": [
       "Empty DataFrame\n",
       "Columns: []\n",
       "Index: [FLU x VAS ida VAS x FLU volta, FLA x PAL ida PAL x FLA volta, COR x VAS ida VAS x COR volta, FLU x PAL ida PAL x FLU volta, FLA x VAS ida VAS x FLA volta, FLU x COR ida COR x FLU volta, COR x PAL ida PAL x COR volta, FLA x COR ida COR x FLA volta, PAL x VAS ida VAS x PAL volta, FLA x FLU ida FLU x FLA volta]"
      ]
     },
     "metadata": {},
     "output_type": "display_data"
    }
   ],
   "source": [
    "times=['FLA','FLU','COR','PAL','VAS']\n",
    "jogos=[]\n",
    "for a in range(5):\n",
    "    for b in range(a+1,5):\n",
    "        if a!=b:\n",
    "            jogos.append('{} x {} ida {} x {} volta'.format(times[a], times[b], times[b], times[a]))\n",
    "import random\n",
    "random.shuffle(jogos)\n",
    "import pandas as pd\n",
    "tabela_ = pd.DataFrame(jogos)\n",
    "tabela_.columns = ['Jogos de ida']\n",
    "tabela = tabela_.set_index('Jogos de ida')\n",
    "display(tabela)"
   ]
  },
  {
   "cell_type": "code",
   "execution_count": 38,
   "metadata": {},
   "outputs": [
    {
     "data": {
      "text/html": [
       "<div>\n",
       "<style scoped>\n",
       "    .dataframe tbody tr th:only-of-type {\n",
       "        vertical-align: middle;\n",
       "    }\n",
       "\n",
       "    .dataframe tbody tr th {\n",
       "        vertical-align: top;\n",
       "    }\n",
       "\n",
       "    .dataframe thead th {\n",
       "        text-align: right;\n",
       "    }\n",
       "</style>\n",
       "<table border=\"1\" class=\"dataframe\">\n",
       "  <thead>\n",
       "    <tr style=\"text-align: right;\">\n",
       "      <th></th>\n",
       "    </tr>\n",
       "    <tr>\n",
       "      <th>Tabela de Jogos</th>\n",
       "    </tr>\n",
       "  </thead>\n",
       "  <tbody>\n",
       "    <tr>\n",
       "      <th>FLUxVAS</th>\n",
       "    </tr>\n",
       "    <tr>\n",
       "      <th>CORxPAL</th>\n",
       "    </tr>\n",
       "    <tr>\n",
       "      <th>VASxFLA</th>\n",
       "    </tr>\n",
       "    <tr>\n",
       "      <th>FLAxPAL</th>\n",
       "    </tr>\n",
       "    <tr>\n",
       "      <th>FLAxCOR</th>\n",
       "    </tr>\n",
       "    <tr>\n",
       "      <th>PALxCOR</th>\n",
       "    </tr>\n",
       "    <tr>\n",
       "      <th>PALxFLU</th>\n",
       "    </tr>\n",
       "    <tr>\n",
       "      <th>FLUxCOR</th>\n",
       "    </tr>\n",
       "    <tr>\n",
       "      <th>VASxCOR</th>\n",
       "    </tr>\n",
       "    <tr>\n",
       "      <th>PALxVAS</th>\n",
       "    </tr>\n",
       "    <tr>\n",
       "      <th>FLUxFLA</th>\n",
       "    </tr>\n",
       "    <tr>\n",
       "      <th>PALxFLA</th>\n",
       "    </tr>\n",
       "    <tr>\n",
       "      <th>FLUxPAL</th>\n",
       "    </tr>\n",
       "    <tr>\n",
       "      <th>VASxFLU</th>\n",
       "    </tr>\n",
       "    <tr>\n",
       "      <th>FLAxVAS</th>\n",
       "    </tr>\n",
       "    <tr>\n",
       "      <th>VASxPAL</th>\n",
       "    </tr>\n",
       "    <tr>\n",
       "      <th>CORxFLU</th>\n",
       "    </tr>\n",
       "    <tr>\n",
       "      <th>CORxVAS</th>\n",
       "    </tr>\n",
       "    <tr>\n",
       "      <th>FLAxFLU</th>\n",
       "    </tr>\n",
       "    <tr>\n",
       "      <th>CORxFLA</th>\n",
       "    </tr>\n",
       "  </tbody>\n",
       "</table>\n",
       "</div>"
      ],
      "text/plain": [
       "Empty DataFrame\n",
       "Columns: []\n",
       "Index: [FLUxVAS, CORxPAL, VASxFLA, FLAxPAL, FLAxCOR, PALxCOR, PALxFLU, FLUxCOR, VASxCOR, PALxVAS, FLUxFLA, PALxFLA, FLUxPAL, VASxFLU, FLAxVAS, VASxPAL, CORxFLU, CORxVAS, FLAxFLU, CORxFLA]"
      ]
     },
     "metadata": {},
     "output_type": "display_data"
    }
   ],
   "source": [
    "times = ['FLA','FLU','COR','PAL','VAS']\n",
    "jogo = []\n",
    "for casa in times:\n",
    "    for advers in times:\n",
    "        if advers != casa:\n",
    "            jogo.append('{} x {}'.format(str(casa), str(advers)))\n",
    "import random\n",
    "random.shuffle(jogo)\n",
    "import pandas as pd\n",
    "tabela_ = pd.DataFrame(jogo)\n",
    "tabela_.columns = ['Tabela de Jogos']\n",
    "tabela = tabela_.set_index('Tabela de Jogos')\n",
    "display(tabela)"
   ]
  },
  {
   "cell_type": "markdown",
   "metadata": {},
   "source": [
    "## Isaac Higuchi"
   ]
  }
 ],
 "metadata": {
  "kernelspec": {
   "display_name": "Python 3",
   "language": "python",
   "name": "python3"
  },
  "language_info": {
   "codemirror_mode": {
    "name": "ipython",
    "version": 3
   },
   "file_extension": ".py",
   "mimetype": "text/x-python",
   "name": "python",
   "nbconvert_exporter": "python",
   "pygments_lexer": "ipython3",
   "version": "3.8.5"
  }
 },
 "nbformat": 4,
 "nbformat_minor": 4
}
