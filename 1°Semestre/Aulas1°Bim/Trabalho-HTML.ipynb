{
 "cells": [
  {
   "cell_type": "markdown",
   "metadata": {},
   "source": [
    "### Isaac Higuchi"
   ]
  },
  {
   "cell_type": "markdown",
   "metadata": {},
   "source": [
    "# HTML"
   ]
  },
  {
   "cell_type": "markdown",
   "metadata": {},
   "source": [
    "HTML é uma linguagem de marcação (é uma meio de anotar e organizar textos de uma forma distuinguível), não programação. É estruturado por tags que indicam ao interpretador (browser ou navegador) como as informações devem ser exibidas gráficamente. Toda tag é aberta (Ex: < html>) e fechada (Ex: < /html>), com obejivo estrutural da página."
   ]
  },
  {
   "cell_type": "markdown",
   "metadata": {},
   "source": [
    "## Tags\n",
    "As tags HTML são divididas em dois tipos: as que precisam de fechamento e as que não precisam de fechamento. As tags que precisam de fechamento possuem a sintaxe < tag> < /tag>, já as que não precisam de fechamento possuem como estrutura < tag/>. Além disso, uma mesma tag pode receber um ou mais atributos, que possuirá um valor que modifica sua estrutura ou funcionalidade.\n",
    "### Tag doctype\n",
    "Logo de cara todo arquivo html deve começar com a declaração que diz que este arquivo é do tipo html."
   ]
  },
  {
   "cell_type": "code",
   "execution_count": null,
   "metadata": {},
   "outputs": [],
   "source": [
    "<!DOCTYPE html>"
   ]
  },
  {
   "cell_type": "markdown",
   "metadata": {},
   "source": [
    "### Tag html\n",
    "A tag html é usada para indicar o início e o fim da marcação html."
   ]
  },
  {
   "cell_type": "code",
   "execution_count": null,
   "metadata": {},
   "outputs": [],
   "source": [
    "<html></html>"
   ]
  },
  {
   "cell_type": "markdown",
   "metadata": {},
   "source": [
    "### Tag head\n",
    "É a tag utilizada para indicar as informações que devem estar no cabeçalho da página."
   ]
  },
  {
   "cell_type": "code",
   "execution_count": null,
   "metadata": {},
   "outputs": [],
   "source": [
    "<head></head>"
   ]
  },
  {
   "cell_type": "markdown",
   "metadata": {},
   "source": [
    "### Tag title\n",
    "Utilizada para indicar o título da página."
   ]
  },
  {
   "cell_type": "code",
   "execution_count": null,
   "metadata": {},
   "outputs": [],
   "source": [
    "<title></title>"
   ]
  },
  {
   "cell_type": "markdown",
   "metadata": {},
   "source": [
    "### Tag body\n",
    "Indica ao interpretador onde começa e termina as informações que devem estar no corpo da página."
   ]
  },
  {
   "cell_type": "code",
   "execution_count": null,
   "metadata": {},
   "outputs": [],
   "source": [
    "<body></body>"
   ]
  },
  {
   "cell_type": "markdown",
   "metadata": {},
   "source": [
    "### Tags de formatação\n",
    "Algumas tags são mais simples e utilizadas para para indicar um título, parágrafo, colocar ênfase ou até um link. Mostrados repectivamente abaixo:"
   ]
  },
  {
   "cell_type": "code",
   "execution_count": null,
   "metadata": {},
   "outputs": [],
   "source": [
    "<h1></h1>\n",
    "<p></p>\n",
    "<b></b>\n",
    "<a></a>"
   ]
  },
  {
   "cell_type": "markdown",
   "metadata": {},
   "source": [
    "### Tag de Titulo\n",
    "Os cabeçalhos HTML são definidos com as tags < h1> para < h6>, < h1> define o título mais importante, < h6> define o título menos importante."
   ]
  },
  {
   "cell_type": "code",
   "execution_count": null,
   "metadata": {},
   "outputs": [],
   "source": [
    "<h1>Este é o título 1</h1>\n",
    "<h2>Este é o título 2</h2>\n",
    "<h3>Este é o título 3</h3>"
   ]
  },
  {
   "cell_type": "markdown",
   "metadata": {},
   "source": [
    "## Primeiros passos\n",
    "Qual quer um pode criar um arquivo html rapidamente, basta abrir um novo arquivo no bloco de notas respectivo a sua plataforma (sistema operacional) e aplicar algumas das funções mostradas anteriormente. \n",
    "Exemplo:"
   ]
  },
  {
   "cell_type": "code",
   "execution_count": null,
   "metadata": {},
   "outputs": [],
   "source": [
    "<!DOCTYPE html>\n",
    "<html>\n",
    "<head>\n",
    "<title>Minha primeira página html</title>\n",
    "</head>\n",
    "<body>\n",
    "\n",
    "<h1>Primeiro título</h1>\n",
    "<p><b>Primeiro parágrafo.</b></p>\n",
    "\n",
    "</body>\n",
    "</html>"
   ]
  },
  {
   "cell_type": "markdown",
   "metadata": {},
   "source": [
    "Depois basta salvar o arquivo com .htm ou .html e selecionar a codificação em UTF-8. Voce poderá testar abindo o arquivo com um navegador."
   ]
  },
  {
   "cell_type": "markdown",
   "metadata": {},
   "source": [
    "### Links HTML\n",
    "Os links HTML são definidos com a tag < a>."
   ]
  },
  {
   "cell_type": "code",
   "execution_count": null,
   "metadata": {},
   "outputs": [],
   "source": [
    "Exemplo <a href=\"https://www.w3schools.com\">Este é o Link</a>"
   ]
  },
  {
   "cell_type": "markdown",
   "metadata": {},
   "source": [
    "O destino do link é especificado no atributo href atributo. Os atributos são usados ​​para fornecer informações adicionais sobre os elementos HTML."
   ]
  },
  {
   "cell_type": "markdown",
   "metadata": {},
   "source": [
    "### Imagens HTML\n",
    "As imagens HTML são definidas com a tag < img>. O arquivo de origem ( src), o texto alternativo ( alt) width, e heightsão fornecidos como atributos."
   ]
  },
  {
   "cell_type": "code",
   "execution_count": null,
   "metadata": {},
   "outputs": [],
   "source": [
    "Exemplo <img src=\"https://encrypted-tbn0.gstatic.com/images?q=tbn:ANd9GcQGRNfC4GU6hjjvV063MsIg5DkkdEl8T0MFZR0OF-q4ajgBkB6F0LpIb7YvDA&s\" alt=\"neymarjr\" width=\"78\" height=\"140\">"
   ]
  },
  {
   "cell_type": "markdown",
   "metadata": {},
   "source": [
    "### Código-fonte\n",
    "Você pode visualizar a construção de qualquer página na web, basta clicar com o botão direito do mouse na página e clicar em \"Exibir código-fonte\",\"Inspecionar elemento\", pode simplesmente clicar F12 ou ctrl+U em seu teclado."
   ]
  },
  {
   "cell_type": "markdown",
   "metadata": {},
   "source": [
    "### Elementos HTML aninhados\n",
    "Os elementos HTML podem ser aninhados (isso significa que os elementos podem conter outros elementos).\n",
    "\n",
    "Todos os documentos HTML consistem em elementos HTML aninhados.\n",
    "\n",
    "O exemplo que se segue contém quatro elementos HTML ( < html>, < body>, < h1> e < p>): onde o elemento \"< html>< /html>\" contém o elemento \"< body>< /body>\" que contém outros dois elementos, o \"< h1>< /h1>\" e o \"< p>< /p>\"."
   ]
  },
  {
   "cell_type": "code",
   "execution_count": null,
   "metadata": {},
   "outputs": [],
   "source": [
    "<!DOCTYPE html>\n",
    "<html>\n",
    "<body>\n",
    "\n",
    "<h1>Meu primeiro título</h1>\n",
    "<p>Meu primeiro parágrafo.</p>\n",
    "\n",
    "</body>\n",
    "</html>"
   ]
  },
  {
   "cell_type": "markdown",
   "metadata": {},
   "source": [
    "### Tag de fechamento\n",
    "Alguns elementos HTML serão exibidos corretamente, mesmo se você esquecer a tag final. Porém você não pode confiar totalmente nisso podem gerar erros ou resultados indesejáveis."
   ]
  },
  {
   "cell_type": "code",
   "execution_count": null,
   "metadata": {},
   "outputs": [],
   "source": [
    "<html>\n",
    "<body>\n",
    "\n",
    "<p>Isto é um parágrafo\n",
    "<p>Isto é um parágrafo\n",
    "\n",
    "</body>\n",
    "</html>"
   ]
  },
  {
   "cell_type": "markdown",
   "metadata": {},
   "source": [
    "### Elementos HTML vazios\n",
    "Os elementos HTML sem conteúdo são chamados de elementos vazios.\n",
    "A tag < br> define uma quebra de linha e é um elemento vazio sem uma tag de fechamento:"
   ]
  },
  {
   "cell_type": "code",
   "execution_count": null,
   "metadata": {},
   "outputs": [],
   "source": [
    "Exemplo: <p>Este é um <br> parágrafo com uma quebra de linha.</p>"
   ]
  },
  {
   "cell_type": "markdown",
   "metadata": {},
   "source": [
    "#### HTML não diferencia maiúsculas de minúsculas\n",
    "As tags HTML não diferenciam maiúsculas de minúsculas: < P> significa o mesmo que < p>.\n",
    "O padrão HTML não requer tags em minúsculas, mas o site W3schools recomenda minúsculas em HTML."
   ]
  },
  {
   "cell_type": "markdown",
   "metadata": {},
   "source": [
    "## Atributos HTML\n",
    "Todos os elementos HTML podem ter atributos, os atributos fornecem informações adicionais sobre os elementos e são sempre especificados na tag inicial."
   ]
  },
  {
   "cell_type": "markdown",
   "metadata": {},
   "source": [
    "### Atributo href\n",
    "O < href> é um atributo de < a> que especifica o URL da página para a qual o link vai."
   ]
  },
  {
   "cell_type": "code",
   "execution_count": null,
   "metadata": {},
   "outputs": [],
   "source": [
    "Exemplo:\n",
    "<a href=\"https://www.w3schools.com\">Visite o W3Schools</a>"
   ]
  },
  {
   "cell_type": "markdown",
   "metadata": {},
   "source": [
    "### Atributo src\n",
    "O < src> é um atributo de < img> que especifica o caminho para a imagem a ser exibida. Existem duas maneiras de especificar o URL no src atributo:\n",
    "\n",
    "1°- URL absoluto - Links para uma imagem externa hospedada em outro site. Exemplo: src = \"https://www.w3schools.com/images/img_girl.jpg\".\n",
    "\n",
    "Observações: as imagens externas podem estar protegidas por direitos autorais. Se você não obtiver permissão para usá-lo, pode estar violando as leis de direitos autorais. Além disso, você não pode controlar imagens externas; ele pode ser removido ou alterado repentinamente.\n",
    "\n",
    "2°- URL relativo - Links para uma imagem hospedada no site. Neste, o URL não inclui o nome do domínio. Se o URL começar sem barra, ele será relativo à página atual. Exemplo: src = \"img_girl.jpg\". Se o URL começar com uma barra, será relativo ao domínio. Exemplo: src = \"/ images / img_girl.jpg\".\n",
    "\n",
    "Dica: quase sempre é melhor usar URLs relativos. Eles não irão quebrar se você mudar de domínio."
   ]
  },
  {
   "cell_type": "code",
   "execution_count": null,
   "metadata": {},
   "outputs": [],
   "source": [
    "Exemplo:\n",
    "<img src=\"img_girl.jpg\">"
   ]
  },
  {
   "cell_type": "markdown",
   "metadata": {},
   "source": [
    "### Os atributos width e height\n",
    "Os atributos < width> e < height> (largura e altura) são atributos de < img> que fornecem informações sobre o tamanho das imagens."
   ]
  },
  {
   "cell_type": "code",
   "execution_count": null,
   "metadata": {},
   "outputs": [],
   "source": [
    "<img src=\"img_girl.jpg\" width=\"500\" height=\"600\">"
   ]
  },
  {
   "cell_type": "markdown",
   "metadata": {},
   "source": [
    "### Atributo alt\n",
    "O < alt> é um atributo de < img> que fornece um texto alternativo para uma imagem."
   ]
  },
  {
   "cell_type": "code",
   "execution_count": null,
   "metadata": {},
   "outputs": [],
   "source": [
    "<img src=\"img_girl.jpg\" alt=\"Girl with a jacket\">"
   ]
  },
  {
   "cell_type": "markdown",
   "metadata": {},
   "source": [
    "### Atributo style\n",
    "O atributo < style> é usado para adicionar estilos a um elemento, como: cor, fonte, tamanho e muito mais."
   ]
  },
  {
   "cell_type": "code",
   "execution_count": null,
   "metadata": {},
   "outputs": [],
   "source": [
    "<p style=\"color:red;\">Esse é um parágrafo vermelho.</p>"
   ]
  },
  {
   "cell_type": "markdown",
   "metadata": {},
   "source": [
    "### Atributo lang\n",
    "O atributo < lang> da tag < html> declara o idioma da página da web. Podendo além de especificar o idioma, especificar o país de origem. Por exemplo:"
   ]
  },
  {
   "cell_type": "code",
   "execution_count": null,
   "metadata": {},
   "outputs": [],
   "source": [
    "<!DOCTYPE html>\n",
    "<html lang=\"en-US\">\n",
    "<body>\n",
    "...\n",
    "</body>\n",
    "</html>"
   ]
  },
  {
   "cell_type": "markdown",
   "metadata": {},
   "source": [
    "### Atributo title\n",
    "O atributo < title> define algumas informações extras sobre um elemento. O valor do atributo title será exibido como uma dica de ferramenta quando você passar o mouse sobre o elemento:"
   ]
  },
  {
   "cell_type": "code",
   "execution_count": null,
   "metadata": {},
   "outputs": [],
   "source": [
    "Exemplo:\n",
    "<p title=\"dica*\">Isto é um parágrafo.</p>"
   ]
  },
  {
   "cell_type": "markdown",
   "metadata": {},
   "source": [
    "#### Aspas simples ou duplas?\n",
    "Aspas duplas em torno dos valores de atributos são as mais comuns em HTML, mas também podem ser usadas aspas simples.\n",
    "Em algumas situações, quando o próprio valor do atributo contém aspas duplas, é necessário usar aspas simples:"
   ]
  },
  {
   "cell_type": "code",
   "execution_count": null,
   "metadata": {},
   "outputs": [],
   "source": [
    "<p title='Dwayne \"The Rock\" Jhonson'>\n",
    "Ou vice-versa:\n",
    "<p title=\"Dwayne 'The Rock' Jhonson\">"
   ]
  },
  {
   "cell_type": "markdown",
   "metadata": {},
   "source": [
    "### Display HTML\n",
    "Você não pode ter certeza de como o HTML será exibido. Telas grandes ou pequenas e janelas redimensionadas criarão resultados diferentes.\n",
    "Com HTML, você não pode alterar a exibição adicionando espaços extras ou linhas extras em seu código HTML. O navegador removerá automaticamente quaisquer espaços e linhas extras quando a página for exibida:"
   ]
  },
  {
   "cell_type": "markdown",
   "metadata": {},
   "source": [
    "### Regras horizontais de HTML\n",
    "A < hr>tag define uma quebra temática em uma página HTML e geralmente é exibida como uma régua horizontal (é como uma linha grossa). O < hr>elemento é usado para separar o conteúdo (ou definir uma mudança) em uma página HTML."
   ]
  },
  {
   "cell_type": "markdown",
   "metadata": {},
   "source": [
    "## O problema do poema\n",
    "Já que o html ignora os espaços extras o poema será exibido em uma única linha.\n",
    "### Solução - O elemento HTML < pre>\n",
    "O elemento < pre> HTML define o texto pré-formatado.\n",
    "\n",
    "O texto dentro de um < pre> é exibido em uma fonte de largura fixa (geralmente Courier) e preserva espaços e quebras de linha:"
   ]
  },
  {
   "cell_type": "code",
   "execution_count": null,
   "metadata": {},
   "outputs": [],
   "source": [
    "<pre>\n",
    "   Minha terra tem palmeiras,\n",
    "   \n",
    "   Onde canta o sabiá;\n",
    "   \n",
    "   As aves, que aqui gorjeiam,\n",
    "   \n",
    "   Não gorjeiam como lá.\n",
    "</pre>"
   ]
  },
  {
   "cell_type": "markdown",
   "metadata": {},
   "source": [
    "## Tabela HTML\n",
    "Use o elemento < table> HTML para definir uma tabela;\n",
    "Cada linha da tabela é definida com uma tag < tr>. Cada cabeçalho da tabela é definido com uma tag < th>. Cada dado ou célula da tabela é definido com uma tag < td>.\n",
    "\n",
    "Por padrão, o texto nos elementos < th> está em negrito e centralizado.\n",
    "\n",
    "Por padrão, o texto nos elementos < td> é regular e alinhado à esquerda."
   ]
  },
  {
   "cell_type": "code",
   "execution_count": null,
   "metadata": {},
   "outputs": [],
   "source": [
    "<table style=\"width:100%\">\n",
    "  <tr>\n",
    "    <th>Nome</th>\n",
    "    <th>Sobrenome</th>\n",
    "    <th>Idade</th>\n",
    "  </tr>\n",
    "  <tr>\n",
    "    <td>Jill</td>\n",
    "    <td>Smith</td>\n",
    "    <td>50</td>\n",
    "  </tr>\n",
    "  <tr>\n",
    "    <td>Eve</td>\n",
    "    <td>Jackson</td>\n",
    "    <td>94</td>\n",
    "  </tr>\n",
    "</table>"
   ]
  },
  {
   "cell_type": "markdown",
   "metadata": {},
   "source": [
    "### Adicionar uma borda (grossa II)\n",
    "Para adicionar uma borda a uma tabela, use a propriedade < border> CSS:"
   ]
  },
  {
   "cell_type": "code",
   "execution_count": null,
   "metadata": {},
   "outputs": [],
   "source": [
    "table, th, td {\n",
    "  border: 1px solid black;\n",
    "}"
   ]
  },
  {
   "cell_type": "markdown",
   "metadata": {},
   "source": [
    "### Afinar a borda (Fina I)\n",
    "Para permitir que as bordas (||) se contraiam em uma borda (|), propriedade < adicione a border-collapse> CSS:"
   ]
  },
  {
   "cell_type": "code",
   "execution_count": null,
   "metadata": {},
   "outputs": [],
   "source": [
    "table, th, td {\n",
    "  border: 1px solid black;\n",
    "  border-collapse: collapse;\n",
    "}"
   ]
  },
  {
   "cell_type": "markdown",
   "metadata": {},
   "source": [
    "### Adicionar preenchimento de célula\n",
    "O preenchimento da célula específica, o espaço entre o conteúdo da célula e suas bordas. Se você não especificar um preenchimento, as células da tabela serão exibidas sem preenchimento. Para definir o preenchimento, use a propriedade < padding> CSS:"
   ]
  },
  {
   "cell_type": "code",
   "execution_count": null,
   "metadata": {},
   "outputs": [],
   "source": [
    "th, td {\n",
    "  padding: 15px;\n",
    "}"
   ]
  },
  {
   "cell_type": "markdown",
   "metadata": {},
   "source": [
    "### Títulos alinhados à esquerda\n",
    "Por padrão, os títulos das tabelas estão em negrito e centralizados. Para alinhar à esquerda os títulos da tabela, use a propriedade < text-align> CSS:"
   ]
  },
  {
   "cell_type": "code",
   "execution_count": null,
   "metadata": {},
   "outputs": [],
   "source": [
    "th {\n",
    "  text-align: left;\n",
    "}"
   ]
  },
  {
   "cell_type": "markdown",
   "metadata": {},
   "source": [
    "### Adicionar espaçamento de borda\n",
    "O espaçamento da borda específica, o espaço entre as células. Para definir o espaçamento da borda de uma tabela, use a propriedade < border-spacing> CSS:\n"
   ]
  },
  {
   "cell_type": "code",
   "execution_count": null,
   "metadata": {},
   "outputs": [],
   "source": [
    "table {\n",
    "  border-spacing: 5px;\n",
    "}"
   ]
  },
  {
   "cell_type": "markdown",
   "metadata": {},
   "source": [
    "### Célula que abrange muitas colunas\n",
    "Para fazer uma célula ocupar mais de uma coluna diferente (como o mesclar células do Excel), use o atributo < colspan>:"
   ]
  },
  {
   "cell_type": "code",
   "execution_count": null,
   "metadata": {},
   "outputs": [],
   "source": [
    "Exemplo:\n",
    "<table style=\"width:100%\">\n",
    "  <tr>\n",
    "    <th>Name</th>\n",
    "    <th colspan=\"2\">Telephone</th>\n",
    "  </tr>\n",
    "  <tr>\n",
    "    <td>Bill Gates</td>\n",
    "    <td>55577854</td>\n",
    "    <td>55577855</td>\n",
    "  </tr>\n",
    "</table>"
   ]
  },
  {
   "cell_type": "markdown",
   "metadata": {},
   "source": [
    "### Célula que abrange muitas linhas\n",
    "Para fazer uma célula ocupar mais de uma linha diferente (mesclando células como no Excel), use o atributo < rowspan>:"
   ]
  },
  {
   "cell_type": "code",
   "execution_count": null,
   "metadata": {},
   "outputs": [],
   "source": [
    "<table style=\"width:100%\">\n",
    "  <tr>\n",
    "    <th>Name:</th>\n",
    "    <td>Bill Gates</td>\n",
    "  </tr>\n",
    "  <tr>\n",
    "    <th rowspan=\"2\">Telephone:</th>\n",
    "    <td>55577854</td>\n",
    "  </tr>\n",
    "  <tr>\n",
    "    <td>55577855</td>\n",
    "  </tr>\n",
    "</table>"
   ]
  },
  {
   "cell_type": "markdown",
   "metadata": {},
   "source": [
    "### Adicionar uma legenda\n",
    "Para adicionar uma legenda a uma tabela, use a tag < caption>:"
   ]
  },
  {
   "cell_type": "code",
   "execution_count": null,
   "metadata": {},
   "outputs": [],
   "source": [
    "Exemplo: \n",
    "    <table style=\"width:100%\">\n",
    "  <caption>Monthly savings</caption>\n",
    "  <tr>\n",
    "    <th>Month</th>\n",
    "    <th>Savings</th>\n",
    "  </tr>\n",
    "  <tr>\n",
    "    <td>January</td>\n",
    "    <td>$100</td>\n",
    "  </tr>\n",
    "  <tr>\n",
    "    <td>February</td>\n",
    "    <td>$50</td>\n",
    "  </tr>\n",
    "</table>"
   ]
  },
  {
   "cell_type": "markdown",
   "metadata": {},
   "source": [
    "### Um estilo especial para uma mesa\n",
    "Para definir um estilo especial para uma tabela específica, adicione um atributo < id> à tabela:"
   ]
  },
  {
   "cell_type": "code",
   "execution_count": null,
   "metadata": {},
   "outputs": [],
   "source": [
    "Exemplo:\n",
    "<table id=\"t01\">\n",
    "  <tr>\n",
    "    <th>Firstname</th>\n",
    "    <th>Lastname</th>\n",
    "    <th>Age</th>\n",
    "  </tr>\n",
    "  <tr>\n",
    "    <td>Eve</td>\n",
    "    <td>Jackson</td>\n",
    "    <td>94</td>\n",
    "  </tr>\n",
    "</table>"
   ]
  },
  {
   "cell_type": "markdown",
   "metadata": {},
   "source": [
    "Você dará uma identidade para a tabela e poderá se referir a ela quando quiser definir um estilo:"
   ]
  },
  {
   "cell_type": "code",
   "execution_count": null,
   "metadata": {},
   "outputs": [],
   "source": [
    "Exemplo:\n",
    "#t01 {\n",
    "  width: 100%;\n",
    "  background-color: #f1f1c1;\n",
    "}"
   ]
  },
  {
   "cell_type": "markdown",
   "metadata": {},
   "source": [
    "# Resumo\n",
    "O html não é uma linguagem de programação, mas é bem parecida. Ela em sua versão mais atualizada (HTML5) é a linguagem mais utilizada, sendo considerada ideal, para criação de sites e páginas na web. Hoje existem muitas ferramentas que criam a parte de códigos oferecendo ao usuário uma interface gráfica em tempo real, ou seja, facilitam a criação de sites dando acessibilidade aos que não possuem experiência com a linguagem."
   ]
  },
  {
   "cell_type": "markdown",
   "metadata": {},
   "source": [
    "#### Isaac Higuchi"
   ]
  }
 ],
 "metadata": {
  "kernelspec": {
   "display_name": "Python 3",
   "language": "python",
   "name": "python3"
  },
  "language_info": {
   "codemirror_mode": {
    "name": "ipython",
    "version": 3
   },
   "file_extension": ".py",
   "mimetype": "text/x-python",
   "name": "python",
   "nbconvert_exporter": "python",
   "pygments_lexer": "ipython3",
   "version": "3.8.5"
  }
 },
 "nbformat": 4,
 "nbformat_minor": 4
}
