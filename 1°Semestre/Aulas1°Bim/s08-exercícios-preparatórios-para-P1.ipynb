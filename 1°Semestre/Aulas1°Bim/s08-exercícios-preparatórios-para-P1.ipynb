{
 "cells": [
  {
   "cell_type": "markdown",
   "metadata": {},
   "source": [
    "# Exercícios de Consolidação de Entendimento\n",
    "### Isaac Higuchi\n"
   ]
  },
  {
   "cell_type": "markdown",
   "metadata": {},
   "source": [
    "### Semana 08"
   ]
  },
  {
   "cell_type": "markdown",
   "metadata": {},
   "source": [
    "# Conceituais"
   ]
  },
  {
   "cell_type": "markdown",
   "metadata": {},
   "source": [
    "Utilize sempre as suas palavras nas explicações a seguir."
   ]
  },
  {
   "cell_type": "markdown",
   "metadata": {},
   "source": [
    "**01)** Quais são os principais componentes de um computador?"
   ]
  },
  {
   "cell_type": "markdown",
   "metadata": {},
   "source": [
    "Os principais componentes de um computador são fonte de alimentação, placa mãe, processador, memória RAM, armazenamento (hd ou ssd) e placa gráfica (pode ser integrada ao processador se tornando uma APU)."
   ]
  },
  {
   "cell_type": "markdown",
   "metadata": {},
   "source": [
    "**02)** Para que existem os Sistemas Operacionais? Cite exemplos."
   ]
  },
  {
   "cell_type": "markdown",
   "metadata": {},
   "source": [
    "Os SOs servem para iterpretar os processos computacionais exibindo uma interface gráfica ao usuário."
   ]
  },
  {
   "cell_type": "markdown",
   "metadata": {},
   "source": [
    "**03)** O que são linguagens de programação? Quais são as vantagens do Python em relação a alguma outra linguagem de programação de sua escolha?"
   ]
  },
  {
   "cell_type": "markdown",
   "metadata": {},
   "source": [
    "As linguagens de programação são padronizações de comandos feitos pelo usuário. As vantagens que vejo são: a legibilidade e a utilização de bibliotecas que diminuem os codigos à serem digitados."
   ]
  },
  {
   "cell_type": "markdown",
   "metadata": {},
   "source": [
    "**04)** Faria sentido ter uma linguagem de programação que não utilizasse variáveis? Por quê?"
   ]
  },
  {
   "cell_type": "markdown",
   "metadata": {},
   "source": [
    "Não, porque as variáveis podem economizar muitas linhas de código e tem o poder de deixar o código mais legível."
   ]
  },
  {
   "cell_type": "markdown",
   "metadata": {},
   "source": [
    "**05)** O que são bibliotecas no contexto de linguagens de programação?"
   ]
  },
  {
   "cell_type": "markdown",
   "metadata": {},
   "source": [
    "As bibliotecas são como variáveis, elas armazenam códigos, diminuindo as linhas de código que seriam utilizadas."
   ]
  },
  {
   "cell_type": "markdown",
   "metadata": {},
   "source": [
    "**06)** O que são bibliotecas no contexto de linguagens de programação?"
   ]
  },
  {
   "cell_type": "markdown",
   "metadata": {},
   "source": [
    "IGUAL A PERGUTA ACIMA"
   ]
  },
  {
   "cell_type": "markdown",
   "metadata": {},
   "source": [
    "**07)** Diferencie as situações em que é mais vantajoso utilizar laços `para` e, laços `enquanto`."
   ]
  },
  {
   "cell_type": "markdown",
   "metadata": {},
   "source": [
    "O laço `for` é mais vantajoso para situações gerais onde você precisa fazer algo com muitas repetições. Já o laço `while` é melhor quando precisar de algo específico, o item de um item de uma lista, por exemplo. Mas os dois são muito parecidos no uso."
   ]
  },
  {
   "cell_type": "markdown",
   "metadata": {},
   "source": [
    "**08)** Explique como funcionam o comando de seleção `if` no Python. Inclua em sua explicação, o funcionamento do `else` e do  `elif`."
   ]
  },
  {
   "cell_type": "markdown",
   "metadata": {},
   "source": [
    "O comando `if` serve para criar uma condição, \"se tal coisa acontece, faça isso\", o `elif` serve para criar mais de uma condição, e o else serve para complementar o `if` dizendo: \"se tal coisa não aontecer faça isto\"."
   ]
  },
  {
   "cell_type": "markdown",
   "metadata": {},
   "source": [
    "# Lógica de Programação"
   ]
  },
  {
   "cell_type": "markdown",
   "metadata": {},
   "source": [
    "**09)** Refaça todos os exercícios da semana $06$ com o laço `enquanto` ao invés do `for` como originalmente proposto."
   ]
  },
  {
   "cell_type": "markdown",
   "metadata": {},
   "source": [
    "**10)** Refaça todos os exercícios da semana $07$ com o laço `enquanto` ao invés do `for` como originalmente proposto."
   ]
  },
  {
   "cell_type": "markdown",
   "metadata": {},
   "source": [
    "**11)** Explique o que acontece quando executamos o código a seguir?"
   ]
  },
  {
   "cell_type": "code",
   "execution_count": null,
   "metadata": {},
   "outputs": [],
   "source": [
    "i = 0\n",
    "while (True):\n",
    "    i += 1\n",
    "    print(i)"
   ]
  },
  {
   "cell_type": "markdown",
   "metadata": {},
   "source": [
    "Quando executamos o código acima ele nos dará números do 1 ao infinito positivo `([1,∞+[)`. Porque o código diz i é igual a zero, enquanto for verdade, some i+1. "
   ]
  },
  {
   "cell_type": "markdown",
   "metadata": {},
   "source": [
    "**12)** Crie um programa que imprima a tabuada de 1 a 10 com o laço `while` e o `for`."
   ]
  },
  {
   "cell_type": "code",
   "execution_count": 44,
   "metadata": {},
   "outputs": [
    {
     "name": "stdout",
     "output_type": "stream",
     "text": [
      "1 x 1 = 1\n",
      "1 x 2 = 2\n",
      "1 x 3 = 3\n",
      "1 x 4 = 4\n",
      "1 x 5 = 5\n",
      "1 x 6 = 6\n",
      "1 x 7 = 7\n",
      "1 x 8 = 8\n",
      "1 x 9 = 9\n",
      "1 x 10 = 10\n"
     ]
    }
   ],
   "source": [
    "m=1\n",
    "for n in range(1,11):\n",
    "    while (m<=10):\n",
    "        r = n * m\n",
    "        print(n, 'x', m, '=', r)\n",
    "        m += 1"
   ]
  },
  {
   "cell_type": "markdown",
   "metadata": {},
   "source": [
    "**13**) Escreva um programa que liste todos os divisores de um número $n$ informado pelo usuário. O programa deve informar se o número for primo, caso não haja divisores."
   ]
  },
  {
   "cell_type": "code",
   "execution_count": 81,
   "metadata": {},
   "outputs": [
    {
     "name": "stdout",
     "output_type": "stream",
     "text": [
      "Digite um número: 9\n",
      "1\n",
      "3\n",
      "9\n",
      "O número 9 foi divisível 3 vezes. Logo ele não é primo.\n"
     ]
    }
   ],
   "source": [
    "num=int(input('Digite um número: '))\n",
    "div=0\n",
    "for i in range(1,num+1):\n",
    "    if num%i==0:\n",
    "        print(i)\n",
    "        div+=1        \n",
    "print(f'O número {num} foi divisível {div} vezes.', end='')\n",
    "if div==2:\n",
    "    print(' Logo ele é primo.')\n",
    "else:\n",
    "    print(' Logo ele não é primo.')"
   ]
  },
  {
   "cell_type": "markdown",
   "metadata": {},
   "source": [
    "**14**) Suponha que no ano $N$ a população americana seja maior que a brasileira. Sabendo-se que os Estados Unidos possuem um crescimento anual de $2%$ na sua população e que o Brasil tem crescimento anual de $4%$, determinar o ano em que as duas populações serão iguais (em quantidade)."
   ]
  },
  {
   "cell_type": "code",
   "execution_count": 114,
   "metadata": {
    "scrolled": false
   },
   "outputs": [
    {
     "name": "stdout",
     "output_type": "stream",
     "text": [
      "ANO = 2035, EUA = 41, BR = 41\n"
     ]
    }
   ],
   "source": [
    "n=2000\n",
    "eua=20\n",
    "br=10\n",
    "while br<=eua:\n",
    "    br*=1.04\n",
    "    eua*=1.02\n",
    "    if (round(br)==round(eua)):\n",
    "        print(f'ANO = {n}, EUA = {round(eua)}, BR = {round(br)}')\n",
    "        break\n",
    "    n+=1"
   ]
  },
  {
   "cell_type": "markdown",
   "metadata": {},
   "source": [
    "**15)** O departamento de marketing da Educ está com o problema de calcular o ponto de equilíbrio para qualquer livro que se propõe a publicar. Isso é, deve estabelecer o preço de venda que cobre os custos de produção. Os custos de produção consistem em um custo fixo mais um custo de cópia que depende do número de cópias produzidas e do número de páginas do livro:\n",
    "\n",
    "$$\n",
    "custo\\_produção = custo\\_fixo + (n\\_cópias) * (n\\_páginas) * 0,031\n",
    "$$\n",
    "\n",
    "Para cada livro que se pretende publicar é feita uma pesquisa de campo para determinar o número provável de vendas. Esse número é utilizado como o número de cópias. Em seguida, é organizada uma lista dos livros que se pretende publicar contendo as seguintes informações: número de identificação do livro, previsão de vendas, custo fixo e número de páginas.\n",
    "\n",
    "Desenvolva um algoritmo que, a partir dos dados dessa lista, emita um relatório contendo o número de identificação do livro, as vendas previstas e o preço de venda do livro que cobre os custos de produção, com 80% de margem de lucro."
   ]
  },
  {
   "cell_type": "markdown",
   "metadata": {},
   "source": [
    "> Atenção: Para resolver o exercício, você não precisa entender o código da célula a seguir. Para obter uma lista de livros gerada aleatoriamente, baseie-se apenas no exemplo de Uso 2, ao final deste caderno."
   ]
  },
  {
   "cell_type": "code",
   "execution_count": null,
   "metadata": {},
   "outputs": [],
   "source": [
    "from random import random, randint\n",
    "def obter_dados_pesq_campo(n_livros):\n",
    "    \"\"\"\n",
    "    Isto é uma função. Ela gera dados aleatoriamente para tornar o exercício mais realista. Esta função retorna, \n",
    "    um conjunto de dados que deve ser utilizado para produzir o relatório solicitado no enunciado. Este conjunto \n",
    "    de dados é formado por várias listas com o seguinte formato: \n",
    "\n",
    "    [n_identificação_livro, n_vendas_prováveis, custo_fixo, n_páginas]\n",
    "\n",
    "    Para usar a função basta chamá-la (escrever) da seguinte forma:\n",
    "\n",
    "    obter_dados_pesq_campo(100)\n",
    "\n",
    "    Neste caso, a função retorna uma lista contendo 100 listas menores, com cada uma representando um livro diferente.\n",
    "    Para guardar os resultados da lista em uma variável, utilize:\n",
    "\n",
    "    lista = obter_dados_pesq_campo(100)\n",
    "\n",
    "    Confira o exemplo logo após a declaração da função.\n",
    "    \"\"\"\n",
    "    livros = []\n",
    "    for id in range(1,n_livros+1):\n",
    "        n_vendas_proba = randint(10e2, 10e4) # número de vendas provável aleatório\n",
    "        custo_fixo = random() * 10e3 # Custo fixo do livro aleatório\n",
    "        n_páginas = randint(50, 900) # número de páginas do livro aleatório\n",
    "        livros.append([id, n_vendas_proba, custo_fixo, n_páginas])\n",
    "    return livros"
   ]
  },
  {
   "cell_type": "code",
   "execution_count": 2,
   "metadata": {},
   "outputs": [
    {
     "ename": "NameError",
     "evalue": "name 'obter_dados_pesq_campo' is not defined",
     "output_type": "error",
     "traceback": [
      "\u001b[1;31m---------------------------------------------------------------------------\u001b[0m",
      "\u001b[1;31mNameError\u001b[0m                                 Traceback (most recent call last)",
      "\u001b[1;32m<ipython-input-2-ec3d82917b13>\u001b[0m in \u001b[0;36m<module>\u001b[1;34m\u001b[0m\n\u001b[0;32m      2\u001b[0m \u001b[1;31m# Chamada de função que não armazena os valores na lista\u001b[0m\u001b[1;33m\u001b[0m\u001b[1;33m\u001b[0m\u001b[1;33m\u001b[0m\u001b[0m\n\u001b[0;32m      3\u001b[0m \u001b[1;31m# Observe que embora se retorne uma lista, os valores não são armazenados em uma variável\u001b[0m\u001b[1;33m\u001b[0m\u001b[1;33m\u001b[0m\u001b[1;33m\u001b[0m\u001b[0m\n\u001b[1;32m----> 4\u001b[1;33m \u001b[0mobter_dados_pesq_campo\u001b[0m\u001b[1;33m(\u001b[0m\u001b[1;36m5\u001b[0m\u001b[1;33m)\u001b[0m\u001b[1;33m\u001b[0m\u001b[1;33m\u001b[0m\u001b[0m\n\u001b[0m",
      "\u001b[1;31mNameError\u001b[0m: name 'obter_dados_pesq_campo' is not defined"
     ]
    }
   ],
   "source": [
    "# Exemplo de uso 1\n",
    "# Chamada de função que não armazena os valores na lista\n",
    "# Observe que embora se retorne uma lista, os valores não são armazenados em uma variável\n",
    "obter_dados_pesq_campo(5)"
   ]
  },
  {
   "cell_type": "code",
   "execution_count": 1,
   "metadata": {},
   "outputs": [
    {
     "ename": "NameError",
     "evalue": "name 'obter_dados_pesq_campo' is not defined",
     "output_type": "error",
     "traceback": [
      "\u001b[1;31m---------------------------------------------------------------------------\u001b[0m",
      "\u001b[1;31mNameError\u001b[0m                                 Traceback (most recent call last)",
      "\u001b[1;32m<ipython-input-1-48bae153509d>\u001b[0m in \u001b[0;36m<module>\u001b[1;34m\u001b[0m\n\u001b[0;32m      1\u001b[0m \u001b[1;31m# Exemplo de uso 2\u001b[0m\u001b[1;33m\u001b[0m\u001b[1;33m\u001b[0m\u001b[1;33m\u001b[0m\u001b[0m\n\u001b[0;32m      2\u001b[0m \u001b[1;31m# Chamada de função com armazenamento dos valores em uma variável\u001b[0m\u001b[1;33m\u001b[0m\u001b[1;33m\u001b[0m\u001b[1;33m\u001b[0m\u001b[0m\n\u001b[1;32m----> 3\u001b[1;33m \u001b[0mlivros\u001b[0m \u001b[1;33m=\u001b[0m \u001b[0mobter_dados_pesq_campo\u001b[0m\u001b[1;33m(\u001b[0m\u001b[1;36m5\u001b[0m\u001b[1;33m)\u001b[0m\u001b[1;33m\u001b[0m\u001b[1;33m\u001b[0m\u001b[0m\n\u001b[0m\u001b[0;32m      4\u001b[0m \u001b[0mlivros\u001b[0m\u001b[1;33m\u001b[0m\u001b[1;33m\u001b[0m\u001b[0m\n",
      "\u001b[1;31mNameError\u001b[0m: name 'obter_dados_pesq_campo' is not defined"
     ]
    }
   ],
   "source": [
    "# Exemplo de uso 2\n",
    "# Chamada de função com armazenamento dos valores em uma variável\n",
    "livros = obter_dados_pesq_campo(5)\n",
    "livros"
   ]
  },
  {
   "cell_type": "code",
   "execution_count": null,
   "metadata": {},
   "outputs": [],
   "source": [
    "n_livros = 10\n",
    "livros = livros = obter_dados_pesq_campo(n_livros)\n",
    "\n",
    "# Seu código aqui (while)"
   ]
  }
 ],
 "metadata": {
  "kernelspec": {
   "display_name": "Python 3",
   "language": "python",
   "name": "python3"
  },
  "language_info": {
   "codemirror_mode": {
    "name": "ipython",
    "version": 3
   },
   "file_extension": ".py",
   "mimetype": "text/x-python",
   "name": "python",
   "nbconvert_exporter": "python",
   "pygments_lexer": "ipython3",
   "version": "3.8.5"
  }
 },
 "nbformat": 4,
 "nbformat_minor": 4
}
