{
 "cells": [
  {
   "cell_type": "code",
   "execution_count": 1,
   "metadata": {},
   "outputs": [
    {
     "name": "stdout",
     "output_type": "stream",
     "text": [
      "Entre com um valor:5.6\n",
      "Entre com outro valor:4.5\n",
      "O maior é:5.6\n"
     ]
    }
   ],
   "source": [
    "#x=float(input('Entre com um valor:'))\n",
    "#y=float(input('Entre com outro valor:'))\n",
    "#z=float(input('Entre com o último valor valor:'))\n",
    "x,y,z=2,20,10\n",
    "if(x<=z<=y):\n",
    "    seqcres=(x,z,y)\n",
    "elif(x<=y<=z):\n",
    "    seqcres=(x,y,z)\n",
    "elif(y<=x<=z):\n",
    "    seqcres=(y,x,z)\n",
    "elif(y<=z<=x):\n",
    "    seqcres=(y,z,x)\n",
    "elif(z<=x<=y):\n",
    "    seqcres=(z,x,y)\n",
    "else:\n",
    "    seqcres=(z,y,x)\n",
    "print('A sequência crescente é {}'.format(seqcres))"
   ]
  },
  {
   "cell_type": "code",
   "execution_count": 19,
   "metadata": {},
   "outputs": [
    {
     "name": "stdout",
     "output_type": "stream",
     "text": [
      "A sequência crescente é (2, 10, 20)\n"
     ]
    }
   ],
   "source": [
    "#x=float(input('Entre com um valor:'))\n",
    "#y=float(input('Entre com outro valor:'))\n",
    "#z=float(input('Entre com o último valor valor:'))\n",
    "x,y,z=2,20,10\n",
    "if(x<=z<=y):\n",
    "    seqcres=(x,z,y)\n",
    "elif(x<=y<=z):\n",
    "    seqcres=(x,y,z)\n",
    "elif(y<=x<=z):\n",
    "    seqcres=(y,x,z)\n",
    "elif(y<=z<=x):\n",
    "    seqcres=(y,z,x)\n",
    "elif(z<=x<=y):\n",
    "    seqcres=(z,x,y)\n",
    "else:\n",
    "    seqcres=(z,y,x)\n",
    "print('A sequência crescente é {}'.format(seqcres))"
   ]
  },
  {
   "cell_type": "code",
   "execution_count": 33,
   "metadata": {},
   "outputs": [
    {
     "name": "stdout",
     "output_type": "stream",
     "text": [
      "10\t\t2.302585092994046\t\t23.02585092994046\t\t100\t\t1024\n",
      "20\t\t2.995732273553991\t\t59.914645471079815\t\t400\t\t1048576\n",
      "30\t\t3.4011973816621555\t\t102.03592144986466\t\t900\t\t1073741824\n",
      "40\t\t3.6888794541139363\t\t147.55517816455745\t\t1600\t\t1099511627776\n",
      "50\t\t3.912023005428146\t\t195.6011502714073\t\t2500\t\t1125899906842624\n",
      "60\t\t4.0943445622221\t\t245.66067373332604\t\t3600\t\t1152921504606846976\n",
      "70\t\t4.248495242049359\t\t297.39466694345515\t\t4900\t\t1180591620717411303424\n",
      "80\t\t4.382026634673881\t\t350.5621307739105\t\t6400\t\t1208925819614629174706176\n",
      "90\t\t4.499809670330265\t\t404.9828703297238\t\t8100\t\t1237940039285380274899124224\n",
      "100\t\t4.605170185988092\t\t460.51701859880916\t\t10000\t\t1267650600228229401496703205376\n",
      "110\t\t4.700480365792417\t\t517.0528402371658\t\t12100\t\t1298074214633706907132624082305024\n",
      "120\t\t4.787491742782046\t\t574.4990091338454\t\t14400\t\t1329227995784915872903807060280344576\n",
      "130\t\t4.867534450455582\t\t632.7794785592257\t\t16900\t\t1361129467683753853853498429727072845824\n",
      "140\t\t4.941642422609304\t\t691.8299391653026\t\t19600\t\t1393796574908163946345982392040522594123776\n",
      "150\t\t5.0106352940962555\t\t751.5952941144383\t\t22500\t\t1427247692705959881058285969449495136382746624\n",
      "160\t\t5.075173815233827\t\t812.0278104374122\t\t25600\t\t1461501637330902918203684832716283019655932542976\n",
      "170\t\t5.135798437050262\t\t873.0857342985446\t\t28900\t\t1496577676626844588240573268701473812127674924007424\n",
      "180\t\t5.19295685089021\t\t934.7322331602379\t\t32400\t\t1532495540865888858358347027150309183618739122183602176\n",
      "190\t\t5.247024072160486\t\t996.9345737104924\t\t36100\t\t1569275433846670190958947355801916604025588861116008628224\n",
      "200\t\t5.298317366548036\t\t1059.6634733096073\t\t40000\t\t1606938044258990275541962092341162602522202993782792835301376\n"
     ]
    }
   ],
   "source": [
    "from math import log and pi\n",
    "for n in range(10,201,10):\n",
    "    print('{}\\t\\t{}\\t\\t{}\\t\\t{}\\t\\t{}'.format(n, log(n), n*log(n), n**2, 2**n))"
   ]
  },
  {
   "cell_type": "code",
   "execution_count": 39,
   "metadata": {},
   "outputs": [
    {
     "name": "stdout",
     "output_type": "stream",
     "text": [
      "3.141592653589793\n",
      "12.566370614359172\n",
      "28.274333882308138\n",
      "50.26548245743669\n",
      "78.53981633974483\n",
      "113.09733552923255\n",
      "153.93804002589985\n",
      "201.06192982974676\n",
      "254.46900494077323\n",
      "314.1592653589793\n"
     ]
    }
   ],
   "source": [
    "from math import pi\n",
    "for r in range(1,11):\n",
    "    area_do_circulo=pi*(r**2)\n",
    "    print(area_do_circulo)"
   ]
  },
  {
   "cell_type": "code",
   "execution_count": 74,
   "metadata": {},
   "outputs": [
    {
     "name": "stdout",
     "output_type": "stream",
     "text": [
      "numero:4\n",
      "A soma dos 4 primeiros números pares é 18\n"
     ]
    }
   ],
   "source": [
    "n =int(input('numero:'))\n",
    "soma = 0\n",
    "for i in range (2, n+1):\n",
    "    soma += 2*i\n",
    "print('A soma dos {} primeiros números pares é {}'.format(n,soma))"
   ]
  },
  {
   "cell_type": "code",
   "execution_count": 19,
   "metadata": {},
   "outputs": [
    {
     "name": "stdout",
     "output_type": "stream",
     "text": [
      "numero:5\n",
      "A soma dos 5 primeiros números pares é 30\n"
     ]
    }
   ],
   "source": [
    "n =int(input('numero:'))\n",
    "n = 2 + (n-1) * 2\n",
    "soma = 0\n",
    "for i in range (2, n+2, 2):\n",
    "    soma += i\n",
    "print('A soma dos {} primeiros números pares é {}'.format(int(n/2),soma))"
   ]
  },
  {
   "cell_type": "code",
   "execution_count": 16,
   "metadata": {
    "scrolled": true
   },
   "outputs": [
    {
     "name": "stdout",
     "output_type": "stream",
     "text": [
      "Número de termos da PG: 5\n",
      "1\n",
      "2\n",
      "4\n",
      "8\n",
      "16\n",
      "32\n"
     ]
    }
   ],
   "source": [
    "#Exercício 1. \n",
    "#a)\n",
    "n =int(input('Número de termos da PG: '))\n",
    "for i in range (0, n+1):\n",
    "    i=2**i\n",
    "    print(i)"
   ]
  },
  {
   "cell_type": "code",
   "execution_count": 30,
   "metadata": {},
   "outputs": [
    {
     "name": "stdout",
     "output_type": "stream",
     "text": [
      "Número de elementos que serão somados: 5\n",
      "A soma dos 5 primeiros termos da PG é 63\n"
     ]
    }
   ],
   "source": [
    "n =int(input('Número de elementos que serão somados: '))\n",
    "soma = 0\n",
    "for i in range(0, n+1):\n",
    "    soma+=2**i\n",
    "print('A soma dos {} primeiros termos da PG é {}'.format(n,soma))"
   ]
  },
  {
   "cell_type": "code",
   "execution_count": 29,
   "metadata": {},
   "outputs": [
    {
     "name": "stdout",
     "output_type": "stream",
     "text": [
      "7\n"
     ]
    }
   ],
   "source": [
    "#Exercício 2\n",
    "#a)\n",
    "n =int(input('Digite k: '))\n",
    "y = 1\n",
    "for k in range(1, n+1):\n",
    "    y += k\n",
    "print(y)"
   ]
  },
  {
   "cell_type": "code",
   "execution_count": 40,
   "metadata": {},
   "outputs": [
    {
     "name": "stdout",
     "output_type": "stream",
     "text": [
      "Digite k: 2\n",
      "10\n"
     ]
    }
   ],
   "source": [
    "n =int(input('Digite k: '))\n",
    "y = 1\n",
    "for k in range(0, n+1):\n",
    "    y +=(2*k+1)\n",
    "print(y)"
   ]
  },
  {
   "cell_type": "code",
   "execution_count": 41,
   "metadata": {},
   "outputs": [
    {
     "name": "stdout",
     "output_type": "stream",
     "text": [
      "Digite k: 0\n",
      "3\n"
     ]
    }
   ],
   "source": [
    "n =int(input('Digite k: '))\n",
    "y = 1\n",
    "for k in range(0, n+1):\n",
    "    y +=3**k+3*k+1\n",
    "print(y)"
   ]
  },
  {
   "cell_type": "code",
   "execution_count": 44,
   "metadata": {},
   "outputs": [
    {
     "name": "stdout",
     "output_type": "stream",
     "text": [
      "Digite k: 3\n",
      "8\n"
     ]
    }
   ],
   "source": [
    "n =int(input('Digite k: '))\n",
    "y = 1\n",
    "for k in range(1, n+1):\n",
    "    y = 2*y\n",
    "print(y) "
   ]
  },
  {
   "cell_type": "code",
   "execution_count": 4,
   "metadata": {},
   "outputs": [
    {
     "name": "stdout",
     "output_type": "stream",
     "text": [
      "42895\n"
     ]
    }
   ],
   "source": [
    "n=50\n",
    "soma=0\n",
    "for k in range(5,n+1):\n",
    "    soma+=k**2\n",
    "print(soma)"
   ]
  },
  {
   "cell_type": "code",
   "execution_count": 3,
   "metadata": {},
   "outputs": [
    {
     "name": "stdout",
     "output_type": "stream",
     "text": [
      "420\n"
     ]
    }
   ],
   "source": [
    "n=20\n",
    "soma=0\n",
    "for k in range(1,n+1):\n",
    "    soma+=2*k\n",
    "print(soma)"
   ]
  },
  {
   "cell_type": "code",
   "execution_count": 5,
   "metadata": {},
   "outputs": [
    {
     "name": "stdout",
     "output_type": "stream",
     "text": [
      "5050\n"
     ]
    }
   ],
   "source": [
    "n=100\n",
    "soma=0\n",
    "for k in range(0,n+1):\n",
    "    soma+=k\n",
    "print(soma)"
   ]
  },
  {
   "cell_type": "code",
   "execution_count": 50,
   "metadata": {
    "scrolled": true
   },
   "outputs": [
    {
     "name": "stdout",
     "output_type": "stream",
     "text": [
      "Digite o número de meses: 10\n",
      "Após 10 meses existirão 55 casais de coelhos.\n"
     ]
    }
   ],
   "source": [
    "n=int(input('Digite o número de meses: '))\n",
    "t1=0\n",
    "t2=1\n",
    "for i in range(0, n):\n",
    "    t3=t1+t2\n",
    "    t1=t2\n",
    "    t2=t3\n",
    "print('Após {} meses existirão {} casais de coelhos.'.format(n,t1))"
   ]
  },
  {
   "cell_type": "code",
   "execution_count": null,
   "metadata": {},
   "outputs": [],
   "source": [
    "n=int(input('Digite o número de meses: '))\n",
    "t1=0\n",
    "t2=1\n",
    "for t3 in range(0, n+1):\n",
    "    print(t1)\n",
    "    t3=t1+t2\n",
    "    t1=t2\n",
    "    t2=t3"
   ]
  },
  {
   "cell_type": "code",
   "execution_count": 10,
   "metadata": {},
   "outputs": [
    {
     "name": "stdout",
     "output_type": "stream",
     "text": [
      "5.878030948121446\n"
     ]
    }
   ],
   "source": [
    "n=200\n",
    "soma=0\n",
    "for k in range(1,n+1):\n",
    "    soma+=1/k\n",
    "print(soma)"
   ]
  },
  {
   "cell_type": "code",
   "execution_count": 22,
   "metadata": {},
   "outputs": [
    {
     "name": "stdout",
     "output_type": "stream",
     "text": [
      "0.6956534304818243\n"
     ]
    }
   ],
   "source": [
    "n=200\n",
    "soma=0\n",
    "for k in range(1,n):\n",
    "    soma=(soma*-1)+1/k\n",
    "print(soma)"
   ]
  }
 ],
 "metadata": {
  "kernelspec": {
   "display_name": "Python 3",
   "language": "python",
   "name": "python3"
  },
  "language_info": {
   "codemirror_mode": {
    "name": "ipython",
    "version": 3
   },
   "file_extension": ".py",
   "mimetype": "text/x-python",
   "name": "python",
   "nbconvert_exporter": "python",
   "pygments_lexer": "ipython3",
   "version": "3.8.5"
  }
 },
 "nbformat": 4,
 "nbformat_minor": 4
}
