{
 "cells": [
  {
   "cell_type": "markdown",
   "metadata": {},
   "source": [
    "# Exercícios - Isaac Higuchi"
   ]
  },
  {
   "cell_type": "markdown",
   "metadata": {},
   "source": [
    "### Semana 06"
   ]
  },
  {
   "cell_type": "markdown",
   "metadata": {},
   "source": [
    "**[1]** Considere a progressão geométrica (PG) $1, 2, 4, 8, 16, 32, ...$ e um inteiro positivo $n$. Deseja-se:"
   ]
  },
  {
   "cell_type": "markdown",
   "metadata": {},
   "source": [
    "a) Imprimir o $n$ primeiros termos."
   ]
  },
  {
   "cell_type": "code",
   "execution_count": 6,
   "metadata": {},
   "outputs": [
    {
     "name": "stdout",
     "output_type": "stream",
     "text": [
      "Número de termos da PG: 5\n",
      "1\n",
      "2\n",
      "4\n",
      "8\n",
      "16\n",
      "32\n"
     ]
    }
   ],
   "source": [
    "n =int(input('Número de termos da PG: '))\n",
    "for i in range (0, n+1):\n",
    "    i=2**i\n",
    "    print(i)"
   ]
  },
  {
   "cell_type": "markdown",
   "metadata": {},
   "source": [
    "b) Calcular e imprimir a soma dos $n$ primeiros termos da PG sem utilizar a fórmula da soma por meio de um programa Python."
   ]
  },
  {
   "cell_type": "code",
   "execution_count": 7,
   "metadata": {},
   "outputs": [
    {
     "name": "stdout",
     "output_type": "stream",
     "text": [
      "Número de elementos que serão somados: 5\n",
      "A soma dos 5 primeiros termos da PG é 63\n"
     ]
    }
   ],
   "source": [
    "n =int(input('Número de elementos que serão somados: '))\n",
    "soma = 0\n",
    "for i in range(0, n+1):\n",
    "    soma+=2**i\n",
    "print('A soma dos {} primeiros termos da PG é {}'.format(n,soma))"
   ]
  },
  {
   "cell_type": "markdown",
   "metadata": {},
   "source": [
    "**[2]** Imprimir os $n$ primeiros termos das sequências definidas pelas relações de recorrência:"
   ]
  },
  {
   "cell_type": "markdown",
   "metadata": {},
   "source": [
    "a) $y_{k+1} = y_{k} + k$, em que $k = 1,2,3...$ e $y_{1}=1$"
   ]
  },
  {
   "cell_type": "markdown",
   "metadata": {},
   "source": [
    "$y_{1} = 1$ \n",
    "\n",
    "$y_{1+1} = y_{1} + 1$ => $ y_{2} = 1 + 1$ => $y_{2} = 2$\n",
    "\n",
    "$y_{2+1} = y_{2} + 2$ => $y_{3} = 2 + 2$ => $y_{3} = 4$\n",
    "\n",
    "$y_{3+1} = y_{3} + 3$ \n",
    "\n",
    "...\n",
    "\n",
    "$y_{k+1} = y_{k} + k$ "
   ]
  },
  {
   "cell_type": "code",
   "execution_count": 9,
   "metadata": {},
   "outputs": [
    {
     "name": "stdout",
     "output_type": "stream",
     "text": [
      "Digite k: 3\n",
      "7\n"
     ]
    }
   ],
   "source": [
    "n =int(input('Digite k: '))\n",
    "y = 1\n",
    "for k in range(1, n+1):\n",
    "    y += k\n",
    "print(y) "
   ]
  },
  {
   "cell_type": "markdown",
   "metadata": {},
   "source": [
    "b) $y_{k+1} = y_{k} + (2k + 1)$, em que $k = 0,1,2...$ e $y_{0}=1$"
   ]
  },
  {
   "cell_type": "code",
   "execution_count": 10,
   "metadata": {},
   "outputs": [
    {
     "name": "stdout",
     "output_type": "stream",
     "text": [
      "Digite k: 0\n",
      "2\n"
     ]
    }
   ],
   "source": [
    "n =int(input('Digite k: '))\n",
    "y = 1\n",
    "for k in range(0, n+1):\n",
    "    y +=(2*k+1)\n",
    "print(y)"
   ]
  },
  {
   "cell_type": "markdown",
   "metadata": {},
   "source": [
    "c) $y_{k+1} = y_{k} + 3k^2 + 3k + 1$, em que $k = 0,1,2...$ e $y_{0}=1$"
   ]
  },
  {
   "cell_type": "code",
   "execution_count": 11,
   "metadata": {},
   "outputs": [
    {
     "name": "stdout",
     "output_type": "stream",
     "text": [
      "Digite k: 0\n",
      "3\n"
     ]
    }
   ],
   "source": [
    "n =int(input('Digite k: '))\n",
    "y = 1\n",
    "for k in range(0, n+1):\n",
    "    y +=3**k+3*k+1\n",
    "print(y)"
   ]
  },
  {
   "cell_type": "markdown",
   "metadata": {},
   "source": [
    "d) $y_{k+1} = 2y_{k}$, em que $k = 1,2...$ e $y_{1}=1$"
   ]
  },
  {
   "cell_type": "code",
   "execution_count": 12,
   "metadata": {},
   "outputs": [
    {
     "name": "stdout",
     "output_type": "stream",
     "text": [
      "Digite k: 1\n",
      "2\n"
     ]
    }
   ],
   "source": [
    "n =int(input('Digite k: '))\n",
    "y = 1\n",
    "for k in range(1, n+1):\n",
    "    y = 2*y\n",
    "print(y) "
   ]
  },
  {
   "cell_type": "markdown",
   "metadata": {},
   "source": [
    "**[3]** Calcular as somas:"
   ]
  },
  {
   "cell_type": "markdown",
   "metadata": {},
   "source": [
    "a) $S = \\sum_{k=1}^{20} 2k$"
   ]
  },
  {
   "cell_type": "code",
   "execution_count": 1,
   "metadata": {},
   "outputs": [
    {
     "name": "stdout",
     "output_type": "stream",
     "text": [
      "420\n"
     ]
    }
   ],
   "source": [
    "n=20\n",
    "soma=0\n",
    "for k in range(1,n+1):\n",
    "    soma+=2*k\n",
    "print(soma)"
   ]
  },
  {
   "cell_type": "markdown",
   "metadata": {},
   "source": [
    "b) $T = \\sum_{k=5}^{50} k^2$ "
   ]
  },
  {
   "cell_type": "code",
   "execution_count": 2,
   "metadata": {},
   "outputs": [
    {
     "name": "stdout",
     "output_type": "stream",
     "text": [
      "42895\n"
     ]
    }
   ],
   "source": [
    "n=50\n",
    "soma=0\n",
    "for k in range(5,n+1):\n",
    "    soma+=k**2\n",
    "print(soma)"
   ]
  },
  {
   "cell_type": "markdown",
   "metadata": {},
   "source": [
    "c) $U = \\sum_{k=0}^{100} k$"
   ]
  },
  {
   "cell_type": "code",
   "execution_count": 3,
   "metadata": {},
   "outputs": [
    {
     "name": "stdout",
     "output_type": "stream",
     "text": [
      "5050\n"
     ]
    }
   ],
   "source": [
    "n=100\n",
    "soma=0\n",
    "for k in range(0,n+1):\n",
    "    soma+=k\n",
    "print(soma)"
   ]
  },
  {
   "cell_type": "markdown",
   "metadata": {},
   "source": [
    "**[4]** Partindo-se de um único casal de coelhos filhotes recém-nascidos e supondo que um casal de coelhos torna-se fértil após dois meses de vida e, a partir de então, produz um novo casal a cada mês e que os coelhos nunca morrem, quantidade de casal de coelhos após $n$ meses é dado pelo $n$-ésimo termo da seguinte sequência:\n",
    "\n",
    "$F_{n} = F_{n-2} + F_{n-1}$, para $n \\geq 2$\n",
    "\n",
    "$F_{0} = 1$\n",
    "\n",
    "$F_{1} = 1$\n",
    "\n",
    "Sobre esta sequência:"
   ]
  },
  {
   "cell_type": "markdown",
   "metadata": {},
   "source": [
    "a) Explique como os termos dessa série correspondem à solução do problema proposto."
   ]
  },
  {
   "cell_type": "markdown",
   "metadata": {},
   "source": [
    "$F_{n}$ = número de casais em n meses;\n",
    "\n",
    "$F_{n-2}$ = número de casais no mês retrasado;\n",
    "\n",
    "$F_{n-1}$ = número de casais no mês passado;\n",
    "\n",
    "$F_{0}$ = número de casais iniciais;\n",
    "\n",
    "$F_{1}$ = número de casais após um mês."
   ]
  },
  {
   "cell_type": "markdown",
   "metadata": {},
   "source": [
    "b) Escreva um programa para calcular a quantidade de casais de coelhos após $n$ meses."
   ]
  },
  {
   "cell_type": "code",
   "execution_count": 2,
   "metadata": {},
   "outputs": [
    {
     "name": "stdout",
     "output_type": "stream",
     "text": [
      "Digite o número de meses: 10\n",
      "Após 10 meses existirão 55 casais de coelhos.\n"
     ]
    }
   ],
   "source": [
    "n=int(input('Digite o número de meses: '))\n",
    "t1=0\n",
    "t2=1\n",
    "for i in range(0, n):\n",
    "    t3=t1+t2\n",
    "    t1=t2\n",
    "    t2=t3\n",
    "print('Após {} meses existirão {} casais de coelhos.'.format(n,t1))"
   ]
  },
  {
   "cell_type": "markdown",
   "metadata": {},
   "source": [
    "**[5]** Tabelar $n!$ para $n$ variando de 0 a 10. Por definição, $k! = k(k-1)(k-2)...(1)$ para $k \\in N^{*}$ e $0! = 1$."
   ]
  },
  {
   "cell_type": "code",
   "execution_count": 30,
   "metadata": {},
   "outputs": [
    {
     "name": "stdout",
     "output_type": "stream",
     "text": [
      "Fatorial até: 10\n",
      "1\t1\n",
      "2\t2\n",
      "3\t6\n",
      "4\t24\n",
      "5\t120\n",
      "6\t720\n",
      "7\t5040\n",
      "8\t40320\n",
      "9\t362880\n",
      "10\t3628800\n"
     ]
    }
   ],
   "source": [
    "numero = int(input(\"Fatorial até: \") )\n",
    "\n",
    "resultado=1\n",
    "for n in range(1,numero+1):\n",
    "    resultado *= n\n",
    "    print('{}\\t{}'.format(n,resultado))"
   ]
  },
  {
   "cell_type": "markdown",
   "metadata": {},
   "source": [
    "**[6]** Em um campeonato de futebol cada time tem uma lista oficial de 23 jogadores. Cada time prepara uma relação contendo o peso e a idade de cada um de seus jogadores. Os 40 times que participaram do torneio enviam listas para o CPD da confederação. Deseja-se a seguinte informação."
   ]
  },
  {
   "cell_type": "markdown",
   "metadata": {},
   "source": [
    "a) o peso médio e a idade média para cada um dos times."
   ]
  },
  {
   "cell_type": "markdown",
   "metadata": {},
   "source": [
    "O exemplo dado abaixo com 3 jogadores foi feito para testar o programa..."
   ]
  },
  {
   "cell_type": "code",
   "execution_count": null,
   "metadata": {},
   "outputs": [],
   "source": [
    "soma_idades=0\n",
    "n=23\n",
    "total_de_jogadores= n\n",
    "time=input('Nome do time: ')\n",
    "for i in range(n):\n",
    "    idade=int(input('Digite a idade do jogador: '))\n",
    "    soma_idades+=idade\n",
    "    idade_media_jogadores=soma_idades/total_de_jogadores\n",
    "soma_pesos=0\n",
    "for p in range(n):\n",
    "    peso=int(input('Digite o peso do jogador em Kg (em caso de peso quebrado arredonde para cima): '))\n",
    "    soma_pesos+=peso\n",
    "    peso_medio_jogadores=soma_pesos/total_de_jogadores\n",
    "print('A idade e peso médios dos jogadores do time {}, são respectivamente {} e {}Kg.'.format(time,int(idade_media_jogadores),peso_medio_jogadores))"
   ]
  },
  {
   "cell_type": "markdown",
   "metadata": {},
   "source": [
    "b) o peso médio e a idade média de todos os participantes."
   ]
  },
  {
   "cell_type": "code",
   "execution_count": null,
   "metadata": {},
   "outputs": [],
   "source": [
    "soma_idades=0\n",
    "soma_pesos=0\n",
    "n=920\n",
    "total_de_jogadores= n\n",
    "for i in range(n):\n",
    "    idade=int(input('Digite a idade do jogador: '))\n",
    "    peso=int(input('Digite o peso do jogador em Kg: '))\n",
    "    soma_idades+=idade\n",
    "    soma_pesos+=peso\n",
    "    idade_media_jogadores=soma_idades/total_de_jogadores\n",
    "    peso_medio_jogadores=soma_pesos/total_de_jogadores\n",
    "print('A idade e peso médios dos jogadores são respectivamente {} e {}Kg.'.format(int(idade_media_jogadores),peso_medio_jogadores))"
   ]
  },
  {
   "cell_type": "markdown",
   "metadata": {},
   "source": [
    "**[7]** Escreva um programa para calcular a soma:"
   ]
  },
  {
   "cell_type": "markdown",
   "metadata": {},
   "source": [
    "$1 - \\frac{1}{2} + \\frac{1}{4} - \\frac{1}{6} + \\frac{1}{8} - ... + \\frac{1}{200}$"
   ]
  },
  {
   "cell_type": "code",
   "execution_count": 10,
   "metadata": {},
   "outputs": [
    {
     "name": "stdout",
     "output_type": "stream",
     "text": [
      "0.6559139103449027\n"
     ]
    }
   ],
   "source": [
    "n=200\n",
    "soma=1\n",
    "k=1\n",
    "for k in range(2,n+1,2):\n",
    "    soma=(soma*-1)+1/k\n",
    "print(soma)"
   ]
  },
  {
   "cell_type": "code",
   "execution_count": 12,
   "metadata": {},
   "outputs": [
    {
     "name": "stdout",
     "output_type": "stream",
     "text": [
      "4.284342189301635\n"
     ]
    }
   ],
   "source": [
    "n=200\n",
    "soma=1\n",
    "k=1\n",
    "for k in range(1,n+1,2):\n",
    "    soma+=1/k\n",
    "print(soma)"
   ]
  },
  {
   "cell_type": "markdown",
   "metadata": {},
   "source": [
    "## Isaac Higuchi"
   ]
  },
  {
   "cell_type": "markdown",
   "metadata": {},
   "source": []
  }
 ],
 "metadata": {
  "kernelspec": {
   "display_name": "Python 3",
   "language": "python",
   "name": "python3"
  },
  "language_info": {
   "codemirror_mode": {
    "name": "ipython",
    "version": 3
   },
   "file_extension": ".py",
   "mimetype": "text/x-python",
   "name": "python",
   "nbconvert_exporter": "python",
   "pygments_lexer": "ipython3",
   "version": "3.8.5"
  }
 },
 "nbformat": 4,
 "nbformat_minor": 4
}
