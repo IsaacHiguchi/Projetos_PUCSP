{
 "cells": [
  {
   "cell_type": "markdown",
   "metadata": {},
   "source": [
    "## Isaac Higuchi"
   ]
  },
  {
   "cell_type": "code",
   "execution_count": 1,
   "metadata": {},
   "outputs": [
    {
     "name": "stdout",
     "output_type": "stream",
     "text": [
      "Jaraguá, São Paulo, Brazil Weather\t19°C\n"
     ]
    }
   ],
   "source": [
    "from selenium.webdriver import Chrome\n",
    "from time import sleep\n",
    "url='https://www.google.com/search?q=clima&rlz=1C1GCEU_pt-BRBR948BR948&oq=clima&aqs=chrome..69i57j0i131i433j0i433i457j0i402l2j0j69i65l2.7321j1j7&sourceid=chrome&ie=UTF-8'\n",
    "navegador=Chrome()\n",
    "navegador.get(url)\n",
    "a=navegador.find_element_by_xpath('//*[@id=\"rso\"]/div[1]/div/div/span/div/div[2]/a')\n",
    "a.click()\n",
    "temperatura= navegador.find_element_by_class_name('CurrentConditions--tempValue--3KcTQ')\n",
    "local= navegador.find_element_by_class_name('CurrentConditions--location--1Ayv3')\n",
    "print('{}\\t{}C'.format(local.text,temperatura.text))\n",
    "sleep(1)\n",
    "navegador.quit()"
   ]
  },
  {
   "cell_type": "markdown",
   "metadata": {},
   "source": [
    "## Isaac Higuchi"
   ]
  }
 ],
 "metadata": {
  "kernelspec": {
   "display_name": "Python 3",
   "language": "python",
   "name": "python3"
  },
  "language_info": {
   "codemirror_mode": {
    "name": "ipython",
    "version": 3
   },
   "file_extension": ".py",
   "mimetype": "text/x-python",
   "name": "python",
   "nbconvert_exporter": "python",
   "pygments_lexer": "ipython3",
   "version": "3.8.5"
  }
 },
 "nbformat": 4,
 "nbformat_minor": 4
}
