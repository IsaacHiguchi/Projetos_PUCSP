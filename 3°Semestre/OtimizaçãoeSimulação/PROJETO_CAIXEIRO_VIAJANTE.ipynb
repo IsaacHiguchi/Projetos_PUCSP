{
 "cells": [
  {
   "cell_type": "markdown",
   "metadata": {
    "id": "d3T6bRJA2G8v"
   },
   "source": [
    "# <center>  Problema do Caixeiro Viajante </center>\n",
    "\n",
    "\n",
    "---\n",
    "\n",
    "\n",
    "## Integrantes\n",
    "Nome: Isaac Higuchi \n",
    "RA: 00306191\n",
    "\n",
    "Nome: Carlos Eduardo de Oliveira \n",
    "RA: 00297792\n",
    "\n",
    "Nome: Thiago Rodrigues de Jesus Carvalho \n",
    "RA: 00297767\n",
    "\n",
    "Nome: João Pedro Taves Araujo \n",
    "RA: 00297753\n",
    "\n",
    "\n",
    "---\n",
    "\n",
    "\n",
    "\n",
    "---\n",
    "\n"
   ]
  },
  {
   "cell_type": "code",
   "execution_count": 1,
   "metadata": {
    "colab": {
     "base_uri": "https://localhost:8080/"
    },
    "id": "oBq8HlSyC30O",
    "outputId": "fdd9ce30-21a9-452d-d1f5-78f551a15a61"
   },
   "outputs": [
    {
     "name": "stdout",
     "output_type": "stream",
     "text": [
      "^C\n",
      "^C\n"
     ]
    },
    {
     "ename": "KeyboardInterrupt",
     "evalue": "",
     "output_type": "error",
     "traceback": [
      "\u001b[1;31m---------------------------------------------------------------------------\u001b[0m",
      "\u001b[1;31mKeyboardInterrupt\u001b[0m                         Traceback (most recent call last)",
      "\u001b[1;32m~\\AppData\\Local\\Temp/ipykernel_11064/4098203260.py\u001b[0m in \u001b[0;36m<module>\u001b[1;34m\u001b[0m\n\u001b[0;32m      2\u001b[0m \u001b[0mget_ipython\u001b[0m\u001b[1;33m(\u001b[0m\u001b[1;33m)\u001b[0m\u001b[1;33m.\u001b[0m\u001b[0msystem\u001b[0m\u001b[1;33m(\u001b[0m\u001b[1;34m'pip install geopandas'\u001b[0m\u001b[1;33m)\u001b[0m\u001b[1;33m\u001b[0m\u001b[1;33m\u001b[0m\u001b[0m\n\u001b[0;32m      3\u001b[0m \u001b[0mget_ipython\u001b[0m\u001b[1;33m(\u001b[0m\u001b[1;33m)\u001b[0m\u001b[1;33m.\u001b[0m\u001b[0msystem\u001b[0m\u001b[1;33m(\u001b[0m\u001b[1;34m'pip install osmnx'\u001b[0m\u001b[1;33m)\u001b[0m\u001b[1;33m\u001b[0m\u001b[1;33m\u001b[0m\u001b[0m\n\u001b[1;32m----> 4\u001b[1;33m \u001b[0mget_ipython\u001b[0m\u001b[1;33m(\u001b[0m\u001b[1;33m)\u001b[0m\u001b[1;33m.\u001b[0m\u001b[0msystem\u001b[0m\u001b[1;33m(\u001b[0m\u001b[1;34m'pip install acopy'\u001b[0m\u001b[1;33m)\u001b[0m\u001b[1;33m\u001b[0m\u001b[1;33m\u001b[0m\u001b[0m\n\u001b[0m",
      "\u001b[1;32m~\\anaconda3\\lib\\site-packages\\ipykernel\\zmqshell.py\u001b[0m in \u001b[0;36msystem_piped\u001b[1;34m(self, cmd)\u001b[0m\n\u001b[0;32m    633\u001b[0m                 \u001b[1;32mif\u001b[0m \u001b[0mpath\u001b[0m \u001b[1;32mis\u001b[0m \u001b[1;32mnot\u001b[0m \u001b[1;32mNone\u001b[0m\u001b[1;33m:\u001b[0m\u001b[1;33m\u001b[0m\u001b[1;33m\u001b[0m\u001b[0m\n\u001b[0;32m    634\u001b[0m                     \u001b[0mcmd\u001b[0m \u001b[1;33m=\u001b[0m \u001b[1;34m'pushd %s &&%s'\u001b[0m \u001b[1;33m%\u001b[0m \u001b[1;33m(\u001b[0m\u001b[0mpath\u001b[0m\u001b[1;33m,\u001b[0m \u001b[0mcmd\u001b[0m\u001b[1;33m)\u001b[0m\u001b[1;33m\u001b[0m\u001b[1;33m\u001b[0m\u001b[0m\n\u001b[1;32m--> 635\u001b[1;33m                 \u001b[0mself\u001b[0m\u001b[1;33m.\u001b[0m\u001b[0muser_ns\u001b[0m\u001b[1;33m[\u001b[0m\u001b[1;34m'_exit_code'\u001b[0m\u001b[1;33m]\u001b[0m \u001b[1;33m=\u001b[0m \u001b[0msystem\u001b[0m\u001b[1;33m(\u001b[0m\u001b[0mcmd\u001b[0m\u001b[1;33m)\u001b[0m\u001b[1;33m\u001b[0m\u001b[1;33m\u001b[0m\u001b[0m\n\u001b[0m\u001b[0;32m    636\u001b[0m         \u001b[1;32melse\u001b[0m\u001b[1;33m:\u001b[0m\u001b[1;33m\u001b[0m\u001b[1;33m\u001b[0m\u001b[0m\n\u001b[0;32m    637\u001b[0m             \u001b[0mself\u001b[0m\u001b[1;33m.\u001b[0m\u001b[0muser_ns\u001b[0m\u001b[1;33m[\u001b[0m\u001b[1;34m'_exit_code'\u001b[0m\u001b[1;33m]\u001b[0m \u001b[1;33m=\u001b[0m \u001b[0msystem\u001b[0m\u001b[1;33m(\u001b[0m\u001b[0mself\u001b[0m\u001b[1;33m.\u001b[0m\u001b[0mvar_expand\u001b[0m\u001b[1;33m(\u001b[0m\u001b[0mcmd\u001b[0m\u001b[1;33m,\u001b[0m \u001b[0mdepth\u001b[0m\u001b[1;33m=\u001b[0m\u001b[1;36m1\u001b[0m\u001b[1;33m)\u001b[0m\u001b[1;33m)\u001b[0m\u001b[1;33m\u001b[0m\u001b[1;33m\u001b[0m\u001b[0m\n",
      "\u001b[1;32m~\\anaconda3\\lib\\site-packages\\IPython\\utils\\_process_win32.py\u001b[0m in \u001b[0;36msystem\u001b[1;34m(cmd)\u001b[0m\n\u001b[0;32m    143\u001b[0m         \u001b[1;32mif\u001b[0m \u001b[0mpath\u001b[0m \u001b[1;32mis\u001b[0m \u001b[1;32mnot\u001b[0m \u001b[1;32mNone\u001b[0m\u001b[1;33m:\u001b[0m\u001b[1;33m\u001b[0m\u001b[1;33m\u001b[0m\u001b[0m\n\u001b[0;32m    144\u001b[0m             \u001b[0mcmd\u001b[0m \u001b[1;33m=\u001b[0m \u001b[1;34m'\"pushd %s &&\"%s'\u001b[0m \u001b[1;33m%\u001b[0m \u001b[1;33m(\u001b[0m\u001b[0mpath\u001b[0m\u001b[1;33m,\u001b[0m \u001b[0mcmd\u001b[0m\u001b[1;33m)\u001b[0m\u001b[1;33m\u001b[0m\u001b[1;33m\u001b[0m\u001b[0m\n\u001b[1;32m--> 145\u001b[1;33m         \u001b[1;32mreturn\u001b[0m \u001b[0mprocess_handler\u001b[0m\u001b[1;33m(\u001b[0m\u001b[0mcmd\u001b[0m\u001b[1;33m,\u001b[0m \u001b[0m_system_body\u001b[0m\u001b[1;33m)\u001b[0m\u001b[1;33m\u001b[0m\u001b[1;33m\u001b[0m\u001b[0m\n\u001b[0m\u001b[0;32m    146\u001b[0m \u001b[1;33m\u001b[0m\u001b[0m\n\u001b[0;32m    147\u001b[0m \u001b[1;32mdef\u001b[0m \u001b[0mgetoutput\u001b[0m\u001b[1;33m(\u001b[0m\u001b[0mcmd\u001b[0m\u001b[1;33m)\u001b[0m\u001b[1;33m:\u001b[0m\u001b[1;33m\u001b[0m\u001b[1;33m\u001b[0m\u001b[0m\n",
      "\u001b[1;32m~\\anaconda3\\lib\\site-packages\\IPython\\utils\\_process_common.py\u001b[0m in \u001b[0;36mprocess_handler\u001b[1;34m(cmd, callback, stderr)\u001b[0m\n\u001b[0;32m     77\u001b[0m     \u001b[1;32mif\u001b[0m \u001b[0mshell\u001b[0m \u001b[1;32mand\u001b[0m \u001b[0mos\u001b[0m\u001b[1;33m.\u001b[0m\u001b[0mname\u001b[0m \u001b[1;33m==\u001b[0m \u001b[1;34m'posix'\u001b[0m \u001b[1;32mand\u001b[0m \u001b[1;34m'SHELL'\u001b[0m \u001b[1;32min\u001b[0m \u001b[0mos\u001b[0m\u001b[1;33m.\u001b[0m\u001b[0menviron\u001b[0m\u001b[1;33m:\u001b[0m\u001b[1;33m\u001b[0m\u001b[1;33m\u001b[0m\u001b[0m\n\u001b[0;32m     78\u001b[0m         \u001b[0mexecutable\u001b[0m \u001b[1;33m=\u001b[0m \u001b[0mos\u001b[0m\u001b[1;33m.\u001b[0m\u001b[0menviron\u001b[0m\u001b[1;33m[\u001b[0m\u001b[1;34m'SHELL'\u001b[0m\u001b[1;33m]\u001b[0m\u001b[1;33m\u001b[0m\u001b[1;33m\u001b[0m\u001b[0m\n\u001b[1;32m---> 79\u001b[1;33m     p = subprocess.Popen(cmd, shell=shell,\n\u001b[0m\u001b[0;32m     80\u001b[0m                          \u001b[0mexecutable\u001b[0m\u001b[1;33m=\u001b[0m\u001b[0mexecutable\u001b[0m\u001b[1;33m,\u001b[0m\u001b[1;33m\u001b[0m\u001b[1;33m\u001b[0m\u001b[0m\n\u001b[0;32m     81\u001b[0m                          \u001b[0mstdin\u001b[0m\u001b[1;33m=\u001b[0m\u001b[0msubprocess\u001b[0m\u001b[1;33m.\u001b[0m\u001b[0mPIPE\u001b[0m\u001b[1;33m,\u001b[0m\u001b[1;33m\u001b[0m\u001b[1;33m\u001b[0m\u001b[0m\n",
      "\u001b[1;32m~\\anaconda3\\lib\\subprocess.py\u001b[0m in \u001b[0;36m__init__\u001b[1;34m(self, args, bufsize, executable, stdin, stdout, stderr, preexec_fn, close_fds, shell, cwd, env, universal_newlines, startupinfo, creationflags, restore_signals, start_new_session, pass_fds, user, group, extra_groups, encoding, errors, text, umask)\u001b[0m\n\u001b[0;32m    949\u001b[0m                             encoding=encoding, errors=errors)\n\u001b[0;32m    950\u001b[0m \u001b[1;33m\u001b[0m\u001b[0m\n\u001b[1;32m--> 951\u001b[1;33m             self._execute_child(args, executable, preexec_fn, close_fds,\n\u001b[0m\u001b[0;32m    952\u001b[0m                                 \u001b[0mpass_fds\u001b[0m\u001b[1;33m,\u001b[0m \u001b[0mcwd\u001b[0m\u001b[1;33m,\u001b[0m \u001b[0menv\u001b[0m\u001b[1;33m,\u001b[0m\u001b[1;33m\u001b[0m\u001b[1;33m\u001b[0m\u001b[0m\n\u001b[0;32m    953\u001b[0m                                 \u001b[0mstartupinfo\u001b[0m\u001b[1;33m,\u001b[0m \u001b[0mcreationflags\u001b[0m\u001b[1;33m,\u001b[0m \u001b[0mshell\u001b[0m\u001b[1;33m,\u001b[0m\u001b[1;33m\u001b[0m\u001b[1;33m\u001b[0m\u001b[0m\n",
      "\u001b[1;32m~\\anaconda3\\lib\\subprocess.py\u001b[0m in \u001b[0;36m_execute_child\u001b[1;34m(self, args, executable, preexec_fn, close_fds, pass_fds, cwd, env, startupinfo, creationflags, shell, p2cread, p2cwrite, c2pread, c2pwrite, errread, errwrite, unused_restore_signals, unused_gid, unused_gids, unused_uid, unused_umask, unused_start_new_session)\u001b[0m\n\u001b[0;32m   1418\u001b[0m             \u001b[1;31m# Start the process\u001b[0m\u001b[1;33m\u001b[0m\u001b[1;33m\u001b[0m\u001b[0m\n\u001b[0;32m   1419\u001b[0m             \u001b[1;32mtry\u001b[0m\u001b[1;33m:\u001b[0m\u001b[1;33m\u001b[0m\u001b[1;33m\u001b[0m\u001b[0m\n\u001b[1;32m-> 1420\u001b[1;33m                 hp, ht, pid, tid = _winapi.CreateProcess(executable, args,\n\u001b[0m\u001b[0;32m   1421\u001b[0m                                          \u001b[1;31m# no special security\u001b[0m\u001b[1;33m\u001b[0m\u001b[1;33m\u001b[0m\u001b[0m\n\u001b[0;32m   1422\u001b[0m                                          \u001b[1;32mNone\u001b[0m\u001b[1;33m,\u001b[0m \u001b[1;32mNone\u001b[0m\u001b[1;33m,\u001b[0m\u001b[1;33m\u001b[0m\u001b[1;33m\u001b[0m\u001b[0m\n",
      "\u001b[1;31mKeyboardInterrupt\u001b[0m: "
     ]
    }
   ],
   "source": [
    "# [Instalando bibliotecas]\n",
    "!pip install geopandas\n",
    "!pip install osmnx\n",
    "!pip install acopy"
   ]
  },
  {
   "cell_type": "code",
   "execution_count": null,
   "metadata": {
    "id": "Jrzh1qviCo3E"
   },
   "outputs": [],
   "source": [
    "# [Importando as bliotecas que serão utilizadas]\n",
    "import geopandas as gpd\n",
    "import folium\n",
    "import osmnx as ox\n",
    "import pandas as pd\n",
    "from geopy.distance import geodesic"
   ]
  },
  {
   "cell_type": "code",
   "execution_count": null,
   "metadata": {
    "colab": {
     "base_uri": "https://localhost:8080/",
     "height": 424
    },
    "id": "JBCojhgjCy5g",
    "outputId": "89bfeb4f-1b5f-4c3b-b663-2c2ad3cef08a"
   },
   "outputs": [],
   "source": [
    "# [Lendo o arquivo json das cidades]\n",
    "gdf = gpd.read_file('/content/geojs-35-mun.json')\n",
    "gdf"
   ]
  },
  {
   "cell_type": "code",
   "execution_count": null,
   "metadata": {
    "colab": {
     "base_uri": "https://localhost:8080/",
     "height": 677
    },
    "id": "gvksknJPHSXl",
    "outputId": "619d55ad-7b4b-401d-b51e-50afb22148e0"
   },
   "outputs": [],
   "source": [
    "# [Criando função que nos retorna cidades selecionadas]\n",
    "def buscar_cidade(cidade):\n",
    "  mapa = gdf.query(f'name == {cidade}')\n",
    "  return mapa\n",
    "\n",
    "# [Lista de cidades da viagem]\n",
    "cidades = [\n",
    "           'Osasco',\n",
    "           'Guarulhos',\n",
    "           'São Paulo',\n",
    "           'Jaci',\n",
    "           'Araçatuba',\n",
    "           'Teodoro Sampaio',\n",
    "           'Florínia',\n",
    "           'Piraju',\n",
    "           'Batatais',\n",
    "           'Serra Azul',\n",
    "           'Monte Mor',\n",
    "           'Campinas',\n",
    "           'Boituva',\n",
    "           'Bauru',\n",
    "           'Itápolis',\n",
    "           'Pompéia',\n",
    "           'Ourinhos',\n",
    "           'Guarujá',\n",
    "           'Barra do Turvo',\n",
    "           'Indiana'\n",
    "]\n",
    "\n",
    "buscar_cidade(cidades)"
   ]
  },
  {
   "cell_type": "code",
   "execution_count": null,
   "metadata": {
    "colab": {
     "base_uri": "https://localhost:8080/",
     "height": 677
    },
    "id": "Brn-g7xLIljQ",
    "outputId": "147dde74-36b3-4242-ce0f-83b3223a1a27"
   },
   "outputs": [],
   "source": [
    "# [Resetando index]\n",
    "mapa = mapa.reset_index()\n",
    "mapa"
   ]
  },
  {
   "cell_type": "code",
   "execution_count": null,
   "metadata": {
    "colab": {
     "base_uri": "https://localhost:8080/",
     "height": 749
    },
    "id": "G-5s84rKC2SW",
    "outputId": "7d414d7b-e833-41db-e7d1-6ead2ec797e8"
   },
   "outputs": [],
   "source": [
    "mapa['centroid'] = mapa['geometry'].centroid\n",
    "mapa"
   ]
  },
  {
   "cell_type": "code",
   "execution_count": null,
   "metadata": {
    "id": "0IROW2zfDBYz"
   },
   "outputs": [],
   "source": [
    "p = (mapa['centroid'][0].y, mapa['centroid'][0].x)\n",
    "nomes = mapa['name'].to_list()"
   ]
  },
  {
   "cell_type": "code",
   "execution_count": null,
   "metadata": {
    "colab": {
     "base_uri": "https://localhost:8080/",
     "height": 823
    },
    "id": "jPyS2qAhDCoa",
    "outputId": "c1bd8c8c-ffbd-4276-e410-fef32d096c3e"
   },
   "outputs": [],
   "source": [
    "# [Plotando mapa com as cidades]\n",
    "m = folium.Map(location=p)\n",
    "\n",
    "for i, nome in enumerate(nomes):\n",
    "    p = (mapa['centroid'][i].y, mapa['centroid'][i].x)\n",
    "    folium.Marker(p, popup=nome).add_to(m)\n",
    "m"
   ]
  },
  {
   "cell_type": "markdown",
   "metadata": {
    "id": "6NTts7xSs9B3"
   },
   "source": [
    "## CALCULANDO AS DISTÂNCIAS"
   ]
  },
  {
   "cell_type": "code",
   "execution_count": null,
   "metadata": {
    "id": "Q6wpHwIwtFC5"
   },
   "outputs": [],
   "source": [
    "origem = []\n",
    "destino = []\n",
    "distancias = []\n",
    "for i, nome1 in enumerate(nomes):\n",
    "    p1 = (mapa['centroid'][i].y, mapa['centroid'][i].x)\n",
    "    for j, nome2 in enumerate(nomes):    \n",
    "        p2 = (mapa['centroid'][j].y, mapa['centroid'][j].x)\n",
    "        origem.append(nome1)\n",
    "        destino.append(nome2)\n",
    "        distancias.append( geodesic(p1,p2).km )"
   ]
  },
  {
   "cell_type": "code",
   "execution_count": null,
   "metadata": {
    "colab": {
     "base_uri": "https://localhost:8080/",
     "height": 424
    },
    "id": "5VSGlqgmtbBB",
    "outputId": "7d409a4d-b58e-4a51-d8ae-580172e2d6fd"
   },
   "outputs": [],
   "source": [
    "df = pd.DataFrame({'origem': origem, 'destino': destino, 'distancia': distancias})\n",
    "df"
   ]
  },
  {
   "cell_type": "markdown",
   "metadata": {
    "id": "CS452wqno5pP"
   },
   "source": [
    "## PROCURANDO A MELHOR ROTA"
   ]
  },
  {
   "cell_type": "code",
   "execution_count": null,
   "metadata": {
    "id": "ySFgObDBWOFI"
   },
   "outputs": [],
   "source": [
    "import acopy\n",
    "import networkx as nx\n",
    "from networkx.algorithms import approximation as approx\n",
    "import numpy as np\n",
    "import matplotlib.pyplot as plt"
   ]
  },
  {
   "cell_type": "code",
   "execution_count": null,
   "metadata": {
    "id": "a1P93HS2nzEm"
   },
   "outputs": [],
   "source": [
    "# [Configuração do solver]\n",
    "# [rho: taxa de evaporação]\n",
    "# [q: quantidade de ferômonio excretada por uma  formiga a cada iteração]\n",
    "solver = acopy.Solver(rho=0.03, q=1)\n",
    "\n",
    "# [alpha: influência do  feromônio e da informação heurística]\n",
    "# [beta: influência da informação heurística (1/dij)]\n",
    "colony = acopy.Colony(alpha=1, beta=3) "
   ]
  },
  {
   "cell_type": "code",
   "execution_count": null,
   "metadata": {
    "colab": {
     "base_uri": "https://localhost:8080/"
    },
    "id": "TaYSrDIluoLe",
    "outputId": "1eab1209-d10d-446b-d6f4-b55abc22d3de"
   },
   "outputs": [],
   "source": [
    "# [Passando os valores numa tupla para usar a biblioteca networkx para fazer o graph]\n",
    "tupla_valores = [tuple(x) for x in df.values]\n",
    "tupla_valores"
   ]
  },
  {
   "cell_type": "code",
   "execution_count": null,
   "metadata": {
    "id": "RtWx0J4Qoo-l"
   },
   "outputs": [],
   "source": [
    "# Gerar o grafo a partir da matriz de distâncias\n",
    "g = nx.DiGraph()\n",
    "g.add_weighted_edges_from(tupla_valores)\n",
    "\n",
    "# [Solucionar]\n",
    "# [gen_size: quantidades de formigas (em branco é igual à quantidade de nós)]\n",
    "# [limit: quantidade de iterações para parada] \n",
    "tour = solver.solve(g, colony, limit = 200) "
   ]
  },
  {
   "cell_type": "code",
   "execution_count": null,
   "metadata": {
    "colab": {
     "base_uri": "https://localhost:8080/"
    },
    "id": "mGEZpq7GotE9",
    "outputId": "4a2886bd-70f8-4a38-89d3-06839ea2b952"
   },
   "outputs": [],
   "source": [
    "tour.nodes"
   ]
  },
  {
   "cell_type": "code",
   "execution_count": null,
   "metadata": {
    "colab": {
     "base_uri": "https://localhost:8080/"
    },
    "id": "r0-iKTsbIq3Z",
    "outputId": "2bafa94b-593e-47ae-882b-7ba570cbb167"
   },
   "outputs": [],
   "source": [
    "# [Rota ótima]\n",
    "tour_resultado = approx.greedy_tsp(g, source='São Paulo')\n",
    "custo = sum(g[n][nbr][\"weight\"] for n, nbr in nx.utils.pairwise(tour_resultado))\n",
    "tour_resultado"
   ]
  },
  {
   "cell_type": "code",
   "execution_count": null,
   "metadata": {
    "colab": {
     "base_uri": "https://localhost:8080/"
    },
    "id": "sfGaVVH_K6CV",
    "outputId": "5df9d163-ed0a-43fb-d72b-aebe59c4851f"
   },
   "outputs": [],
   "source": [
    "# [Distância total em kilômetros]\n",
    "print(f'Distância total percorrida foi de {custo:.2f} km.')"
   ]
  },
  {
   "cell_type": "markdown",
   "metadata": {
    "id": "rG99fJ8JYSt-"
   },
   "source": [
    "### VISUALIZAÇÃO EM MAPA DA ROTA ÓTIMA"
   ]
  },
  {
   "cell_type": "code",
   "execution_count": null,
   "metadata": {
    "id": "B6-1atMTTX_y"
   },
   "outputs": [],
   "source": [
    "# [Criando função para coletar as coordenadas das cidades da rota ótima]\n",
    "def get_coord(cidade):\n",
    "    for i in range(len(tour_resultado)):\n",
    "      centroid = mapa.query(f'name == \"{cidade}\"')['centroid']\n",
    "      coordenada = (float(centroid.y), float(centroid.x))\n",
    "    return coordenada"
   ]
  },
  {
   "cell_type": "code",
   "execution_count": null,
   "metadata": {
    "colab": {
     "base_uri": "https://localhost:8080/"
    },
    "id": "tv1DqLYkucSv",
    "outputId": "fcd30ca9-ae6d-4154-cfcb-e90edbd2d075"
   },
   "outputs": [],
   "source": [
    "# [Verificando a estrutura do output da função get_coord]\n",
    "get_coord('Campinas')"
   ]
  },
  {
   "cell_type": "code",
   "execution_count": null,
   "metadata": {
    "colab": {
     "base_uri": "https://localhost:8080/"
    },
    "id": "-yuRrB12UAVQ",
    "outputId": "33a0672a-3011-4e35-ba4b-3e1bb1a11330"
   },
   "outputs": [],
   "source": [
    "# [Fazendo um loop para pegar a coordenada de todas as cidades]\n",
    "coordenadas = []\n",
    "for x in range(len(tour_resultado)):\n",
    "  coords = get_coord(tour_resultado[x])\n",
    "  coordenadas.append(coords)\n",
    "\n",
    "coordenadas"
   ]
  },
  {
   "cell_type": "code",
   "execution_count": null,
   "metadata": {
    "colab": {
     "base_uri": "https://localhost:8080/",
     "height": 708
    },
    "id": "rw4e9czpM7-j",
    "outputId": "206424af-2006-42ad-a4e7-f83ef4ce8465"
   },
   "outputs": [],
   "source": [
    "# [Criando um DataFrame da rota ótima com suas respectivas coordenadas]\n",
    "df_map = pd.DataFrame(data = {'rota':tour_resultado, 'coordenada': coordenadas})\n",
    "df_map"
   ]
  },
  {
   "cell_type": "code",
   "execution_count": null,
   "metadata": {
    "colab": {
     "base_uri": "https://localhost:8080/",
     "height": 823
    },
    "id": "MNDFqvUgRnGV",
    "outputId": "8d425b9b-c9fe-493c-fa6c-bbf419debe15"
   },
   "outputs": [],
   "source": [
    "m_resultado = folium.Map()\n",
    "\n",
    "for c in range(len(df_map)):\n",
    "    cidade = df_map.coordenada[c]\n",
    "    folium.Marker(location = cidade, popup = f'{df_map.rota[c]} {c+1}').add_to(m_resultado)\n",
    "    # folium.Marker(location = cidade, popup = ).add_to(m_resultado)\n",
    "    folium.PolyLine(locations = [x for x in df_map['coordenada']], \n",
    "                line_opacity = 0.5).add_to(m_resultado)\n",
    "m_resultado"
   ]
  },
  {
   "cell_type": "markdown",
   "metadata": {
    "id": "vum0IITmH80w"
   },
   "source": [
    "# Integrantes \n",
    "Nome: Isaac Higuchi \n",
    "RA: 00306191\n",
    "\n",
    "Nome: Carlos Eduardo de Oliveira \n",
    "RA: 00297792\n",
    "\n",
    "Nome: Thiago Rodrigues de Jesus Carvalho \n",
    "RA: 00297767\n",
    "\n",
    "Nome: João Pedro Taves Araujo \n",
    "RA: 00297753"
   ]
  }
 ],
 "metadata": {
  "colab": {
   "collapsed_sections": [],
   "name": "PROJETO_CAIXEIRO_VIAJANTE.ipynb",
   "provenance": []
  },
  "kernelspec": {
   "display_name": "Python 3 (ipykernel)",
   "language": "python",
   "name": "python3"
  },
  "language_info": {
   "codemirror_mode": {
    "name": "ipython",
    "version": 3
   },
   "file_extension": ".py",
   "mimetype": "text/x-python",
   "name": "python",
   "nbconvert_exporter": "python",
   "pygments_lexer": "ipython3",
   "version": "3.9.7"
  }
 },
 "nbformat": 4,
 "nbformat_minor": 1
}
