{
  "cells": [
    {
      "cell_type": "markdown",
      "metadata": {
        "id": "drUQpBeagKcz"
      },
      "source": [
        "Pontifícia Universidade Católica de São Paulo \n",
        "\n",
        "`Ciência de Dados e Inteligência Artificial`\n",
        "\n",
        "🎓 Laboratório 8 - Regressão Logística\n",
        "\n",
        "---\n",
        "> 👨‍🏫*Professor Rooney Coelho (rracoelho@pucsp.br)*\n",
        "---"
      ]
    },
    {
      "cell_type": "code",
      "execution_count": 5,
      "metadata": {
        "id": "l8jeJNlkgKc7"
      },
      "outputs": [],
      "source": [
        "import pandas as pd\n",
        "import matplotlib.pyplot as plt\n",
        "import seaborn as sns\n",
        "from sklearn.feature_extraction.text import CountVectorizer\n",
        "from sklearn.model_selection import train_test_split\n",
        "from sklearn.linear_model import LogisticRegression\n",
        "from sklearn.metrics import classification_report\n",
        "from sklearn.linear_model import LogisticRegressionCV\n",
        "from sklearn.metrics import accuracy_score"
      ]
    },
    {
      "cell_type": "markdown",
      "metadata": {
        "id": "OsqZ0W52gKc-"
      },
      "source": [
        "## Como funciona a regressão logística?\n",
        "\n",
        "Temos apenas dois pratos, $x_1$ e $x_2$. Eles são pratos japoneses e italianos, respectivamente, e indicamos suas características de ingredientes com 0's e 1's.\n",
        "\n",
        "* Passo 1\n",
        "\n",
        "Imagine que já treinamos nosso regressor logístico binário e os *Parâmetros* já foram determinados. Cada $\\beta$ representa um parâmetro que treinamos. Vamos agora conectar os recursos de nossos dois pratos na equação de regressão $f(x)$ que é a **soma** do **produto** de nossas entradas e parâmetros.\n",
        "\n",
        "* Passo 2\n",
        "\n",
        "Essa é a parte importante! Agora, inserimos o resultado anterior na função logística (logit) que gerará um valor entre 0 e 1. Esse valor pode ser interpretado como uma *probabilidade* de qualquer classe.\n",
        "\n",
        "Nossos dois pratos, depois de serem passados por meio de regressão logística, foram mapeados em uma função logit com seus valores $y$ significando o quanto eles pertencem a qualquer classe. Quanto mais à direita você for, mais italiano será o prato e quanto mais à esquerda mais japonês."
      ]
    },
    {
      "cell_type": "markdown",
      "metadata": {
        "id": "wKRPJovigKc_"
      },
      "source": [
        "<img src=\"https://cf-courses-data.s3.us.cloud-object-storage.appdomain.cloud/IBM-PY0181EN-SkillsNetwork/labs/2_linear_classifiers/images/summary.png\" alt=\"drawing\" width=\"1150\">\n",
        "<!-- ![Diagram](Picture1.png){ width : 50% } -->"
      ]
    },
    {
      "cell_type": "markdown",
      "metadata": {
        "id": "zuQYUwd1gKc_"
      },
      "source": [
        "## Exemplo 1 - Problema de Classificação: Prevendo os tipos de cozinha\n",
        "\n",
        "Vamos realizar um exercício de classificação simples nos dados da receita. Sua tarefa é encontrar o tipo específico de cozinha com base nesses dados.\n",
        "\n",
        "Vamos começar carregando os dados da receita em um `pandas.DataFrame`:\n",
        "\n",
        "*NOTA: Algumas células levarão muito tempo para serem executadas!!!*"
      ]
    },
    {
      "cell_type": "code",
      "execution_count": 6,
      "metadata": {
        "colab": {
          "base_uri": "https://localhost:8080/",
          "height": 455
        },
        "id": "MRWyDbEtgKdA",
        "outputId": "e0f0995e-37cb-4727-bdfe-71bfc9a421cd"
      },
      "outputs": [
        {
          "output_type": "execute_result",
          "data": {
            "text/plain": [
              "           cuisine                                        ingredients\n",
              "id                                                                   \n",
              "10259        greek  [romaine lettuce, black olives, grape tomatoes...\n",
              "25693  southern_us  [plain flour, ground pepper, salt, tomatoes, g...\n",
              "20130     filipino  [eggs, pepper, salt, mayonaise, cooking oil, g...\n",
              "22213       indian                [water, vegetable oil, wheat, salt]\n",
              "13162       indian  [black pepper, shallots, cornflour, cayenne pe...\n",
              "...            ...                                                ...\n",
              "29109        irish  [light brown sugar, granulated sugar, butter, ...\n",
              "11462      italian  [KRAFT Zesty Italian Dressing, purple onion, b...\n",
              "2238         irish  [eggs, citrus fruit, raisins, sourdough starte...\n",
              "41882      chinese  [boneless chicken skinless thigh, minced garli...\n",
              "2362       mexican  [green chile, jalapeno chilies, onions, ground...\n",
              "\n",
              "[39774 rows x 2 columns]"
            ],
            "text/html": [
              "\n",
              "  <div id=\"df-1991d48c-5b17-4b80-9067-fa47b4b67540\">\n",
              "    <div class=\"colab-df-container\">\n",
              "      <div>\n",
              "<style scoped>\n",
              "    .dataframe tbody tr th:only-of-type {\n",
              "        vertical-align: middle;\n",
              "    }\n",
              "\n",
              "    .dataframe tbody tr th {\n",
              "        vertical-align: top;\n",
              "    }\n",
              "\n",
              "    .dataframe thead th {\n",
              "        text-align: right;\n",
              "    }\n",
              "</style>\n",
              "<table border=\"1\" class=\"dataframe\">\n",
              "  <thead>\n",
              "    <tr style=\"text-align: right;\">\n",
              "      <th></th>\n",
              "      <th>cuisine</th>\n",
              "      <th>ingredients</th>\n",
              "    </tr>\n",
              "    <tr>\n",
              "      <th>id</th>\n",
              "      <th></th>\n",
              "      <th></th>\n",
              "    </tr>\n",
              "  </thead>\n",
              "  <tbody>\n",
              "    <tr>\n",
              "      <th>10259</th>\n",
              "      <td>greek</td>\n",
              "      <td>[romaine lettuce, black olives, grape tomatoes...</td>\n",
              "    </tr>\n",
              "    <tr>\n",
              "      <th>25693</th>\n",
              "      <td>southern_us</td>\n",
              "      <td>[plain flour, ground pepper, salt, tomatoes, g...</td>\n",
              "    </tr>\n",
              "    <tr>\n",
              "      <th>20130</th>\n",
              "      <td>filipino</td>\n",
              "      <td>[eggs, pepper, salt, mayonaise, cooking oil, g...</td>\n",
              "    </tr>\n",
              "    <tr>\n",
              "      <th>22213</th>\n",
              "      <td>indian</td>\n",
              "      <td>[water, vegetable oil, wheat, salt]</td>\n",
              "    </tr>\n",
              "    <tr>\n",
              "      <th>13162</th>\n",
              "      <td>indian</td>\n",
              "      <td>[black pepper, shallots, cornflour, cayenne pe...</td>\n",
              "    </tr>\n",
              "    <tr>\n",
              "      <th>...</th>\n",
              "      <td>...</td>\n",
              "      <td>...</td>\n",
              "    </tr>\n",
              "    <tr>\n",
              "      <th>29109</th>\n",
              "      <td>irish</td>\n",
              "      <td>[light brown sugar, granulated sugar, butter, ...</td>\n",
              "    </tr>\n",
              "    <tr>\n",
              "      <th>11462</th>\n",
              "      <td>italian</td>\n",
              "      <td>[KRAFT Zesty Italian Dressing, purple onion, b...</td>\n",
              "    </tr>\n",
              "    <tr>\n",
              "      <th>2238</th>\n",
              "      <td>irish</td>\n",
              "      <td>[eggs, citrus fruit, raisins, sourdough starte...</td>\n",
              "    </tr>\n",
              "    <tr>\n",
              "      <th>41882</th>\n",
              "      <td>chinese</td>\n",
              "      <td>[boneless chicken skinless thigh, minced garli...</td>\n",
              "    </tr>\n",
              "    <tr>\n",
              "      <th>2362</th>\n",
              "      <td>mexican</td>\n",
              "      <td>[green chile, jalapeno chilies, onions, ground...</td>\n",
              "    </tr>\n",
              "  </tbody>\n",
              "</table>\n",
              "<p>39774 rows × 2 columns</p>\n",
              "</div>\n",
              "      <button class=\"colab-df-convert\" onclick=\"convertToInteractive('df-1991d48c-5b17-4b80-9067-fa47b4b67540')\"\n",
              "              title=\"Convert this dataframe to an interactive table.\"\n",
              "              style=\"display:none;\">\n",
              "        \n",
              "  <svg xmlns=\"http://www.w3.org/2000/svg\" height=\"24px\"viewBox=\"0 0 24 24\"\n",
              "       width=\"24px\">\n",
              "    <path d=\"M0 0h24v24H0V0z\" fill=\"none\"/>\n",
              "    <path d=\"M18.56 5.44l.94 2.06.94-2.06 2.06-.94-2.06-.94-.94-2.06-.94 2.06-2.06.94zm-11 1L8.5 8.5l.94-2.06 2.06-.94-2.06-.94L8.5 2.5l-.94 2.06-2.06.94zm10 10l.94 2.06.94-2.06 2.06-.94-2.06-.94-.94-2.06-.94 2.06-2.06.94z\"/><path d=\"M17.41 7.96l-1.37-1.37c-.4-.4-.92-.59-1.43-.59-.52 0-1.04.2-1.43.59L10.3 9.45l-7.72 7.72c-.78.78-.78 2.05 0 2.83L4 21.41c.39.39.9.59 1.41.59.51 0 1.02-.2 1.41-.59l7.78-7.78 2.81-2.81c.8-.78.8-2.07 0-2.86zM5.41 20L4 18.59l7.72-7.72 1.47 1.35L5.41 20z\"/>\n",
              "  </svg>\n",
              "      </button>\n",
              "      \n",
              "  <style>\n",
              "    .colab-df-container {\n",
              "      display:flex;\n",
              "      flex-wrap:wrap;\n",
              "      gap: 12px;\n",
              "    }\n",
              "\n",
              "    .colab-df-convert {\n",
              "      background-color: #E8F0FE;\n",
              "      border: none;\n",
              "      border-radius: 50%;\n",
              "      cursor: pointer;\n",
              "      display: none;\n",
              "      fill: #1967D2;\n",
              "      height: 32px;\n",
              "      padding: 0 0 0 0;\n",
              "      width: 32px;\n",
              "    }\n",
              "\n",
              "    .colab-df-convert:hover {\n",
              "      background-color: #E2EBFA;\n",
              "      box-shadow: 0px 1px 2px rgba(60, 64, 67, 0.3), 0px 1px 3px 1px rgba(60, 64, 67, 0.15);\n",
              "      fill: #174EA6;\n",
              "    }\n",
              "\n",
              "    [theme=dark] .colab-df-convert {\n",
              "      background-color: #3B4455;\n",
              "      fill: #D2E3FC;\n",
              "    }\n",
              "\n",
              "    [theme=dark] .colab-df-convert:hover {\n",
              "      background-color: #434B5C;\n",
              "      box-shadow: 0px 1px 3px 1px rgba(0, 0, 0, 0.15);\n",
              "      filter: drop-shadow(0px 1px 2px rgba(0, 0, 0, 0.3));\n",
              "      fill: #FFFFFF;\n",
              "    }\n",
              "  </style>\n",
              "\n",
              "      <script>\n",
              "        const buttonEl =\n",
              "          document.querySelector('#df-1991d48c-5b17-4b80-9067-fa47b4b67540 button.colab-df-convert');\n",
              "        buttonEl.style.display =\n",
              "          google.colab.kernel.accessAllowed ? 'block' : 'none';\n",
              "\n",
              "        async function convertToInteractive(key) {\n",
              "          const element = document.querySelector('#df-1991d48c-5b17-4b80-9067-fa47b4b67540');\n",
              "          const dataTable =\n",
              "            await google.colab.kernel.invokeFunction('convertToInteractive',\n",
              "                                                     [key], {});\n",
              "          if (!dataTable) return;\n",
              "\n",
              "          const docLinkHtml = 'Like what you see? Visit the ' +\n",
              "            '<a target=\"_blank\" href=https://colab.research.google.com/notebooks/data_table.ipynb>data table notebook</a>'\n",
              "            + ' to learn more about interactive tables.';\n",
              "          element.innerHTML = '';\n",
              "          dataTable['output_type'] = 'display_data';\n",
              "          await google.colab.output.renderOutput(dataTable, element);\n",
              "          const docLink = document.createElement('div');\n",
              "          docLink.innerHTML = docLinkHtml;\n",
              "          element.appendChild(docLink);\n",
              "        }\n",
              "      </script>\n",
              "    </div>\n",
              "  </div>\n",
              "  "
            ]
          },
          "metadata": {},
          "execution_count": 6
        }
      ],
      "source": [
        "df = pd.read_json('data.json').set_index(\"id\")\n",
        "df"
      ]
    },
    {
      "cell_type": "markdown",
      "metadata": {
        "id": "NYYmfkBWgKdD"
      },
      "source": [
        "Como você pode ver, cada prato tem uma lista completa de ingredientes associados a ele. Precisamos processá-los de alguma forma para conectá-los à nossa função de regressão logística, que nos ajudará a classificar cada prato em suas cozinhas."
      ]
    },
    {
      "cell_type": "markdown",
      "metadata": {
        "id": "GAEX_O4wgKdE"
      },
      "source": [
        "Mostre aqui todas as cozinhas presentes na base de dados usando valores únicos."
      ]
    },
    {
      "cell_type": "code",
      "execution_count": 7,
      "metadata": {
        "colab": {
          "base_uri": "https://localhost:8080/"
        },
        "id": "Rf4ASci1gKdF",
        "outputId": "e81887fa-7d22-4c52-db8e-64c1b20ee27a"
      },
      "outputs": [
        {
          "output_type": "execute_result",
          "data": {
            "text/plain": [
              "array(['greek', 'southern_us', 'filipino', 'indian', 'jamaican',\n",
              "       'spanish', 'italian', 'mexican', 'chinese', 'british', 'thai',\n",
              "       'vietnamese', 'cajun_creole', 'brazilian', 'french', 'japanese',\n",
              "       'irish', 'korean', 'moroccan', 'russian'], dtype=object)"
            ]
          },
          "metadata": {},
          "execution_count": 7
        }
      ],
      "source": [
        "# Cozinhas presentes na base de dados\n",
        "df['cuisine'].unique()"
      ]
    },
    {
      "cell_type": "markdown",
      "metadata": {
        "id": "ZAiyYtdpgKdG"
      },
      "source": [
        "Faça um histograma para a origem dos pratos."
      ]
    },
    {
      "cell_type": "code",
      "execution_count": 8,
      "metadata": {
        "colab": {
          "base_uri": "https://localhost:8080/",
          "height": 486
        },
        "id": "DbWLzvh_gKdG",
        "outputId": "1a42c2a8-6968-41aa-9d55-024feabb7377"
      },
      "outputs": [
        {
          "output_type": "display_data",
          "data": {
            "text/plain": [
              "<Figure size 1440x720 with 1 Axes>"
            ],
            "image/png": "[encoded data removed]"
          },
          "metadata": {}
        }
      ],
      "source": [
        "# Histograma\n",
        "sns.set_style('darkgrid')\n",
        "plt.figure(figsize = (20, 10))# maior\n",
        "sns.countplot(x = 'cuisine', data = df)\n",
        "plt.title('Origem dos pratos', fontsize = 20)\n",
        "plt.xlabel('Origem', fontsize = 15)\n",
        "plt.ylabel('Número de pratos', fontsize = 15)\n",
        "plt.show()"
      ]
    },
    {
      "cell_type": "markdown",
      "metadata": {
        "id": "QqALfFmzgKdH"
      },
      "source": [
        "Agora, vamos pensar em como podemos usar ingredientes para representar um prato. Você pode pensar imediatamente em usar apenas os nomes dos ingredientes para representar um prato. Antes de fazermos isso, vamos analisar os ingredientes.\n",
        "\n",
        "Faça um histograma que descreve a frequência de cada comprimento da lista de ingredientes. Lembre-se que cada ingrediente é uma lista, então calcule o comprimento de cada lista de ingredientes para gerar este histograma.\n",
        "\n",
        " Vemos que o comprimento médio da lista de ingredientes é em torno de 10, com o máximo próximo a 30."
      ]
    },
    {
      "cell_type": "code",
      "execution_count": 9,
      "metadata": {
        "colab": {
          "base_uri": "https://localhost:8080/",
          "height": 488
        },
        "id": "0FFqa-KVgKdH",
        "outputId": "c9615528-e65f-4c31-acec-873e0844e4fd"
      },
      "outputs": [
        {
          "output_type": "display_data",
          "data": {
            "text/plain": [
              "<Figure size 1440x720 with 1 Axes>"
            ],
            "image/png": "[encoded data removed]"
          },
          "metadata": {}
        }
      ],
      "source": [
        "df['ingredients_length'] = df['ingredients'].apply(len)\n",
        "sns.set_style('darkgrid')\n",
        "plt.figure(figsize = (20, 10))# maior\n",
        "sns.countplot(x = 'ingredients_length', data = df)\n",
        "plt.title('Número de ingredientes', fontsize = 20)\n",
        "plt.xlabel('Número de ingredientes', fontsize = 15)\n",
        "plt.ylabel('Número de pratos', fontsize = 15)\n",
        "plt.show()\n"
      ]
    },
    {
      "cell_type": "markdown",
      "metadata": {
        "id": "KQp6q9mWgKdI"
      },
      "source": [
        "Se criássemos uma matriz onde cada ingrediente fosse uma coluna, e tudo o que significasse se esse ingrediente estivesse em um determinado prato, quantas colunas teríamos?\n",
        "\n",
        "Podemos usar o método `pd.Series.explode()` na coluna `ingredients` para mesclar as listas de ingredientes em uma grande série de pandas de todos os ingredientes."
      ]
    },
    {
      "cell_type": "code",
      "execution_count": 10,
      "metadata": {
        "colab": {
          "base_uri": "https://localhost:8080/"
        },
        "id": "-9Biu6PHgKdI",
        "outputId": "5211584d-ee85-442c-e3d5-bdea9d967c45"
      },
      "outputs": [
        {
          "output_type": "execute_result",
          "data": {
            "text/plain": [
              "id\n",
              "10259    romaine lettuce\n",
              "10259       black olives\n",
              "10259     grape tomatoes\n",
              "10259             garlic\n",
              "10259             pepper\n",
              "              ...       \n",
              "2362              garlic\n",
              "2362         white sugar\n",
              "2362       roma tomatoes\n",
              "2362              celery\n",
              "2362       dried oregano\n",
              "Name: ingredients, Length: 428275, dtype: object"
            ]
          },
          "metadata": {},
          "execution_count": 10
        }
      ],
      "source": [
        "all_ingredients = df['ingredients'].explode()\n",
        "all_ingredients"
      ]
    },
    {
      "cell_type": "markdown",
      "metadata": {
        "id": "uyl9F3cwgKdJ"
      },
      "source": [
        "Esta lista contém todos os ingredientes de cada receita, mas isso não é útil porque temos duplicatas como `alho` e muitos outros. Se executarmos um `pd.Series.unique()` podemos eliminar todas as duplicatas.\n",
        "\n",
        "Faça a contagem de ingredientes únicos:"
      ]
    },
    {
      "cell_type": "code",
      "execution_count": 11,
      "metadata": {
        "colab": {
          "base_uri": "https://localhost:8080/"
        },
        "id": "JjQifkVsgKdJ",
        "outputId": "9d7f719e-4408-4fc1-e985-fd821dd4a999"
      },
      "outputs": [
        {
          "output_type": "execute_result",
          "data": {
            "text/plain": [
              "6714"
            ]
          },
          "metadata": {},
          "execution_count": 11
        }
      ],
      "source": [
        "# Counting the number of unique ingredients\n",
        "all_ingredients.nunique()"
      ]
    },
    {
      "cell_type": "markdown",
      "metadata": {
        "id": "uGZzcOdfgKdK"
      },
      "source": [
        "Isso é um monte de ingredientes; se tivéssemos colunas `6714` para linhas de dados `39774`, teríamos uma matriz de células `267.042.636`! Isso é muito grande. Precisamos de uma maneira de extrair informações importantes sem sobrecarregar nosso sistema com uma quantidade louca de cálculos."
      ]
    },
    {
      "cell_type": "markdown",
      "metadata": {
        "id": "yIZAyMtJgKdL"
      },
      "source": [
        "### Modelo Bag-of-Words\n",
        "\n",
        "Como estamos trabalhando com texto, uma coisa simples e fácil de fazer é mesclar a lista de ingredientes de cada prato em uma string e usar as palavras dessa string para representar o prato. Isso nos dará uma compreensão rápida e fácil de quais ingredientes entram em um prato.\n",
        "\n",
        "Essa representação de um prato pela contagem de cada ingrediente é chamada de **Bag-of-Words** de um ponto de dados usando suas palavras/ingredientes em um espaço dimensional $n$.\n",
        "\n",
        "Para fazer isso, usaremos o método sklearn `CountVectorizer`.\n",
        "\n",
        "```python\n",
        "CountVectorizer(*, input='content', encoding='utf-8', decode_error='strict', strip_accents=None, lowercase=True, preprocessor=None, tokenizer=None, stop_words=None, token_pattern='(?u)\\b\\w\\w+\\b', ngram_range=(1, 1), analyzer='word', max_df=1.0, min_df=1, max_features=None, vocabulary=None, binary=False, dtype=<class 'numpy.int64'>)\n",
        "```"
      ]
    },
    {
      "cell_type": "code",
      "execution_count": 12,
      "metadata": {
        "colab": {
          "base_uri": "https://localhost:8080/",
          "height": 53
        },
        "id": "X9MrKTmigKdL",
        "outputId": "3fcdb4b3-4b0f-4d8b-ab4f-8778e225fb2d"
      },
      "outputs": [
        {
          "output_type": "execute_result",
          "data": {
            "text/plain": [
              "\"'mussels', 'ground black pepper', 'garlic cloves', 'saffron threads', 'olive oil', 'stewed tomatoes', 'arborio rice', 'minced onion', 'medium shrimp', 'fat free less sodium chicken broth', 'green peas'\""
            ],
            "application/vnd.google.colaboratory.intrinsic+json": {
              "type": "string"
            }
          },
          "metadata": {},
          "execution_count": 12
        }
      ],
      "source": [
        "# Converter uma lista em uma string\n",
        "df['ingredients'].astype(str)[0].strip('[]')"
      ]
    },
    {
      "cell_type": "markdown",
      "metadata": {
        "id": "FVWuT3LigKdM"
      },
      "source": [
        "Parece uma boa e detalhada lista de ingredientes! Uma preocupação que podemos ter é o quão detalhados queremos que nossos ingredientes sejam. A especificação de `'fat free less sodium chicken broth'` fornece mais informações sobre um termo mais simples como `'chicken broth'`?\n",
        "\n",
        "## n-gramas\n",
        "\n",
        "Podemos usar o argumento `ngram_range` para limitar o número de palavras em um determinado ingrediente. Se definirmos para `(1,2)`, nosso `CountVectorizer` irá olhar apenas uma ou duas palavras de cada vez, como `chicken` e `chicken broth`, mas não `fat free less sodium chicken broth`. Isso pode significar que termos como \"fat free\" ou \"less sodium\" se tornarão \"ingredients\", mas não terão sentido! Isso pode ser ignorado, pois selecionaremos os principais recursos por sua frequência em todas as receitas."
      ]
    },
    {
      "cell_type": "code",
      "execution_count": 13,
      "metadata": {
        "id": "ak7jpMh1gKdN"
      },
      "outputs": [],
      "source": [
        "#pegue os ingredientes do conjunto de treinamento\n",
        "ingredients = df['ingredients'].astype(str).apply(lambda x: x.strip('[]'))"
      ]
    },
    {
      "cell_type": "markdown",
      "metadata": {
        "id": "b_Ofn2sXgKdN"
      },
      "source": [
        "Use a função `CountVectorizer` para bigramas, usando um range `(1,2)` e para `200` features: "
      ]
    },
    {
      "cell_type": "code",
      "execution_count": 14,
      "metadata": {
        "id": "2wErbVZYgKdO"
      },
      "outputs": [],
      "source": [
        "# vetorizar os ingredientes para bigramas para 200 features\n",
        "cv = CountVectorizer(analyzer = 'word', ngram_range = (1, 2), max_features = 200)"
      ]
    },
    {
      "cell_type": "markdown",
      "metadata": {
        "id": "fuGFayK7gKdO"
      },
      "source": [
        "Sendo `cv` o resultado do processamento de `CountVectorizer`, crie um DataFrame da seguinte forma:\n",
        "\n",
        "```python\n",
        "tf = cv.fit_transform(ingredients)\n",
        "\n",
        "df_vectorized = pd.DataFrame(tf.toarray(), columns=cv.get_feature_names_out())\n",
        "df_vectorized\n",
        "```"
      ]
    },
    {
      "cell_type": "code",
      "execution_count": 15,
      "metadata": {
        "colab": {
          "base_uri": "https://localhost:8080/",
          "height": 505
        },
        "id": "aI_y6Y_OgKdP",
        "outputId": "97b9f19c-c4dc-4e37-b6fe-f450bf2d02bb"
      },
      "outputs": [
        {
          "output_type": "execute_result",
          "data": {
            "text/plain": [
              "       all  all purpose  avocado  baking  baking powder  basil  bay  beans  \\\n",
              "0        0            0        0       0              0      0    0      1   \n",
              "1        0            0        0       0              0      0    0      0   \n",
              "2        0            0        0       0              0      0    0      0   \n",
              "3        0            0        0       0              0      0    0      0   \n",
              "4        0            0        0       0              0      0    1      0   \n",
              "...    ...          ...      ...     ...            ...    ...  ...    ...   \n",
              "39769    1            1        0       0              0      0    0      0   \n",
              "39770    0            0        0       0              0      0    0      0   \n",
              "39771    0            0        0       0              0      0    0      0   \n",
              "39772    0            0        0       2              1      0    0      0   \n",
              "39773    0            0        0       0              0      0    0      0   \n",
              "\n",
              "       beef  bell  ...  vegetable oil  vinegar  virgin  virgin olive  water  \\\n",
              "0         0     0  ...              0        0       0             0      0   \n",
              "1         0     0  ...              1        0       0             0      0   \n",
              "2         0     0  ...              0        0       0             0      0   \n",
              "3         0     0  ...              1        0       0             0      1   \n",
              "4         0     0  ...              0        0       0             0      1   \n",
              "...     ...   ...  ...            ...      ...     ...           ...    ...   \n",
              "39769     0     0  ...              0        0       0             0      2   \n",
              "39770     0     0  ...              0        0       0             0      0   \n",
              "39771     0     0  ...              0        0       0             0      0   \n",
              "39772     0     0  ...              0        1       0             0      0   \n",
              "39773     0     1  ...              0        0       0             0      0   \n",
              "\n",
              "       white  white wine  whole  wine  yellow  \n",
              "0          0           0      0     0       0  \n",
              "1          0           0      0     0       1  \n",
              "2          0           0      0     0       1  \n",
              "3          0           0      0     0       0  \n",
              "4          0           0      0     0       0  \n",
              "...      ...         ...    ...   ...     ...  \n",
              "39769      0           0      1     0       0  \n",
              "39770      0           0      0     0       0  \n",
              "39771      0           0      0     0       0  \n",
              "39772      1           0      0     1       0  \n",
              "39773      1           0      0     0       0  \n",
              "\n",
              "[39774 rows x 200 columns]"
            ],
            "text/html": [
              "\n",
              "  <div id=\"df-01e06a62-cf11-4d5d-8d81-a1bd8ce19d9b\">\n",
              "    <div class=\"colab-df-container\">\n",
              "      <div>\n",
              "<style scoped>\n",
              "    .dataframe tbody tr th:only-of-type {\n",
              "        vertical-align: middle;\n",
              "    }\n",
              "\n",
              "    .dataframe tbody tr th {\n",
              "        vertical-align: top;\n",
              "    }\n",
              "\n",
              "    .dataframe thead th {\n",
              "        text-align: right;\n",
              "    }\n",
              "</style>\n",
              "<table border=\"1\" class=\"dataframe\">\n",
              "  <thead>\n",
              "    <tr style=\"text-align: right;\">\n",
              "      <th></th>\n",
              "      <th>all</th>\n",
              "      <th>all purpose</th>\n",
              "      <th>avocado</th>\n",
              "      <th>baking</th>\n",
              "      <th>baking powder</th>\n",
              "      <th>basil</th>\n",
              "      <th>bay</th>\n",
              "      <th>beans</th>\n",
              "      <th>beef</th>\n",
              "      <th>bell</th>\n",
              "      <th>...</th>\n",
              "      <th>vegetable oil</th>\n",
              "      <th>vinegar</th>\n",
              "      <th>virgin</th>\n",
              "      <th>virgin olive</th>\n",
              "      <th>water</th>\n",
              "      <th>white</th>\n",
              "      <th>white wine</th>\n",
              "      <th>whole</th>\n",
              "      <th>wine</th>\n",
              "      <th>yellow</th>\n",
              "    </tr>\n",
              "  </thead>\n",
              "  <tbody>\n",
              "    <tr>\n",
              "      <th>0</th>\n",
              "      <td>0</td>\n",
              "      <td>0</td>\n",
              "      <td>0</td>\n",
              "      <td>0</td>\n",
              "      <td>0</td>\n",
              "      <td>0</td>\n",
              "      <td>0</td>\n",
              "      <td>1</td>\n",
              "      <td>0</td>\n",
              "      <td>0</td>\n",
              "      <td>...</td>\n",
              "      <td>0</td>\n",
              "      <td>0</td>\n",
              "      <td>0</td>\n",
              "      <td>0</td>\n",
              "      <td>0</td>\n",
              "      <td>0</td>\n",
              "      <td>0</td>\n",
              "      <td>0</td>\n",
              "      <td>0</td>\n",
              "      <td>0</td>\n",
              "    </tr>\n",
              "    <tr>\n",
              "      <th>1</th>\n",
              "      <td>0</td>\n",
              "      <td>0</td>\n",
              "      <td>0</td>\n",
              "      <td>0</td>\n",
              "      <td>0</td>\n",
              "      <td>0</td>\n",
              "      <td>0</td>\n",
              "      <td>0</td>\n",
              "      <td>0</td>\n",
              "      <td>0</td>\n",
              "      <td>...</td>\n",
              "      <td>1</td>\n",
              "      <td>0</td>\n",
              "      <td>0</td>\n",
              "      <td>0</td>\n",
              "      <td>0</td>\n",
              "      <td>0</td>\n",
              "      <td>0</td>\n",
              "      <td>0</td>\n",
              "      <td>0</td>\n",
              "      <td>1</td>\n",
              "    </tr>\n",
              "    <tr>\n",
              "      <th>2</th>\n",
              "      <td>0</td>\n",
              "      <td>0</td>\n",
              "      <td>0</td>\n",
              "      <td>0</td>\n",
              "      <td>0</td>\n",
              "      <td>0</td>\n",
              "      <td>0</td>\n",
              "      <td>0</td>\n",
              "      <td>0</td>\n",
              "      <td>0</td>\n",
              "      <td>...</td>\n",
              "      <td>0</td>\n",
              "      <td>0</td>\n",
              "      <td>0</td>\n",
              "      <td>0</td>\n",
              "      <td>0</td>\n",
              "      <td>0</td>\n",
              "      <td>0</td>\n",
              "      <td>0</td>\n",
              "      <td>0</td>\n",
              "      <td>1</td>\n",
              "    </tr>\n",
              "    <tr>\n",
              "      <th>3</th>\n",
              "      <td>0</td>\n",
              "      <td>0</td>\n",
              "      <td>0</td>\n",
              "      <td>0</td>\n",
              "      <td>0</td>\n",
              "      <td>0</td>\n",
              "      <td>0</td>\n",
              "      <td>0</td>\n",
              "      <td>0</td>\n",
              "      <td>0</td>\n",
              "      <td>...</td>\n",
              "      <td>1</td>\n",
              "      <td>0</td>\n",
              "      <td>0</td>\n",
              "      <td>0</td>\n",
              "      <td>1</td>\n",
              "      <td>0</td>\n",
              "      <td>0</td>\n",
              "      <td>0</td>\n",
              "      <td>0</td>\n",
              "      <td>0</td>\n",
              "    </tr>\n",
              "    <tr>\n",
              "      <th>4</th>\n",
              "      <td>0</td>\n",
              "      <td>0</td>\n",
              "      <td>0</td>\n",
              "      <td>0</td>\n",
              "      <td>0</td>\n",
              "      <td>0</td>\n",
              "      <td>1</td>\n",
              "      <td>0</td>\n",
              "      <td>0</td>\n",
              "      <td>0</td>\n",
              "      <td>...</td>\n",
              "      <td>0</td>\n",
              "      <td>0</td>\n",
              "      <td>0</td>\n",
              "      <td>0</td>\n",
              "      <td>1</td>\n",
              "      <td>0</td>\n",
              "      <td>0</td>\n",
              "      <td>0</td>\n",
              "      <td>0</td>\n",
              "      <td>0</td>\n",
              "    </tr>\n",
              "    <tr>\n",
              "      <th>...</th>\n",
              "      <td>...</td>\n",
              "      <td>...</td>\n",
              "      <td>...</td>\n",
              "      <td>...</td>\n",
              "      <td>...</td>\n",
              "      <td>...</td>\n",
              "      <td>...</td>\n",
              "      <td>...</td>\n",
              "      <td>...</td>\n",
              "      <td>...</td>\n",
              "      <td>...</td>\n",
              "      <td>...</td>\n",
              "      <td>...</td>\n",
              "      <td>...</td>\n",
              "      <td>...</td>\n",
              "      <td>...</td>\n",
              "      <td>...</td>\n",
              "      <td>...</td>\n",
              "      <td>...</td>\n",
              "      <td>...</td>\n",
              "      <td>...</td>\n",
              "    </tr>\n",
              "    <tr>\n",
              "      <th>39769</th>\n",
              "      <td>1</td>\n",
              "      <td>1</td>\n",
              "      <td>0</td>\n",
              "      <td>0</td>\n",
              "      <td>0</td>\n",
              "      <td>0</td>\n",
              "      <td>0</td>\n",
              "      <td>0</td>\n",
              "      <td>0</td>\n",
              "      <td>0</td>\n",
              "      <td>...</td>\n",
              "      <td>0</td>\n",
              "      <td>0</td>\n",
              "      <td>0</td>\n",
              "      <td>0</td>\n",
              "      <td>2</td>\n",
              "      <td>0</td>\n",
              "      <td>0</td>\n",
              "      <td>1</td>\n",
              "      <td>0</td>\n",
              "      <td>0</td>\n",
              "    </tr>\n",
              "    <tr>\n",
              "      <th>39770</th>\n",
              "      <td>0</td>\n",
              "      <td>0</td>\n",
              "      <td>0</td>\n",
              "      <td>0</td>\n",
              "      <td>0</td>\n",
              "      <td>0</td>\n",
              "      <td>0</td>\n",
              "      <td>0</td>\n",
              "      <td>0</td>\n",
              "      <td>0</td>\n",
              "      <td>...</td>\n",
              "      <td>0</td>\n",
              "      <td>0</td>\n",
              "      <td>0</td>\n",
              "      <td>0</td>\n",
              "      <td>0</td>\n",
              "      <td>0</td>\n",
              "      <td>0</td>\n",
              "      <td>0</td>\n",
              "      <td>0</td>\n",
              "      <td>0</td>\n",
              "    </tr>\n",
              "    <tr>\n",
              "      <th>39771</th>\n",
              "      <td>0</td>\n",
              "      <td>0</td>\n",
              "      <td>0</td>\n",
              "      <td>0</td>\n",
              "      <td>0</td>\n",
              "      <td>0</td>\n",
              "      <td>0</td>\n",
              "      <td>0</td>\n",
              "      <td>0</td>\n",
              "      <td>0</td>\n",
              "      <td>...</td>\n",
              "      <td>0</td>\n",
              "      <td>0</td>\n",
              "      <td>0</td>\n",
              "      <td>0</td>\n",
              "      <td>0</td>\n",
              "      <td>0</td>\n",
              "      <td>0</td>\n",
              "      <td>0</td>\n",
              "      <td>0</td>\n",
              "      <td>0</td>\n",
              "    </tr>\n",
              "    <tr>\n",
              "      <th>39772</th>\n",
              "      <td>0</td>\n",
              "      <td>0</td>\n",
              "      <td>0</td>\n",
              "      <td>2</td>\n",
              "      <td>1</td>\n",
              "      <td>0</td>\n",
              "      <td>0</td>\n",
              "      <td>0</td>\n",
              "      <td>0</td>\n",
              "      <td>0</td>\n",
              "      <td>...</td>\n",
              "      <td>0</td>\n",
              "      <td>1</td>\n",
              "      <td>0</td>\n",
              "      <td>0</td>\n",
              "      <td>0</td>\n",
              "      <td>1</td>\n",
              "      <td>0</td>\n",
              "      <td>0</td>\n",
              "      <td>1</td>\n",
              "      <td>0</td>\n",
              "    </tr>\n",
              "    <tr>\n",
              "      <th>39773</th>\n",
              "      <td>0</td>\n",
              "      <td>0</td>\n",
              "      <td>0</td>\n",
              "      <td>0</td>\n",
              "      <td>0</td>\n",
              "      <td>0</td>\n",
              "      <td>0</td>\n",
              "      <td>0</td>\n",
              "      <td>0</td>\n",
              "      <td>1</td>\n",
              "      <td>...</td>\n",
              "      <td>0</td>\n",
              "      <td>0</td>\n",
              "      <td>0</td>\n",
              "      <td>0</td>\n",
              "      <td>0</td>\n",
              "      <td>1</td>\n",
              "      <td>0</td>\n",
              "      <td>0</td>\n",
              "      <td>0</td>\n",
              "      <td>0</td>\n",
              "    </tr>\n",
              "  </tbody>\n",
              "</table>\n",
              "<p>39774 rows × 200 columns</p>\n",
              "</div>\n",
              "      <button class=\"colab-df-convert\" onclick=\"convertToInteractive('df-01e06a62-cf11-4d5d-8d81-a1bd8ce19d9b')\"\n",
              "              title=\"Convert this dataframe to an interactive table.\"\n",
              "              style=\"display:none;\">\n",
              "        \n",
              "  <svg xmlns=\"http://www.w3.org/2000/svg\" height=\"24px\"viewBox=\"0 0 24 24\"\n",
              "       width=\"24px\">\n",
              "    <path d=\"M0 0h24v24H0V0z\" fill=\"none\"/>\n",
              "    <path d=\"M18.56 5.44l.94 2.06.94-2.06 2.06-.94-2.06-.94-.94-2.06-.94 2.06-2.06.94zm-11 1L8.5 8.5l.94-2.06 2.06-.94-2.06-.94L8.5 2.5l-.94 2.06-2.06.94zm10 10l.94 2.06.94-2.06 2.06-.94-2.06-.94-.94-2.06-.94 2.06-2.06.94z\"/><path d=\"M17.41 7.96l-1.37-1.37c-.4-.4-.92-.59-1.43-.59-.52 0-1.04.2-1.43.59L10.3 9.45l-7.72 7.72c-.78.78-.78 2.05 0 2.83L4 21.41c.39.39.9.59 1.41.59.51 0 1.02-.2 1.41-.59l7.78-7.78 2.81-2.81c.8-.78.8-2.07 0-2.86zM5.41 20L4 18.59l7.72-7.72 1.47 1.35L5.41 20z\"/>\n",
              "  </svg>\n",
              "      </button>\n",
              "      \n",
              "  <style>\n",
              "    .colab-df-container {\n",
              "      display:flex;\n",
              "      flex-wrap:wrap;\n",
              "      gap: 12px;\n",
              "    }\n",
              "\n",
              "    .colab-df-convert {\n",
              "      background-color: #E8F0FE;\n",
              "      border: none;\n",
              "      border-radius: 50%;\n",
              "      cursor: pointer;\n",
              "      display: none;\n",
              "      fill: #1967D2;\n",
              "      height: 32px;\n",
              "      padding: 0 0 0 0;\n",
              "      width: 32px;\n",
              "    }\n",
              "\n",
              "    .colab-df-convert:hover {\n",
              "      background-color: #E2EBFA;\n",
              "      box-shadow: 0px 1px 2px rgba(60, 64, 67, 0.3), 0px 1px 3px 1px rgba(60, 64, 67, 0.15);\n",
              "      fill: #174EA6;\n",
              "    }\n",
              "\n",
              "    [theme=dark] .colab-df-convert {\n",
              "      background-color: #3B4455;\n",
              "      fill: #D2E3FC;\n",
              "    }\n",
              "\n",
              "    [theme=dark] .colab-df-convert:hover {\n",
              "      background-color: #434B5C;\n",
              "      box-shadow: 0px 1px 3px 1px rgba(0, 0, 0, 0.15);\n",
              "      filter: drop-shadow(0px 1px 2px rgba(0, 0, 0, 0.3));\n",
              "      fill: #FFFFFF;\n",
              "    }\n",
              "  </style>\n",
              "\n",
              "      <script>\n",
              "        const buttonEl =\n",
              "          document.querySelector('#df-01e06a62-cf11-4d5d-8d81-a1bd8ce19d9b button.colab-df-convert');\n",
              "        buttonEl.style.display =\n",
              "          google.colab.kernel.accessAllowed ? 'block' : 'none';\n",
              "\n",
              "        async function convertToInteractive(key) {\n",
              "          const element = document.querySelector('#df-01e06a62-cf11-4d5d-8d81-a1bd8ce19d9b');\n",
              "          const dataTable =\n",
              "            await google.colab.kernel.invokeFunction('convertToInteractive',\n",
              "                                                     [key], {});\n",
              "          if (!dataTable) return;\n",
              "\n",
              "          const docLinkHtml = 'Like what you see? Visit the ' +\n",
              "            '<a target=\"_blank\" href=https://colab.research.google.com/notebooks/data_table.ipynb>data table notebook</a>'\n",
              "            + ' to learn more about interactive tables.';\n",
              "          element.innerHTML = '';\n",
              "          dataTable['output_type'] = 'display_data';\n",
              "          await google.colab.output.renderOutput(dataTable, element);\n",
              "          const docLink = document.createElement('div');\n",
              "          docLink.innerHTML = docLinkHtml;\n",
              "          element.appendChild(docLink);\n",
              "        }\n",
              "      </script>\n",
              "    </div>\n",
              "  </div>\n",
              "  "
            ]
          },
          "metadata": {},
          "execution_count": 15
        }
      ],
      "source": [
        "# fit e transformar os ingredientes\n",
        "tf = cv.fit_transform(ingredients)\n",
        "\n",
        "# converter a matriz de contagem em um dataframe\n",
        "df_vectorized = pd.DataFrame(tf.toarray(), columns = cv.get_feature_names_out())\n",
        "df_vectorized"
      ]
    },
    {
      "cell_type": "markdown",
      "metadata": {
        "id": "aqXNm5mygKdP"
      },
      "source": [
        "* A matriz é muito esparsa! Muitos pratos (linhas) terão uma tonelada de 0s\n",
        "* Os números são muito pequenos, geralmente 1 ou no máximo 2\n",
        "* Palavras como `all, all purpose, baking, virgin, white e yellow` não têm muito significado. Provavelmente devemos removê-los."
      ]
    },
    {
      "cell_type": "markdown",
      "metadata": {
        "id": "YjNTTYgcgKdP"
      },
      "source": [
        "Remova as seguintes palavras sem sentido que podem ser geradas pelo n-grama."
      ]
    },
    {
      "cell_type": "code",
      "execution_count": 16,
      "metadata": {
        "id": "olzV50iWgKdQ"
      },
      "outputs": [],
      "source": [
        "excludedWords = ['all', 'all purpose', 'baking', 'brown', 'cooked', 'cooking', 'diced', 'dried', 'dry',\n",
        "                 'extra', 'extra virgin', 'extract', 'grated', 'green', 'ground', 'heavy', 'hot', \n",
        "                 'italian', 'kosher', 'large', 'low', 'minced', 'light', 'powder', 'purple', 'purpose',\n",
        "                 'purpose flour', 'red', 'sea', 'skinless', 'sliced', 'sodium chicken','sour','unsalted',\n",
        "                 'virgin', 'white','whole','yellow']"
      ]
    },
    {
      "cell_type": "markdown",
      "metadata": {
        "id": "lxYy8BqygKdQ"
      },
      "source": [
        "Quando você trabalha com dados de texto, especialmente incorporações de palavras, geralmente não é recomendado remover recursos manualmente dessa forma, pois é subjetivo e não reproduzível. Com o raciocínio apropriado, no entanto, poderia ser aceitável.\n",
        "\n",
        "Use o método `drop` do pandas para remover as colunas cujo nome são `excludedWords`."
      ]
    },
    {
      "cell_type": "code",
      "execution_count": 17,
      "metadata": {
        "colab": {
          "base_uri": "https://localhost:8080/",
          "height": 505
        },
        "id": "ZwT5YuTjgKdQ",
        "outputId": "458562b7-03a6-4907-9762-03012bc9283b"
      },
      "outputs": [
        {
          "output_type": "execute_result",
          "data": {
            "text/plain": [
              "       avocado  baking powder  basil  bay  beans  beef  bell  bell pepper  \\\n",
              "0            0              0      0    0      1     0     0            0   \n",
              "1            0              0      0    0      0     0     0            0   \n",
              "2            0              0      0    0      0     0     0            0   \n",
              "3            0              0      0    0      0     0     0            0   \n",
              "4            0              0      0    1      0     0     0            0   \n",
              "...        ...            ...    ...  ...    ...   ...   ...          ...   \n",
              "39769        0              0      0    0      0     0     0            0   \n",
              "39770        0              0      0    0      0     0     0            0   \n",
              "39771        0              0      0    0      0     0     0            0   \n",
              "39772        0              1      0    0      0     0     0            0   \n",
              "39773        0              0      0    0      0     0     1            1   \n",
              "\n",
              "       black  black pepper  ...  unsalted butter  vanilla  vanilla extract  \\\n",
              "0          1             0  ...                0        0                0   \n",
              "1          1             1  ...                0        0                0   \n",
              "2          0             0  ...                0        0                0   \n",
              "3          0             0  ...                0        0                0   \n",
              "4          1             1  ...                0        0                0   \n",
              "...      ...           ...  ...              ...      ...              ...   \n",
              "39769      0             0  ...                0        0                0   \n",
              "39770      1             0  ...                0        0                0   \n",
              "39771      0             0  ...                0        0                0   \n",
              "39772      0             0  ...                0        0                0   \n",
              "39773      1             1  ...                0        0                0   \n",
              "\n",
              "       vegetable  vegetable oil  vinegar  virgin olive  water  white wine  \\\n",
              "0              0              0        0             0      0           0   \n",
              "1              1              1        0             0      0           0   \n",
              "2              0              0        0             0      0           0   \n",
              "3              1              1        0             0      1           0   \n",
              "4              0              0        0             0      1           0   \n",
              "...          ...            ...      ...           ...    ...         ...   \n",
              "39769          0              0        0             0      2           0   \n",
              "39770          0              0        0             0      0           0   \n",
              "39771          0              0        0             0      0           0   \n",
              "39772          0              0        1             0      0           0   \n",
              "39773          0              0        0             0      0           0   \n",
              "\n",
              "       wine  \n",
              "0         0  \n",
              "1         0  \n",
              "2         0  \n",
              "3         0  \n",
              "4         0  \n",
              "...     ...  \n",
              "39769     0  \n",
              "39770     0  \n",
              "39771     0  \n",
              "39772     1  \n",
              "39773     0  \n",
              "\n",
              "[39774 rows x 162 columns]"
            ],
            "text/html": [
              "\n",
              "  <div id=\"df-a3447752-a6fc-465f-bfca-985b4db806d2\">\n",
              "    <div class=\"colab-df-container\">\n",
              "      <div>\n",
              "<style scoped>\n",
              "    .dataframe tbody tr th:only-of-type {\n",
              "        vertical-align: middle;\n",
              "    }\n",
              "\n",
              "    .dataframe tbody tr th {\n",
              "        vertical-align: top;\n",
              "    }\n",
              "\n",
              "    .dataframe thead th {\n",
              "        text-align: right;\n",
              "    }\n",
              "</style>\n",
              "<table border=\"1\" class=\"dataframe\">\n",
              "  <thead>\n",
              "    <tr style=\"text-align: right;\">\n",
              "      <th></th>\n",
              "      <th>avocado</th>\n",
              "      <th>baking powder</th>\n",
              "      <th>basil</th>\n",
              "      <th>bay</th>\n",
              "      <th>beans</th>\n",
              "      <th>beef</th>\n",
              "      <th>bell</th>\n",
              "      <th>bell pepper</th>\n",
              "      <th>black</th>\n",
              "      <th>black pepper</th>\n",
              "      <th>...</th>\n",
              "      <th>unsalted butter</th>\n",
              "      <th>vanilla</th>\n",
              "      <th>vanilla extract</th>\n",
              "      <th>vegetable</th>\n",
              "      <th>vegetable oil</th>\n",
              "      <th>vinegar</th>\n",
              "      <th>virgin olive</th>\n",
              "      <th>water</th>\n",
              "      <th>white wine</th>\n",
              "      <th>wine</th>\n",
              "    </tr>\n",
              "  </thead>\n",
              "  <tbody>\n",
              "    <tr>\n",
              "      <th>0</th>\n",
              "      <td>0</td>\n",
              "      <td>0</td>\n",
              "      <td>0</td>\n",
              "      <td>0</td>\n",
              "      <td>1</td>\n",
              "      <td>0</td>\n",
              "      <td>0</td>\n",
              "      <td>0</td>\n",
              "      <td>1</td>\n",
              "      <td>0</td>\n",
              "      <td>...</td>\n",
              "      <td>0</td>\n",
              "      <td>0</td>\n",
              "      <td>0</td>\n",
              "      <td>0</td>\n",
              "      <td>0</td>\n",
              "      <td>0</td>\n",
              "      <td>0</td>\n",
              "      <td>0</td>\n",
              "      <td>0</td>\n",
              "      <td>0</td>\n",
              "    </tr>\n",
              "    <tr>\n",
              "      <th>1</th>\n",
              "      <td>0</td>\n",
              "      <td>0</td>\n",
              "      <td>0</td>\n",
              "      <td>0</td>\n",
              "      <td>0</td>\n",
              "      <td>0</td>\n",
              "      <td>0</td>\n",
              "      <td>0</td>\n",
              "      <td>1</td>\n",
              "      <td>1</td>\n",
              "      <td>...</td>\n",
              "      <td>0</td>\n",
              "      <td>0</td>\n",
              "      <td>0</td>\n",
              "      <td>1</td>\n",
              "      <td>1</td>\n",
              "      <td>0</td>\n",
              "      <td>0</td>\n",
              "      <td>0</td>\n",
              "      <td>0</td>\n",
              "      <td>0</td>\n",
              "    </tr>\n",
              "    <tr>\n",
              "      <th>2</th>\n",
              "      <td>0</td>\n",
              "      <td>0</td>\n",
              "      <td>0</td>\n",
              "      <td>0</td>\n",
              "      <td>0</td>\n",
              "      <td>0</td>\n",
              "      <td>0</td>\n",
              "      <td>0</td>\n",
              "      <td>0</td>\n",
              "      <td>0</td>\n",
              "      <td>...</td>\n",
              "      <td>0</td>\n",
              "      <td>0</td>\n",
              "      <td>0</td>\n",
              "      <td>0</td>\n",
              "      <td>0</td>\n",
              "      <td>0</td>\n",
              "      <td>0</td>\n",
              "      <td>0</td>\n",
              "      <td>0</td>\n",
              "      <td>0</td>\n",
              "    </tr>\n",
              "    <tr>\n",
              "      <th>3</th>\n",
              "      <td>0</td>\n",
              "      <td>0</td>\n",
              "      <td>0</td>\n",
              "      <td>0</td>\n",
              "      <td>0</td>\n",
              "      <td>0</td>\n",
              "      <td>0</td>\n",
              "      <td>0</td>\n",
              "      <td>0</td>\n",
              "      <td>0</td>\n",
              "      <td>...</td>\n",
              "      <td>0</td>\n",
              "      <td>0</td>\n",
              "      <td>0</td>\n",
              "      <td>1</td>\n",
              "      <td>1</td>\n",
              "      <td>0</td>\n",
              "      <td>0</td>\n",
              "      <td>1</td>\n",
              "      <td>0</td>\n",
              "      <td>0</td>\n",
              "    </tr>\n",
              "    <tr>\n",
              "      <th>4</th>\n",
              "      <td>0</td>\n",
              "      <td>0</td>\n",
              "      <td>0</td>\n",
              "      <td>1</td>\n",
              "      <td>0</td>\n",
              "      <td>0</td>\n",
              "      <td>0</td>\n",
              "      <td>0</td>\n",
              "      <td>1</td>\n",
              "      <td>1</td>\n",
              "      <td>...</td>\n",
              "      <td>0</td>\n",
              "      <td>0</td>\n",
              "      <td>0</td>\n",
              "      <td>0</td>\n",
              "      <td>0</td>\n",
              "      <td>0</td>\n",
              "      <td>0</td>\n",
              "      <td>1</td>\n",
              "      <td>0</td>\n",
              "      <td>0</td>\n",
              "    </tr>\n",
              "    <tr>\n",
              "      <th>...</th>\n",
              "      <td>...</td>\n",
              "      <td>...</td>\n",
              "      <td>...</td>\n",
              "      <td>...</td>\n",
              "      <td>...</td>\n",
              "      <td>...</td>\n",
              "      <td>...</td>\n",
              "      <td>...</td>\n",
              "      <td>...</td>\n",
              "      <td>...</td>\n",
              "      <td>...</td>\n",
              "      <td>...</td>\n",
              "      <td>...</td>\n",
              "      <td>...</td>\n",
              "      <td>...</td>\n",
              "      <td>...</td>\n",
              "      <td>...</td>\n",
              "      <td>...</td>\n",
              "      <td>...</td>\n",
              "      <td>...</td>\n",
              "      <td>...</td>\n",
              "    </tr>\n",
              "    <tr>\n",
              "      <th>39769</th>\n",
              "      <td>0</td>\n",
              "      <td>0</td>\n",
              "      <td>0</td>\n",
              "      <td>0</td>\n",
              "      <td>0</td>\n",
              "      <td>0</td>\n",
              "      <td>0</td>\n",
              "      <td>0</td>\n",
              "      <td>0</td>\n",
              "      <td>0</td>\n",
              "      <td>...</td>\n",
              "      <td>0</td>\n",
              "      <td>0</td>\n",
              "      <td>0</td>\n",
              "      <td>0</td>\n",
              "      <td>0</td>\n",
              "      <td>0</td>\n",
              "      <td>0</td>\n",
              "      <td>2</td>\n",
              "      <td>0</td>\n",
              "      <td>0</td>\n",
              "    </tr>\n",
              "    <tr>\n",
              "      <th>39770</th>\n",
              "      <td>0</td>\n",
              "      <td>0</td>\n",
              "      <td>0</td>\n",
              "      <td>0</td>\n",
              "      <td>0</td>\n",
              "      <td>0</td>\n",
              "      <td>0</td>\n",
              "      <td>0</td>\n",
              "      <td>1</td>\n",
              "      <td>0</td>\n",
              "      <td>...</td>\n",
              "      <td>0</td>\n",
              "      <td>0</td>\n",
              "      <td>0</td>\n",
              "      <td>0</td>\n",
              "      <td>0</td>\n",
              "      <td>0</td>\n",
              "      <td>0</td>\n",
              "      <td>0</td>\n",
              "      <td>0</td>\n",
              "      <td>0</td>\n",
              "    </tr>\n",
              "    <tr>\n",
              "      <th>39771</th>\n",
              "      <td>0</td>\n",
              "      <td>0</td>\n",
              "      <td>0</td>\n",
              "      <td>0</td>\n",
              "      <td>0</td>\n",
              "      <td>0</td>\n",
              "      <td>0</td>\n",
              "      <td>0</td>\n",
              "      <td>0</td>\n",
              "      <td>0</td>\n",
              "      <td>...</td>\n",
              "      <td>0</td>\n",
              "      <td>0</td>\n",
              "      <td>0</td>\n",
              "      <td>0</td>\n",
              "      <td>0</td>\n",
              "      <td>0</td>\n",
              "      <td>0</td>\n",
              "      <td>0</td>\n",
              "      <td>0</td>\n",
              "      <td>0</td>\n",
              "    </tr>\n",
              "    <tr>\n",
              "      <th>39772</th>\n",
              "      <td>0</td>\n",
              "      <td>1</td>\n",
              "      <td>0</td>\n",
              "      <td>0</td>\n",
              "      <td>0</td>\n",
              "      <td>0</td>\n",
              "      <td>0</td>\n",
              "      <td>0</td>\n",
              "      <td>0</td>\n",
              "      <td>0</td>\n",
              "      <td>...</td>\n",
              "      <td>0</td>\n",
              "      <td>0</td>\n",
              "      <td>0</td>\n",
              "      <td>0</td>\n",
              "      <td>0</td>\n",
              "      <td>1</td>\n",
              "      <td>0</td>\n",
              "      <td>0</td>\n",
              "      <td>0</td>\n",
              "      <td>1</td>\n",
              "    </tr>\n",
              "    <tr>\n",
              "      <th>39773</th>\n",
              "      <td>0</td>\n",
              "      <td>0</td>\n",
              "      <td>0</td>\n",
              "      <td>0</td>\n",
              "      <td>0</td>\n",
              "      <td>0</td>\n",
              "      <td>1</td>\n",
              "      <td>1</td>\n",
              "      <td>1</td>\n",
              "      <td>1</td>\n",
              "      <td>...</td>\n",
              "      <td>0</td>\n",
              "      <td>0</td>\n",
              "      <td>0</td>\n",
              "      <td>0</td>\n",
              "      <td>0</td>\n",
              "      <td>0</td>\n",
              "      <td>0</td>\n",
              "      <td>0</td>\n",
              "      <td>0</td>\n",
              "      <td>0</td>\n",
              "    </tr>\n",
              "  </tbody>\n",
              "</table>\n",
              "<p>39774 rows × 162 columns</p>\n",
              "</div>\n",
              "      <button class=\"colab-df-convert\" onclick=\"convertToInteractive('df-a3447752-a6fc-465f-bfca-985b4db806d2')\"\n",
              "              title=\"Convert this dataframe to an interactive table.\"\n",
              "              style=\"display:none;\">\n",
              "        \n",
              "  <svg xmlns=\"http://www.w3.org/2000/svg\" height=\"24px\"viewBox=\"0 0 24 24\"\n",
              "       width=\"24px\">\n",
              "    <path d=\"M0 0h24v24H0V0z\" fill=\"none\"/>\n",
              "    <path d=\"M18.56 5.44l.94 2.06.94-2.06 2.06-.94-2.06-.94-.94-2.06-.94 2.06-2.06.94zm-11 1L8.5 8.5l.94-2.06 2.06-.94-2.06-.94L8.5 2.5l-.94 2.06-2.06.94zm10 10l.94 2.06.94-2.06 2.06-.94-2.06-.94-.94-2.06-.94 2.06-2.06.94z\"/><path d=\"M17.41 7.96l-1.37-1.37c-.4-.4-.92-.59-1.43-.59-.52 0-1.04.2-1.43.59L10.3 9.45l-7.72 7.72c-.78.78-.78 2.05 0 2.83L4 21.41c.39.39.9.59 1.41.59.51 0 1.02-.2 1.41-.59l7.78-7.78 2.81-2.81c.8-.78.8-2.07 0-2.86zM5.41 20L4 18.59l7.72-7.72 1.47 1.35L5.41 20z\"/>\n",
              "  </svg>\n",
              "      </button>\n",
              "      \n",
              "  <style>\n",
              "    .colab-df-container {\n",
              "      display:flex;\n",
              "      flex-wrap:wrap;\n",
              "      gap: 12px;\n",
              "    }\n",
              "\n",
              "    .colab-df-convert {\n",
              "      background-color: #E8F0FE;\n",
              "      border: none;\n",
              "      border-radius: 50%;\n",
              "      cursor: pointer;\n",
              "      display: none;\n",
              "      fill: #1967D2;\n",
              "      height: 32px;\n",
              "      padding: 0 0 0 0;\n",
              "      width: 32px;\n",
              "    }\n",
              "\n",
              "    .colab-df-convert:hover {\n",
              "      background-color: #E2EBFA;\n",
              "      box-shadow: 0px 1px 2px rgba(60, 64, 67, 0.3), 0px 1px 3px 1px rgba(60, 64, 67, 0.15);\n",
              "      fill: #174EA6;\n",
              "    }\n",
              "\n",
              "    [theme=dark] .colab-df-convert {\n",
              "      background-color: #3B4455;\n",
              "      fill: #D2E3FC;\n",
              "    }\n",
              "\n",
              "    [theme=dark] .colab-df-convert:hover {\n",
              "      background-color: #434B5C;\n",
              "      box-shadow: 0px 1px 3px 1px rgba(0, 0, 0, 0.15);\n",
              "      filter: drop-shadow(0px 1px 2px rgba(0, 0, 0, 0.3));\n",
              "      fill: #FFFFFF;\n",
              "    }\n",
              "  </style>\n",
              "\n",
              "      <script>\n",
              "        const buttonEl =\n",
              "          document.querySelector('#df-a3447752-a6fc-465f-bfca-985b4db806d2 button.colab-df-convert');\n",
              "        buttonEl.style.display =\n",
              "          google.colab.kernel.accessAllowed ? 'block' : 'none';\n",
              "\n",
              "        async function convertToInteractive(key) {\n",
              "          const element = document.querySelector('#df-a3447752-a6fc-465f-bfca-985b4db806d2');\n",
              "          const dataTable =\n",
              "            await google.colab.kernel.invokeFunction('convertToInteractive',\n",
              "                                                     [key], {});\n",
              "          if (!dataTable) return;\n",
              "\n",
              "          const docLinkHtml = 'Like what you see? Visit the ' +\n",
              "            '<a target=\"_blank\" href=https://colab.research.google.com/notebooks/data_table.ipynb>data table notebook</a>'\n",
              "            + ' to learn more about interactive tables.';\n",
              "          element.innerHTML = '';\n",
              "          dataTable['output_type'] = 'display_data';\n",
              "          await google.colab.output.renderOutput(dataTable, element);\n",
              "          const docLink = document.createElement('div');\n",
              "          docLink.innerHTML = docLinkHtml;\n",
              "          element.appendChild(docLink);\n",
              "        }\n",
              "      </script>\n",
              "    </div>\n",
              "  </div>\n",
              "  "
            ]
          },
          "metadata": {},
          "execution_count": 17
        }
      ],
      "source": [
        "# Remover as excludedWords do dataframe\n",
        "df_vectorized = df_vectorized.drop(excludedWords, axis = 1)\n",
        "df_vectorized"
      ]
    },
    {
      "cell_type": "markdown",
      "metadata": {
        "id": "okdAJ9FSgKdR"
      },
      "source": [
        "Usando esse conjunto de dados, agora podemos aplicar a **Regressão Logística**."
      ]
    },
    {
      "cell_type": "markdown",
      "metadata": {
        "id": "k9WGMD1TgKdR"
      },
      "source": [
        "### Nota sobre embeddings \n",
        "\n",
        "O que temos aqui é uma matriz de frequência de termos muito simples. Como é essencialmente uma codificação one-hot, é muito simples em comparação com matrizes de frequência de termos para outros tópicos de PLN.\n",
        "\n",
        "Outra matriz popular para usar em PLN é a matriz **tf-idf**, que significa a matriz **frequência do termo - frequência inversa do documento**. Essa matriz aumenta os termos na matriz de frequência de termos de modo que mais palavras *importantes/especiais* para um determinado documento tenham valores mais altos do que palavras que ocorrem com frequência, como *\"o\" ou \"e\"*. Usando essa matriz, você pode criar incorporações de documentos mais significativas, o que pode ajudar em vários aplicativos que exigem representações precisas de documentos."
      ]
    },
    {
      "cell_type": "markdown",
      "metadata": {
        "id": "s9_d0mLVgKdR"
      },
      "source": [
        "### Divisão dos dados\n",
        "\n",
        "Faça aqui a divisão dos dados usando o train_test_split, separe 25% dos dados para teste. Uma vez que os dados estão desbalanceados, use `stratify=df['cuisine']` como argumento desta função para dividir os dados na mesma proporção."
      ]
    },
    {
      "cell_type": "code",
      "execution_count": 18,
      "metadata": {
        "id": "tzSabedFgKdS"
      },
      "outputs": [],
      "source": [
        "# train test split \n",
        "X_train, X_test, y_train, y_test = train_test_split(df_vectorized, df['cuisine'], stratify = df['cuisine'], test_size = 0.2, random_state = 42)"
      ]
    },
    {
      "cell_type": "markdown",
      "metadata": {
        "id": "ZYUvYwtUgKdS"
      },
      "source": [
        "Execute a célula abaixo para conferir se a mesma proporção de treino e teste foi respeitada:"
      ]
    },
    {
      "cell_type": "code",
      "execution_count": 19,
      "metadata": {
        "colab": {
          "base_uri": "https://localhost:8080/",
          "height": 677
        },
        "id": "BrwzdfYMgKdS",
        "outputId": "33552724-119e-4245-f213-f63aaf82f685"
      },
      "outputs": [
        {
          "output_type": "execute_result",
          "data": {
            "text/plain": [
              "                cuisine    cuisine\n",
              "italian       19.705208  19.710874\n",
              "mexican       16.185298  16.191075\n",
              "southern_us   10.861435  10.861094\n",
              "indian         7.548949   7.554997\n",
              "chinese        6.719256   6.725330\n",
              "french         6.653257   6.649906\n",
              "cajun_creole   3.887614   3.884349\n",
              "thai           3.868758   3.871779\n",
              "japanese       3.579622   3.570082\n",
              "greek          2.954210   2.954117\n",
              "spanish        2.485936   2.489001\n",
              "korean         2.086803   2.086738\n",
              "vietnamese     2.074232   2.074167\n",
              "moroccan       2.064804   2.061596\n",
              "british        2.020805   2.023884\n",
              "filipino       1.898237   1.898177\n",
              "irish          1.678243   1.671904\n",
              "jamaican       1.323109   1.319925\n",
              "russian        1.228826   1.231930\n",
              "brazilian      1.175398   1.169076"
            ],
            "text/html": [
              "\n",
              "  <div id=\"df-6bab704a-66aa-42ef-8636-de9c6c199e63\">\n",
              "    <div class=\"colab-df-container\">\n",
              "      <div>\n",
              "<style scoped>\n",
              "    .dataframe tbody tr th:only-of-type {\n",
              "        vertical-align: middle;\n",
              "    }\n",
              "\n",
              "    .dataframe tbody tr th {\n",
              "        vertical-align: top;\n",
              "    }\n",
              "\n",
              "    .dataframe thead th {\n",
              "        text-align: right;\n",
              "    }\n",
              "</style>\n",
              "<table border=\"1\" class=\"dataframe\">\n",
              "  <thead>\n",
              "    <tr style=\"text-align: right;\">\n",
              "      <th></th>\n",
              "      <th>cuisine</th>\n",
              "      <th>cuisine</th>\n",
              "    </tr>\n",
              "  </thead>\n",
              "  <tbody>\n",
              "    <tr>\n",
              "      <th>italian</th>\n",
              "      <td>19.705208</td>\n",
              "      <td>19.710874</td>\n",
              "    </tr>\n",
              "    <tr>\n",
              "      <th>mexican</th>\n",
              "      <td>16.185298</td>\n",
              "      <td>16.191075</td>\n",
              "    </tr>\n",
              "    <tr>\n",
              "      <th>southern_us</th>\n",
              "      <td>10.861435</td>\n",
              "      <td>10.861094</td>\n",
              "    </tr>\n",
              "    <tr>\n",
              "      <th>indian</th>\n",
              "      <td>7.548949</td>\n",
              "      <td>7.554997</td>\n",
              "    </tr>\n",
              "    <tr>\n",
              "      <th>chinese</th>\n",
              "      <td>6.719256</td>\n",
              "      <td>6.725330</td>\n",
              "    </tr>\n",
              "    <tr>\n",
              "      <th>french</th>\n",
              "      <td>6.653257</td>\n",
              "      <td>6.649906</td>\n",
              "    </tr>\n",
              "    <tr>\n",
              "      <th>cajun_creole</th>\n",
              "      <td>3.887614</td>\n",
              "      <td>3.884349</td>\n",
              "    </tr>\n",
              "    <tr>\n",
              "      <th>thai</th>\n",
              "      <td>3.868758</td>\n",
              "      <td>3.871779</td>\n",
              "    </tr>\n",
              "    <tr>\n",
              "      <th>japanese</th>\n",
              "      <td>3.579622</td>\n",
              "      <td>3.570082</td>\n",
              "    </tr>\n",
              "    <tr>\n",
              "      <th>greek</th>\n",
              "      <td>2.954210</td>\n",
              "      <td>2.954117</td>\n",
              "    </tr>\n",
              "    <tr>\n",
              "      <th>spanish</th>\n",
              "      <td>2.485936</td>\n",
              "      <td>2.489001</td>\n",
              "    </tr>\n",
              "    <tr>\n",
              "      <th>korean</th>\n",
              "      <td>2.086803</td>\n",
              "      <td>2.086738</td>\n",
              "    </tr>\n",
              "    <tr>\n",
              "      <th>vietnamese</th>\n",
              "      <td>2.074232</td>\n",
              "      <td>2.074167</td>\n",
              "    </tr>\n",
              "    <tr>\n",
              "      <th>moroccan</th>\n",
              "      <td>2.064804</td>\n",
              "      <td>2.061596</td>\n",
              "    </tr>\n",
              "    <tr>\n",
              "      <th>british</th>\n",
              "      <td>2.020805</td>\n",
              "      <td>2.023884</td>\n",
              "    </tr>\n",
              "    <tr>\n",
              "      <th>filipino</th>\n",
              "      <td>1.898237</td>\n",
              "      <td>1.898177</td>\n",
              "    </tr>\n",
              "    <tr>\n",
              "      <th>irish</th>\n",
              "      <td>1.678243</td>\n",
              "      <td>1.671904</td>\n",
              "    </tr>\n",
              "    <tr>\n",
              "      <th>jamaican</th>\n",
              "      <td>1.323109</td>\n",
              "      <td>1.319925</td>\n",
              "    </tr>\n",
              "    <tr>\n",
              "      <th>russian</th>\n",
              "      <td>1.228826</td>\n",
              "      <td>1.231930</td>\n",
              "    </tr>\n",
              "    <tr>\n",
              "      <th>brazilian</th>\n",
              "      <td>1.175398</td>\n",
              "      <td>1.169076</td>\n",
              "    </tr>\n",
              "  </tbody>\n",
              "</table>\n",
              "</div>\n",
              "      <button class=\"colab-df-convert\" onclick=\"convertToInteractive('df-6bab704a-66aa-42ef-8636-de9c6c199e63')\"\n",
              "              title=\"Convert this dataframe to an interactive table.\"\n",
              "              style=\"display:none;\">\n",
              "        \n",
              "  <svg xmlns=\"http://www.w3.org/2000/svg\" height=\"24px\"viewBox=\"0 0 24 24\"\n",
              "       width=\"24px\">\n",
              "    <path d=\"M0 0h24v24H0V0z\" fill=\"none\"/>\n",
              "    <path d=\"M18.56 5.44l.94 2.06.94-2.06 2.06-.94-2.06-.94-.94-2.06-.94 2.06-2.06.94zm-11 1L8.5 8.5l.94-2.06 2.06-.94-2.06-.94L8.5 2.5l-.94 2.06-2.06.94zm10 10l.94 2.06.94-2.06 2.06-.94-2.06-.94-.94-2.06-.94 2.06-2.06.94z\"/><path d=\"M17.41 7.96l-1.37-1.37c-.4-.4-.92-.59-1.43-.59-.52 0-1.04.2-1.43.59L10.3 9.45l-7.72 7.72c-.78.78-.78 2.05 0 2.83L4 21.41c.39.39.9.59 1.41.59.51 0 1.02-.2 1.41-.59l7.78-7.78 2.81-2.81c.8-.78.8-2.07 0-2.86zM5.41 20L4 18.59l7.72-7.72 1.47 1.35L5.41 20z\"/>\n",
              "  </svg>\n",
              "      </button>\n",
              "      \n",
              "  <style>\n",
              "    .colab-df-container {\n",
              "      display:flex;\n",
              "      flex-wrap:wrap;\n",
              "      gap: 12px;\n",
              "    }\n",
              "\n",
              "    .colab-df-convert {\n",
              "      background-color: #E8F0FE;\n",
              "      border: none;\n",
              "      border-radius: 50%;\n",
              "      cursor: pointer;\n",
              "      display: none;\n",
              "      fill: #1967D2;\n",
              "      height: 32px;\n",
              "      padding: 0 0 0 0;\n",
              "      width: 32px;\n",
              "    }\n",
              "\n",
              "    .colab-df-convert:hover {\n",
              "      background-color: #E2EBFA;\n",
              "      box-shadow: 0px 1px 2px rgba(60, 64, 67, 0.3), 0px 1px 3px 1px rgba(60, 64, 67, 0.15);\n",
              "      fill: #174EA6;\n",
              "    }\n",
              "\n",
              "    [theme=dark] .colab-df-convert {\n",
              "      background-color: #3B4455;\n",
              "      fill: #D2E3FC;\n",
              "    }\n",
              "\n",
              "    [theme=dark] .colab-df-convert:hover {\n",
              "      background-color: #434B5C;\n",
              "      box-shadow: 0px 1px 3px 1px rgba(0, 0, 0, 0.15);\n",
              "      filter: drop-shadow(0px 1px 2px rgba(0, 0, 0, 0.3));\n",
              "      fill: #FFFFFF;\n",
              "    }\n",
              "  </style>\n",
              "\n",
              "      <script>\n",
              "        const buttonEl =\n",
              "          document.querySelector('#df-6bab704a-66aa-42ef-8636-de9c6c199e63 button.colab-df-convert');\n",
              "        buttonEl.style.display =\n",
              "          google.colab.kernel.accessAllowed ? 'block' : 'none';\n",
              "\n",
              "        async function convertToInteractive(key) {\n",
              "          const element = document.querySelector('#df-6bab704a-66aa-42ef-8636-de9c6c199e63');\n",
              "          const dataTable =\n",
              "            await google.colab.kernel.invokeFunction('convertToInteractive',\n",
              "                                                     [key], {});\n",
              "          if (!dataTable) return;\n",
              "\n",
              "          const docLinkHtml = 'Like what you see? Visit the ' +\n",
              "            '<a target=\"_blank\" href=https://colab.research.google.com/notebooks/data_table.ipynb>data table notebook</a>'\n",
              "            + ' to learn more about interactive tables.';\n",
              "          element.innerHTML = '';\n",
              "          dataTable['output_type'] = 'display_data';\n",
              "          await google.colab.output.renderOutput(dataTable, element);\n",
              "          const docLink = document.createElement('div');\n",
              "          docLink.innerHTML = docLinkHtml;\n",
              "          element.appendChild(docLink);\n",
              "        }\n",
              "      </script>\n",
              "    </div>\n",
              "  </div>\n",
              "  "
            ]
          },
          "metadata": {},
          "execution_count": 19
        }
      ],
      "source": [
        "aux1 = y_train.value_counts().sort_values(ascending=False)\n",
        "aux2 = y_test.value_counts().sort_values(ascending=False)\n",
        "\n",
        "aux1 = aux1/sum(aux1) * 100\n",
        "aux2 = aux2/sum(aux2) * 100\n",
        "\n",
        "# Imprir de forma tabelada para comparação\n",
        "pd.concat([aux1, aux2], axis=1)"
      ]
    },
    {
      "cell_type": "markdown",
      "metadata": {
        "id": "_ZQlDs33gKdT"
      },
      "source": [
        "Podemos confirmar que cada conjunto de dados tem a mesma distribuição de classes, portanto, ao treinar a regressão logística, poderemos generalizar e reduzir o risco de overfitting aos dados de treinamento! "
      ]
    },
    {
      "cell_type": "markdown",
      "metadata": {
        "id": "6fsxrsrfgKdT"
      },
      "source": [
        "## Regressão Logística\n",
        "\n",
        "Faça a regressão logística e coloque como argumento a quantidade máxima de iterações igual a `500`."
      ]
    },
    {
      "cell_type": "code",
      "execution_count": 20,
      "metadata": {
        "colab": {
          "base_uri": "https://localhost:8080/"
        },
        "id": "KhxHq6-rgKdT",
        "outputId": "85b963fa-3f41-4e64-8d39-9d4526b480e9"
      },
      "outputs": [
        {
          "output_type": "execute_result",
          "data": {
            "text/plain": [
              "LogisticRegression(max_iter=500, random_state=42)"
            ]
          },
          "metadata": {},
          "execution_count": 20
        }
      ],
      "source": [
        "# Regressão Logística\n",
        "lr = LogisticRegression(random_state = 42, max_iter = 500)\n",
        "lr.fit(X_train, y_train)"
      ]
    },
    {
      "cell_type": "markdown",
      "metadata": {
        "id": "lKrELbO_gKdU"
      },
      "source": [
        "Imprima agora o `classification_report` para analisarmos a performance do algoritmo."
      ]
    },
    {
      "cell_type": "code",
      "execution_count": 21,
      "metadata": {
        "colab": {
          "base_uri": "https://localhost:8080/"
        },
        "id": "4oowD9GDgKdU",
        "outputId": "6a6b25bb-e360-4a8d-c943-29db3cdf4e17"
      },
      "outputs": [
        {
          "output_type": "stream",
          "name": "stdout",
          "text": [
            "              precision    recall  f1-score   support\n",
            "\n",
            "   brazilian       0.53      0.33      0.41        93\n",
            "     british       0.41      0.17      0.24       161\n",
            "cajun_creole       0.72      0.58      0.64       309\n",
            "     chinese       0.71      0.75      0.73       535\n",
            "    filipino       0.57      0.35      0.43       151\n",
            "      french       0.47      0.44      0.46       529\n",
            "       greek       0.55      0.31      0.40       235\n",
            "      indian       0.77      0.82      0.80       601\n",
            "       irish       0.43      0.27      0.33       133\n",
            "     italian       0.65      0.80      0.72      1568\n",
            "    jamaican       0.75      0.50      0.60       105\n",
            "    japanese       0.49      0.45      0.47       284\n",
            "      korean       0.62      0.61      0.62       166\n",
            "     mexican       0.84      0.86      0.85      1288\n",
            "    moroccan       0.74      0.58      0.65       164\n",
            "     russian       0.47      0.20      0.28        98\n",
            " southern_us       0.50      0.66      0.57       864\n",
            "     spanish       0.51      0.33      0.40       198\n",
            "        thai       0.73      0.70      0.72       308\n",
            "  vietnamese       0.62      0.40      0.49       165\n",
            "\n",
            "    accuracy                           0.65      7955\n",
            "   macro avg       0.60      0.51      0.54      7955\n",
            "weighted avg       0.65      0.65      0.64      7955\n",
            "\n"
          ]
        }
      ],
      "source": [
        "# Classification report\n",
        "print(classification_report(y_test, lr.predict(X_test)))"
      ]
    },
    {
      "cell_type": "markdown",
      "metadata": {
        "id": "Nyq13NaYgKdU"
      },
      "source": [
        "Os resultados são meio sem graça... o que podemos fazer?"
      ]
    },
    {
      "cell_type": "markdown",
      "metadata": {
        "id": "Vrf6Oh80gKdV"
      },
      "source": [
        "* Implementando validação cruzada\n",
        "* Aumente a quantidade de features!\n",
        "* Usando mais ngramas para o Count Vectorizer\n",
        "* Algoritmos de redução de dimensionalidade\n",
        "* Testar vários tamanhos de conjuntos de treinamento/teste"
      ]
    },
    {
      "cell_type": "markdown",
      "metadata": {
        "id": "Gc22nFgZgKdV"
      },
      "source": [
        "### Implementação da validação cruzada\n",
        "\n",
        "A validação cruzada é a prática de pegar um conjunto aleatório de dentro dos dados de treinamento e usá-lo para otimizar o algoritmo. Isso melhora a capacidade de generalizar (desempenha bem quando recebe novos dados)\n",
        "\n",
        "![CV-Example](https://cf-courses-data.s3.us.cloud-object-storage.appdomain.cloud/IBM-PY0181EN-SkillsNetwork/labs/2\\_linear_classifiers/images/K-fold_cross_validation.svg)\n",
        "\n",
        "Faça agora o `LogisticRegressionCV` para a validação cruzada use 5 folds para isso e aumente o limite para 1000 iterações ou mais."
      ]
    },
    {
      "cell_type": "code",
      "execution_count": 23,
      "metadata": {
        "colab": {
          "base_uri": "https://localhost:8080/"
        },
        "id": "XMUN1NfhgKdV",
        "outputId": "94afb069-35a5-438f-a94d-f4a077bb93b9"
      },
      "outputs": [
        {
          "output_type": "stream",
          "name": "stderr",
          "text": [
            "/usr/local/lib/python3.7/dist-packages/sklearn/linear_model/_logistic.py:818: ConvergenceWarning: lbfgs failed to converge (status=1):\n",
            "STOP: TOTAL NO. of ITERATIONS REACHED LIMIT.\n",
            "\n",
            "Increase the number of iterations (max_iter) or scale the data as shown in:\n",
            "    https://scikit-learn.org/stable/modules/preprocessing.html\n",
            "Please also refer to the documentation for alternative solver options:\n",
            "    https://scikit-learn.org/stable/modules/linear_model.html#logistic-regression\n",
            "  extra_warning_msg=_LOGISTIC_SOLVER_CONVERGENCE_MSG,\n",
            "/usr/local/lib/python3.7/dist-packages/sklearn/linear_model/_logistic.py:818: ConvergenceWarning: lbfgs failed to converge (status=1):\n",
            "STOP: TOTAL NO. of ITERATIONS REACHED LIMIT.\n",
            "\n",
            "Increase the number of iterations (max_iter) or scale the data as shown in:\n",
            "    https://scikit-learn.org/stable/modules/preprocessing.html\n",
            "Please also refer to the documentation for alternative solver options:\n",
            "    https://scikit-learn.org/stable/modules/linear_model.html#logistic-regression\n",
            "  extra_warning_msg=_LOGISTIC_SOLVER_CONVERGENCE_MSG,\n"
          ]
        },
        {
          "output_type": "execute_result",
          "data": {
            "text/plain": [
              "LogisticRegressionCV(cv=5, max_iter=1000, random_state=42)"
            ]
          },
          "metadata": {},
          "execution_count": 23
        }
      ],
      "source": [
        "# LEVA UM BOM TEMPO... Se sua máquina for limitada faça no Google Colab\n",
        "# Regressão Logística com validação cruzada\n",
        "lrcv = LogisticRegressionCV(random_state = 42, max_iter = 1000, cv = 5)\n",
        "lrcv.fit(X_train, y_train)"
      ]
    },
    {
      "cell_type": "markdown",
      "metadata": {
        "id": "0XoOb4idgKdV"
      },
      "source": [
        "Veja agora se a validação cruzada melhora a performance neste caso através do `classification_report`."
      ]
    },
    {
      "cell_type": "code",
      "execution_count": 24,
      "metadata": {
        "colab": {
          "base_uri": "https://localhost:8080/"
        },
        "id": "-zQpZjEFgKdW",
        "outputId": "49d84c7b-ea3e-454d-ec4a-f847d0113f9d"
      },
      "outputs": [
        {
          "output_type": "stream",
          "name": "stdout",
          "text": [
            "              precision    recall  f1-score   support\n",
            "\n",
            "   brazilian       0.55      0.31      0.40        93\n",
            "     british       0.46      0.16      0.24       161\n",
            "cajun_creole       0.71      0.57      0.63       309\n",
            "     chinese       0.70      0.75      0.73       535\n",
            "    filipino       0.56      0.34      0.42       151\n",
            "      french       0.47      0.45      0.46       529\n",
            "       greek       0.58      0.31      0.40       235\n",
            "      indian       0.77      0.83      0.80       601\n",
            "       irish       0.43      0.27      0.33       133\n",
            "     italian       0.65      0.80      0.72      1568\n",
            "    jamaican       0.78      0.51      0.62       105\n",
            "    japanese       0.49      0.45      0.47       284\n",
            "      korean       0.64      0.59      0.61       166\n",
            "     mexican       0.84      0.86      0.85      1288\n",
            "    moroccan       0.73      0.58      0.65       164\n",
            "     russian       0.54      0.21      0.31        98\n",
            " southern_us       0.49      0.67      0.57       864\n",
            "     spanish       0.51      0.33      0.40       198\n",
            "        thai       0.74      0.70      0.72       308\n",
            "  vietnamese       0.67      0.41      0.51       165\n",
            "\n",
            "    accuracy                           0.66      7955\n",
            "   macro avg       0.62      0.51      0.54      7955\n",
            "weighted avg       0.65      0.66      0.64      7955\n",
            "\n"
          ]
        }
      ],
      "source": [
        "# Classification report com validação cruzada\n",
        "print(classification_report(y_test, lrcv.predict(X_test)))"
      ]
    },
    {
      "cell_type": "markdown",
      "metadata": {
        "id": "xhF3syiAgKdW"
      },
      "source": [
        "## Aumentando a quantidade de features\n",
        "\n",
        "Escreva neste bloco o código para refazer todo o processamento considerando agora `1000` features ao invés das `200` usadas anteriormente."
      ]
    },
    {
      "cell_type": "code",
      "execution_count": 32,
      "metadata": {
        "colab": {
          "base_uri": "https://localhost:8080/"
        },
        "id": "kqyRMZMNgKdW",
        "outputId": "09f1b966-20a7-4d81-bfdd-7250c37ddb00"
      },
      "outputs": [
        {
          "output_type": "stream",
          "name": "stdout",
          "text": [
            "              precision    recall  f1-score   support\n",
            "\n",
            "   brazilian       0.61      0.38      0.47       117\n",
            "     british       0.48      0.38      0.42       201\n",
            "cajun_creole       0.78      0.66      0.71       386\n",
            "     chinese       0.79      0.82      0.80       668\n",
            "    filipino       0.64      0.54      0.59       189\n",
            "      french       0.53      0.55      0.54       662\n",
            "       greek       0.76      0.62      0.68       294\n",
            "      indian       0.84      0.89      0.87       751\n",
            "       irish       0.56      0.40      0.46       167\n",
            "     italian       0.77      0.87      0.81      1960\n",
            "    jamaican       0.79      0.65      0.71       131\n",
            "    japanese       0.71      0.63      0.67       356\n",
            "      korean       0.74      0.65      0.69       207\n",
            "     mexican       0.86      0.90      0.88      1610\n",
            "    moroccan       0.81      0.69      0.74       205\n",
            "     russian       0.63      0.39      0.48       122\n",
            " southern_us       0.69      0.78      0.73      1080\n",
            "     spanish       0.65      0.49      0.56       247\n",
            "        thai       0.75      0.74      0.74       385\n",
            "  vietnamese       0.63      0.51      0.57       206\n",
            "\n",
            "    accuracy                           0.75      9944\n",
            "   macro avg       0.70      0.63      0.66      9944\n",
            "weighted avg       0.74      0.75      0.74      9944\n",
            "\n"
          ]
        }
      ],
      "source": [
        "# Treinando modelos com 1000 features ao invés de 200\n",
        "# Vetorizar os ingredientes para bigramas para 1000 features\n",
        "cv2 = CountVectorizer(analyzer = 'word', ngram_range = (1, 2), max_features = 1000)\n",
        "tf2 = cv2.fit_transform(ingredients)\n",
        "df_vectorized2 = pd.DataFrame(tf2.toarray(), columns = cv2.get_feature_names_out())\n",
        "df_vectorized2 = df_vectorized2.drop(excludedWords, axis = 1)\n",
        "\n",
        "# train test split para 1000 features\n",
        "X_train2, X_test2, y_train2, y_test2 = train_test_split(df_vectorized2, df['cuisine'], stratify = df['cuisine'], test_size = 0.25, random_state = 42)\n",
        "\n",
        "# Regressão Logística com validação cruzada para 1000 features\n",
        "lrcv2 = LogisticRegressionCV(random_state = 42, max_iter = 500, cv = 5, n_jobs = -1)\n",
        "lrcv2.fit(X_train2, y_train2)\n",
        "\n",
        "# Classification report com validação cruzada para 1000 features\n",
        "print(classification_report(y_test2, lrcv2.predict(X_test2)))"
      ]
    },
    {
      "cell_type": "markdown",
      "metadata": {
        "id": "u2DSZ6gJgKdW"
      },
      "source": [
        "Podemos ver que agora a precisão do modelo aumentou consideravelmente!"
      ]
    },
    {
      "cell_type": "markdown",
      "metadata": {
        "id": "LqTr6CkFgKdW"
      },
      "source": [
        "## Conclusão\n",
        "\n",
        "Fizemos o nosso melhor para classificar as cozinhas usando a análise textual, mas parece que ainda é muito difícil alcançar uma precisão super alta devido aos dados que temos. Muitas vezes, no aprendizado de máquina, você encontrará problemas que simplesmente não consegue resolver para determinados requisitos, como uma precisão de 90% ou mais. Os dados que você recebe podem não ter informações, você pode precisar limpar ainda mais seus dados ou o algoritmo que você emprega pode simplesmente não funcionar bem com o caso de uso. Neste exemplo, tentamos muitos métodos para processar nossos dados e aumentar a precisão, mas apenas marginalmente."
      ]
    }
  ],
  "metadata": {
    "kernelspec": {
      "display_name": "Python 3.7.9 64-bit (microsoft store)",
      "language": "python",
      "name": "python3"
    },
    "language_info": {
      "codemirror_mode": {
        "name": "ipython",
        "version": 3
      },
      "file_extension": ".py",
      "mimetype": "text/x-python",
      "name": "python",
      "nbconvert_exporter": "python",
      "pygments_lexer": "ipython3",
      "version": "3.7.9"
    },
    "orig_nbformat": 4,
    "vscode": {
      "interpreter": {
        "hash": "84b80654fb0f76ffeaa9e9d00c5ca967aaffa9ea8092a8f169badac8e197900a"
      }
    },
    "colab": {
      "provenance": [],
      "collapsed_sections": []
    }
  },
  "nbformat": 4,
  "nbformat_minor": 0
}