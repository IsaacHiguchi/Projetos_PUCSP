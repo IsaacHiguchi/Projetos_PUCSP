{
 "cells": [
  {
   "cell_type": "code",
   "execution_count": 4,
   "metadata": {},
   "outputs": [],
   "source": [
    "NEG, POS = 0, 1"
   ]
  },
  {
   "cell_type": "code",
   "execution_count": 56,
   "metadata": {},
   "outputs": [],
   "source": [
    "lista_y = [0,1,1]\n",
    "lista_pred = [0.3,1,1]"
   ]
  },
  {
   "cell_type": "code",
   "execution_count": 64,
   "metadata": {},
   "outputs": [],
   "source": [
    "def binarizar(v, limiar = 0.5):\n",
    "    v = [POS if prob >= limiar else NEG for prob in v]\n",
    "    return v"
   ]
  },
  {
   "cell_type": "code",
   "execution_count": 65,
   "metadata": {},
   "outputs": [
    {
     "name": "stdout",
     "output_type": "stream",
     "text": [
      "[0.6, 0.4, 1]\n"
     ]
    }
   ],
   "source": [
    "c = [0.6,0.4,1]\n",
    "binarizar(c, 0.5)\n",
    "print(c)"
   ]
  },
  {
   "cell_type": "code",
   "execution_count": 70,
   "metadata": {},
   "outputs": [],
   "source": [
    "def classificar(y, y_pred, limiar):\n",
    "    VP = 0\n",
    "    VN = 0\n",
    "    FP = 0\n",
    "    FN = 0\n",
    "    y_binarizado = binarizar(y)\n",
    "    pred_binarizado = binarizar(y_pred)\n",
    "    for i in range(len(y)):\n",
    "        if y_binarizado[i] == pred_binarizado[i] and y_binarizado[i]==1:\n",
    "            VP += 1\n",
    "        elif y_binarizado[i] == pred_binarizado[i] and y_binarizado[i]==0:\n",
    "            VN += 1\n",
    "        elif y_binarizado[i] != pred_binarizado[i] and y_binarizado[i]==0:\n",
    "            FP += 1\n",
    "        elif y_binarizado[i] != pred_binarizado[i] and y_binarizado[i]==1:\n",
    "            FN += 1\n",
    "    return VP, VN, FP, FN\n",
    "    "
   ]
  },
  {
   "cell_type": "code",
   "execution_count": 71,
   "metadata": {},
   "outputs": [
    {
     "data": {
      "text/plain": [
       "(2, 1, 0, 0)"
      ]
     },
     "execution_count": 71,
     "metadata": {},
     "output_type": "execute_result"
    }
   ],
   "source": [
    "classificar(lista_y, lista_pred, 0.5)"
   ]
  },
  {
   "cell_type": "code",
   "execution_count": 79,
   "metadata": {},
   "outputs": [],
   "source": [
    "def acurácia(y, y_pred, limiar):\n",
    "    VP, VN, FP, FN = classificar(y, y_pred, limiar)\n",
    "    return (VP + VN) / (VP + VN + FP + FN)"
   ]
  },
  {
   "cell_type": "code",
   "execution_count": 80,
   "metadata": {},
   "outputs": [
    {
     "data": {
      "text/plain": [
       "1.0"
      ]
     },
     "execution_count": 80,
     "metadata": {},
     "output_type": "execute_result"
    }
   ],
   "source": [
    "acurácia(lista_y, lista_pred, 0.5)"
   ]
  },
  {
   "cell_type": "code",
   "execution_count": 77,
   "metadata": {},
   "outputs": [],
   "source": [
    "def precisão(y, y_pred, limiar = 0.5):\n",
    "    y_binarizado = binarizar(y)\n",
    "    pred_binarizado = binarizar(y_pred)\n",
    "    VP, VN, FP, FN = classificar(y, y_pred, limiar)\n",
    "    return VP/(VP+FP)"
   ]
  },
  {
   "cell_type": "code",
   "execution_count": 76,
   "metadata": {},
   "outputs": [
    {
     "data": {
      "text/plain": [
       "1.0"
      ]
     },
     "execution_count": 76,
     "metadata": {},
     "output_type": "execute_result"
    }
   ],
   "source": [
    "precisão(lista_y, lista_pred, 0.5)"
   ]
  },
  {
   "cell_type": "code",
   "execution_count": 81,
   "metadata": {},
   "outputs": [],
   "source": [
    "def revocação(y, y_pred, limiar = 0.5):\n",
    "    VP, VN, FP, FN = classificar(y, y_pred, limiar)\n",
    "    return VN/(VN+FN)"
   ]
  },
  {
   "cell_type": "code",
   "execution_count": 82,
   "metadata": {},
   "outputs": [
    {
     "data": {
      "text/plain": [
       "1.0"
      ]
     },
     "execution_count": 82,
     "metadata": {},
     "output_type": "execute_result"
    }
   ],
   "source": [
    "revocação(lista_y, lista_pred, 0.5)"
   ]
  },
  {
   "cell_type": "code",
   "execution_count": 84,
   "metadata": {},
   "outputs": [],
   "source": [
    "def fbeta(y, y_pred, beta = 1, limiar = 0.5):\n",
    "    VP, VN, FP, FN = classificar(y, y_pred, limiar)\n",
    "    return (1+beta**2)*VP/( (1+beta**2)*VP + beta**2*FN )"
   ]
  },
  {
   "cell_type": "code",
   "execution_count": 92,
   "metadata": {},
   "outputs": [],
   "source": [
    "def taxa_erro(y, y_pred, limiar = 0.5):\n",
    "    return 1-acurácia(y, y_pred, limiar)"
   ]
  },
  {
   "cell_type": "code",
   "execution_count": 93,
   "metadata": {},
   "outputs": [
    {
     "data": {
      "text/plain": [
       "0.0"
      ]
     },
     "execution_count": 93,
     "metadata": {},
     "output_type": "execute_result"
    }
   ],
   "source": [
    "taxa_erro(lista_y, lista_pred, 0.5)"
   ]
  },
  {
   "cell_type": "code",
   "execution_count": 87,
   "metadata": {},
   "outputs": [],
   "source": [
    "def m_confusão(y, y_pred, limiar = 0.5):\n",
    "    VP, VN, FP, FN = classificar(y, y_pred, limiar)\n",
    "    return [[VP, FP], [FN, VN]]"
   ]
  },
  {
   "cell_type": "code",
   "execution_count": 90,
   "metadata": {},
   "outputs": [
    {
     "data": {
      "text/plain": [
       "[[2, 0], [0, 1]]"
      ]
     },
     "execution_count": 90,
     "metadata": {},
     "output_type": "execute_result"
    }
   ],
   "source": [
    "m_confusão(lista_y, lista_pred, 0.5)"
   ]
  },
  {
   "cell_type": "markdown",
   "metadata": {},
   "source": [
    "[09] Estude as métricas acurácia, taxa de erro, precisão, revocação, F1, F2, F0.5 para os seguintes vetores:"
   ]
  },
  {
   "cell_type": "markdown",
   "metadata": {},
   "source": [
    "a) y=[0,0,0,0,0,0,0,0,0,0] e y_pred=[1,1,1,1,1,1,1,1,1,1]:"
   ]
  },
  {
   "cell_type": "code",
   "execution_count": 97,
   "metadata": {},
   "outputs": [
    {
     "name": "stdout",
     "output_type": "stream",
     "text": [
      "0.0\n",
      "1.0\n",
      "0.0\n"
     ]
    }
   ],
   "source": [
    "y=[0,0,0,0,0,0,0,0,0,0]\n",
    "y_pred=[1,1,1,1,1,1,1,1,1,1]\n",
    "m_confusão(y, y_pred, 0.5)\n",
    "classificar(y, y_pred, 0.5)\n",
    "try:\n",
    "    print(acurácia(y, y_pred, 0.5))\n",
    "except:\n",
    "    pass\n",
    "try:\n",
    "    print(taxa_erro(y, y_pred, 0.5))\n",
    "except:\n",
    "    pass\n",
    "try:\n",
    "    print(precisão(y, y_pred, 0.5))\n",
    "except:\n",
    "    pass\n",
    "try:\n",
    "    print(revocação(y, y_pred, 0.5))\n",
    "except:\n",
    "    pass\n",
    "try:\n",
    "    print(fbeta(y, y_pred, 1, 0.5))\n",
    "except:\n",
    "    pass\n",
    "try:\n",
    "    print(fbeta(y, y_pred, 2, 0.5))\n",
    "except:\n",
    "    pass\n",
    "try:\n",
    "    print(fbeta(y, y_pred, 0.5, 0.5))\n",
    "except:\n",
    "    pass"
   ]
  },
  {
   "cell_type": "markdown",
   "metadata": {},
   "source": [
    "Conclusão: Quando há a seguinte situação y = [0,0,0,0,0,0,0,0,0,0] e y_pred = [1,1,1,1,1,1,1,1,1,1], a acurácia é 0, a taxa de erro é 1, a precisão é 0, já a revocação, fbeta(1) e fbeta(2) e fbeta(0.5) não se tem por uma divisão por zero que nos devolve um erro ZeroDivisionError."
   ]
  },
  {
   "cell_type": "markdown",
   "metadata": {},
   "source": [
    "b) y=[1,1,1,1,1,1,1,1,1,1] e y_pred=[0,0,0,0,0,0,0,0,0,0]:"
   ]
  },
  {
   "cell_type": "code",
   "execution_count": 99,
   "metadata": {},
   "outputs": [
    {
     "name": "stdout",
     "output_type": "stream",
     "text": [
      "0.0\n",
      "1.0\n",
      "0.0\n",
      "0.0\n",
      "0.0\n",
      "0.0\n"
     ]
    }
   ],
   "source": [
    "y = [1,1,1,1,1,1,1,1,1,1]\n",
    "y_pred = [0,0,0,0,0,0,0,0,0,0]\n",
    "m_confusão(y, y_pred, 0.5)\n",
    "classificar(y, y_pred, 0.5)\n",
    "try:\n",
    "    print(acurácia(y, y_pred, 0.5))\n",
    "except:\n",
    "    pass\n",
    "try:\n",
    "    print(taxa_erro(y, y_pred, 0.5))\n",
    "except:\n",
    "    pass\n",
    "try:\n",
    "    print(precisão(y, y_pred, 0.5))\n",
    "except:\n",
    "    pass\n",
    "try:\n",
    "    print(revocação(y, y_pred, 0.5))\n",
    "except:\n",
    "    pass\n",
    "try:\n",
    "    print(fbeta(y, y_pred, 1, 0.5))\n",
    "except:\n",
    "    pass\n",
    "try:\n",
    "    print(fbeta(y, y_pred, 2, 0.5))\n",
    "except:\n",
    "    pass\n",
    "try:\n",
    "    print(fbeta(y, y_pred, 0.5, 0.5))\n",
    "except:\n",
    "    pass"
   ]
  },
  {
   "cell_type": "markdown",
   "metadata": {},
   "source": [
    "c) y=[0,0,0,0,0,0,0,0,0,1] e y_pred=[0,0,0,0,0,0,0,0,0,0]:"
   ]
  },
  {
   "cell_type": "code",
   "execution_count": 100,
   "metadata": {},
   "outputs": [
    {
     "name": "stdout",
     "output_type": "stream",
     "text": [
      "0.9\n",
      "0.09999999999999998\n",
      "0.9\n",
      "0.0\n",
      "0.0\n",
      "0.0\n"
     ]
    }
   ],
   "source": [
    "y = [0,0,0,0,0,0,0,0,0,1]\n",
    "y_pred = [0,0,0,0,0,0,0,0,0,0]\n",
    "m_confusão(y, y_pred, 0.5)\n",
    "classificar(y, y_pred, 0.5)\n",
    "try:\n",
    "    print(acurácia(y, y_pred, 0.5))\n",
    "except:\n",
    "    pass\n",
    "try:\n",
    "    print(taxa_erro(y, y_pred, 0.5))\n",
    "except:\n",
    "    pass\n",
    "try:\n",
    "    print(precisão(y, y_pred, 0.5))\n",
    "except:\n",
    "    pass\n",
    "try:\n",
    "    print(revocação(y, y_pred, 0.5))\n",
    "except:\n",
    "    pass\n",
    "try:\n",
    "    print(fbeta(y, y_pred, 1, 0.5))\n",
    "except:\n",
    "    pass\n",
    "try:\n",
    "    print(fbeta(y, y_pred, 2, 0.5))\n",
    "except:\n",
    "    pass\n",
    "try:\n",
    "    print(fbeta(y, y_pred, 0.5, 0.5))\n",
    "except:\n",
    "    pass"
   ]
  },
  {
   "cell_type": "markdown",
   "metadata": {},
   "source": [
    "d) y=[1,1,1,1,1,1,1,1,1,0] e y_pred=[1,1,1,1,1,1,1,1,1,1]:"
   ]
  },
  {
   "cell_type": "code",
   "execution_count": null,
   "metadata": {},
   "outputs": [],
   "source": [
    "y = [1,1,1,1,1,1,1,1,1,0]\n",
    "y_pred = [1,1,1,1,1,1,1,1,1,1]\n",
    "m_confusão(y, y_pred, 0.5)\n",
    "classificar(y, y_pred, 0.5)\n",
    "try:\n",
    "    print(acurácia(y, y_pred, 0.5))\n",
    "except:\n",
    "    pass\n",
    "try:\n",
    "    print(taxa_erro(y, y_pred, 0.5))\n",
    "except:\n",
    "    pass\n",
    "try:\n",
    "    print(precisão(y, y_pred, 0.5))\n",
    "except:\n",
    "    pass\n",
    "try:\n",
    "    print(revocação(y, y_pred, 0.5))\n",
    "except:\n",
    "    pass\n",
    "try:\n",
    "    print(fbeta(y, y_pred, 1, 0.5))\n",
    "except:\n",
    "    pass\n",
    "try:\n",
    "    print(fbeta(y, y_pred, 2, 0.5))\n",
    "except:\n",
    "    pass\n",
    "try:\n",
    "    print(fbeta(y, y_pred, 0.5, 0.5))\n",
    "except:\n",
    "    pass"
   ]
  },
  {
   "cell_type": "markdown",
   "metadata": {},
   "source": [
    "e) y=[1,1,1,0,0,0], y_pred=[.8, .7, .8, .2, .3, .4] e limiar=.5:"
   ]
  },
  {
   "cell_type": "code",
   "execution_count": 101,
   "metadata": {},
   "outputs": [
    {
     "name": "stdout",
     "output_type": "stream",
     "text": [
      "1.0\n",
      "0.0\n",
      "1.0\n",
      "1.0\n",
      "1.0\n",
      "1.0\n",
      "1.0\n"
     ]
    }
   ],
   "source": [
    "y = [1,1,1,0,0,0]\n",
    "y_pred = [0.8,0.7,0.8,0.2,0.3,0.4]\n",
    "m_confusão(y, y_pred, 0.5)\n",
    "classificar(y, y_pred, 0.5)\n",
    "try:\n",
    "    print(acurácia(y, y_pred, 0.5))\n",
    "except:\n",
    "    pass\n",
    "try:\n",
    "    print(taxa_erro(y, y_pred, 0.5))\n",
    "except:\n",
    "    pass\n",
    "try:\n",
    "    print(precisão(y, y_pred, 0.5))\n",
    "except:\n",
    "    pass\n",
    "try:\n",
    "    print(revocação(y, y_pred, 0.5))\n",
    "except:\n",
    "    pass\n",
    "try:\n",
    "    print(fbeta(y, y_pred, 1, 0.5))\n",
    "except:\n",
    "    pass\n",
    "try:\n",
    "    print(fbeta(y, y_pred, 2, 0.5))\n",
    "except:\n",
    "    pass\n",
    "try:\n",
    "    print(fbeta(y, y_pred, 0.5, 0.5))\n",
    "except:\n",
    "    pass"
   ]
  },
  {
   "cell_type": "markdown",
   "metadata": {},
   "source": [
    "f) y=[1,1,1,0,0,0], y_pred=[.2, .7, .8, .2, .3, .4] e limiar=.5:"
   ]
  },
  {
   "cell_type": "code",
   "execution_count": 102,
   "metadata": {},
   "outputs": [
    {
     "name": "stdout",
     "output_type": "stream",
     "text": [
      "0.8333333333333334\n",
      "0.16666666666666663\n",
      "1.0\n",
      "0.75\n",
      "0.8\n",
      "0.7142857142857143\n",
      "0.9090909090909091\n"
     ]
    }
   ],
   "source": [
    "y = [1,1,1,0,0,0]\n",
    "y_pred = [0.2,0.7,0.8,0.2,0.3,0.4]\n",
    "m_confusão(y, y_pred, 0.5)\n",
    "classificar(y, y_pred, 0.5)\n",
    "try:\n",
    "    print(acurácia(y, y_pred, 0.5))\n",
    "except:\n",
    "    pass\n",
    "try:\n",
    "    print(taxa_erro(y, y_pred, 0.5))\n",
    "except:\n",
    "    pass\n",
    "try:\n",
    "    print(precisão(y, y_pred, 0.5))\n",
    "except:\n",
    "    pass\n",
    "try:\n",
    "    print(revocação(y, y_pred, 0.5))\n",
    "except:\n",
    "    pass\n",
    "try:\n",
    "    print(fbeta(y, y_pred, 1, 0.5))\n",
    "except:\n",
    "    pass\n",
    "try:\n",
    "    print(fbeta(y, y_pred, 2, 0.5))\n",
    "except:\n",
    "    pass\n",
    "try:\n",
    "    print(fbeta(y, y_pred, 0.5, 0.5))\n",
    "except:\n",
    "    pass"
   ]
  },
  {
   "cell_type": "markdown",
   "metadata": {},
   "source": [
    "g) y=[1,1,1,0,0,0], y_pred=[.8, .7, .8, .2, .3, .8] e limiar=.5:"
   ]
  },
  {
   "cell_type": "code",
   "execution_count": 103,
   "metadata": {},
   "outputs": [
    {
     "name": "stdout",
     "output_type": "stream",
     "text": [
      "0.8333333333333334\n",
      "0.16666666666666663\n",
      "0.75\n",
      "1.0\n",
      "1.0\n",
      "1.0\n",
      "1.0\n"
     ]
    }
   ],
   "source": [
    "y = [1,1,1,0,0,0]\n",
    "y_pred = [0.8,0.7,0.8,0.2,0.3,0.8]\n",
    "m_confusão(y, y_pred, 0.5)\n",
    "classificar(y, y_pred, 0.5)\n",
    "try:\n",
    "    print(acurácia(y, y_pred, 0.5))\n",
    "except:\n",
    "    pass\n",
    "try:\n",
    "    print(taxa_erro(y, y_pred, 0.5))\n",
    "except:\n",
    "    pass\n",
    "try:\n",
    "    print(precisão(y, y_pred, 0.5))\n",
    "except:\n",
    "    pass\n",
    "try:\n",
    "    print(revocação(y, y_pred, 0.5))\n",
    "except:\n",
    "    pass\n",
    "try:\n",
    "    print(fbeta(y, y_pred, 1, 0.5))\n",
    "except:\n",
    "    pass\n",
    "try:\n",
    "    print(fbeta(y, y_pred, 2, 0.5))\n",
    "except:\n",
    "    pass\n",
    "try:\n",
    "    print(fbeta(y, y_pred, 0.5, 0.5))\n",
    "except:\n",
    "    pass"
   ]
  },
  {
   "cell_type": "markdown",
   "metadata": {},
   "source": [
    "\n",
    "h) y=[1,1,1,0,0,0], y_pred=[.2, .7, .8, .2, .3, .8] e limiar=.5:"
   ]
  },
  {
   "cell_type": "code",
   "execution_count": 105,
   "metadata": {},
   "outputs": [
    {
     "name": "stdout",
     "output_type": "stream",
     "text": [
      "0.6666666666666666\n",
      "0.33333333333333337\n",
      "0.6666666666666666\n",
      "0.6666666666666666\n",
      "0.8\n",
      "0.7142857142857143\n",
      "0.9090909090909091\n"
     ]
    }
   ],
   "source": [
    "y=[1,1,1,0,0,0]\n",
    "y_pred=[0.2,0.7,0.8,0.2,0.3,0.8]\n",
    "m_confusão(y, y_pred, 0.5)\n",
    "classificar(y, y_pred, 0.5)\n",
    "try:\n",
    "    print(acurácia(y, y_pred, 0.5))\n",
    "except:\n",
    "    pass\n",
    "try:\n",
    "    print(taxa_erro(y, y_pred, 0.5))\n",
    "except:\n",
    "    pass\n",
    "try:\n",
    "    print(precisão(y, y_pred, 0.5))\n",
    "except:\n",
    "    pass\n",
    "try:\n",
    "    print(revocação(y, y_pred, 0.5))\n",
    "except:\n",
    "    pass\n",
    "try:\n",
    "    print(fbeta(y, y_pred, 1, 0.5))\n",
    "except:\n",
    "    pass\n",
    "try:\n",
    "    print(fbeta(y, y_pred, 2, 0.5))\n",
    "except:\n",
    "    pass\n",
    "try:\n",
    "    print(fbeta(y, y_pred, 0.5, 0.5))\n",
    "except:\n",
    "    pass"
   ]
  }
 ],
 "metadata": {
  "kernelspec": {
   "display_name": "Python 3.7.9 64-bit (windows store)",
   "language": "python",
   "name": "python3"
  },
  "language_info": {
   "name": "python",
   "version": "3.7.9"
  },
  "orig_nbformat": 4,
  "vscode": {
   "interpreter": {
    "hash": "0d5ec82a2bc783caec879949e4aea0e7d29f3ec3e05b4b65368bf7b47458aba3"
   }
  }
 },
 "nbformat": 4,
 "nbformat_minor": 2
}
