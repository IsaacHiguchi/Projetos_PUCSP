{
 "cells": [
  {
   "cell_type": "markdown",
   "metadata": {
    "id": "1KYSYfh1BGm8"
   },
   "source": [
    "# Uma Introdução ao PySpark"
   ]
  },
  {
   "cell_type": "markdown",
   "metadata": {
    "id": "1saIfkB3A_W4"
   },
   "source": [
    "\n",
    "## Instalando o PySpark\n"
   ]
  },
  {
   "cell_type": "code",
   "execution_count": 1,
   "metadata": {
    "colab": {
     "base_uri": "https://localhost:8080/"
    },
    "id": "79BCBPYLAzjj",
    "outputId": "48e4ebde-2ec3-4627-a82b-c6c15b9ab510"
   },
   "outputs": [
    {
     "name": "stdout",
     "output_type": "stream",
     "text": [
      "Looking in indexes: https://pypi.org/simple, https://us-python.pkg.dev/colab-wheels/public/simple/\n",
      "Collecting pyspark\n",
      "  Downloading pyspark-3.3.0.tar.gz (281.3 MB)\n",
      "\u001b[K     |████████████████████████████████| 281.3 MB 47 kB/s \n",
      "\u001b[?25hCollecting py4j\n",
      "  Downloading py4j-0.10.9.7-py2.py3-none-any.whl (200 kB)\n",
      "\u001b[K     |████████████████████████████████| 200 kB 53.5 MB/s \n",
      "\u001b[?25h  Downloading py4j-0.10.9.5-py2.py3-none-any.whl (199 kB)\n",
      "\u001b[K     |████████████████████████████████| 199 kB 56.3 MB/s \n",
      "\u001b[?25hBuilding wheels for collected packages: pyspark\n",
      "  Building wheel for pyspark (setup.py) ... \u001b[?25l\u001b[?25hdone\n",
      "  Created wheel for pyspark: filename=pyspark-3.3.0-py2.py3-none-any.whl size=281764026 sha256=73a3e3217556f55f411b40191d89ae72fff739353c69f36ef2a4032befe76f9d\n",
      "  Stored in directory: /root/.cache/pip/wheels/7a/8e/1b/f73a52650d2e5f337708d9f6a1750d451a7349a867f928b885\n",
      "Successfully built pyspark\n",
      "Installing collected packages: py4j, pyspark\n",
      "Successfully installed py4j-0.10.9.5 pyspark-3.3.0\n"
     ]
    }
   ],
   "source": [
    "!pip install pyspark py4j"
   ]
  },
  {
   "cell_type": "markdown",
   "metadata": {
    "id": "ufvAsiWDBhHF"
   },
   "source": [
    "## Inicializando uma sessão no Spark"
   ]
  },
  {
   "cell_type": "code",
   "execution_count": 2,
   "metadata": {
    "colab": {
     "base_uri": "https://localhost:8080/",
     "height": 219
    },
    "id": "wAPV5EYxBOcS",
    "outputId": "345f4c3b-403b-4abe-f304-35b9d87a844d"
   },
   "outputs": [
    {
     "data": {
      "text/html": [
       "\n",
       "            <div>\n",
       "                <p><b>SparkSession - in-memory</b></p>\n",
       "                \n",
       "        <div>\n",
       "            <p><b>SparkContext</b></p>\n",
       "\n",
       "            <p><a href=\"http://afe27b1453cd:4040\">Spark UI</a></p>\n",
       "\n",
       "            <dl>\n",
       "              <dt>Version</dt>\n",
       "                <dd><code>v3.3.0</code></dd>\n",
       "              <dt>Master</dt>\n",
       "                <dd><code>local[*]</code></dd>\n",
       "              <dt>AppName</dt>\n",
       "                <dd><code>CDIA4-22-PySpark</code></dd>\n",
       "            </dl>\n",
       "        </div>\n",
       "        \n",
       "            </div>\n",
       "        "
      ],
      "text/plain": [
       "<pyspark.sql.session.SparkSession at 0x7fdb831d7310>"
      ]
     },
     "execution_count": 2,
     "metadata": {},
     "output_type": "execute_result"
    }
   ],
   "source": [
    "from pyspark.sql import SparkSession\n",
    "spark = SparkSession \\\n",
    "          .builder \\\n",
    "          .appName(\"CDIA4-22-PySpark\") \\\n",
    "          .getOrCreate()\n",
    "\n",
    "\n",
    "spark"
   ]
  },
  {
   "cell_type": "code",
   "execution_count": 3,
   "metadata": {
    "colab": {
     "base_uri": "https://localhost:8080/",
     "height": 196
    },
    "id": "g8W-gbwkCIf-",
    "outputId": "cb080d01-1925-42ff-fc6a-b5aad141aa2b"
   },
   "outputs": [
    {
     "data": {
      "text/html": [
       "\n",
       "        <div>\n",
       "            <p><b>SparkContext</b></p>\n",
       "\n",
       "            <p><a href=\"http://afe27b1453cd:4040\">Spark UI</a></p>\n",
       "\n",
       "            <dl>\n",
       "              <dt>Version</dt>\n",
       "                <dd><code>v3.3.0</code></dd>\n",
       "              <dt>Master</dt>\n",
       "                <dd><code>local[*]</code></dd>\n",
       "              <dt>AppName</dt>\n",
       "                <dd><code>CDIA4-22-PySpark</code></dd>\n",
       "            </dl>\n",
       "        </div>\n",
       "        "
      ],
      "text/plain": [
       "<SparkContext master=local[*] appName=CDIA4-22-PySpark>"
      ]
     },
     "execution_count": 3,
     "metadata": {},
     "output_type": "execute_result"
    }
   ],
   "source": [
    "# Obtendo o contexto do spark\n",
    "sc = spark.sparkContext\n",
    "sc"
   ]
  },
  {
   "cell_type": "markdown",
   "metadata": {
    "id": "klrIjpmvDl2x"
   },
   "source": [
    "## Criando um `DataFrame` a partir de uma `RDD`"
   ]
  },
  {
   "cell_type": "code",
   "execution_count": 4,
   "metadata": {
    "colab": {
     "base_uri": "https://localhost:8080/"
    },
    "id": "ZU4EJaotCP1B",
    "outputId": "9d2fdfda-9eaf-4991-b5d4-eeb3557f16d3"
   },
   "outputs": [
    {
     "name": "stdout",
     "output_type": "stream",
     "text": [
      "+-----+----+------+-----+------+\n",
      "|Model|Year|Height|Width|Weight|\n",
      "+-----+----+------+-----+------+\n",
      "|   XS|2018|  5.65| 2.79|  6.24|\n",
      "|   XR|2018|  5.94| 2.98|  6.84|\n",
      "|  X10|2017|  5.65| 2.79|  6.13|\n",
      "|8Plus|2017|  6.23| 3.07|  7.12|\n",
      "+-----+----+------+-----+------+\n",
      "\n"
     ]
    }
   ],
   "source": [
    "# Creates a random list of something\n",
    "rdd = sc.parallelize([\n",
    "  (\"XS\", 2018, 5.65, 2.79, 6.24), \n",
    "  (\"XR\", 2018, 5.94, 2.98, 6.84), \n",
    "  (\"X10\", 2017, 5.65, 2.79, 6.13), \n",
    "  (\"8Plus\", 2017, 6.23, 3.07, 7.12)\n",
    "])\n",
    "\n",
    "# Use these names as the column names\n",
    "cols = ['Model', 'Year', 'Height', 'Width', 'Weight']\n",
    "\n",
    "# Create a DataFrame\n",
    "df = spark.createDataFrame(rdd, schema=cols)\n",
    "df.show()"
   ]
  },
  {
   "cell_type": "markdown",
   "metadata": {
    "id": "GV8zXCX-FEEm"
   },
   "source": [
    "## Criando um `DataFrame` de arquivos"
   ]
  },
  {
   "cell_type": "code",
   "execution_count": 6,
   "metadata": {
    "colab": {
     "base_uri": "https://localhost:8080/"
    },
    "id": "zvU9hYoJFL-4",
    "outputId": "f3815d1f-d21b-4188-d7f8-180875999421"
   },
   "outputs": [
    {
     "name": "stdout",
     "output_type": "stream",
     "text": [
      "+---------+---------+---+------+\n",
      "|firstname| lastname|age|gender|\n",
      "+---------+---------+---+------+\n",
      "|     Liam|    Smith| 12|     M|\n",
      "|     Noah|  Johnson| 14|     M|\n",
      "|   Oliver| Williams| 30|     M|\n",
      "|   Elijah|    Brown| 24|     M|\n",
      "|    James|    Jones| 56|     M|\n",
      "|  William|   Miller| 23|     M|\n",
      "| Benjamin|    Davis| 67|     M|\n",
      "|    Lucas|   Garcia| 50|     M|\n",
      "|    Henry|Rodriguez| 15|     M|\n",
      "|   Olivia|   Wilson| 37|     F|\n",
      "|     Emma| Martinez| 32|     F|\n",
      "|Charlotte| Anderson| 46|     F|\n",
      "|   Amelia|   Taylor| 42|     F|\n",
      "|      Ava|   Thomas| 11|     F|\n",
      "|   Sophia|Hernandez| 70|     F|\n",
      "| Isabella|    Moore| 66|     F|\n",
      "|      Mia|   Martin| 33|     F|\n",
      "|   Evelyn|  Jackson| 19|     F|\n",
      "|   Harper| Thompson| 18|     F|\n",
      "+---------+---------+---+------+\n",
      "\n"
     ]
    }
   ],
   "source": [
    "df = spark.read.csv(\"/content/people.csv\", header=True, inferSchema=True)\n",
    "df.show()"
   ]
  },
  {
   "cell_type": "markdown",
   "metadata": {
    "id": "uYnJ_lJmGcDL"
   },
   "source": [
    "## Inspecionando `DataFrames`"
   ]
  },
  {
   "cell_type": "code",
   "execution_count": 7,
   "metadata": {
    "colab": {
     "base_uri": "https://localhost:8080/"
    },
    "id": "SsrH1BO4GbW7",
    "outputId": "c648ec6c-dccf-43e1-d2d9-e8e43d836bc1"
   },
   "outputs": [
    {
     "data": {
      "text/plain": [
       "[('firstname', 'string'),\n",
       " ('lastname', 'string'),\n",
       " ('age', 'int'),\n",
       " ('gender', 'string')]"
      ]
     },
     "execution_count": 7,
     "metadata": {},
     "output_type": "execute_result"
    }
   ],
   "source": [
    "df.dtypes"
   ]
  },
  {
   "cell_type": "code",
   "execution_count": 8,
   "metadata": {
    "colab": {
     "base_uri": "https://localhost:8080/"
    },
    "id": "y4Ag5j6sGjwc",
    "outputId": "ff0f87c9-4a8e-4bb2-e470-1a19ed7019d2"
   },
   "outputs": [
    {
     "data": {
      "text/plain": [
       "[Row(firstname='Liam', lastname='Smith', age=12, gender='M'),\n",
       " Row(firstname='Noah', lastname='Johnson', age=14, gender='M'),\n",
       " Row(firstname='Oliver', lastname='Williams', age=30, gender='M')]"
      ]
     },
     "execution_count": 8,
     "metadata": {},
     "output_type": "execute_result"
    }
   ],
   "source": [
    "df.head(3)"
   ]
  },
  {
   "cell_type": "code",
   "execution_count": 10,
   "metadata": {
    "colab": {
     "base_uri": "https://localhost:8080/"
    },
    "id": "KxhJa91wGoDy",
    "outputId": "5ef6165a-e3e8-4235-d7c5-fa92ebd1c993"
   },
   "outputs": [
    {
     "data": {
      "text/plain": [
       "Row(firstname='Liam', lastname='Smith', age=12, gender='M')"
      ]
     },
     "execution_count": 10,
     "metadata": {},
     "output_type": "execute_result"
    }
   ],
   "source": [
    "df.first()"
   ]
  },
  {
   "cell_type": "code",
   "execution_count": 9,
   "metadata": {
    "colab": {
     "base_uri": "https://localhost:8080/"
    },
    "id": "hGkTwB5lGpx4",
    "outputId": "2a9b4152-a111-409e-d431-a8e178fe80fb"
   },
   "outputs": [
    {
     "data": {
      "text/plain": [
       "[Row(firstname='Liam', lastname='Smith', age=12, gender='M'),\n",
       " Row(firstname='Noah', lastname='Johnson', age=14, gender='M'),\n",
       " Row(firstname='Oliver', lastname='Williams', age=30, gender='M')]"
      ]
     },
     "execution_count": 9,
     "metadata": {},
     "output_type": "execute_result"
    }
   ],
   "source": [
    "df.take(3)"
   ]
  },
  {
   "cell_type": "code",
   "execution_count": 11,
   "metadata": {
    "colab": {
     "base_uri": "https://localhost:8080/"
    },
    "id": "oywVIAkyGtyO",
    "outputId": "c442fb3c-04db-45e6-8ade-a299276f32bc"
   },
   "outputs": [
    {
     "data": {
      "text/plain": [
       "StructType([StructField('firstname', StringType(), True), StructField('lastname', StringType(), True), StructField('age', IntegerType(), True), StructField('gender', StringType(), True)])"
      ]
     },
     "execution_count": 11,
     "metadata": {},
     "output_type": "execute_result"
    }
   ],
   "source": [
    "df.schema"
   ]
  },
  {
   "cell_type": "code",
   "execution_count": 13,
   "metadata": {
    "colab": {
     "base_uri": "https://localhost:8080/"
    },
    "id": "UVvlhoTSG59z",
    "outputId": "3b2afa1a-929c-45c6-bfe4-bafac768f395"
   },
   "outputs": [
    {
     "name": "stdout",
     "output_type": "stream",
     "text": [
      "+-------+---------+--------+------------------+------+\n",
      "|summary|firstname|lastname|               age|gender|\n",
      "+-------+---------+--------+------------------+------+\n",
      "|  count|       19|      19|                19|    19|\n",
      "|   mean|     null|    null|              35.0|  null|\n",
      "| stddev|     null|    null|19.499287736279555|  null|\n",
      "|    min|   Amelia|Anderson|                11|     F|\n",
      "|    max|  William|  Wilson|                70|     M|\n",
      "+-------+---------+--------+------------------+------+\n",
      "\n"
     ]
    }
   ],
   "source": [
    "df.describe().show()"
   ]
  },
  {
   "cell_type": "code",
   "execution_count": 14,
   "metadata": {
    "colab": {
     "base_uri": "https://localhost:8080/"
    },
    "id": "C3JsfxmwHai5",
    "outputId": "aed43c25-9a92-43ce-a293-45d87337d2ee"
   },
   "outputs": [
    {
     "data": {
      "text/plain": [
       "['firstname', 'lastname', 'age', 'gender']"
      ]
     },
     "execution_count": 14,
     "metadata": {},
     "output_type": "execute_result"
    }
   ],
   "source": [
    "df.columns"
   ]
  },
  {
   "cell_type": "code",
   "execution_count": 15,
   "metadata": {
    "colab": {
     "base_uri": "https://localhost:8080/"
    },
    "id": "aTp4CtZJHcqk",
    "outputId": "7182af99-94bc-4487-c7e9-f5f5859948a1"
   },
   "outputs": [
    {
     "data": {
      "text/plain": [
       "19"
      ]
     },
     "execution_count": 15,
     "metadata": {},
     "output_type": "execute_result"
    }
   ],
   "source": [
    "df.count()"
   ]
  },
  {
   "cell_type": "code",
   "execution_count": 16,
   "metadata": {
    "colab": {
     "base_uri": "https://localhost:8080/"
    },
    "id": "MKByzwwnHehM",
    "outputId": "7c1241b9-a1c4-4beb-a69a-ff76db0aaced"
   },
   "outputs": [
    {
     "data": {
      "text/plain": [
       "19"
      ]
     },
     "execution_count": 16,
     "metadata": {},
     "output_type": "execute_result"
    }
   ],
   "source": [
    "df.distinct().count()"
   ]
  },
  {
   "cell_type": "code",
   "execution_count": 17,
   "metadata": {
    "colab": {
     "base_uri": "https://localhost:8080/"
    },
    "id": "lkP3XesOHiSf",
    "outputId": "5b5c7875-93c3-4c88-ddd6-50944a5dd7ba"
   },
   "outputs": [
    {
     "name": "stdout",
     "output_type": "stream",
     "text": [
      "root\n",
      " |-- firstname: string (nullable = true)\n",
      " |-- lastname: string (nullable = true)\n",
      " |-- age: integer (nullable = true)\n",
      " |-- gender: string (nullable = true)\n",
      "\n"
     ]
    }
   ],
   "source": [
    "df.printSchema()"
   ]
  },
  {
   "cell_type": "code",
   "execution_count": 18,
   "metadata": {
    "colab": {
     "base_uri": "https://localhost:8080/"
    },
    "id": "tnnZk8HCHqOW",
    "outputId": "dedd4d60-4eb0-43d8-d90d-38dbe5384045"
   },
   "outputs": [
    {
     "name": "stdout",
     "output_type": "stream",
     "text": [
      "== Physical Plan ==\n",
      "FileScan csv [firstname#73,lastname#74,age#75,gender#76] Batched: false, DataFilters: [], Format: CSV, Location: InMemoryFileIndex(1 paths)[file:/content/people.csv], PartitionFilters: [], PushedFilters: [], ReadSchema: struct<firstname:string,lastname:string,age:int,gender:string>\n",
      "\n",
      "\n"
     ]
    }
   ],
   "source": [
    "df.explain()"
   ]
  },
  {
   "cell_type": "markdown",
   "metadata": {
    "id": "QwOaQcXBIoA2"
   },
   "source": [
    "## Queries"
   ]
  },
  {
   "cell_type": "markdown",
   "metadata": {
    "id": "VZLOSeW0I0dc"
   },
   "source": [
    "### `select()`"
   ]
  },
  {
   "cell_type": "code",
   "execution_count": 19,
   "metadata": {
    "colab": {
     "base_uri": "https://localhost:8080/"
    },
    "id": "cPnczpnaInS-",
    "outputId": "6f7fcbb3-a494-49da-9c21-4797e7763519"
   },
   "outputs": [
    {
     "name": "stdout",
     "output_type": "stream",
     "text": [
      "+---------+\n",
      "|firstname|\n",
      "+---------+\n",
      "|     Liam|\n",
      "|     Noah|\n",
      "|   Oliver|\n",
      "|   Elijah|\n",
      "|    James|\n",
      "|  William|\n",
      "| Benjamin|\n",
      "|    Lucas|\n",
      "|    Henry|\n",
      "|   Olivia|\n",
      "|     Emma|\n",
      "|Charlotte|\n",
      "|   Amelia|\n",
      "|      Ava|\n",
      "|   Sophia|\n",
      "| Isabella|\n",
      "|      Mia|\n",
      "|   Evelyn|\n",
      "|   Harper|\n",
      "+---------+\n",
      "\n"
     ]
    }
   ],
   "source": [
    "df.select(\"firstname\").show()"
   ]
  },
  {
   "cell_type": "code",
   "execution_count": 21,
   "metadata": {
    "colab": {
     "base_uri": "https://localhost:8080/"
    },
    "id": "yagCTDOMI-qg",
    "outputId": "70cc8d07-2fdb-4f1d-ab43-e107cc8c9341"
   },
   "outputs": [
    {
     "name": "stdout",
     "output_type": "stream",
     "text": [
      "+---------+---+\n",
      "|firstname|age|\n",
      "+---------+---+\n",
      "|     Liam| 12|\n",
      "|     Noah| 14|\n",
      "|   Oliver| 30|\n",
      "|   Elijah| 24|\n",
      "|    James| 56|\n",
      "|  William| 23|\n",
      "| Benjamin| 67|\n",
      "|    Lucas| 50|\n",
      "|    Henry| 15|\n",
      "|   Olivia| 37|\n",
      "|     Emma| 32|\n",
      "|Charlotte| 46|\n",
      "|   Amelia| 42|\n",
      "|      Ava| 11|\n",
      "|   Sophia| 70|\n",
      "| Isabella| 66|\n",
      "|      Mia| 33|\n",
      "|   Evelyn| 19|\n",
      "|   Harper| 18|\n",
      "+---------+---+\n",
      "\n"
     ]
    }
   ],
   "source": [
    "df.select('firstname', 'age').show()"
   ]
  },
  {
   "cell_type": "code",
   "execution_count": 23,
   "metadata": {
    "colab": {
     "base_uri": "https://localhost:8080/"
    },
    "id": "bMpWjI3kJGUf",
    "outputId": "75d60e1d-fb52-4521-a6ec-59efff502e47"
   },
   "outputs": [
    {
     "name": "stdout",
     "output_type": "stream",
     "text": [
      "+---------+---------+\n",
      "|firstname|(age + 1)|\n",
      "+---------+---------+\n",
      "|     Liam|       13|\n",
      "|     Noah|       15|\n",
      "|   Oliver|       31|\n",
      "|   Elijah|       25|\n",
      "|    James|       57|\n",
      "|  William|       24|\n",
      "| Benjamin|       68|\n",
      "|    Lucas|       51|\n",
      "|    Henry|       16|\n",
      "|   Olivia|       38|\n",
      "|     Emma|       33|\n",
      "|Charlotte|       47|\n",
      "|   Amelia|       43|\n",
      "|      Ava|       12|\n",
      "|   Sophia|       71|\n",
      "| Isabella|       67|\n",
      "|      Mia|       34|\n",
      "|   Evelyn|       20|\n",
      "|   Harper|       19|\n",
      "+---------+---------+\n",
      "\n"
     ]
    }
   ],
   "source": [
    "df.select(df.firstname, df.age + 1).show()"
   ]
  },
  {
   "cell_type": "code",
   "execution_count": 25,
   "metadata": {
    "colab": {
     "base_uri": "https://localhost:8080/"
    },
    "id": "WeYhJi_oJV4T",
    "outputId": "cd4cd94e-ae8f-46f1-c6e2-e19bb9116d02"
   },
   "outputs": [
    {
     "name": "stdout",
     "output_type": "stream",
     "text": [
      "+---------+----------+\n",
      "|firstname|(age > 30)|\n",
      "+---------+----------+\n",
      "|     Liam|     false|\n",
      "|     Noah|     false|\n",
      "|   Oliver|     false|\n",
      "|   Elijah|     false|\n",
      "|    James|      true|\n",
      "|  William|     false|\n",
      "| Benjamin|      true|\n",
      "|    Lucas|      true|\n",
      "|    Henry|     false|\n",
      "|   Olivia|      true|\n",
      "|     Emma|      true|\n",
      "|Charlotte|      true|\n",
      "|   Amelia|      true|\n",
      "|      Ava|     false|\n",
      "|   Sophia|      true|\n",
      "| Isabella|      true|\n",
      "|      Mia|      true|\n",
      "|   Evelyn|     false|\n",
      "|   Harper|     false|\n",
      "+---------+----------+\n",
      "\n"
     ]
    }
   ],
   "source": [
    "df.select(df.firstname, df.age > 30).show()"
   ]
  },
  {
   "cell_type": "markdown",
   "metadata": {
    "id": "FOP47k8zJvYW"
   },
   "source": [
    "### `.alias()`"
   ]
  },
  {
   "cell_type": "code",
   "execution_count": 27,
   "metadata": {
    "colab": {
     "base_uri": "https://localhost:8080/"
    },
    "id": "9_ucQPwvJzor",
    "outputId": "70163fa1-3d42-4696-9526-b368b977363e"
   },
   "outputs": [
    {
     "name": "stdout",
     "output_type": "stream",
     "text": [
      "+---------+---+\n",
      "|firstname|age|\n",
      "+---------+---+\n",
      "|     Liam| 13|\n",
      "|     Noah| 15|\n",
      "|   Oliver| 31|\n",
      "|   Elijah| 25|\n",
      "|    James| 57|\n",
      "|  William| 24|\n",
      "| Benjamin| 68|\n",
      "|    Lucas| 51|\n",
      "|    Henry| 16|\n",
      "|   Olivia| 38|\n",
      "|     Emma| 33|\n",
      "|Charlotte| 47|\n",
      "|   Amelia| 43|\n",
      "|      Ava| 12|\n",
      "|   Sophia| 71|\n",
      "| Isabella| 67|\n",
      "|      Mia| 34|\n",
      "|   Evelyn| 20|\n",
      "|   Harper| 19|\n",
      "+---------+---+\n",
      "\n"
     ]
    }
   ],
   "source": [
    "df.select(\n",
    "    df.firstname,\n",
    "    (df.age + 1).alias(\"age\")\n",
    ").show()"
   ]
  },
  {
   "cell_type": "markdown",
   "metadata": {
    "id": "PBBNEwQ1KL2e"
   },
   "source": [
    "### `groupBy()`"
   ]
  },
  {
   "cell_type": "code",
   "execution_count": 30,
   "metadata": {
    "colab": {
     "base_uri": "https://localhost:8080/"
    },
    "id": "HcGZ-OFxKRI2",
    "outputId": "afec9c5e-0b56-4e43-fadd-a44720e7117e"
   },
   "outputs": [
    {
     "name": "stdout",
     "output_type": "stream",
     "text": [
      "+---+-----+\n",
      "|age|count|\n",
      "+---+-----+\n",
      "| 12|    1|\n",
      "| 19|    1|\n",
      "| 15|    1|\n",
      "| 37|    1|\n",
      "| 23|    1|\n",
      "| 50|    1|\n",
      "| 24|    1|\n",
      "| 70|    1|\n",
      "| 32|    1|\n",
      "| 56|    1|\n",
      "| 11|    1|\n",
      "| 33|    1|\n",
      "| 14|    1|\n",
      "| 42|    1|\n",
      "| 30|    1|\n",
      "| 66|    1|\n",
      "| 67|    1|\n",
      "| 46|    1|\n",
      "| 18|    1|\n",
      "+---+-----+\n",
      "\n"
     ]
    }
   ],
   "source": [
    "grouped = df.groupBy(\"age\").count()\n",
    "grouped.show()"
   ]
  },
  {
   "cell_type": "markdown",
   "metadata": {
    "id": "1dI1gcFbK7hJ"
   },
   "source": [
    "### `filter()`"
   ]
  },
  {
   "cell_type": "code",
   "execution_count": 31,
   "metadata": {
    "colab": {
     "base_uri": "https://localhost:8080/"
    },
    "id": "BAFLsEuwK-qt",
    "outputId": "6c1d7b8a-46bb-46fb-f2ab-a7c69029bae8"
   },
   "outputs": [
    {
     "name": "stdout",
     "output_type": "stream",
     "text": [
      "+---------+---------+---+------+\n",
      "|firstname| lastname|age|gender|\n",
      "+---------+---------+---+------+\n",
      "|    James|    Jones| 56|     M|\n",
      "| Benjamin|    Davis| 67|     M|\n",
      "|    Lucas|   Garcia| 50|     M|\n",
      "|   Olivia|   Wilson| 37|     F|\n",
      "|     Emma| Martinez| 32|     F|\n",
      "|Charlotte| Anderson| 46|     F|\n",
      "|   Amelia|   Taylor| 42|     F|\n",
      "|   Sophia|Hernandez| 70|     F|\n",
      "| Isabella|    Moore| 66|     F|\n",
      "|      Mia|   Martin| 33|     F|\n",
      "+---------+---------+---+------+\n",
      "\n"
     ]
    }
   ],
   "source": [
    "filtered = df.filter(\n",
    "    df.age > 30\n",
    ").show()"
   ]
  },
  {
   "cell_type": "markdown",
   "metadata": {
    "id": "mtH0aPGDLSP3"
   },
   "source": [
    "### `substring`"
   ]
  },
  {
   "cell_type": "code",
   "execution_count": 32,
   "metadata": {
    "colab": {
     "base_uri": "https://localhost:8080/"
    },
    "id": "nQw0ZoZoLRBn",
    "outputId": "c85fc712-2612-4059-fe90-bf795ec793da"
   },
   "outputs": [
    {
     "name": "stdout",
     "output_type": "stream",
     "text": [
      "+----+\n",
      "|name|\n",
      "+----+\n",
      "| Lia|\n",
      "| Noa|\n",
      "| Oli|\n",
      "| Eli|\n",
      "| Jam|\n",
      "| Wil|\n",
      "| Ben|\n",
      "| Luc|\n",
      "| Hen|\n",
      "| Oli|\n",
      "| Emm|\n",
      "| Cha|\n",
      "| Ame|\n",
      "| Ava|\n",
      "| Sop|\n",
      "| Isa|\n",
      "| Mia|\n",
      "| Eve|\n",
      "| Har|\n",
      "+----+\n",
      "\n"
     ]
    }
   ],
   "source": [
    "df.select(\n",
    "    df.firstname.substr(1,3).alias('name')\n",
    ").show()"
   ]
  },
  {
   "cell_type": "markdown",
   "metadata": {
    "id": "nxAfcZP6MGq4"
   },
   "source": [
    "### `like()`"
   ]
  },
  {
   "cell_type": "code",
   "execution_count": 35,
   "metadata": {
    "colab": {
     "base_uri": "https://localhost:8080/"
    },
    "id": "qrIpYLvrMJUL",
    "outputId": "35f0add0-6d6d-448a-efb3-6459bb1bc538"
   },
   "outputs": [
    {
     "name": "stdout",
     "output_type": "stream",
     "text": [
      "+---------+-------------------+\n",
      "| lastname|lastname LIKE %Tay%|\n",
      "+---------+-------------------+\n",
      "|    Smith|              false|\n",
      "|  Johnson|              false|\n",
      "| Williams|              false|\n",
      "|    Brown|              false|\n",
      "|    Jones|              false|\n",
      "|   Miller|              false|\n",
      "|    Davis|              false|\n",
      "|   Garcia|              false|\n",
      "|Rodriguez|              false|\n",
      "|   Wilson|              false|\n",
      "| Martinez|              false|\n",
      "| Anderson|              false|\n",
      "|   Taylor|               true|\n",
      "|   Thomas|              false|\n",
      "|Hernandez|              false|\n",
      "|    Moore|              false|\n",
      "|   Martin|              false|\n",
      "|  Jackson|              false|\n",
      "| Thompson|              false|\n",
      "+---------+-------------------+\n",
      "\n"
     ]
    }
   ],
   "source": [
    "from pyspark.sql.functions import col\n",
    "\n",
    "df.select(\n",
    "    col(\"lastname\"),\n",
    "    col(\"lastname\").like(\"%Tay%\")\n",
    ").show()"
   ]
  },
  {
   "cell_type": "markdown",
   "metadata": {
    "id": "JUa81CFJM6yp"
   },
   "source": [
    "### `startswith()`"
   ]
  },
  {
   "cell_type": "code",
   "execution_count": 37,
   "metadata": {
    "colab": {
     "base_uri": "https://localhost:8080/"
    },
    "id": "-zwjLfIJM1O2",
    "outputId": "33e80b90-5fba-47e1-bb07-ad21098c28aa"
   },
   "outputs": [
    {
     "name": "stdout",
     "output_type": "stream",
     "text": [
      "+---------+------------------------+\n",
      "|firstname|startswith(firstname, M)|\n",
      "+---------+------------------------+\n",
      "|     Liam|                   false|\n",
      "|     Noah|                   false|\n",
      "|   Oliver|                   false|\n",
      "|   Elijah|                   false|\n",
      "|    James|                   false|\n",
      "|  William|                   false|\n",
      "| Benjamin|                   false|\n",
      "|    Lucas|                   false|\n",
      "|    Henry|                   false|\n",
      "|   Olivia|                   false|\n",
      "|     Emma|                   false|\n",
      "|Charlotte|                   false|\n",
      "|   Amelia|                   false|\n",
      "|      Ava|                   false|\n",
      "|   Sophia|                   false|\n",
      "| Isabella|                   false|\n",
      "|      Mia|                    true|\n",
      "|   Evelyn|                   false|\n",
      "|   Harper|                   false|\n",
      "+---------+------------------------+\n",
      "\n"
     ]
    }
   ],
   "source": [
    "df.select(\n",
    "    col(\"firstname\"),\n",
    "    col(\"firstname\").startswith(\"M\")\n",
    ").show()"
   ]
  },
  {
   "cell_type": "markdown",
   "metadata": {
    "id": "_SXqJPzONMb2"
   },
   "source": [
    "### `endswith()`"
   ]
  },
  {
   "cell_type": "code",
   "execution_count": 39,
   "metadata": {
    "colab": {
     "base_uri": "https://localhost:8080/"
    },
    "id": "b2K9tmpZNLzA",
    "outputId": "351a0b42-2a57-48bb-bde0-11518e158917"
   },
   "outputs": [
    {
     "name": "stdout",
     "output_type": "stream",
     "text": [
      "+---------+----------------------+\n",
      "|firstname|endswith(firstname, a)|\n",
      "+---------+----------------------+\n",
      "|     Liam|                 false|\n",
      "|     Noah|                 false|\n",
      "|   Oliver|                 false|\n",
      "|   Elijah|                 false|\n",
      "|    James|                 false|\n",
      "|  William|                 false|\n",
      "| Benjamin|                 false|\n",
      "|    Lucas|                 false|\n",
      "|    Henry|                 false|\n",
      "|   Olivia|                  true|\n",
      "|     Emma|                  true|\n",
      "|Charlotte|                 false|\n",
      "|   Amelia|                  true|\n",
      "|      Ava|                  true|\n",
      "|   Sophia|                  true|\n",
      "| Isabella|                  true|\n",
      "|      Mia|                  true|\n",
      "|   Evelyn|                 false|\n",
      "|   Harper|                 false|\n",
      "+---------+----------------------+\n",
      "\n"
     ]
    }
   ],
   "source": [
    "df.select(\n",
    "    col(\"firstname\"),\n",
    "    col(\"firstname\").endswith(\"a\")\n",
    ").show()"
   ]
  },
  {
   "cell_type": "markdown",
   "metadata": {
    "id": "sZRCJ8R2Nd3K"
   },
   "source": [
    "### `between()`"
   ]
  },
  {
   "cell_type": "code",
   "execution_count": 43,
   "metadata": {
    "colab": {
     "base_uri": "https://localhost:8080/"
    },
    "id": "27bnQQ-xNgZ7",
    "outputId": "e6e26026-3e93-4a10-b574-9f52e3a35c54"
   },
   "outputs": [
    {
     "name": "stdout",
     "output_type": "stream",
     "text": [
      "+---+-----------------------------+\n",
      "|age|((age >= 22) AND (age <= 30))|\n",
      "+---+-----------------------------+\n",
      "| 20|                        false|\n",
      "| 21|                        false|\n",
      "| 19|                        false|\n",
      "| 20|                        false|\n",
      "| 22|                         true|\n",
      "+---+-----------------------------+\n",
      "\n"
     ]
    }
   ],
   "source": [
    "df.select(\n",
    "    col(\"age\"),\n",
    "    col(\"age\").between(22,30)\n",
    ").show()"
   ]
  },
  {
   "cell_type": "markdown",
   "metadata": {
    "id": "1eGh1s3-NrGU"
   },
   "source": [
    "### Explodindo as colunas"
   ]
  },
  {
   "cell_type": "code",
   "execution_count": 44,
   "metadata": {
    "colab": {
     "base_uri": "https://localhost:8080/"
    },
    "id": "yhVoUas2Np26",
    "outputId": "c402b03d-5609-494f-9ff4-673dc6564a74"
   },
   "outputs": [
    {
     "name": "stdout",
     "output_type": "stream",
     "text": [
      "root\n",
      " |-- Name: string (nullable = true)\n",
      " |-- Age: string (nullable = true)\n",
      " |-- Courses_enrolled: array (nullable = true)\n",
      " |    |-- element: string (containsNull = true)\n",
      "\n",
      "+-----+---+--------------------+\n",
      "| Name|Age|    Courses_enrolled|\n",
      "+-----+---+--------------------+\n",
      "| Jaya| 20| [SQL, Data Science]|\n",
      "|Milan| 21|            [ML, AI]|\n",
      "|Rohit| 19|  [Programming, DSA]|\n",
      "|Maria| 20|  [DBMS, Networking]|\n",
      "|  Jay| 22|[Data Analytics, ML]|\n",
      "+-----+---+--------------------+\n",
      "\n"
     ]
    }
   ],
   "source": [
    "# Motivação do problema: Situação inicial\n",
    "# nome, idade, cursos em que a pessoa está matriculada\n",
    "data = [('Jaya', '20', ['SQL','Data Science']),\n",
    "        ('Milan', '21', ['ML','AI']),\n",
    "        ('Rohit', '19', ['Programming', 'DSA']),\n",
    "        ('Maria', '20', ['DBMS', 'Networking']),\n",
    "        ('Jay', '22', ['Data Analytics','ML'])]\n",
    "\n",
    "columns = ['Name', 'Age', 'Courses_enrolled']\n",
    "\n",
    "df = spark.createDataFrame(data, columns)\n",
    "df.printSchema()\n",
    "df.show()"
   ]
  },
  {
   "cell_type": "code",
   "execution_count": 45,
   "metadata": {
    "colab": {
     "base_uri": "https://localhost:8080/"
    },
    "id": "eiQpu_cSOtFS",
    "outputId": "fc0843b2-bcc6-477d-8c78-a3a22d00222e"
   },
   "outputs": [
    {
     "name": "stdout",
     "output_type": "stream",
     "text": [
      "root\n",
      " |-- Name: string (nullable = true)\n",
      " |-- col: string (nullable = true)\n",
      "\n",
      "+-----+--------------+\n",
      "| Name|           col|\n",
      "+-----+--------------+\n",
      "| Jaya|           SQL|\n",
      "| Jaya|  Data Science|\n",
      "|Milan|            ML|\n",
      "|Milan|            AI|\n",
      "|Rohit|   Programming|\n",
      "|Rohit|           DSA|\n",
      "|Maria|          DBMS|\n",
      "|Maria|    Networking|\n",
      "|  Jay|Data Analytics|\n",
      "|  Jay|            ML|\n",
      "+-----+--------------+\n",
      "\n"
     ]
    }
   ],
   "source": [
    "from pyspark.sql.functions import explode\n",
    "\n",
    "exploded_df = df.select(\n",
    "    df.Name,\n",
    "    explode(df.Courses_enrolled)\n",
    ")\n",
    "exploded_df.printSchema()\n",
    "exploded_df.show()"
   ]
  },
  {
   "cell_type": "markdown",
   "metadata": {
    "id": "f_xvWuUKV2Km"
   },
   "source": [
    "### Soluções dos Exercícios "
   ]
  },
  {
   "cell_type": "markdown",
   "metadata": {
    "id": "lYw-7OQQXrvb"
   },
   "source": [
    "Considerando o dataset `movies.csv`, responda às questões do Practice 04."
   ]
  },
  {
   "cell_type": "code",
   "execution_count": 46,
   "metadata": {
    "colab": {
     "base_uri": "https://localhost:8080/"
    },
    "id": "_gEK0dFJV1Wv",
    "outputId": "8dcbcdce-955b-4013-800a-f915759fe880"
   },
   "outputs": [
    {
     "name": "stdout",
     "output_type": "stream",
     "text": [
      "+--------------------+---------+--------------------+--------------+-------------+---------------+---------------+----+\n",
      "|                film|    genre|         lead-studio|audience-score|profitability|rotten-tomatoes|worldwide-gross|year|\n",
      "+--------------------+---------+--------------------+--------------+-------------+---------------+---------------+----+\n",
      "|Zack and Miri Mak...|  Romance|The Weinstein Com...|            70|  1.747541667|             64|          41.94|2008|\n",
      "|     Youth in Revolt|   Comedy|The Weinstein Com...|            52|         1.09|             68|          19.62|2010|\n",
      "|You Will Meet a T...|   Comedy|         Independent|            35|  1.211818182|             43|          26.66|2010|\n",
      "|        When in Rome|   Comedy|              Disney|            44|          0.0|             15|          43.04|2010|\n",
      "|What Happens in V...|   Comedy|                 Fox|            72|  6.267647029|             28|         219.37|2008|\n",
      "| Water For Elephants|    Drama|    20th Century Fox|            72|  3.081421053|             60|         117.09|2011|\n",
      "|              WALL-E|Animation|              Disney|            89|  2.896019067|             96|         521.28|2008|\n",
      "|            Waitress|  Romance|         Independent|            67|   11.0897415|             89|          22.18|2007|\n",
      "| Waiting For Forever|  Romance|         Independent|            53|        0.005|              6|           0.03|2011|\n",
      "|     Valentine's Day|   Comedy|        Warner Bros.|            54|  4.184038462|             17|         217.57|2010|\n",
      "|Tyler Perry's Why...|  Romance|         Independent|            47|    3.7241924|             46|          55.86|2007|\n",
      "|Twilight: Breakin...|  Romance|         Independent|            68|  6.383363636|             26|         702.17|2011|\n",
      "|            Twilight|  Romance|              Summit|            82|  10.18002703|             49|         376.66|2008|\n",
      "|      The Ugly Truth|   Comedy|         Independent|            68|  5.402631579|             14|          205.3|2009|\n",
      "|The Twilight Saga...|    Drama|              Summit|            78|      14.1964|             27|         709.82|2009|\n",
      "|The Time Traveler...|    Drama|           Paramount|            65|  2.598205128|             38|         101.33|2009|\n",
      "|        The Proposal|   Comedy|              Disney|            74|       7.8675|             43|          314.7|2009|\n",
      "|The Invention of ...|   Comedy|        Warner Bros.|            47|  1.751351351|             56|           32.4|2009|\n",
      "|  The Heartbreak Kid|   Comedy|           Paramount|            41|  2.129444167|             30|         127.77|2007|\n",
      "|         The Duchess|    Drama|           Paramount|            68|  3.207850222|             60|          43.31|2008|\n",
      "+--------------------+---------+--------------------+--------------+-------------+---------------+---------------+----+\n",
      "only showing top 20 rows\n",
      "\n"
     ]
    }
   ],
   "source": [
    "# Importando o movies.csv\n",
    "df_movies = spark.read.csv(\"/content/movies.csv\", header=True, inferSchema=True)\n",
    "df_movies.show()"
   ]
  },
  {
   "cell_type": "code",
   "execution_count": 47,
   "metadata": {
    "colab": {
     "base_uri": "https://localhost:8080/"
    },
    "id": "6Z28uylDWZTV",
    "outputId": "edd04c50-dc69-4064-aee7-c62957387ee3"
   },
   "outputs": [
    {
     "name": "stdout",
     "output_type": "stream",
     "text": [
      "root\n",
      " |-- film: string (nullable = true)\n",
      " |-- genre: string (nullable = true)\n",
      " |-- lead-studio: string (nullable = true)\n",
      " |-- audience-score: integer (nullable = true)\n",
      " |-- profitability: double (nullable = true)\n",
      " |-- rotten-tomatoes: integer (nullable = true)\n",
      " |-- worldwide-gross: double (nullable = true)\n",
      " |-- year: integer (nullable = true)\n",
      "\n"
     ]
    }
   ],
   "source": [
    "df_movies.printSchema()"
   ]
  },
  {
   "cell_type": "markdown",
   "metadata": {
    "id": "5XH4xtwcYXl8"
   },
   "source": [
    "Importação dos módulos para a solução dos exercícios"
   ]
  },
  {
   "cell_type": "code",
   "execution_count": null,
   "metadata": {
    "id": "wNBXVz9jYfML"
   },
   "outputs": [],
   "source": [
    "from pyspark.sql.functions import col"
   ]
  },
  {
   "cell_type": "code",
   "execution_count": 48,
   "metadata": {
    "colab": {
     "base_uri": "https://localhost:8080/"
    },
    "id": "NxrSn-iYYJAE",
    "outputId": "b277c8e5-477b-4c7e-bcc8-4d94b33f4365"
   },
   "outputs": [
    {
     "name": "stdout",
     "output_type": "stream",
     "text": [
      "+-------+--------------------+-------+----------------+------------------+-----------------+------------------+------------------+------------------+\n",
      "|summary|                film|  genre|     lead-studio|    audience-score|    profitability|   rotten-tomatoes|   worldwide-gross|              year|\n",
      "+-------+--------------------+-------+----------------+------------------+-----------------+------------------+------------------+------------------+\n",
      "|  count|                  74|     74|              74|                74|               74|                74|                74|                74|\n",
      "|   mean|                null|   null|            null| 63.91891891891892|4.549382372391891| 46.91891891891892|136.35081081081074| 2009.054054054054|\n",
      "| stddev|                null|   null|            null|13.683062979972128|8.174251914350178|26.332310876099108|157.06578623243522|1.3537557284756396|\n",
      "|    min|(500) Days of Summer| Action|20th Century Fox|                35|              0.0|                 3|              0.03|              2007|\n",
      "|    max|Zack and Miri Mak...|romance|    Warner Bros.|                89|           66.934|                96|            709.82|              2011|\n",
      "+-------+--------------------+-------+----------------+------------------+-----------------+------------------+------------------+------------------+\n",
      "\n"
     ]
    }
   ],
   "source": [
    "# P01. Obtendo uma descrição estatística para os campos numéricos\n",
    "\n",
    "df_movies.describe().show()"
   ]
  },
  {
   "cell_type": "code",
   "execution_count": 49,
   "metadata": {
    "colab": {
     "base_uri": "https://localhost:8080/"
    },
    "id": "BKlr6a5aYqGV",
    "outputId": "b71a372c-202e-4f96-c6cc-28aa4d2d5831"
   },
   "outputs": [
    {
     "name": "stdout",
     "output_type": "stream",
     "text": [
      "+--------------------+---------+--------------------+--------------+-------------+---------------+---------------+----+\n",
      "|                film|    genre|         lead-studio|audience-score|profitability|rotten-tomatoes|worldwide-gross|year|\n",
      "+--------------------+---------+--------------------+--------------+-------------+---------------+---------------+----+\n",
      "|What Happens in V...|   Comedy|                 Fox|            72|  6.267647029|             28|         219.37|2008|\n",
      "| Water For Elephants|    Drama|    20th Century Fox|            72|  3.081421053|             60|         117.09|2011|\n",
      "|              WALL-E|Animation|              Disney|            89|  2.896019067|             96|         521.28|2008|\n",
      "|            Twilight|  Romance|              Summit|            82|  10.18002703|             49|         376.66|2008|\n",
      "|The Twilight Saga...|    Drama|              Summit|            78|      14.1964|             27|         709.82|2009|\n",
      "|        The Proposal|   Comedy|              Disney|            74|       7.8675|             43|          314.7|2009|\n",
      "|The Curious Case ...|  Fantasy|        Warner Bros.|            81|   1.78394375|             73|         285.43|2008|\n",
      "|             Tangled|Animation|              Disney|            88|  1.365692308|             89|         355.01|2010|\n",
      "|    Sex and the City|   Comedy|        Warner Bros.|            81|  7.221795791|             49|         415.25|2008|\n",
      "|            Penelope|   Comedy|              Summit|            74|  1.382799733|             52|          20.74|2008|\n",
      "|     P.S. I Love You|  Romance|         Independent|            82|  5.103116833|             21|         153.09|2007|\n",
      "|My Week with Marilyn|    Drama|The Weinstein Com...|            84|       0.8258|             83|           8.26|2011|\n",
      "|   Midnight in Paris|  Romence|                Sony|            84|  8.744705882|             93|         148.66|2011|\n",
      "|       Marley and Me|   Comedy|                 Fox|            77|  3.746781818|             63|         206.07|2008|\n",
      "|          Mamma Mia!|   Comedy|           Universal|            76|  9.234453864|             53|         609.47|2008|\n",
      "|          Knocked Up|   Comedy|           Universal|            83|  6.636401848|             91|          219.0|2007|\n",
      "|           Jane Eyre|  Romance|           Universal|            77|          0.0|             85|          30.15|2011|\n",
      "|High School Music...|   Comedy|              Disney|            76|  22.91313646|             65|         252.04|2008|\n",
      "|           Enchanted|   Comedy|              Disney|            80|  4.005737082|             93|         340.49|2007|\n",
      "|           Beginners|   Comedy|         Independent|            80|     4.471875|             84|          14.31|2011|\n",
      "+--------------------+---------+--------------------+--------------+-------------+---------------+---------------+----+\n",
      "only showing top 20 rows\n",
      "\n"
     ]
    }
   ],
   "source": [
    "# P02. Que filmes tem audiência maior que 70?\n",
    "\n",
    "df_movies.filter(\n",
    "    col(\"audience-score\") > 70\n",
    ").show()"
   ]
  },
  {
   "cell_type": "code",
   "execution_count": 50,
   "metadata": {
    "colab": {
     "base_uri": "https://localhost:8080/"
    },
    "id": "vXzznLZHYv86",
    "outputId": "314a77cb-09b0-4794-f669-50db77f0e60d"
   },
   "outputs": [
    {
     "name": "stdout",
     "output_type": "stream",
     "text": [
      "+----+-----+\n",
      "|year|count|\n",
      "+----+-----+\n",
      "|2007|   11|\n",
      "|2009|   12|\n",
      "|2010|   19|\n",
      "|2011|   13|\n",
      "|2008|   19|\n",
      "+----+-----+\n",
      "\n"
     ]
    }
   ],
   "source": [
    "# P03. Conte quantos filmes tem para cada ano\n",
    "\n",
    "df_movies.groupBy(\n",
    "  col(\"year\")\n",
    ").count().show()"
   ]
  },
  {
   "cell_type": "code",
   "execution_count": 51,
   "metadata": {
    "colab": {
     "base_uri": "https://localhost:8080/"
    },
    "id": "295_L3cRY2eo",
    "outputId": "4583ec0e-b616-4190-bbdd-5d98cebfaa4c"
   },
   "outputs": [
    {
     "name": "stdout",
     "output_type": "stream",
     "text": [
      "+--------------------+---------------------+\n",
      "|                film|startswith(film, The)|\n",
      "+--------------------+---------------------+\n",
      "|Zack and Miri Mak...|                false|\n",
      "|     Youth in Revolt|                false|\n",
      "|You Will Meet a T...|                false|\n",
      "|        When in Rome|                false|\n",
      "|What Happens in V...|                false|\n",
      "| Water For Elephants|                false|\n",
      "|              WALL-E|                false|\n",
      "|            Waitress|                false|\n",
      "| Waiting For Forever|                false|\n",
      "|     Valentine's Day|                false|\n",
      "|Tyler Perry's Why...|                false|\n",
      "|Twilight: Breakin...|                false|\n",
      "|            Twilight|                false|\n",
      "|      The Ugly Truth|                 true|\n",
      "|The Twilight Saga...|                 true|\n",
      "|The Time Traveler...|                 true|\n",
      "|        The Proposal|                 true|\n",
      "|The Invention of ...|                 true|\n",
      "|  The Heartbreak Kid|                 true|\n",
      "|         The Duchess|                 true|\n",
      "+--------------------+---------------------+\n",
      "only showing top 20 rows\n",
      "\n"
     ]
    }
   ],
   "source": [
    "# P04. Que filmes começam com a palavra \"The\" nos títulos?\n",
    "\n",
    "df_movies.select(\n",
    "    col(\"film\"),\n",
    "    col(\"film\").startswith(\"The\")\n",
    ").show()"
   ]
  },
  {
   "cell_type": "code",
   "execution_count": 52,
   "metadata": {
    "colab": {
     "base_uri": "https://localhost:8080/"
    },
    "id": "GlXHHqAjY8q3",
    "outputId": "b204d458-b71c-4d48-bbe5-8c5451778bf5"
   },
   "outputs": [
    {
     "name": "stdout",
     "output_type": "stream",
     "text": [
      "+---------------+-------------------------------------------------------+\n",
      "|worldwide-gross|((worldwide-gross >= 100) AND (worldwide-gross <= 200))|\n",
      "+---------------+-------------------------------------------------------+\n",
      "|          41.94|                                                  false|\n",
      "|          19.62|                                                  false|\n",
      "|          26.66|                                                  false|\n",
      "|          43.04|                                                  false|\n",
      "|         219.37|                                                  false|\n",
      "|         117.09|                                                   true|\n",
      "|         521.28|                                                  false|\n",
      "|          22.18|                                                  false|\n",
      "|           0.03|                                                  false|\n",
      "|         217.57|                                                  false|\n",
      "|          55.86|                                                  false|\n",
      "|         702.17|                                                  false|\n",
      "|         376.66|                                                  false|\n",
      "|          205.3|                                                  false|\n",
      "|         709.82|                                                  false|\n",
      "|         101.33|                                                   true|\n",
      "|          314.7|                                                  false|\n",
      "|           32.4|                                                  false|\n",
      "|         127.77|                                                   true|\n",
      "|          43.31|                                                  false|\n",
      "+---------------+-------------------------------------------------------+\n",
      "only showing top 20 rows\n",
      "\n"
     ]
    }
   ],
   "source": [
    "# P05. Que filmes tem receita entre 100 e 200?\n",
    "\n",
    "df_movies.select(\n",
    "    col(\"worldwide-gross\"),\n",
    "    col(\"worldwide-gross\").between(100, 200)\n",
    ").show()"
   ]
  }
 ],
 "metadata": {
  "colab": {
   "collapsed_sections": [],
   "provenance": []
  },
  "kernelspec": {
   "display_name": "Python 3",
   "language": "python",
   "name": "python3"
  },
  "language_info": {
   "codemirror_mode": {
    "name": "ipython",
    "version": 3
   },
   "file_extension": ".py",
   "mimetype": "text/x-python",
   "name": "python",
   "nbconvert_exporter": "python",
   "pygments_lexer": "ipython3",
   "version": "3.8.8"
  }
 },
 "nbformat": 4,
 "nbformat_minor": 1
}
