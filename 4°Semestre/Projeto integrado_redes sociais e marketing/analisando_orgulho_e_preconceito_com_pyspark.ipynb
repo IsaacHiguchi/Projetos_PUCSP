{
 "cells": [
  {
   "cell_type": "markdown",
   "metadata": {
    "id": "NM-vqw2ndFtU"
   },
   "source": [
    "# Analisando Orgulho e Preconceito com PySpark"
   ]
  },
  {
   "cell_type": "markdown",
   "metadata": {
    "id": "V5EZJcnreS3p"
   },
   "source": [
    "## Instalando o PySpark"
   ]
  },
  {
   "cell_type": "code",
   "execution_count": null,
   "metadata": {
    "colab": {
     "base_uri": "https://localhost:8080/"
    },
    "id": "3qKTdXBDc4ed",
    "outputId": "b19a76b5-1627-40e4-b06c-9aaa0fd68ffc"
   },
   "outputs": [
    {
     "name": "stdout",
     "output_type": "stream",
     "text": [
      "Looking in indexes: https://pypi.org/simple, https://us-python.pkg.dev/colab-wheels/public/simple/\n",
      "Requirement already satisfied: pyspark in /usr/local/lib/python3.7/dist-packages (3.3.0)\n",
      "Requirement already satisfied: py4j in /usr/local/lib/python3.7/dist-packages (0.10.9.5)\n"
     ]
    }
   ],
   "source": [
    "!pip install pyspark py4j"
   ]
  },
  {
   "cell_type": "code",
   "execution_count": null,
   "metadata": {
    "colab": {
     "base_uri": "https://localhost:8080/",
     "height": 219
    },
    "id": "CdCQyDOJeciW",
    "outputId": "78b6ff16-40e2-4905-c7ba-ae747455a70d"
   },
   "outputs": [
    {
     "data": {
      "text/html": [
       "\n",
       "            <div>\n",
       "                <p><b>SparkSession - in-memory</b></p>\n",
       "                \n",
       "        <div>\n",
       "            <p><b>SparkContext</b></p>\n",
       "\n",
       "            <p><a href=\"http://b7979b5f21ec:4040\">Spark UI</a></p>\n",
       "\n",
       "            <dl>\n",
       "              <dt>Version</dt>\n",
       "                <dd><code>v3.3.0</code></dd>\n",
       "              <dt>Master</dt>\n",
       "                <dd><code>local[*]</code></dd>\n",
       "              <dt>AppName</dt>\n",
       "                <dd><code>CDIA4-22-PySpark</code></dd>\n",
       "            </dl>\n",
       "        </div>\n",
       "        \n",
       "            </div>\n",
       "        "
      ],
      "text/plain": [
       "<pyspark.sql.session.SparkSession at 0x7f00a5b5e790>"
      ]
     },
     "execution_count": 11,
     "metadata": {},
     "output_type": "execute_result"
    }
   ],
   "source": [
    "# Inicializando uma sessão no PySpark\n",
    "\n",
    "from pyspark.sql import SparkSession\n",
    "spark = SparkSession \\\n",
    "          .builder \\\n",
    "          .appName(\"CDIA4-22-PySpark\") \\\n",
    "          .getOrCreate()\n",
    "\n",
    "\n",
    "spark"
   ]
  },
  {
   "cell_type": "markdown",
   "metadata": {
    "id": "gAfZH9rfeXQI"
   },
   "source": [
    "## Passo #01. Leitura do livro"
   ]
  },
  {
   "cell_type": "code",
   "execution_count": null,
   "metadata": {
    "colab": {
     "base_uri": "https://localhost:8080/"
    },
    "id": "FvHaqHDBc40U",
    "outputId": "7c1b9f3d-36f8-4e16-808a-012c30f664dc"
   },
   "outputs": [
    {
     "name": "stdout",
     "output_type": "stream",
     "text": [
      "+--------------------+\n",
      "|               value|\n",
      "+--------------------+\n",
      "|The Project Guten...|\n",
      "|                    |\n",
      "|This eBook is for...|\n",
      "|almost no restric...|\n",
      "|re-use it under t...|\n",
      "|with this eBook o...|\n",
      "|                    |\n",
      "|                    |\n",
      "|Title: Pride and ...|\n",
      "|                    |\n",
      "| Author: Jane Austen|\n",
      "|                    |\n",
      "|Posting Date: Aug...|\n",
      "|Release Date: Jun...|\n",
      "|Last Updated: Mar...|\n",
      "|                    |\n",
      "|   Language: English|\n",
      "|                    |\n",
      "|Character set enc...|\n",
      "|                    |\n",
      "+--------------------+\n",
      "only showing top 20 rows\n",
      "\n"
     ]
    }
   ],
   "source": [
    "book = spark.read.text(\"/content/pride-and-prejudice.txt\")\n",
    "book.show()"
   ]
  },
  {
   "cell_type": "markdown",
   "metadata": {
    "id": "325gxOCTfZrd"
   },
   "source": [
    "## Passo #02. Tokenização"
   ]
  },
  {
   "cell_type": "code",
   "execution_count": null,
   "metadata": {
    "colab": {
     "base_uri": "https://localhost:8080/"
    },
    "id": "3HQA7gxZfcv6",
    "outputId": "9ad6a115-37d2-4e04-ab4f-a3c4bd12e850"
   },
   "outputs": [
    {
     "name": "stdout",
     "output_type": "stream",
     "text": [
      "+--------------------------------------------------+\n",
      "|                                              line|\n",
      "+--------------------------------------------------+\n",
      "|[The, Project, Gutenberg, EBook, of, Pride, and...|\n",
      "|                                                []|\n",
      "|[This, eBook, is, for, the, use, of, anyone, an...|\n",
      "|[almost, no, restrictions, whatsoever., , You, ...|\n",
      "|[re-use, it, under, the, terms, of, the, Projec...|\n",
      "|[with, this, eBook, or, online, at, www.gutenbe...|\n",
      "|                                                []|\n",
      "|                                                []|\n",
      "|                   [Title:, Pride, and, Prejudice]|\n",
      "|                                                []|\n",
      "+--------------------------------------------------+\n",
      "only showing top 10 rows\n",
      "\n"
     ]
    }
   ],
   "source": [
    "from pyspark.sql.functions import split\n",
    "\n",
    "lines = book.select(\n",
    "    split(book.value, \" \").alias(\"line\")\n",
    ")\n",
    "#lines.show()\n",
    "\n",
    "# Dá pra mudar a truncagem, mostrando mais colunas que o padrão\n",
    "lines.show(10, truncate=50)"
   ]
  },
  {
   "cell_type": "code",
   "execution_count": null,
   "metadata": {
    "colab": {
     "base_uri": "https://localhost:8080/"
    },
    "id": "XC3IOhpMgeUH",
    "outputId": "5b622e01-7ab1-45b0-9e47-0a8f2ab30bb0"
   },
   "outputs": [
    {
     "name": "stdout",
     "output_type": "stream",
     "text": [
      "+----------+\n",
      "|      word|\n",
      "+----------+\n",
      "|       The|\n",
      "|   Project|\n",
      "| Gutenberg|\n",
      "|     EBook|\n",
      "|        of|\n",
      "|     Pride|\n",
      "|       and|\n",
      "|Prejudice,|\n",
      "|        by|\n",
      "|      Jane|\n",
      "|    Austen|\n",
      "|          |\n",
      "|      This|\n",
      "|     eBook|\n",
      "|        is|\n",
      "|       for|\n",
      "|       the|\n",
      "|       use|\n",
      "|        of|\n",
      "|    anyone|\n",
      "+----------+\n",
      "only showing top 20 rows\n",
      "\n"
     ]
    }
   ],
   "source": [
    "# Explodindo as linhas (que são compostas por listas)\n",
    "\n",
    "from pyspark.sql.functions import explode, col\n",
    "\n",
    "words = lines.select(\n",
    "    explode(col(\"line\")).alias(\"word\")\n",
    ")\n",
    "words.show()"
   ]
  },
  {
   "cell_type": "markdown",
   "metadata": {
    "id": "AjX0Ss8whdD4"
   },
   "source": [
    "## Passo #03. Limpeza dos dados"
   ]
  },
  {
   "cell_type": "code",
   "execution_count": null,
   "metadata": {
    "colab": {
     "base_uri": "https://localhost:8080/"
    },
    "id": "1TDuisT-hcYB",
    "outputId": "55bb047d-646e-406e-9d53-cefbff277ee5"
   },
   "outputs": [
    {
     "name": "stdout",
     "output_type": "stream",
     "text": [
      "+------------+\n",
      "|lowered_word|\n",
      "+------------+\n",
      "|         the|\n",
      "|     project|\n",
      "|   gutenberg|\n",
      "|       ebook|\n",
      "|          of|\n",
      "|       pride|\n",
      "|         and|\n",
      "|  prejudice,|\n",
      "|          by|\n",
      "|        jane|\n",
      "|      austen|\n",
      "|            |\n",
      "|        this|\n",
      "|       ebook|\n",
      "|          is|\n",
      "+------------+\n",
      "only showing top 15 rows\n",
      "\n"
     ]
    }
   ],
   "source": [
    "# Mudar a caixa das palavras para minúsculo\n",
    "\n",
    "from pyspark.sql.functions import lower\n",
    "\n",
    "lowered_words = words.select(\n",
    "    lower(\n",
    "        col(\"word\")\n",
    "    ).alias(\"lowered_word\")\n",
    ")\n",
    "lowered_words.show(15)"
   ]
  },
  {
   "cell_type": "markdown",
   "metadata": {
    "id": "WORJgrblih5m"
   },
   "source": [
    "### Removendo a pontuação"
   ]
  },
  {
   "cell_type": "code",
   "execution_count": null,
   "metadata": {
    "colab": {
     "base_uri": "https://localhost:8080/"
    },
    "id": "CpIyJo7lig1l",
    "outputId": "a4130528-987c-42b5-e4ba-f65651f0eb51"
   },
   "outputs": [
    {
     "name": "stdout",
     "output_type": "stream",
     "text": [
      "+------------+\n",
      "|cleaned_word|\n",
      "+------------+\n",
      "|         the|\n",
      "|     project|\n",
      "|   gutenberg|\n",
      "|       ebook|\n",
      "|          of|\n",
      "|       pride|\n",
      "|         and|\n",
      "|   prejudice|\n",
      "|          by|\n",
      "|        jane|\n",
      "|      austen|\n",
      "|            |\n",
      "|        this|\n",
      "|       ebook|\n",
      "|          is|\n",
      "|         for|\n",
      "|         the|\n",
      "|         use|\n",
      "|          of|\n",
      "|      anyone|\n",
      "+------------+\n",
      "only showing top 20 rows\n",
      "\n"
     ]
    }
   ],
   "source": [
    "from pyspark.sql.functions import regexp_extract\n",
    "\n",
    "cleaned_words = lowered_words.select(\n",
    "    regexp_extract(\n",
    "        col(\"lowered_word\"), # Indico a coluna\n",
    "        \"[a-z]+\", # Seleciona somente o que parece uma palavra\n",
    "        0 # 0 significa dar o match em toda expressão regular\n",
    "    ).alias(\"cleaned_word\")\n",
    ")\n",
    "cleaned_words.show()"
   ]
  },
  {
   "cell_type": "markdown",
   "metadata": {
    "id": "Wj98wLG1kbrn"
   },
   "source": [
    "### Filtrando os valores NULL"
   ]
  },
  {
   "cell_type": "code",
   "execution_count": 1,
   "metadata": {
    "colab": {
     "base_uri": "https://localhost:8080/"
    },
    "id": "AyYkzD4gka3Y",
    "outputId": "b4111d59-bb6a-4bf7-ca0b-3fbddb028654"
   },
   "outputs": [
    {
     "ename": "NameError",
     "evalue": "name 'cleaned_words' is not defined",
     "output_type": "error",
     "traceback": [
      "\u001b[1;31m---------------------------------------------------------------------------\u001b[0m",
      "\u001b[1;31mNameError\u001b[0m                                 Traceback (most recent call last)",
      "\u001b[1;32m~\\AppData\\Local\\Temp/ipykernel_18856/3910221470.py\u001b[0m in \u001b[0;36m<module>\u001b[1;34m\u001b[0m\n\u001b[1;32m----> 1\u001b[1;33m words_nonull = cleaned_words.where(\n\u001b[0m\u001b[0;32m      2\u001b[0m     \u001b[0mcol\u001b[0m\u001b[1;33m(\u001b[0m\u001b[1;34m\"cleaned_word\"\u001b[0m\u001b[1;33m)\u001b[0m \u001b[1;33m!=\u001b[0m \u001b[1;34m\"\"\u001b[0m\u001b[1;33m\u001b[0m\u001b[1;33m\u001b[0m\u001b[0m\n\u001b[0;32m      3\u001b[0m )\n\u001b[0;32m      4\u001b[0m words_nonull = words_nonull.select(\n\u001b[0;32m      5\u001b[0m     \u001b[0mcol\u001b[0m\u001b[1;33m(\u001b[0m\u001b[1;34m\"cleaned_word\"\u001b[0m\u001b[1;33m)\u001b[0m\u001b[1;33m.\u001b[0m\u001b[0malias\u001b[0m\u001b[1;33m(\u001b[0m\u001b[1;34m\"word\"\u001b[0m\u001b[1;33m)\u001b[0m\u001b[1;33m\u001b[0m\u001b[1;33m\u001b[0m\u001b[0m\n",
      "\u001b[1;31mNameError\u001b[0m: name 'cleaned_words' is not defined"
     ]
    }
   ],
   "source": [
    "words_nonull = cleaned_words.where(\n",
    "    col(\"cleaned_word\") != \"\"\n",
    ")\n",
    "words_nonull = words_nonull.select(\n",
    "    col(\"cleaned_word\").alias(\"word\")\n",
    ")\n",
    "words_nonull.show()"
   ]
  },
  {
   "cell_type": "markdown",
   "metadata": {
    "id": "sXyLmXqhlQo7"
   },
   "source": [
    "### Contagem das palavras"
   ]
  },
  {
   "cell_type": "code",
   "execution_count": null,
   "metadata": {
    "colab": {
     "base_uri": "https://localhost:8080/"
    },
    "id": "tt1jTugllTF6",
    "outputId": "f6df9005-c9de-43d6-b603-859bc218a3a7"
   },
   "outputs": [
    {
     "name": "stdout",
     "output_type": "stream",
     "text": [
      "+-------------+-----+\n",
      "|         word|count|\n",
      "+-------------+-----+\n",
      "|       online|    4|\n",
      "|         some|  209|\n",
      "|        still|   72|\n",
      "|          few|   72|\n",
      "|         hope|  122|\n",
      "|        those|   60|\n",
      "|     cautious|    4|\n",
      "|    imitation|    1|\n",
      "|          art|    3|\n",
      "|      solaced|    1|\n",
      "|       poetry|    2|\n",
      "|    arguments|    5|\n",
      "| premeditated|    1|\n",
      "|      elevate|    1|\n",
      "|       doubts|    2|\n",
      "|    destitute|    1|\n",
      "|    solemnity|    5|\n",
      "|   lieutenant|    1|\n",
      "|gratification|    1|\n",
      "|    connected|   14|\n",
      "+-------------+-----+\n",
      "only showing top 20 rows\n",
      "\n"
     ]
    }
   ],
   "source": [
    "counts = words_nonull.groupBy(\n",
    "    col(\"word\")\n",
    ").count()\n",
    "counts.show()"
   ]
  },
  {
   "cell_type": "markdown",
   "metadata": {
    "id": "F4h2uPdIlryu"
   },
   "source": [
    "### Ordenação das contagens"
   ]
  },
  {
   "cell_type": "code",
   "execution_count": null,
   "metadata": {
    "colab": {
     "base_uri": "https://localhost:8080/"
    },
    "id": "eZ4ZwF8Xlq3J",
    "outputId": "cf9345c1-32a9-4c43-eadd-e5660462b6c5"
   },
   "outputs": [
    {
     "name": "stdout",
     "output_type": "stream",
     "text": [
      "+----+-----+\n",
      "|word|count|\n",
      "+----+-----+\n",
      "| the| 4496|\n",
      "|  to| 4235|\n",
      "|  of| 3719|\n",
      "| and| 3602|\n",
      "| her| 2223|\n",
      "|   i| 2052|\n",
      "|   a| 1997|\n",
      "|  in| 1920|\n",
      "| was| 1844|\n",
      "| she| 1703|\n",
      "|that| 1582|\n",
      "|  it| 1542|\n",
      "| not| 1447|\n",
      "| you| 1426|\n",
      "|  he| 1334|\n",
      "| his| 1267|\n",
      "|  be| 1259|\n",
      "|  as| 1191|\n",
      "| had| 1176|\n",
      "|with| 1099|\n",
      "+----+-----+\n",
      "only showing top 20 rows\n",
      "\n"
     ]
    }
   ],
   "source": [
    "counts.orderBy(\n",
    "    col(\"count\"),\n",
    "    ascending=False\n",
    ").show()"
   ]
  },
  {
   "cell_type": "markdown",
   "metadata": {
    "id": "UZ7vw00FrDzl"
   },
   "source": [
    "# Retomando"
   ]
  },
  {
   "cell_type": "markdown",
   "metadata": {
    "id": "KkQsSYQj4kFx"
   },
   "source": [
    "## Passo #2.1"
   ]
  },
  {
   "cell_type": "code",
   "execution_count": null,
   "metadata": {
    "colab": {
     "base_uri": "https://localhost:8080/"
    },
    "id": "SnhRdEs73iBQ",
    "outputId": "7e64b972-e689-45bd-f065-e9d9346953f8"
   },
   "outputs": [
    {
     "name": "stdout",
     "output_type": "stream",
     "text": [
      "+-----------+\n",
      "|       word|\n",
      "+-----------+\n",
      "|      [the]|\n",
      "|  [project]|\n",
      "|[gutenberg]|\n",
      "|    [ebook]|\n",
      "|       [of]|\n",
      "|    [pride]|\n",
      "|      [and]|\n",
      "|[prejudice]|\n",
      "|       [by]|\n",
      "|     [jane]|\n",
      "+-----------+\n",
      "only showing top 10 rows\n",
      "\n"
     ]
    }
   ],
   "source": [
    "words_lst_df = words_nonull.select(\n",
    "    split(\n",
    "        col(\"word\"),\n",
    "        \" \"\n",
    "    ).alias(\"word\")\n",
    ")\n",
    "words_lst_df.show(10)"
   ]
  },
  {
   "cell_type": "code",
   "execution_count": null,
   "metadata": {
    "colab": {
     "base_uri": "https://localhost:8080/"
    },
    "id": "dbHU6cVB6S6p",
    "outputId": "59f2a49a-140a-4c0d-bc6d-4bde18e9b91d"
   },
   "outputs": [
    {
     "name": "stdout",
     "output_type": "stream",
     "text": [
      "+-----------+-----------+\n",
      "|       word| meaningful|\n",
      "+-----------+-----------+\n",
      "|      [the]|         []|\n",
      "|  [project]|  [project]|\n",
      "|[gutenberg]|[gutenberg]|\n",
      "|    [ebook]|    [ebook]|\n",
      "|       [of]|         []|\n",
      "|    [pride]|    [pride]|\n",
      "|      [and]|         []|\n",
      "|[prejudice]|[prejudice]|\n",
      "|       [by]|         []|\n",
      "|     [jane]|     [jane]|\n",
      "|   [austen]|   [austen]|\n",
      "|     [this]|         []|\n",
      "|    [ebook]|    [ebook]|\n",
      "|       [is]|         []|\n",
      "|      [for]|         []|\n",
      "|      [the]|         []|\n",
      "|      [use]|      [use]|\n",
      "|       [of]|         []|\n",
      "|   [anyone]|   [anyone]|\n",
      "| [anywhere]| [anywhere]|\n",
      "+-----------+-----------+\n",
      "only showing top 20 rows\n",
      "\n"
     ]
    }
   ],
   "source": [
    "# Remove as stop words\n",
    "from pyspark.ml.feature import StopWordsRemover\n",
    "\n",
    "swr = StopWordsRemover(\n",
    "    inputCol=\"word\",\n",
    "    outputCol=\"meaningful\"\n",
    ")\n",
    "\n",
    "swr_df = swr.transform(words_lst_df)\n",
    "swr_df.show()"
   ]
  },
  {
   "cell_type": "code",
   "execution_count": null,
   "metadata": {
    "colab": {
     "base_uri": "https://localhost:8080/"
    },
    "id": "oM9uoKGr8kiJ",
    "outputId": "7c819cca-4ae7-43ad-ea30-4cd1d3e6085f"
   },
   "outputs": [
    {
     "name": "stdout",
     "output_type": "stream",
     "text": [
      "+----------+\n",
      "|meaningful|\n",
      "+----------+\n",
      "|      null|\n",
      "|   project|\n",
      "| gutenberg|\n",
      "|     ebook|\n",
      "|      null|\n",
      "|     pride|\n",
      "|      null|\n",
      "| prejudice|\n",
      "|      null|\n",
      "|      jane|\n",
      "|    austen|\n",
      "|      null|\n",
      "|     ebook|\n",
      "|      null|\n",
      "|      null|\n",
      "|      null|\n",
      "|       use|\n",
      "|      null|\n",
      "|    anyone|\n",
      "|  anywhere|\n",
      "+----------+\n",
      "only showing top 20 rows\n",
      "\n"
     ]
    }
   ],
   "source": [
    "# Removing the NULLs\n",
    "meaningful = swr_df.select(\n",
    "    (col(\"meaningful\")[0]).alias(\"meaningful\")\n",
    ")\n",
    "meaningful.show()"
   ]
  },
  {
   "cell_type": "code",
   "execution_count": null,
   "metadata": {
    "colab": {
     "base_uri": "https://localhost:8080/"
    },
    "id": "9CaFUSzO9W6i",
    "outputId": "e324e529-5c27-4eea-ca3c-072ffb3c166b"
   },
   "outputs": [
    {
     "name": "stdout",
     "output_type": "stream",
     "text": [
      "+----------+\n",
      "|meaningful|\n",
      "+----------+\n",
      "|   project|\n",
      "| gutenberg|\n",
      "|     ebook|\n",
      "|     pride|\n",
      "| prejudice|\n",
      "+----------+\n",
      "only showing top 5 rows\n",
      "\n"
     ]
    }
   ],
   "source": [
    "# Filtrar os valores NULLs\n",
    "meaningful_nonull = meaningful.where(\n",
    "    col(\"meaningful\") != \"null\"\n",
    ")\n",
    "meaningful_nonull.show(5)"
   ]
  },
  {
   "cell_type": "markdown",
   "metadata": {
    "id": "e5kVKmVc9vxM"
   },
   "source": [
    "### Recontagem dos valores"
   ]
  },
  {
   "cell_type": "code",
   "execution_count": null,
   "metadata": {
    "colab": {
     "base_uri": "https://localhost:8080/"
    },
    "id": "Ygkw7r7w9u5a",
    "outputId": "28de12fe-ca46-445b-ea09-3288735fbe4d"
   },
   "outputs": [
    {
     "name": "stdout",
     "output_type": "stream",
     "text": [
      "+-------------+-----+\n",
      "|   meaningful|count|\n",
      "+-------------+-----+\n",
      "|       online|    4|\n",
      "|        still|   72|\n",
      "|         hope|  122|\n",
      "|     cautious|    4|\n",
      "|    imitation|    1|\n",
      "|          art|    3|\n",
      "|      solaced|    1|\n",
      "|       poetry|    2|\n",
      "|    arguments|    5|\n",
      "| premeditated|    1|\n",
      "|      elevate|    1|\n",
      "|       doubts|    2|\n",
      "|    destitute|    1|\n",
      "|    solemnity|    5|\n",
      "|   lieutenant|    1|\n",
      "|gratification|    1|\n",
      "|    connected|   14|\n",
      "|   likelihood|    5|\n",
      "|        pools|    1|\n",
      "|       coaxed|    1|\n",
      "+-------------+-----+\n",
      "only showing top 20 rows\n",
      "\n"
     ]
    }
   ],
   "source": [
    "words_counts = meaningful_nonull.groupby(\n",
    "    col(\"meaningful\")\n",
    ").count()\n",
    "\n",
    "words_counts.show()"
   ]
  },
  {
   "cell_type": "code",
   "execution_count": null,
   "metadata": {
    "colab": {
     "base_uri": "https://localhost:8080/"
    },
    "id": "4uWS9txY-GXi",
    "outputId": "14c955db-7eb0-47e1-e3b4-4e3d9bb19294"
   },
   "outputs": [
    {
     "name": "stdout",
     "output_type": "stream",
     "text": [
      "+----------+-----+\n",
      "|meaningful|count|\n",
      "+----------+-----+\n",
      "|        mr|  783|\n",
      "| elizabeth|  634|\n",
      "|     darcy|  418|\n",
      "|      said|  401|\n",
      "|       mrs|  343|\n",
      "|      much|  329|\n",
      "|    bennet|  323|\n",
      "|      must|  318|\n",
      "|   bingley|  306|\n",
      "|      jane|  295|\n",
      "|      miss|  283|\n",
      "|       one|  273|\n",
      "|      know|  239|\n",
      "|      well|  224|\n",
      "|    though|  220|\n",
      "|     never|  220|\n",
      "|    sister|  218|\n",
      "|      soon|  216|\n",
      "|     think|  211|\n",
      "|       may|  207|\n",
      "+----------+-----+\n",
      "only showing top 20 rows\n",
      "\n"
     ]
    }
   ],
   "source": [
    "# Classificação da contagem\n",
    "words_counts = words_counts.orderBy(\n",
    "    col(\"count\"), \n",
    "    ascending=False\n",
    ")\n",
    "words_counts.show()\n"
   ]
  },
  {
   "cell_type": "code",
   "execution_count": null,
   "metadata": {
    "id": "-XUNYqVtxXbU"
   },
   "outputs": [],
   "source": []
  }
 ],
 "metadata": {
  "colab": {
   "collapsed_sections": [],
   "provenance": []
  },
  "kernelspec": {
   "display_name": "Python 3 (ipykernel)",
   "language": "python",
   "name": "python3"
  },
  "language_info": {
   "codemirror_mode": {
    "name": "ipython",
    "version": 3
   },
   "file_extension": ".py",
   "mimetype": "text/x-python",
   "name": "python",
   "nbconvert_exporter": "python",
   "pygments_lexer": "ipython3",
   "version": "3.9.7"
  }
 },
 "nbformat": 4,
 "nbformat_minor": 1
}
