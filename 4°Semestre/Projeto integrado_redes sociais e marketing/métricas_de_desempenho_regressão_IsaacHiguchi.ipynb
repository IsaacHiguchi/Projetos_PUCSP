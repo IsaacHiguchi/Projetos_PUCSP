{
 "cells": [
  {
   "cell_type": "markdown",
   "id": "445bf3f7",
   "metadata": {
    "id": "445bf3f7"
   },
   "source": [
    "# Métricas de Desempenho - Regressão"
   ]
  },
  {
   "cell_type": "markdown",
   "id": "ef1d67c2",
   "metadata": {
    "id": "ef1d67c2"
   },
   "source": [
    "Como medir o desempenho de modelos de regressão?\n",
    "\n",
    "Diferentemente de ferramentas para avaliar problemas de classificação, casos em que deve-se prever a categoria de um data point desconhecido, os modelos de regressão preveem uma variável numérica contínua do tipo razão ou intervalar."
   ]
  },
  {
   "cell_type": "markdown",
   "id": "40f4c570",
   "metadata": {
    "id": "40f4c570"
   },
   "source": [
    "## O Erro Absoluto Médio (*Mean Absolute Error*)"
   ]
  },
  {
   "cell_type": "markdown",
   "id": "49b91390",
   "metadata": {
    "id": "49b91390"
   },
   "source": [
    "O MAE é uma medida de erro que computa a média arimética dos erros absolutos."
   ]
  },
  {
   "cell_type": "markdown",
   "id": "5c5a530b",
   "metadata": {
    "id": "5c5a530b"
   },
   "source": [
    "$$\n",
    "MAE(y, \\hat{y}) = \\frac{1}{n}\\sum_{i=1}^{n} |y_{i} - \\hat{y_{i}}|\n",
    "$$"
   ]
  },
  {
   "cell_type": "code",
   "execution_count": 1,
   "id": "7b96dc81",
   "metadata": {
    "id": "7b96dc81"
   },
   "outputs": [],
   "source": [
    "from metricas import mae"
   ]
  },
  {
   "cell_type": "code",
   "execution_count": 2,
   "id": "14f0024b",
   "metadata": {
    "colab": {
     "base_uri": "https://localhost:8080/"
    },
    "id": "14f0024b",
    "outputId": "d6dc7991-ce66-4a06-b197-6c5019eda027"
   },
   "outputs": [
    {
     "data": {
      "text/plain": [
       "3.0"
      ]
     },
     "execution_count": 2,
     "metadata": {},
     "output_type": "execute_result"
    }
   ],
   "source": [
    "y = [13, -0.5, 2, 7]\n",
    "y_pred = [2.5, 0.0, 2, 8]\n",
    "\n",
    "mae(y, y_pred)"
   ]
  },
  {
   "cell_type": "markdown",
   "id": "85e01cc2",
   "metadata": {
    "id": "85e01cc2"
   },
   "source": [
    "**QUESTÕES PARA REFLEXÃO**\n",
    "\n",
    "**[01]** Em que situações o MAE é útil?\n",
    "\n",
    "Resposta: Pelo fato de não elevar as diferenças ao quadrado, essa medida torna-se uma opção não tão ideal para lidar com problemas delicados. Contudo, é uma métrica sólida para modelos que devem prever muitos dados ou dados sazonais, como em previsões de números de casos de doenças, nas quais prever a tendência e sazonalidade dos números é mais importante do que os valores absolutos de cada dia.\n",
    "\n",
    "**[02]** Como se dá a interpretação dos resultados no MAE?\n",
    "\n",
    "Resposta: Essa medida apresenta valor mínimo 0 e não apresenta valor máximo. Quanto mais próximo de 0 mais precisas são as previsões, medindo apenas a distância do valor real, independente de ser acima ou abaixo.\n",
    "\n",
    "**[03]** O MAE pode ser considerado análogo a alguma medida de tendência central?\n",
    "\n",
    "Resposta: Sim, já que consiste na **média** das distâncias entre valores preditos e reais.\n",
    "\n",
    "**[04]** Como o MAE se comporta com *outliers*?\n",
    "\n",
    "Resposta: Diferentemente do MSE e do RMSE, essa métrica não “pune” tão severamente os outliers do modelo.\n"
   ]
  },
  {
   "cell_type": "markdown",
   "id": "9a4801a2",
   "metadata": {
    "id": "9a4801a2"
   },
   "source": [
    "## O Percentual do Erro Médio Absoluto (*Mean Absolute Percentage Error*)"
   ]
  },
  {
   "cell_type": "markdown",
   "id": "66e0c8aa",
   "metadata": {
    "id": "66e0c8aa"
   },
   "source": [
    "$$\n",
    "MAPE(y, \\hat{y}) = \\frac{1}{n}\\sum_{i=1}^{n}  \\frac{|{y_{i} - \\hat{y}}|}{max(\\epsilon, |y_{i}|)}\n",
    "$$"
   ]
  },
  {
   "cell_type": "code",
   "execution_count": 1,
   "id": "cc42dc6a",
   "metadata": {
    "colab": {
     "base_uri": "https://localhost:8080/"
    },
    "id": "cc42dc6a",
    "outputId": "925572fc-7c34-4bd8-8e9d-31ca03e31ae6"
   },
   "outputs": [
    {
     "data": {
      "text/plain": [
       "2.5e+19"
      ]
     },
     "execution_count": 1,
     "metadata": {},
     "output_type": "execute_result"
    }
   ],
   "source": [
    "from metricas import mape\n",
    "\n",
    "y = [0, 2, 3, 4]\n",
    "y_pred = [1, 2, 3, 8]\n",
    "\n",
    "mape(y, y_pred)"
   ]
  },
  {
   "cell_type": "markdown",
   "id": "15a616ab",
   "metadata": {
    "id": "15a616ab"
   },
   "source": [
    "**QUESTÕES PARA REFLEXÃO**\n",
    "\n",
    "**[05]** Em que situações o MAPE seria útil?\n",
    "\n",
    "Resposta: O MAPE é uma métrica útil por ser extremamente intuitiva, tanto para a interpretação do programador, quanto para a comunicação de resultados com pessoas sem conhecimento técnico e não lida tão bem se tratando de problemas com um grande alcance de números, como uma regressão que prevê uma variável que vai e 10 a 20.000. Geralmente é usada em relatórios de gerenciamento, porque o erro é medido como uma porcentagem e assim, é possível fazer comparações entre erros percentuais do modelo entre produtos.\n",
    "\n",
    "**[06]** Como é a interpretação dos resultados no MAPE?\n",
    "\n",
    "Resposta: A medida se dá em porcentagem e assim como o MSE e o MAE, quanto menor o valor, mais preciso seria o modelo de regressão.Por exemplo, ter um MAPE=10% significa que, em média, nosso modelo faz previsões que erram por 10% do valor real.\n",
    "\n",
    "**[07]** Como o MAPE se comporta com *outliers*?\n",
    "\n",
    "Resposta: Assim como o MAE, essa métrica não “pune” tão severamente os outliers do modelo.\n"
   ]
  },
  {
   "cell_type": "markdown",
   "id": "1edddc96",
   "metadata": {
    "id": "1edddc96"
   },
   "source": [
    "## O Erro Quadrático Médio (*Mean Squared Error*)"
   ]
  },
  {
   "cell_type": "markdown",
   "id": "6ecfa362",
   "metadata": {
    "id": "6ecfa362"
   },
   "source": [
    "O MSE é uma medida de erro que computa a média dos quadrados dos erros."
   ]
  },
  {
   "cell_type": "markdown",
   "id": "b4fb072d",
   "metadata": {
    "id": "b4fb072d"
   },
   "source": [
    "$$\n",
    "MSE(y, \\hat{y}) = \\frac{1}{n}\\sum_{i=1}^{n} (y_{i} - \\hat{y_{i}})^2\n",
    "$$"
   ]
  },
  {
   "cell_type": "code",
   "execution_count": 4,
   "id": "f0bed936",
   "metadata": {
    "id": "f0bed936"
   },
   "outputs": [],
   "source": [
    "from metricas import mse"
   ]
  },
  {
   "cell_type": "code",
   "execution_count": 5,
   "id": "84ec3d17",
   "metadata": {
    "id": "84ec3d17"
   },
   "outputs": [
    {
     "data": {
      "text/plain": [
       "27.875"
      ]
     },
     "execution_count": 5,
     "metadata": {},
     "output_type": "execute_result"
    }
   ],
   "source": [
    "y = [13, -0.5, 2, 7]\n",
    "y_pred = [2.5, 0.0, 2, 8]\n",
    "\n",
    "mse(y, y_pred)"
   ]
  },
  {
   "cell_type": "markdown",
   "id": "50e7c8fa",
   "metadata": {
    "id": "50e7c8fa"
   },
   "source": [
    "**QUESTÕES PARA REFLEXÃO**\n",
    "\n",
    "**[08]** Em que situações o MSE é útil?\n",
    "\n",
    "Resposta: Dado que essa métrica eleva o erro ao quadrado, predições muito distantes do real aumentam o valor da medida muito facilmente, o que a torna uma métrica de avaliação excelente para problemas nos quais grandes erros não são tolerados, como é o caso de exames médicos e projeções de preços.\n",
    "\n",
    "**[09]** Como é a interpretação dos resultados no MSE?\n",
    "\n",
    "Resposta: Quanto maior, pior é o modelo.\n",
    "\n",
    "**[10]** O MSE pode ser análogo a alguma medida de variabilidade?\n",
    "\n",
    "Resposta: Sim, análogo à variância.\n",
    "\n",
    "**[11]** Como o MSE se comporta com *outliers*?\n",
    "\n",
    "Resposta: Essa métrica, assim como o RMSE, \"pune\" severamente os \n",
    "grandes erros.\n"
   ]
  },
  {
   "cell_type": "markdown",
   "id": "jJLNtNQg4qVh",
   "metadata": {
    "id": "jJLNtNQg4qVh"
   },
   "source": [
    "## A Raiz Quadrada do Erro Quadrático Médio (*Root Mean Squared Error*)"
   ]
  },
  {
   "cell_type": "markdown",
   "id": "aD_Zx8dK47lR",
   "metadata": {
    "id": "aD_Zx8dK47lR"
   },
   "source": [
    "O RMSE é computado pela raiz quadrada do MSE. Representa uma medida de variabilidade dos acertos de um modelo."
   ]
  },
  {
   "cell_type": "markdown",
   "id": "HNRHzR_z5QH0",
   "metadata": {
    "id": "HNRHzR_z5QH0"
   },
   "source": [
    "$$\n",
    "RMSE(y, \\hat{y}) = \\sqrt{MSE(y, \\hat{y})}\n",
    "$$"
   ]
  },
  {
   "cell_type": "code",
   "execution_count": 2,
   "id": "26809db8",
   "metadata": {},
   "outputs": [],
   "source": [
    "from metricas import rmse"
   ]
  },
  {
   "cell_type": "code",
   "execution_count": 3,
   "id": "ed917c8d",
   "metadata": {},
   "outputs": [
    {
     "data": {
      "text/plain": [
       "5.2796780204857185"
      ]
     },
     "execution_count": 3,
     "metadata": {},
     "output_type": "execute_result"
    }
   ],
   "source": [
    "y = [13, -0.5, 2, 7]\n",
    "y_pred = [2.5, 0.0, 2, 8]\n",
    "\n",
    "rmse(y, y_pred)"
   ]
  },
  {
   "cell_type": "markdown",
   "id": "r5aBZZTF5jZ2",
   "metadata": {
    "id": "r5aBZZTF5jZ2"
   },
   "source": [
    "**QUESTÕES PARA REFLEXÃO**\n",
    "\n",
    "**[12]** Em que situações o RMSE é útil?\n",
    "\n",
    "Resposta: Tendo em vista essa diferença de unidades, o RMSE entra como uma forma de melhorar a interpretabilidade da métrica, acertando a unidade. Lida muito bem com problemas em que grandes erros não são tolerados e com uma melhor interpretabilidade. Frequentemente usada em séries temporais.\n",
    "\n",
    "**[13]** Como é a interpretação dos resultados no RMSE?\n",
    "\n",
    "Resposta: Assim como o MSE, quanto maior for seu número pior é o modelo.\n",
    "\n",
    "**[14]** O RMSE pode ser análogo a alguma medida de variabilidade?\n",
    "\n",
    "Resposta: Sim, como se trata da raiz quadrada do MSE pode ser análogo ao desvio padrão.\n",
    "\n",
    "**[15]** Como o RMSE se comporta com *outliers*?\n",
    "\n",
    "Resposta: Por conta do expoente ao quadrado que o erro assume, essa métrica é bastante sensível a outliers (valores discrepantes) e, caso tenha muitos erros significativos em sua análise, essa métrica poderá ser extrapolada.\n"
   ]
  },
  {
   "cell_type": "markdown",
   "id": "76a4df8c",
   "metadata": {
    "id": "76a4df8c"
   },
   "source": [
    "## O Coeficiente de Determinação: $R^2$"
   ]
  },
  {
   "cell_type": "markdown",
   "id": "ae45445d",
   "metadata": {
    "id": "ae45445d"
   },
   "source": [
    "O coeficiente de determinação representa a proporção da variância (de $y$) que é explicada pelas variáveis independentes do modelo. O $R^2$ fornece uma indicação da qualidade do ajuste e portanto uma medida do quão bem instâncias não vistas serão previstas pelo modelo."
   ]
  },
  {
   "cell_type": "markdown",
   "id": "c2fbefd6",
   "metadata": {
    "id": "c2fbefd6"
   },
   "source": [
    "$$\n",
    "R^2(y, \\hat{y}) = 1 - \\frac{\\sum_{i=1}^{n} (y_{i} - \\hat{y_{i}})^2}{\\sum_{i=1}^{n} (y_{i} - \\bar{y})^2}\n",
    "$$"
   ]
  },
  {
   "cell_type": "code",
   "execution_count": 6,
   "id": "226299fc",
   "metadata": {
    "id": "226299fc"
   },
   "outputs": [],
   "source": [
    "from metricas import r2"
   ]
  },
  {
   "cell_type": "code",
   "execution_count": 7,
   "id": "ec1d482d",
   "metadata": {
    "colab": {
     "base_uri": "https://localhost:8080/"
    },
    "id": "ec1d482d",
    "outputId": "3ecd59a9-42d7-4c7c-deb7-a60eb6bf3ee8"
   },
   "outputs": [
    {
     "data": {
      "text/plain": [
       "1.0"
      ]
     },
     "execution_count": 7,
     "metadata": {},
     "output_type": "execute_result"
    }
   ],
   "source": [
    "# Predição perfeita\n",
    "# ==============================================================================\n",
    "\n",
    "y =      [1,2,3,4]\n",
    "y_pred = [1,2,3,4]\n",
    "\n",
    "r2(y, y_pred)"
   ]
  },
  {
   "cell_type": "code",
   "execution_count": 8,
   "id": "480191df",
   "metadata": {
    "id": "480191df"
   },
   "outputs": [
    {
     "data": {
      "text/plain": [
       "0.9486081370449679"
      ]
     },
     "execution_count": 8,
     "metadata": {},
     "output_type": "execute_result"
    }
   ],
   "source": [
    "# Predição imperfeita\n",
    "# ==============================================================================\n",
    "y = [3, -0.5, 2, 7]\n",
    "y_pred = [2.5, 0.0, 2, 8]\n",
    "\n",
    "r2(y, y_pred)"
   ]
  },
  {
   "cell_type": "markdown",
   "id": "54e8de12",
   "metadata": {
    "id": "54e8de12"
   },
   "source": [
    "O $R^2$ é muito sensível a *outliers*."
   ]
  },
  {
   "cell_type": "code",
   "execution_count": 9,
   "id": "7faaa905",
   "metadata": {
    "id": "7faaa905"
   },
   "outputs": [
    {
     "data": {
      "text/plain": [
       "-0.04510837727006445"
      ]
     },
     "execution_count": 9,
     "metadata": {},
     "output_type": "execute_result"
    }
   ],
   "source": [
    "# Outliers\n",
    "# ==============================================================================\n",
    "\n",
    "y = [13, -0.5, 2, 7] # 3 => 13 \n",
    "y_pred = [2.5, 0.0, 2, 8]\n",
    "\n",
    "r2(y, y_pred)"
   ]
  },
  {
   "cell_type": "markdown",
   "id": "aa3858f7",
   "metadata": {
    "id": "aa3858f7"
   },
   "source": [
    "**QUESTÕES PARA REFLEXÃO**\n",
    "\n",
    "**[16]** Em que situações o $R^2$ é útil?\n",
    "\n",
    "Resposta: Muito utilizada em modelos de regressões da área de finanças, o R-Quadrado, ou Coeficiente de Determinação, é uma métrica que visa expressar a quantidade da variança dos dados que é explicada pelo modelo construído.Essa métrica, apesar de conseguir identificar algumas relações lineares entre o modelo de regressão e os dados.\n",
    "\n",
    "**[17]** Como é a interpretação dos resultados no $R^2$?\n",
    "\n",
    "Resposta: O valor do seu R-Quadrado varia de 0 a 1 e geralmente é representado em porcentagem. Por exemplo, um R² = 75% nos diz que 75% da variância de nossos dados podem ser explicados pelo modelo construído, enquanto os outros 25%, teoricamente, se tratariam de uma variância residual.\n",
    "\n",
    "**[18]** Como o $R^2$ se comporta com *outliers*?\n",
    "\n",
    "Resposta: É muito sensível aos outliers.\n"
   ]
  },
  {
   "cell_type": "markdown",
   "id": "traFZ-VHpQKU",
   "metadata": {
    "id": "traFZ-VHpQKU"
   },
   "source": [
    "## O Erro Absoluto Mediano (*Median Absolute Error*)"
   ]
  },
  {
   "cell_type": "markdown",
   "id": "YrQgMUVBpcwo",
   "metadata": {
    "id": "YrQgMUVBpcwo"
   },
   "source": [
    "O MedAE é calculado ao obter a mediana das diferenças absolutas entre o alvo e a predição."
   ]
  },
  {
   "cell_type": "markdown",
   "id": "svjawo4FpsHa",
   "metadata": {
    "id": "svjawo4FpsHa"
   },
   "source": [
    "$$\n",
    "MedAE(y, \\hat{y}) = mediana(|y_{1} - \\hat{y_{1}}|, ..., |y_{n} - \\hat{y_{n}}|)\n",
    "$$"
   ]
  },
  {
   "cell_type": "code",
   "execution_count": 10,
   "id": "qX6i01DupPYv",
   "metadata": {
    "id": "qX6i01DupPYv"
   },
   "outputs": [
    {
     "data": {
      "text/plain": [
       "0.75"
      ]
     },
     "execution_count": 10,
     "metadata": {},
     "output_type": "execute_result"
    }
   ],
   "source": [
    "from metricas import medae\n",
    "\n",
    "y = [13, -0.5, 2, 7]\n",
    "y_pred = [2.5, 0.0, 2, 8]\n",
    "\n",
    "medae(y, y_pred)"
   ]
  },
  {
   "cell_type": "markdown",
   "id": "xj8A7_fkqT04",
   "metadata": {
    "id": "xj8A7_fkqT04"
   },
   "source": [
    "**[19]** Em que situações o MedAE é útil?\n",
    "\n",
    "Resposta: É útil basicamente porque é essencialmente insensível a outliers (desde que não haja muitos deles). Isso ocorre porque é a mediana de todos os valores absolutos dos resíduos, e a mediana não é afetada pelos valores nas caudas. Com certeza será muito mais útil se combinados com outras métricas.\n",
    "\n",
    "**[20]** Como se dá a interpretação dos resultados no MedAE?\n",
    "\n",
    "Resposta: Como a métrica é uma mediana, então podemos interpretar da seguinte forma: o valor encontrado nos diz que metade das predições estão entre o 0 e o valor obtido com o MedAE e a outra metade está acima desse valor.\n",
    "\n",
    "**[21]** O MedAE pode ser considerado análogo a alguma medida de tendência central?\n",
    "\n",
    "Resposta: Sim, como diz em seu nome o MedAE é análogo à mediana.\n",
    "\n",
    "**[22]** Como o MedAE se comporta com *outliers*?\n",
    "\n",
    "Resposta: É menos sensível ou robusto a alguns outiliers.\n"
   ]
  }
 ],
 "metadata": {
  "colab": {
   "collapsed_sections": [],
   "provenance": []
  },
  "kernelspec": {
   "display_name": "Python 3 (ipykernel)",
   "language": "python",
   "name": "python3"
  },
  "language_info": {
   "codemirror_mode": {
    "name": "ipython",
    "version": 3
   },
   "file_extension": ".py",
   "mimetype": "text/x-python",
   "name": "python",
   "nbconvert_exporter": "python",
   "pygments_lexer": "ipython3",
   "version": "3.9.7"
  },
  "vscode": {
   "interpreter": {
    "hash": "0d5ec82a2bc783caec879949e4aea0e7d29f3ec3e05b4b65368bf7b47458aba3"
   }
  }
 },
 "nbformat": 4,
 "nbformat_minor": 5
}
